{
 "cells": [
  {
   "cell_type": "code",
   "execution_count": 1,
   "metadata": {
    "executionInfo": {
     "elapsed": 2820,
     "status": "ok",
     "timestamp": 1641564836384,
     "user": {
      "displayName": "Tigran Fahradyan",
      "photoUrl": "https://lh3.googleusercontent.com/a-/AOh14Gh-nKGiDYIRqDVzJLIaEs_8pnw_vMBjy8DEj-Wc1g=s64",
      "userId": "09993311274482746194"
     },
     "user_tz": -240
    },
    "id": "1WVgQD_TpUhD"
   },
   "outputs": [],
   "source": [
    "!apt-get install -y xvfb python-opengl > /dev/null 2>&1"
   ]
  },
  {
   "cell_type": "code",
   "execution_count": 2,
   "metadata": {
    "executionInfo": {
     "elapsed": 3072,
     "status": "ok",
     "timestamp": 1641564839452,
     "user": {
      "displayName": "Tigran Fahradyan",
      "photoUrl": "https://lh3.googleusercontent.com/a-/AOh14Gh-nKGiDYIRqDVzJLIaEs_8pnw_vMBjy8DEj-Wc1g=s64",
      "userId": "09993311274482746194"
     },
     "user_tz": -240
    },
    "id": "EPDvCmttqwq5"
   },
   "outputs": [],
   "source": [
    "!pip install gym pyvirtualdisplay > /dev/null 2>&1"
   ]
  },
  {
   "cell_type": "code",
   "execution_count": 1,
   "metadata": {
    "colab": {
     "base_uri": "https://localhost:8080/"
    },
    "executionInfo": {
     "elapsed": 3466,
     "status": "ok",
     "timestamp": 1641564842913,
     "user": {
      "displayName": "Tigran Fahradyan",
      "photoUrl": "https://lh3.googleusercontent.com/a-/AOh14Gh-nKGiDYIRqDVzJLIaEs_8pnw_vMBjy8DEj-Wc1g=s64",
      "userId": "09993311274482746194"
     },
     "user_tz": -240
    },
    "id": "-NnMxfLlqej1",
    "outputId": "b8bfbfb4-ed27-47c0-97f9-bce353df9a49"
   },
   "outputs": [
    {
     "name": "stdout",
     "output_type": "stream",
     "text": [
      "Defaulting to user installation because normal site-packages is not writeable\n",
      "Requirement already satisfied: gym in /home/tigran/.local/lib/python3.9/site-packages (0.21.0)\n",
      "Requirement already satisfied: cloudpickle>=1.2.0 in /home/tigran/.local/lib/python3.9/site-packages (from gym) (2.0.0)\n",
      "Requirement already satisfied: numpy>=1.18.0 in /home/tigran/.local/lib/python3.9/site-packages (from gym) (1.19.5)\n"
     ]
    }
   ],
   "source": [
    "!pip3 install gym --upgrade"
   ]
  },
  {
   "cell_type": "code",
   "execution_count": 2,
   "metadata": {
    "executionInfo": {
     "elapsed": 1244,
     "status": "ok",
     "timestamp": 1641564844151,
     "user": {
      "displayName": "Tigran Fahradyan",
      "photoUrl": "https://lh3.googleusercontent.com/a-/AOh14Gh-nKGiDYIRqDVzJLIaEs_8pnw_vMBjy8DEj-Wc1g=s64",
      "userId": "09993311274482746194"
     },
     "user_tz": -240
    },
    "id": "1G9GpLg2mmum"
   },
   "outputs": [],
   "source": [
    "%matplotlib inline\n",
    "import numpy as np\n",
    "import matplotlib.pyplot as plt\n",
    "\n",
    "import torch\n",
    "import torch.nn as nn\n",
    "import torch.nn.functional as F\n",
    "\n",
    "import gym\n",
    "import cv2\n",
    "\n",
    "from collections import namedtuple\n",
    "from dataclasses import dataclass, field\n",
    "import random\n",
    "import pdb\n",
    "\n",
    "from IPython import display\n",
    "from IPython.display import clear_output\n",
    "from pyvirtualdisplay import Display"
   ]
  },
  {
   "cell_type": "code",
   "execution_count": 3,
   "metadata": {
    "colab": {
     "base_uri": "https://localhost:8080/"
    },
    "executionInfo": {
     "elapsed": 15,
     "status": "ok",
     "timestamp": 1641564844152,
     "user": {
      "displayName": "Tigran Fahradyan",
      "photoUrl": "https://lh3.googleusercontent.com/a-/AOh14Gh-nKGiDYIRqDVzJLIaEs_8pnw_vMBjy8DEj-Wc1g=s64",
      "userId": "09993311274482746194"
     },
     "user_tz": -240
    },
    "id": "uR3l0ai8paL0",
    "outputId": "909b9ed5-5e2a-49a8-b759-17df0201e0ea"
   },
   "outputs": [],
   "source": [
    "# display = Display(visible=0, size=(400, 300))\n",
    "# display.start()"
   ]
  },
  {
   "cell_type": "code",
   "execution_count": 4,
   "metadata": {
    "colab": {
     "base_uri": "https://localhost:8080/"
    },
    "executionInfo": {
     "elapsed": 12,
     "status": "ok",
     "timestamp": 1641564844152,
     "user": {
      "displayName": "Tigran Fahradyan",
      "photoUrl": "https://lh3.googleusercontent.com/a-/AOh14Gh-nKGiDYIRqDVzJLIaEs_8pnw_vMBjy8DEj-Wc1g=s64",
      "userId": "09993311274482746194"
     },
     "user_tz": -240
    },
    "id": "oeY5PJBMcfOz",
    "outputId": "52896e63-0440-4647-f6db-da93e98b4aa1"
   },
   "outputs": [
    {
     "data": {
      "text/plain": [
       "False"
      ]
     },
     "execution_count": 4,
     "metadata": {},
     "output_type": "execute_result"
    }
   ],
   "source": [
    "torch.cuda.is_available()"
   ]
  },
  {
   "cell_type": "code",
   "execution_count": 5,
   "metadata": {
    "id": "zvjlBWBhmpQc"
   },
   "outputs": [],
   "source": [
    "env = gym.make(\"CartPole-v0\")\n",
    "env.reset()\n",
    "\n",
    "for i in range(500):\n",
    "    action = env.action_space.sample()\n",
    "    obs, reward, done, info = env.step(action)\n",
    "    screen = env.render(mode='rgb_array')\n",
    "\n",
    "    if done:\n",
    "        break\n",
    "\n",
    "env.close()"
   ]
  },
  {
   "cell_type": "code",
   "execution_count": 6,
   "metadata": {
    "colab": {
     "base_uri": "https://localhost:8080/"
    },
    "executionInfo": {
     "elapsed": 15,
     "status": "ok",
     "timestamp": 1641564844708,
     "user": {
      "displayName": "Tigran Fahradyan",
      "photoUrl": "https://lh3.googleusercontent.com/a-/AOh14Gh-nKGiDYIRqDVzJLIaEs_8pnw_vMBjy8DEj-Wc1g=s64",
      "userId": "09993311274482746194"
     },
     "user_tz": -240
    },
    "id": "6BIR32WJSwBL",
    "outputId": "dcfebb15-129a-43f0-e139-e22693b270ce"
   },
   "outputs": [
    {
     "data": {
      "text/plain": [
       "(2,\n",
       " Box([-4.8000002e+00 -3.4028235e+38 -4.1887903e-01 -3.4028235e+38], [4.8000002e+00 3.4028235e+38 4.1887903e-01 3.4028235e+38], (4,), float32))"
      ]
     },
     "execution_count": 6,
     "metadata": {},
     "output_type": "execute_result"
    }
   ],
   "source": [
    "# explore the env\n",
    "\n",
    "env.action_space.n, env.observation_space"
   ]
  },
  {
   "cell_type": "markdown",
   "metadata": {
    "id": "WlbkqGI2Wwhb"
   },
   "source": [
    "**This is what the input to the net looks like.**\n",
    "\n"
   ]
  },
  {
   "cell_type": "code",
   "execution_count": 7,
   "metadata": {
    "colab": {
     "base_uri": "https://localhost:8080/",
     "height": 286
    },
    "executionInfo": {
     "elapsed": 14,
     "status": "ok",
     "timestamp": 1641564844709,
     "user": {
      "displayName": "Tigran Fahradyan",
      "photoUrl": "https://lh3.googleusercontent.com/a-/AOh14Gh-nKGiDYIRqDVzJLIaEs_8pnw_vMBjy8DEj-Wc1g=s64",
      "userId": "09993311274482746194"
     },
     "user_tz": -240
    },
    "id": "tvN1fwJMWE26",
    "outputId": "561b1c0c-7f71-4fbf-a07e-473fc2fea62e"
   },
   "outputs": [
    {
     "data": {
      "image/png": "[encoded data removed]",
      "text/plain": [
       "<Figure size 432x288 with 1 Axes>"
      ]
     },
     "metadata": {
      "needs_background": "light"
     },
     "output_type": "display_data"
    }
   ],
   "source": [
    "env.reset()\n",
    "inp_img = None\n",
    "for i in range(2):\n",
    "    gray_scale = cv2.cvtColor(env.render(\"rgb_array\"), cv2.COLOR_RGB2GRAY)\n",
    "    gray_scale_cropped = cv2.resize(gray_scale, (84, 84), interpolation=cv2.INTER_AREA)\n",
    "\n",
    "    if inp_img is None:\n",
    "        inp_img = gray_scale_cropped\n",
    "    else:\n",
    "        inp_img = np.vstack((inp_img, gray_scale_cropped))\n",
    "    \n",
    "    env.step(env.action_space.sample())\n",
    "    \n",
    "plt.imshow(inp_img, cmap=\"gray\")\n",
    "env.close()"
   ]
  },
  {
   "cell_type": "code",
   "execution_count": 8,
   "metadata": {
    "colab": {
     "base_uri": "https://localhost:8080/"
    },
    "executionInfo": {
     "elapsed": 10,
     "status": "ok",
     "timestamp": 1641564844709,
     "user": {
      "displayName": "Tigran Fahradyan",
      "photoUrl": "https://lh3.googleusercontent.com/a-/AOh14Gh-nKGiDYIRqDVzJLIaEs_8pnw_vMBjy8DEj-Wc1g=s64",
      "userId": "09993311274482746194"
     },
     "user_tz": -240
    },
    "id": "RE6PuqxZbhn9",
    "outputId": "82d8c455-ab94-4d56-a7ac-7835adc09353"
   },
   "outputs": [
    {
     "data": {
      "text/plain": [
       "torch.Size([168, 84])"
      ]
     },
     "execution_count": 8,
     "metadata": {},
     "output_type": "execute_result"
    }
   ],
   "source": [
    "# torch.flatten(torch.from_numpy(gray_scale_cropped)).shape, 84*84\n",
    "# torch.from_numpy(gray_scale_cropped)\n",
    "torch.Tensor(inp_img).shape"
   ]
  },
  {
   "cell_type": "code",
   "execution_count": 9,
   "metadata": {
    "executionInfo": {
     "elapsed": 426,
     "status": "ok",
     "timestamp": 1641564845128,
     "user": {
      "displayName": "Tigran Fahradyan",
      "photoUrl": "https://lh3.googleusercontent.com/a-/AOh14Gh-nKGiDYIRqDVzJLIaEs_8pnw_vMBjy8DEj-Wc1g=s64",
      "userId": "09993311274482746194"
     },
     "user_tz": -240
    },
    "id": "vHJnmMekmq9T"
   },
   "outputs": [],
   "source": [
    "class DQN(nn.Module):\n",
    "    \n",
    "    def __init__(self, width, height):\n",
    "        super().__init__()\n",
    "        \n",
    "        self.conv1 = nn.Conv2d(in_channels=1, )\n",
    "        \n",
    "        self.fc1 = nn.Linear(in_features=width*height, out_features=24)\n",
    "        self.fc2 = nn.Linear(in_features=24, out_features=32)\n",
    "        self.out = nn.Linear(in_features=32, out_features=2)\n",
    "\n",
    "#         self.fc1 = nn.Linear(in_features=width*height, out_features=64)\n",
    "#         self.fc2 = nn.Linear(in_features=64, out_features=128)\n",
    "#         self.out = nn.Linear(in_features=128, out_features=3)\n",
    "        \n",
    "    def forward(self, t):\n",
    "        # expect shape with (batch_size, width, height)\n",
    "        t = t.reshape(t.shape[0], -1)\n",
    "        t = F.relu(self.fc1(t))\n",
    "        t = F.relu(self.fc2(t))\n",
    "        t = F.relu(self.out(t))\n",
    "        return t"
   ]
  },
  {
   "cell_type": "code",
   "execution_count": 10,
   "metadata": {
    "colab": {
     "base_uri": "https://localhost:8080/"
    },
    "executionInfo": {
     "elapsed": 16,
     "status": "ok",
     "timestamp": 1641564845128,
     "user": {
      "displayName": "Tigran Fahradyan",
      "photoUrl": "https://lh3.googleusercontent.com/a-/AOh14Gh-nKGiDYIRqDVzJLIaEs_8pnw_vMBjy8DEj-Wc1g=s64",
      "userId": "09993311274482746194"
     },
     "user_tz": -240
    },
    "id": "Ps0v-xeGrNFQ",
    "outputId": "33dd4f01-30ae-4175-df68-131bd4f98a0d"
   },
   "outputs": [
    {
     "data": {
      "text/plain": [
       "tensor([[0., 0.]], grad_fn=<ReluBackward0>)"
      ]
     },
     "execution_count": 10,
     "metadata": {},
     "output_type": "execute_result"
    }
   ],
   "source": [
    "network = DQN(84, 84*2)\n",
    "network(torch.from_numpy(inp_img.astype(np.float32)).unsqueeze(0))"
   ]
  },
  {
   "cell_type": "code",
   "execution_count": 11,
   "metadata": {
    "executionInfo": {
     "elapsed": 14,
     "status": "ok",
     "timestamp": 1641564845129,
     "user": {
      "displayName": "Tigran Fahradyan",
      "photoUrl": "https://lh3.googleusercontent.com/a-/AOh14Gh-nKGiDYIRqDVzJLIaEs_8pnw_vMBjy8DEj-Wc1g=s64",
      "userId": "09993311274482746194"
     },
     "user_tz": -240
    },
    "id": "kDPcrMDNm44C"
   },
   "outputs": [],
   "source": [
    "class Experiance:\n",
    "    \n",
    "    def __init__(self, action, state, new_state, reward, done):\n",
    "        self.action = action\n",
    "        self.state = state\n",
    "        self.new_state = new_state\n",
    "        self.reward = reward\n",
    "        self.done = done"
   ]
  },
  {
   "cell_type": "code",
   "execution_count": 12,
   "metadata": {
    "colab": {
     "base_uri": "https://localhost:8080/"
    },
    "executionInfo": {
     "elapsed": 13,
     "status": "ok",
     "timestamp": 1641564845129,
     "user": {
      "displayName": "Tigran Fahradyan",
      "photoUrl": "https://lh3.googleusercontent.com/a-/AOh14Gh-nKGiDYIRqDVzJLIaEs_8pnw_vMBjy8DEj-Wc1g=s64",
      "userId": "09993311274482746194"
     },
     "user_tz": -240
    },
    "id": "oCYfGuEum64u",
    "outputId": "622af15d-8113-41cd-eaa1-af7ddfb2f64b"
   },
   "outputs": [
    {
     "data": {
      "text/plain": [
       "<__main__.Experiance at 0x7f2620167910>"
      ]
     },
     "execution_count": 12,
     "metadata": {},
     "output_type": "execute_result"
    }
   ],
   "source": [
    "Experiance(1, 2, 3, 4, 5)"
   ]
  },
  {
   "cell_type": "code",
   "execution_count": 13,
   "metadata": {
    "executionInfo": {
     "elapsed": 11,
     "status": "ok",
     "timestamp": 1641564845130,
     "user": {
      "displayName": "Tigran Fahradyan",
      "photoUrl": "https://lh3.googleusercontent.com/a-/AOh14Gh-nKGiDYIRqDVzJLIaEs_8pnw_vMBjy8DEj-Wc1g=s64",
      "userId": "09993311274482746194"
     },
     "user_tz": -240
    },
    "id": "xmnxM3VPm8Ke"
   },
   "outputs": [],
   "source": [
    "@dataclass(init=True, repr=False)\n",
    "class ReplayMemory:\n",
    "    \n",
    "    \"\"\"\n",
    "        ReplayMemory class is for handling the replay memory data and sample batch_size samples for training.\n",
    "    \"\"\"\n",
    "    \n",
    "    capacity: int\n",
    "    memory: list = field(default_factory=list)\n",
    "    push_count: int = 0\n",
    "        \n",
    "    def push(self, exp):\n",
    "        if len(self.memory) < self.capacity:\n",
    "            self.memory.append(exp)\n",
    "        else:\n",
    "            self.memory[self.push_count % self.capacity] = exp\n",
    "        self.push_count += 1\n",
    "        \n",
    "    def sample(self, batch_size):\n",
    "        return [self.memory[i] for i in np.random.permutation(len(self.memory))[:batch_size]]\n",
    "    \n",
    "    def can_provide_sample(self, batch_size):\n",
    "        return len(self.memory) >= batch_size"
   ]
  },
  {
   "cell_type": "code",
   "execution_count": 14,
   "metadata": {
    "executionInfo": {
     "elapsed": 11,
     "status": "ok",
     "timestamp": 1641564845130,
     "user": {
      "displayName": "Tigran Fahradyan",
      "photoUrl": "https://lh3.googleusercontent.com/a-/AOh14Gh-nKGiDYIRqDVzJLIaEs_8pnw_vMBjy8DEj-Wc1g=s64",
      "userId": "09993311274482746194"
     },
     "user_tz": -240
    },
    "id": "Fz3_nu3Sm9WD"
   },
   "outputs": [],
   "source": [
    "@dataclass(init=True)\n",
    "class EpGreedy:\n",
    "    \n",
    "    start: int\n",
    "    end: int\n",
    "    decay: int\n",
    "        \n",
    "    def get_exploration_rate(self, current_step):\n",
    "#         if current_step - self.decay >= self.end:\n",
    "#             return current_step - self.decay\n",
    "#         return current_step\n",
    "        return self.end + (self.start - self.end) * np.exp(-1 * current_step * self.decay)"
   ]
  },
  {
   "cell_type": "code",
   "execution_count": 15,
   "metadata": {
    "executionInfo": {
     "elapsed": 10,
     "status": "ok",
     "timestamp": 1641564845130,
     "user": {
      "displayName": "Tigran Fahradyan",
      "photoUrl": "https://lh3.googleusercontent.com/a-/AOh14Gh-nKGiDYIRqDVzJLIaEs_8pnw_vMBjy8DEj-Wc1g=s64",
      "userId": "09993311274482746194"
     },
     "user_tz": -240
    },
    "id": "7NkcuBoKm_Zi"
   },
   "outputs": [],
   "source": [
    "ep_greedy = EpGreedy(1, 0.2, 0.001)"
   ]
  },
  {
   "cell_type": "code",
   "execution_count": 16,
   "metadata": {
    "colab": {
     "base_uri": "https://localhost:8080/"
    },
    "executionInfo": {
     "elapsed": 11,
     "status": "ok",
     "timestamp": 1641564845131,
     "user": {
      "displayName": "Tigran Fahradyan",
      "photoUrl": "https://lh3.googleusercontent.com/a-/AOh14Gh-nKGiDYIRqDVzJLIaEs_8pnw_vMBjy8DEj-Wc1g=s64",
      "userId": "09993311274482746194"
     },
     "user_tz": -240
    },
    "id": "0aJmloAWnAwG",
    "outputId": "e0e01e5c-28bc-4302-83fa-bddb82df3809"
   },
   "outputs": [
    {
     "data": {
      "text/plain": [
       "0.7926545765453743"
      ]
     },
     "execution_count": 16,
     "metadata": {},
     "output_type": "execute_result"
    }
   ],
   "source": [
    "ep_greedy.get_exploration_rate(300)"
   ]
  },
  {
   "cell_type": "markdown",
   "metadata": {
    "id": "Rey9e83unEBP"
   },
   "source": [
    "**RL Agent**"
   ]
  },
  {
   "cell_type": "code",
   "execution_count": 17,
   "metadata": {
    "executionInfo": {
     "elapsed": 9,
     "status": "ok",
     "timestamp": 1641564845131,
     "user": {
      "displayName": "Tigran Fahradyan",
      "photoUrl": "https://lh3.googleusercontent.com/a-/AOh14Gh-nKGiDYIRqDVzJLIaEs_8pnw_vMBjy8DEj-Wc1g=s64",
      "userId": "09993311274482746194"
     },
     "user_tz": -240
    },
    "id": "bu-b4wYXnB0e"
   },
   "outputs": [],
   "source": [
    "class Agent:\n",
    "    \n",
    "    def __init__(self, strategy, num_actions):\n",
    "        self.strategy = strategy\n",
    "        self.num_actions = num_actions\n",
    "        self.current_step = 0\n",
    "        \n",
    "    def select_action(self, state, policy_net):\n",
    "        rate = self.strategy.get_exploration_rate(self.current_step)\n",
    "        self.current_step += 1\n",
    "        \n",
    "        if rate > random.random():\n",
    "            return np.random.choice(self.num_actions) # explore\n",
    "        else:\n",
    "            with torch.no_grad():\n",
    "#                 print(policy_net(state.unsqueeze(0)).argmax().item())\n",
    "                return policy_net(state.unsqueeze(0)).argmax().item() # exploit"
   ]
  },
  {
   "cell_type": "code",
   "execution_count": 18,
   "metadata": {},
   "outputs": [
    {
     "data": {
      "text/plain": [
       "3"
      ]
     },
     "execution_count": 18,
     "metadata": {},
     "output_type": "execute_result"
    }
   ],
   "source": [
    "car_env = gym.make('MountainCar-v0').unwrapped\n",
    "car_env.action_space.n"
   ]
  },
  {
   "cell_type": "code",
   "execution_count": 19,
   "metadata": {},
   "outputs": [],
   "source": [
    "# car_env.reset()\n",
    "# inp_img = None\n",
    "# for i in range(2):\n",
    "#     gray_scale = cv2.cvtColor(car_env.render(\"rgb_array\"), cv2.COLOR_RGB2GRAY)\n",
    "#     gray_scale_cropped = cv2.resize(gray_scale, (100, 100), interpolation=cv2.INTER_AREA)\n",
    "\n",
    "#     if inp_img is None:\n",
    "#         inp_img = gray_scale_cropped\n",
    "#     else:\n",
    "#         inp_img = np.vstack((inp_img, gray_scale_cropped))\n",
    "    \n",
    "#     env.step(car_env.action_space.sample())\n",
    "    \n",
    "# plt.imshow(inp_img, cmap=\"gray\")\n",
    "# car_env.close()"
   ]
  },
  {
   "cell_type": "code",
   "execution_count": 20,
   "metadata": {
    "executionInfo": {
     "elapsed": 9,
     "status": "ok",
     "timestamp": 1641564845132,
     "user": {
      "displayName": "Tigran Fahradyan",
      "photoUrl": "https://lh3.googleusercontent.com/a-/AOh14Gh-nKGiDYIRqDVzJLIaEs_8pnw_vMBjy8DEj-Wc1g=s64",
      "userId": "09993311274482746194"
     },
     "user_tz": -240
    },
    "id": "rbmpjDg9nFrq"
   },
   "outputs": [],
   "source": [
    "class EnvManager:\n",
    "    \n",
    "    def __init__(self):\n",
    "        self.env = gym.make('CartPole-v0').unwrapped\n",
    "        self.agent = Agent(EpGreedy(1, 0.01, 0.001), self.env.action_space.n)\n",
    "        self.width = 84\n",
    "        self.height = 84\n",
    "        self.stack_size = 4\n",
    "        self.discount_factor = 0.98\n",
    "        self.policy_network = DQN(self.width, self.height*self.stack_size)\n",
    "        self.target_network = DQN(self.width, self.height*self.stack_size)\n",
    "        self.target_network.load_state_dict(self.policy_network.state_dict())\n",
    "        self.target_network.eval()\n",
    "        self.optimizer = torch.optim.Adam(self.policy_network.parameters(), lr=0.001)\n",
    "        memory_size = 100000\n",
    "        self.replay_memory = ReplayMemory(memory_size)\n",
    "        \n",
    "    def get_screen_tensor(self):\n",
    "        gray_scale = cv2.cvtColor(self.env.render(\"rgb_array\"), cv2.COLOR_RGB2GRAY)\n",
    "        resized = cv2.resize(gray_scale, (self.width, self.height), interpolation=cv2.INTER_LINEAR)\n",
    "        return torch.from_numpy(resized.astype(np.float32))\n",
    "\n",
    "    def stack_experiences(self, experiences):\n",
    "        actions = []\n",
    "        states = []\n",
    "        new_states = []\n",
    "        rewards = []\n",
    "        done = []\n",
    "        \n",
    "        for exp in experiences:\n",
    "            actions.append(exp.action)\n",
    "            states.append(exp.state)\n",
    "            new_states.append(exp.new_state)\n",
    "            rewards.append(exp.reward)\n",
    "            done.append(exp.done)\n",
    "            \n",
    "#         print(len(actions), len(states), len(new_states), len(rewards))\n",
    "    \n",
    "        return torch.tensor(actions), torch.stack(states), torch.stack(new_states), torch.tensor(rewards), torch.tensor(done)\n",
    "    \n",
    "    def replay_memory_gradient_descent(self, batch_size):\n",
    "        \n",
    "        if self.replay_memory.can_provide_sample(batch_size):\n",
    "            experiences = self.replay_memory.sample(batch_size)\n",
    "\n",
    "            actions, states, new_states, rewards, done = self.stack_experiences(experiences)\n",
    "#             print(done)\n",
    "            optimal_q_values = self.policy_network(new_states).max(dim=1)[0]\n",
    "\n",
    "#             for i, d in enumerate(done):\n",
    "#                 if d == True:\n",
    "#                     optimal_q_values[i] = 0\n",
    "            \n",
    "            q_values = em.policy_network(states).gather(1, actions.reshape(-1, 1)).flatten()\n",
    "            # print(\"q_values\", optimal_q_values - q_values)\n",
    "            loss = F.mse_loss(q_values, optimal_q_values)\n",
    "#             loss = torch.sum((optimal_q_values - q_values) ** 2)\n",
    "\n",
    "            print(\"loss\", loss)\n",
    "            self.optimizer.zero_grad()\n",
    "            loss.backward()\n",
    "#             print(\"asdasd\")\n",
    "#             total_loss += loss.item()\n",
    "\n",
    "            self.optimizer.step()\n",
    "                \n",
    "#             print(\"total loss\", total_loss)\n",
    "\n",
    "\n",
    "    def train_algorithm(self):\n",
    "\n",
    "        episodes = 1000\n",
    "        max_steps = 100\n",
    "        batch_size = 256\n",
    "        target_update = 10\n",
    "        \n",
    "        duration = []\n",
    "\n",
    "        # episodes\n",
    "        for ep in range(episodes):\n",
    "\n",
    "            print(f\"********Ep {ep+1}********\")\n",
    "\n",
    "            total_reward = 0\n",
    "\n",
    "            self.env.reset()\n",
    "            \n",
    "            stack_tensors = []\n",
    "            \n",
    "            for step in range(max_steps):\n",
    "#                 print(f\"Step {step+1}\")\n",
    "                \n",
    "                if len(stack_tensors) != self.stack_size:\n",
    "                    stack_tensors.append(self.get_screen_tensor())\n",
    "                    self.env.step(self.env.action_space.sample())\n",
    "#                     print(\"backup\")\n",
    "                    continue\n",
    "                    \n",
    "                current_input = torch.vstack(stack_tensors)\n",
    "                action = self.agent.select_action(current_input, self.policy_network)\n",
    "                \n",
    "                observation, reward, done, info = self.env.step(action)\n",
    "                \n",
    "                if done:\n",
    "                    reward = -1\n",
    "                \n",
    "                stack_tensors.pop(0)\n",
    "                \n",
    "#                 if not done:\n",
    "                stack_tensors.append(self.get_screen_tensor())\n",
    "#                 else:\n",
    "#                     stack_tensors = [\n",
    "#                         torch.zeros_like(stack_tensors[0])\n",
    "#                         for i in range(self.stack_size)\n",
    "#                     ]\n",
    "                next_input = torch.vstack(stack_tensors)\n",
    "                \n",
    "                # debugging\n",
    "#                 plt.figure(figsize=(12, 25))\n",
    "#                 print(current_input.shape, next_input.shape)\n",
    "#                 plt.imshow(torch.vstack((current_input, next_input)), cmap=\"gray\")\n",
    "#                 plt.imshow(next_input, cmap=\"gray\")\n",
    "#                 display(plt.show())\n",
    "#                 pdb.set_trace()\n",
    "\n",
    "                total_reward += reward\n",
    "                \n",
    "                self.replay_memory.push(Experiance(action, current_input, next_input, reward, done))\n",
    "                \n",
    "                self.replay_memory_gradient_descent(batch_size)\n",
    "                \n",
    "#                 with torch.no_grad():\n",
    "#                     optimal_q_value = reward + self.discount_factor * self.policy_network(next_input).max().item()\n",
    "#                     q_value = self.policy_network(current_input)[action].item()\n",
    "#                     loss = (optimal_q_value - q_value) ** 2\n",
    "#                     total_loss += loss\n",
    "                    \n",
    "                current_input = next_input.clone().detach()\n",
    "                \n",
    "#                 print(\"total reward\", total_reward)\n",
    "#                 print(\"total loss\", total_loss)\n",
    "                \n",
    "                if done:\n",
    "                    break\n",
    "            \n",
    "            duration.append(step)\n",
    "            print(\"total reward\", total_reward)\n",
    "            print(\"Exp rate\", self.agent.strategy.get_exploration_rate(self.agent.current_step))\n",
    "            \n",
    "            clear_output(wait=True)\n",
    "            plt.plot(duration)\n",
    "            display.display(plt.show())\n",
    "            \n",
    "            if ep % target_update == 0:\n",
    "                self.target_network.load_state_dict(self.policy_network.state_dict())\n",
    "            \n",
    "        self.env.close()\n",
    "        \n",
    "    def safe_train(self):\n",
    "        try:\n",
    "            self.train_algorithm()\n",
    "        except:\n",
    "            self.env.close()"
   ]
  },
  {
   "cell_type": "code",
   "execution_count": 21,
   "metadata": {
    "colab": {
     "base_uri": "https://localhost:8080/",
     "height": 1000
    },
    "executionInfo": {
     "elapsed": 77471,
     "status": "error",
     "timestamp": 1641564922989,
     "user": {
      "displayName": "Tigran Fahradyan",
      "photoUrl": "https://lh3.googleusercontent.com/a-/AOh14Gh-nKGiDYIRqDVzJLIaEs_8pnw_vMBjy8DEj-Wc1g=s64",
      "userId": "09993311274482746194"
     },
     "user_tz": -240
    },
    "id": "QW2vT-z3YINR",
    "outputId": "108284c2-2c2c-43da-9659-532750faf69f",
    "scrolled": true
   },
   "outputs": [
    {
     "data": {
      "image/png": "[encoded data removed]",
      "text/plain": [
       "<Figure size 432x288 with 1 Axes>"
      ]
     },
     "metadata": {
      "needs_background": "light"
     },
     "output_type": "display_data"
    },
    {
     "data": {
      "text/plain": [
       "None"
      ]
     },
     "metadata": {},
     "output_type": "display_data"
    },
    {
     "name": "stdout",
     "output_type": "stream",
     "text": [
      "********Ep 260********\n",
      "loss tensor(0., grad_fn=<MseLossBackward0>)\n",
      "loss tensor(0., grad_fn=<MseLossBackward0>)\n",
      "loss tensor(0., grad_fn=<MseLossBackward0>)\n",
      "loss tensor(0., grad_fn=<MseLossBackward0>)\n",
      "loss tensor(0., grad_fn=<MseLossBackward0>)\n",
      "loss tensor(0., grad_fn=<MseLossBackward0>)\n",
      "loss tensor(0., grad_fn=<MseLossBackward0>)\n",
      "loss tensor(0., grad_fn=<MseLossBackward0>)\n"
     ]
    }
   ],
   "source": [
    "em = EnvManager()\n",
    "em.safe_train()"
   ]
  },
  {
   "cell_type": "code",
   "execution_count": null,
   "metadata": {},
   "outputs": [],
   "source": []
  }
 ],
 "metadata": {
  "colab": {
   "authorship_tag": "ABX9TyOygOK9o3Y92QfNfncwXrnW",
   "collapsed_sections": [],
   "name": "cart_and_pole DQN.ipynb",
   "provenance": []
  },
  "kernelspec": {
   "display_name": "Python 3 (ipykernel)",
   "language": "python",
   "name": "python3"
  },
  "language_info": {
   "codemirror_mode": {
    "name": "ipython",
    "version": 3
   },
   "file_extension": ".py",
   "mimetype": "text/x-python",
   "name": "python",
   "nbconvert_exporter": "python",
   "pygments_lexer": "ipython3",
   "version": "3.9.7"
  }
 },
 "nbformat": 4,
 "nbformat_minor": 1
}
