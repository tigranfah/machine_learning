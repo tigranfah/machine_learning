{
 "cells": [
  {
   "cell_type": "code",
   "execution_count": 24,
   "id": "05ecb50f",
   "metadata": {},
   "outputs": [],
   "source": [
    "%matplotlib inline\n",
    "import numpy as np\n",
    "import matplotlib.pyplot as plt\n",
    "\n",
    "import torch\n",
    "import torch.nn as nn\n",
    "import torch.nn.functional as F\n",
    "\n",
    "import gym\n",
    "from IPython.display import display\n",
    "\n",
    "from collections import namedtuple\n",
    "from dataclasses import dataclass, field"
   ]
  },
  {
   "cell_type": "markdown",
   "id": "afdd9c7a",
   "metadata": {},
   "source": [
    "Observe the env."
   ]
  },
  {
   "cell_type": "code",
   "execution_count": 3,
   "id": "83164495",
   "metadata": {},
   "outputs": [],
   "source": [
    "env = gym.make('CartPole-v0')\n",
    "env.reset()\n",
    "\n",
    "for i in range(100):\n",
    "    env.render()\n",
    "    \n",
    "    env.step(env.action_space.sample())\n",
    "    \n",
    "env.close()"
   ]
  },
  {
   "cell_type": "code",
   "execution_count": 6,
   "id": "8957a11b",
   "metadata": {},
   "outputs": [],
   "source": [
    "class DQN(nn.Module):\n",
    "    \n",
    "    def __init__(self, width, height):\n",
    "        super().__init__()\n",
    "        \n",
    "        self.fc1 = nn.Linear(in_features=widht*height*3, out_features=24)\n",
    "        self.fc2 = nn.Linear(in_features=24, out_features=32)\n",
    "        self.out = nn.Linear(in_features=32, out_features=2)\n",
    "        \n",
    "    def forward(self, t):\n",
    "        t = t.flatten(start_dim=1)\n",
    "        t = F.relu(self.fc1(t))\n",
    "        t = F.relu(self.fc2(t))\n",
    "        t = self.out(t)\n",
    "        return t"
   ]
  },
  {
   "cell_type": "code",
   "execution_count": 18,
   "id": "a1647c9c",
   "metadata": {},
   "outputs": [],
   "source": [
    "Experiance = namedtuple(\n",
    "    \"Experiances\",\n",
    "    (\"action\", \"state\", \"next_state\", \"reward\")\n",
    ")"
   ]
  },
  {
   "cell_type": "code",
   "execution_count": 22,
   "id": "fbe03836",
   "metadata": {},
   "outputs": [
    {
     "data": {
      "text/plain": [
       "Exception(1, 2, 3, 4)"
      ]
     },
     "execution_count": 22,
     "metadata": {},
     "output_type": "execute_result"
    }
   ],
   "source": [
    "Exception(1, 2, 3, 4)"
   ]
  },
  {
   "cell_type": "code",
   "execution_count": 39,
   "id": "bff95930",
   "metadata": {},
   "outputs": [],
   "source": [
    "@dataclass(init=True, repr=False)\n",
    "class ReplayMemory:\n",
    "    \n",
    "    \"\"\"\n",
    "        ReplayMemory class is for handling the replay memory data and sample batch_size samples for training.\n",
    "    \"\"\"\n",
    "    \n",
    "    capacity: int\n",
    "    memory: list = field(default_factory=list)\n",
    "    push_count: int = 0\n",
    "        \n",
    "    def push(self, exp):\n",
    "        if len(self.memory) < self.capacity:\n",
    "            self.memory.append(exp)\n",
    "        else:\n",
    "            self.memory[sefl.push_count % capacity] = exp\n",
    "        self.push_count += 1\n",
    "        \n",
    "    def sample(self, batch_size):\n",
    "        return np.random.choice(self.memory, batch_size, replace=False)\n",
    "    \n",
    "    def can_provide_sample(self):\n",
    "        return len(self.memory) >= batch_size"
   ]
  },
  {
   "cell_type": "code",
   "execution_count": 72,
   "id": "dbc89d35",
   "metadata": {},
   "outputs": [],
   "source": [
    "@dataclass(init=True)\n",
    "class EpGreedy:\n",
    "    \n",
    "    start: int\n",
    "    end: int\n",
    "    decay: int\n",
    "        \n",
    "    def get_exploration_rate(self, current_step):\n",
    "#         if current_step - self.decay >= self.end:\n",
    "#             return current_step - self.decay\n",
    "#         return current_step\n",
    "        return self.end + (self.start - self.end) * np.exp(-1 * current_step * self.decay)"
   ]
  },
  {
   "cell_type": "code",
   "execution_count": 73,
   "id": "fcc0ad79",
   "metadata": {},
   "outputs": [],
   "source": [
    "ep_greedy = EpGreedy(1, 0.1, 0.1)"
   ]
  },
  {
   "cell_type": "code",
   "execution_count": 76,
   "id": "ee9a8f4c",
   "metadata": {},
   "outputs": [
    {
     "data": {
      "text/plain": [
       "0.9821788059760798"
      ]
     },
     "execution_count": 76,
     "metadata": {},
     "output_type": "execute_result"
    }
   ],
   "source": [
    "ep_greedy.get_exploration_rate(0.2)"
   ]
  },
  {
   "cell_type": "markdown",
   "id": "52f5a088",
   "metadata": {},
   "source": [
    "**RL Agent**"
   ]
  },
  {
   "cell_type": "code",
   "execution_count": 77,
   "id": "bda1c79f",
   "metadata": {},
   "outputs": [],
   "source": [
    "class Agent:\n",
    "    \n",
    "    def __init__(self, strategy, num_actions):\n",
    "        self.strategy = strategy\n",
    "        self.num_actions = num_actions\n",
    "        self.current_step = 0\n",
    "        \n",
    "    def select_action(self, state, policy_net):\n",
    "        rate = self.strategy.get_exploration_rate(current_step)\n",
    "        self.current_step += 1\n",
    "        \n",
    "        if rate > random.random():\n",
    "            return np.random.choice(self.num_actions) # explore\n",
    "        else:\n",
    "            with torch.no_grad():\n",
    "                return policy_net(state).argmax(dim=1).item() # exploit"
   ]
  },
  {
   "cell_type": "code",
   "execution_count": null,
   "id": "16421643",
   "metadata": {},
   "outputs": [],
   "source": []
  }
 ],
 "metadata": {
  "kernelspec": {
   "display_name": "Python 3 (ipykernel)",
   "language": "python",
   "name": "python3"
  },
  "language_info": {
   "codemirror_mode": {
    "name": "ipython",
    "version": 3
   },
   "file_extension": ".py",
   "mimetype": "text/x-python",
   "name": "python",
   "nbconvert_exporter": "python",
   "pygments_lexer": "ipython3",
   "version": "3.9.7"
  }
 },
 "nbformat": 4,
 "nbformat_minor": 5
}
