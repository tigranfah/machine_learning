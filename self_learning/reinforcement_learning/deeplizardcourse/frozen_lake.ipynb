{
 "cells": [
  {
   "cell_type": "code",
   "execution_count": 10,
   "id": "1b579773",
   "metadata": {},
   "outputs": [],
   "source": [
    "import numpy as np\n",
    "import gym\n",
    "import time\n",
    "import random\n",
    "from IPython.display import clear_output"
   ]
  },
  {
   "cell_type": "code",
   "execution_count": 11,
   "id": "fd2aa9d5",
   "metadata": {},
   "outputs": [
    {
     "name": "stderr",
     "output_type": "stream",
     "text": [
      "[2022-01-06 13:22:31,212] Making new env: FrozenLake-v0\n"
     ]
    }
   ],
   "source": [
    "env = gym.make(\"FrozenLake-v0\")"
   ]
  },
  {
   "cell_type": "code",
   "execution_count": 12,
   "id": "66761dbc",
   "metadata": {},
   "outputs": [
    {
     "data": {
      "text/plain": [
       "(4, 16)"
      ]
     },
     "execution_count": 12,
     "metadata": {},
     "output_type": "execute_result"
    }
   ],
   "source": [
    "# actions           # states\n",
    "env.action_space.n, env.observation_space.n"
   ]
  },
  {
   "cell_type": "code",
   "execution_count": 13,
   "id": "eab6add2",
   "metadata": {},
   "outputs": [
    {
     "data": {
      "text/plain": [
       "array([[0., 0., 0., 0.],\n",
       "       [0., 0., 0., 0.],\n",
       "       [0., 0., 0., 0.],\n",
       "       [0., 0., 0., 0.],\n",
       "       [0., 0., 0., 0.],\n",
       "       [0., 0., 0., 0.],\n",
       "       [0., 0., 0., 0.],\n",
       "       [0., 0., 0., 0.],\n",
       "       [0., 0., 0., 0.],\n",
       "       [0., 0., 0., 0.],\n",
       "       [0., 0., 0., 0.],\n",
       "       [0., 0., 0., 0.],\n",
       "       [0., 0., 0., 0.],\n",
       "       [0., 0., 0., 0.],\n",
       "       [0., 0., 0., 0.],\n",
       "       [0., 0., 0., 0.]])"
      ]
     },
     "execution_count": 13,
     "metadata": {},
     "output_type": "execute_result"
    }
   ],
   "source": [
    "q_table = np.zeros((env.observation_space.n, env.action_space.n))\n",
    "q_table"
   ]
  },
  {
   "cell_type": "markdown",
   "id": "8282e34c",
   "metadata": {},
   "source": [
    "Create Q-learning env."
   ]
  },
  {
   "cell_type": "code",
   "execution_count": 14,
   "id": "5201c751",
   "metadata": {},
   "outputs": [],
   "source": [
    "n_episodes = 10000\n",
    "max_step_per_ep = 100\n",
    "\n",
    "learning_rate = 0.1\n",
    "discount_rate = 0.99\n",
    "\n",
    "exploration_rate = 1\n",
    "max_exploration_rate = 1\n",
    "min_exploration_rate = 0.01\n",
    "exploration_decay_rate = 0.01\n",
    "\n",
    "all_rewards = []\n",
    "\n",
    "# Algorithm\n",
    "for n in range(n_episodes):\n",
    "    \n",
    "    state = env.reset()\n",
    "    \n",
    "    current_ep_rewards = 0\n",
    "    \n",
    "    for step in range(max_step_per_ep):\n",
    "    \n",
    "        if exploration_rate > np.random.uniform(0, 1):\n",
    "#             print(\"explores\")\n",
    "            action = env.action_space.sample()\n",
    "        else:\n",
    "#             print(\"exploid\")\n",
    "            action = np.argmax(q_table[state])\n",
    "\n",
    "        new_state, reward, done, info = env.step(action)\n",
    "        \n",
    "        # update\n",
    "        q_table[state, action] = (1 - learning_rate) * q_table[state, action] + \\\n",
    "                                learning_rate * (reward + discount_rate * np.max(q_table[new_state]))\n",
    "        \n",
    "        state = new_state\n",
    "        current_ep_rewards += reward\n",
    "        \n",
    "#         print(env.render())\n",
    "        \n",
    "        if done == True:\n",
    "            break\n",
    "    \n",
    "    if exploration_rate > min_exploration_rate:\n",
    "        exploration_rate -= exploration_decay_rate\n",
    "        \n",
    "    all_rewards.append(current_ep_rewards)"
   ]
  },
  {
   "cell_type": "code",
   "execution_count": 17,
   "id": "fadb73bc",
   "metadata": {},
   "outputs": [
    {
     "name": "stdout",
     "output_type": "stream",
     "text": [
      "0.047\n",
      "0.332\n",
      "0.452\n",
      "0.648\n",
      "0.669\n",
      "0.678\n",
      "0.709\n",
      "0.679\n",
      "0.648\n",
      "0.673\n"
     ]
    }
   ],
   "source": [
    "for i in np.linspace(0, 10000, 11)[:-1].astype(int):\n",
    "    print(np.mean(all_rewards[i:i+1000]))"
   ]
  },
  {
   "cell_type": "code",
   "execution_count": 18,
   "id": "5f52e487",
   "metadata": {},
   "outputs": [
    {
     "data": {
      "text/plain": [
       "array([[0.53661071, 0.49703562, 0.49745641, 0.49880578],\n",
       "       [0.14972219, 0.02036554, 0.07292   , 0.4349499 ],\n",
       "       [0.36553924, 0.07480749, 0.03035338, 0.06105442],\n",
       "       [0.02306496, 0.        , 0.        , 0.        ],\n",
       "       [0.55387791, 0.33042885, 0.35113106, 0.40316791],\n",
       "       [0.        , 0.        , 0.        , 0.        ],\n",
       "       [0.19644013, 0.0961692 , 0.28155607, 0.0390138 ],\n",
       "       [0.        , 0.        , 0.        , 0.        ],\n",
       "       [0.32619714, 0.31300271, 0.44796171, 0.58054516],\n",
       "       [0.44862975, 0.59879872, 0.55057783, 0.46099236],\n",
       "       [0.56560815, 0.38865814, 0.38321399, 0.17368043],\n",
       "       [0.        , 0.        , 0.        , 0.        ],\n",
       "       [0.        , 0.        , 0.        , 0.        ],\n",
       "       [0.55488261, 0.31375329, 0.70505259, 0.34866449],\n",
       "       [0.75101336, 0.85885725, 0.74713744, 0.70894242],\n",
       "       [0.        , 0.        , 0.        , 0.        ]])"
      ]
     },
     "execution_count": 18,
     "metadata": {},
     "output_type": "execute_result"
    }
   ],
   "source": [
    "q_table"
   ]
  },
  {
   "cell_type": "code",
   "execution_count": 142,
   "id": "5fe8d6e1",
   "metadata": {},
   "outputs": [
    {
     "name": "stdout",
     "output_type": "stream",
     "text": [
      "fail\n"
     ]
    }
   ],
   "source": [
    "for ep in range(3):\n",
    "    state = env.reset()\n",
    "    \n",
    "    done = False\n",
    "    \n",
    "    print(\"Episode number \", ep)\n",
    "    print(time.sleep(1))\n",
    "    \n",
    "    for step in range(max_step_per_ep):\n",
    "        clear_output(wait=True)\n",
    "        env.render()\n",
    "        \n",
    "        action = np.argmax(q_table[state])\n",
    "        \n",
    "        time.sleep(0.3)\n",
    "        \n",
    "        \n",
    "        new_state, reward, done, info = env.step(action)\n",
    "        \n",
    "        if done:\n",
    "            clear_output(wait=True)\n",
    "            if reward == 1:\n",
    "                print(\"Success.\")\n",
    "                time.sleep(2)\n",
    "            else:\n",
    "                print(\"fail\")\n",
    "                time.sleep(2)\n",
    "            clear_output(wait=True)\n",
    "            break\n",
    "            \n",
    "        state = new_state\n",
    "        \n",
    "env.close()"
   ]
  },
  {
   "cell_type": "code",
   "execution_count": null,
   "id": "c3a901ae",
   "metadata": {},
   "outputs": [],
   "source": []
  }
 ],
 "metadata": {
  "kernelspec": {
   "display_name": "Python 3 (ipykernel)",
   "language": "python",
   "name": "python3"
  },
  "language_info": {
   "codemirror_mode": {
    "name": "ipython",
    "version": 3
   },
   "file_extension": ".py",
   "mimetype": "text/x-python",
   "name": "python",
   "nbconvert_exporter": "python",
   "pygments_lexer": "ipython3",
   "version": "3.9.9"
  }
 },
 "nbformat": 4,
 "nbformat_minor": 5
}
