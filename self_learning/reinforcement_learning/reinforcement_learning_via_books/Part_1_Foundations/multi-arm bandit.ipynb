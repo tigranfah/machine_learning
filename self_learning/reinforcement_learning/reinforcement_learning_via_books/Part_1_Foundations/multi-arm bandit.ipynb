{
 "cells": [
  {
   "cell_type": "code",
   "execution_count": 4,
   "id": "f16e9048",
   "metadata": {},
   "outputs": [],
   "source": [
    "import numpy as np\n",
    "import gym"
   ]
  },
  {
   "cell_type": "markdown",
   "id": "308068b4",
   "metadata": {},
   "source": [
    "**Expected value.**\n",
    "\n",
    "$$\n",
    "  Q_{k}(a) = \\frac{R_{1} + R_{2} + R_{3} + ... + R_{k}}{k_{a}}\n",
    "$$\n",
    "\n",
    "That is, the expected reward at play *k* for action *a* is the arithmetic mean of all the pre- vious rewards we’ve received for taking action *a*."
   ]
  },
  {
   "cell_type": "code",
   "execution_count": 7,
   "id": "0e6ff4dc",
   "metadata": {},
   "outputs": [],
   "source": [
    "def exp_reward(action, history):\n",
    "    rewards_for_action = history[action]\n",
    "    return sum(rewards_for_action) / len(rewards_for_action)"
   ]
  },
  {
   "cell_type": "markdown",
   "id": "d3f28d8a",
   "metadata": {},
   "source": [
    "A simple way to figure out the the slot machine with the average payout is to select the action associated with the highest Q value.\n",
    "\n",
    "$$\n",
    "    a_{i} - A_{k}\n",
    "$$\n",
    "\n",
    "$$\n",
    "    a^* = argmax_{a}Q_{k}(a_{i})\n",
    "$$"
   ]
  },
  {
   "cell_type": "code",
   "execution_count": 8,
   "id": "2f5484ca",
   "metadata": {},
   "outputs": [],
   "source": [
    "def get_best_action(actions, history):\n",
    "    exp_rewards = [exp_reward(action, history) for action in actions]\n",
    "    return argmax(exp_rewards)"
   ]
  },
  {
   "cell_type": "markdown",
   "id": "0b1e8a0d",
   "metadata": {},
   "source": [
    "Solution.\n",
    "\n",
    "Loops through all possible actions.\n",
    "Gets the value of the current action.\n",
    "\n",
    "This method is called **greedy** (or exploitation) method."
   ]
  },
  {
   "cell_type": "code",
   "execution_count": 9,
   "id": "50ff5b74",
   "metadata": {},
   "outputs": [],
   "source": [
    "def get_best_action(actions):\n",
    "    best_action = 0\n",
    "    max_action_value = 0\n",
    "    for i in range(len(actions)):\n",
    "        cur_action_value = get_action_value(actions[i])\n",
    "        if cur_action_value > max_action_value:\n",
    "            best_action = i\n",
    "            max_action_value = cur_action_value\n",
    "    return best_action"
   ]
  },
  {
   "cell_type": "markdown",
   "id": "32226e73",
   "metadata": {},
   "source": [
    "**Solving 10-armed bandit problem.**"
   ]
  },
  {
   "cell_type": "code",
   "execution_count": 1,
   "id": "91b0faa8",
   "metadata": {},
   "outputs": [],
   "source": [
    "import numpy as np\n",
    "from scipy import stats\n",
    "import random\n",
    "import matplotlib.pyplot as plt"
   ]
  },
  {
   "cell_type": "code",
   "execution_count": 2,
   "id": "875efb1a",
   "metadata": {},
   "outputs": [],
   "source": [
    "n = 10\n",
    "probs = np.random.rand(n)\n",
    "eps = 0.2"
   ]
  },
  {
   "cell_type": "code",
   "execution_count": 3,
   "id": "eaef3084",
   "metadata": {},
   "outputs": [],
   "source": [
    "def get_reward(prob, n=10):\n",
    "    reward = 0\n",
    "    for i in range(n):\n",
    "        if random.random() < prob:\n",
    "            reward += 1\n",
    "    return reward"
   ]
  },
  {
   "cell_type": "code",
   "execution_count": 34,
   "id": "74c30fee",
   "metadata": {},
   "outputs": [
    {
     "data": {
      "text/plain": [
       "7.006"
      ]
     },
     "execution_count": 34,
     "metadata": {},
     "output_type": "execute_result"
    }
   ],
   "source": [
    "np.mean([get_reward(0.7) for _ in range(2000)])"
   ]
  },
  {
   "cell_type": "code",
   "execution_count": 45,
   "id": "5b23aa81",
   "metadata": {},
   "outputs": [
    {
     "data": {
      "image/png": "[encoded data removed]",
      "text/plain": [
       "<Figure size 432x288 with 1 Axes>"
      ]
     },
     "metadata": {
      "needs_background": "light"
     },
     "output_type": "display_data"
    }
   ],
   "source": [
    "# the hist of probability\n",
    "plt.hist([get_reward(0.7) for _ in range(100000)])\n",
    "plt.show()"
   ]
  },
  {
   "cell_type": "code",
   "execution_count": 49,
   "id": "723bf34a",
   "metadata": {},
   "outputs": [
    {
     "data": {
      "text/plain": [
       "array([[0., 0.],\n",
       "       [0., 0.],\n",
       "       [0., 0.],\n",
       "       [0., 0.],\n",
       "       [0., 0.],\n",
       "       [0., 0.],\n",
       "       [0., 0.],\n",
       "       [0., 0.],\n",
       "       [0., 0.],\n",
       "       [0., 0.]])"
      ]
     },
     "execution_count": 49,
     "metadata": {},
     "output_type": "execute_result"
    }
   ],
   "source": [
    "# array that contains the records of each machine.\n",
    "# forst columns -- the number of times pulled.\n",
    "# second columns -- the avrage pulled value(reward).\n",
    "records = np.zeros((n, 2))\n",
    "records"
   ]
  },
  {
   "cell_type": "markdown",
   "id": "f28a0b32",
   "metadata": {},
   "source": [
    "*We can update records with this formula.*\n",
    "\n",
    "$$\n",
    "  u_{new} = \\frac{k * u_{old} + x}{k+1}\n",
    "$$"
   ]
  },
  {
   "cell_type": "code",
   "execution_count": 50,
   "id": "7900aa5b",
   "metadata": {},
   "outputs": [],
   "source": [
    "def update_record(record,action,r):\n",
    "    new_r = (record[action,0] * record[action,1] + r) / (record[action,0] + 1)\n",
    "    record[action,0] += 1\n",
    "    record[action,1] = new_r\n",
    "    return record"
   ]
  },
  {
   "cell_type": "code",
   "execution_count": 52,
   "id": "b1e527a0",
   "metadata": {},
   "outputs": [],
   "source": [
    "# get the arm with the largest avrage reward.\n",
    "def get_best_arm(record):\n",
    "    arm_index = np.argmax(record[:,1],axis=0)\n",
    "    return arm_index"
   ]
  },
  {
   "cell_type": "markdown",
   "id": "b59d5bc5",
   "metadata": {},
   "source": [
    "*After many trails we see that we found the arm that had the max probability to give us the best reword.\n",
    "We keep track of the mean reward.*"
   ]
  },
  {
   "cell_type": "code",
   "execution_count": 84,
   "id": "58e4a108",
   "metadata": {},
   "outputs": [
    {
     "data": {
      "text/plain": [
       "<matplotlib.collections.PathCollection at 0x14082f5e0>"
      ]
     },
     "execution_count": 84,
     "metadata": {},
     "output_type": "execute_result"
    },
    {
     "data": {
      "image/png": "[encoded data removed]",
      "text/plain": [
       "<Figure size 432x288 with 1 Axes>"
      ]
     },
     "metadata": {
      "needs_background": "light"
     },
     "output_type": "display_data"
    }
   ],
   "source": [
    "fig, ax = plt.subplots(1,1)\n",
    "ax.set_xlabel(\"Plays\")\n",
    "ax.set_ylabel(\"Avg Reward\")\n",
    "record = np.zeros((n,2))\n",
    "probs = np.random.rand(n)\n",
    "eps = 0.2\n",
    "rewards = [0]\n",
    "\n",
    "for i in range(500):\n",
    "    if random.random() > eps:\n",
    "        choice = get_best_arm(record)\n",
    "    else:\n",
    "        choice = np.random.randint(10)\n",
    "    r = get_reward(probs[choice])\n",
    "    record = update_record(record,choice,r)\n",
    "    mean_reward = ((i+1) * rewards[-1] + r)/(i+2)\n",
    "    rewards.append(mean_reward)\n",
    "    \n",
    "ax.scatter(np.arange(len(rewards)),rewards)"
   ]
  },
  {
   "cell_type": "code",
   "execution_count": 60,
   "id": "5e545b95",
   "metadata": {},
   "outputs": [
    {
     "data": {
      "text/plain": [
       "array([[ 16.        ,   6.4375    ],\n",
       "       [ 18.        ,   7.05555556],\n",
       "       [  7.        ,   1.71428571],\n",
       "       [ 13.        ,   6.15384615],\n",
       "       [ 16.        ,   4.625     ],\n",
       "       [  8.        ,   1.        ],\n",
       "       [ 10.        ,   8.2       ],\n",
       "       [400.        ,   9.5425    ],\n",
       "       [  5.        ,   0.6       ],\n",
       "       [  7.        ,   9.28571429]])"
      ]
     },
     "execution_count": 60,
     "metadata": {},
     "output_type": "execute_result"
    }
   ],
   "source": [
    "record"
   ]
  },
  {
   "cell_type": "markdown",
   "id": "60a64249",
   "metadata": {},
   "source": [
    "This sort of problems are called **stationary** problems because the underlying reward probability distributions for the arms does not change over time."
   ]
  },
  {
   "cell_type": "markdown",
   "id": "badfaaa7",
   "metadata": {},
   "source": [
    "------------------------------------------------------------------------------------"
   ]
  },
  {
   "cell_type": "markdown",
   "id": "f55868f4",
   "metadata": {},
   "source": [
    "Softmax selection policy. To put some policies on exploration. It doesn't randomly choose whatever action(arm) to take, but it gives some probabilities to see the first, second and third best fit to do exploration."
   ]
  },
  {
   "cell_type": "code",
   "execution_count": 69,
   "id": "121faf5b",
   "metadata": {},
   "outputs": [],
   "source": [
    "def softmax(av, tau=1.12):\n",
    "    softm = np.exp(av / tau) / np.sum( np.exp(av / tau) )\n",
    "    return softm"
   ]
  },
  {
   "cell_type": "markdown",
   "id": "2bea60da",
   "metadata": {},
   "source": [
    "If we were to implement the multi-arm bandit using softmax selection policy, we would not have get_best_arm, we would compute the softmax vector of the rewards column in records and then select of of the arms with the highest probaility."
   ]
  },
  {
   "cell_type": "code",
   "execution_count": 63,
   "id": "56abbd7f",
   "metadata": {},
   "outputs": [
    {
     "data": {
      "text/plain": [
       "array([0, 1, 2, 3, 4, 5, 6, 7, 8, 9])"
      ]
     },
     "execution_count": 63,
     "metadata": {},
     "output_type": "execute_result"
    }
   ],
   "source": [
    "x = np.arange(10)\n",
    "x"
   ]
  },
  {
   "cell_type": "code",
   "execution_count": 70,
   "id": "a8982a1f",
   "metadata": {},
   "outputs": [
    {
     "data": {
      "text/plain": [
       "array([0.1, 0.1, 0.1, 0.1, 0.1, 0.1, 0.1, 0.1, 0.1, 0.1])"
      ]
     },
     "execution_count": 70,
     "metadata": {},
     "output_type": "execute_result"
    }
   ],
   "source": [
    "av = np.zeros(10)\n",
    "p = softmax(av)\n",
    "p"
   ]
  },
  {
   "cell_type": "code",
   "execution_count": 81,
   "id": "7f33504f",
   "metadata": {},
   "outputs": [
    {
     "data": {
      "text/plain": [
       "4"
      ]
     },
     "execution_count": 81,
     "metadata": {},
     "output_type": "execute_result"
    }
   ],
   "source": [
    "np.random.choice(x,p=p)"
   ]
  },
  {
   "cell_type": "code",
   "execution_count": 86,
   "id": "74288724",
   "metadata": {},
   "outputs": [
    {
     "data": {
      "text/plain": [
       "<matplotlib.collections.PathCollection at 0x1407bf070>"
      ]
     },
     "execution_count": 86,
     "metadata": {},
     "output_type": "execute_result"
    },
    {
     "data": {
      "image/png": "[encoded data removed]",
      "text/plain": [
       "<Figure size 432x288 with 1 Axes>"
      ]
     },
     "metadata": {
      "needs_background": "light"
     },
     "output_type": "display_data"
    }
   ],
   "source": [
    "# with softmax\n",
    "\n",
    "n = 10\n",
    "probs = np.random.rand(n)\n",
    "record = np.zeros((n,2))\n",
    "\n",
    "fig,ax = plt.subplots(1,1)\n",
    "ax.set_xlabel(\"Plays\")\n",
    "ax.set_ylabel(\"Avg Reward\")\n",
    "# fig.set_size_inches(9,5)\n",
    "rewards = [0]\n",
    "\n",
    "for i in range(500):\n",
    "    p = softmax(record[:,1])\n",
    "    choice = np.random.choice(np.arange(n),p=p)\n",
    "    r = get_reward(probs[choice])\n",
    "    record = update_record(record,choice,r)\n",
    "    mean_reward = ((i+1) * rewards[-1] + r)/(i+2)\n",
    "    rewards.append(mean_reward)\n",
    "    \n",
    "ax.scatter(np.arange(len(rewards)),rewards)"
   ]
  },
  {
   "cell_type": "code",
   "execution_count": null,
   "id": "31cf31f4",
   "metadata": {},
   "outputs": [],
   "source": []
  }
 ],
 "metadata": {
  "kernelspec": {
   "display_name": "Python 3 (ipykernel)",
   "language": "python",
   "name": "python3"
  },
  "language_info": {
   "codemirror_mode": {
    "name": "ipython",
    "version": 3
   },
   "file_extension": ".py",
   "mimetype": "text/x-python",
   "name": "python",
   "nbconvert_exporter": "python",
   "pygments_lexer": "ipython3",
   "version": "3.9.7"
  }
 },
 "nbformat": 4,
 "nbformat_minor": 5
}
