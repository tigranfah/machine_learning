{
 "cells": [
  {
   "cell_type": "code",
   "execution_count": 3,
   "id": "dfdfe648",
   "metadata": {},
   "outputs": [],
   "source": [
    "import torch\n",
    "\n",
    "# import numpy as np"
   ]
  },
  {
   "cell_type": "code",
   "execution_count": 4,
   "id": "3fae3863",
   "metadata": {},
   "outputs": [
    {
     "data": {
      "text/plain": [
       "tensor([[1., 2., 3.],\n",
       "        [4., 5., 6.]])"
      ]
     },
     "execution_count": 4,
     "metadata": {},
     "output_type": "execute_result"
    }
   ],
   "source": [
    "torch.Tensor([[1, 2, 3], [4, 5, 6]])"
   ]
  },
  {
   "cell_type": "markdown",
   "id": "8f687f00",
   "metadata": {},
   "source": [
    "PyTorch offers automatic differentiation and optimization."
   ]
  },
  {
   "cell_type": "markdown",
   "id": "b47a49a1",
   "metadata": {},
   "source": [
    "We can define model in numpy like syntax."
   ]
  },
  {
   "cell_type": "code",
   "execution_count": 9,
   "id": "373dad01",
   "metadata": {},
   "outputs": [
    {
     "data": {
      "text/plain": [
       "tensor([-17.4700, -34.9399])"
      ]
     },
     "execution_count": 9,
     "metadata": {},
     "output_type": "execute_result"
    }
   ],
   "source": [
    "x = torch.Tensor([2, 4]) # input\n",
    "y_known = torch.Tensor([0, 1])\n",
    "m = torch.randn(2, requires_grad=True) # param 1\n",
    "b = torch.randn(1, requires_grad=True) # param 1\n",
    "\n",
    "y = m*x + b # eq. of a line\n",
    "loss = (torch.sum(y_known - y))**2\n",
    "loss.backward()\n",
    "m.grad"
   ]
  },
  {
   "cell_type": "markdown",
   "id": "d43d5a0c",
   "metadata": {},
   "source": [
    "Build network with nn module."
   ]
  },
  {
   "cell_type": "code",
   "execution_count": 50,
   "id": "9e76e859",
   "metadata": {},
   "outputs": [
    {
     "data": {
      "text/plain": [
       "(tensor([[-2.9166,  0.0622, -0.3010,  0.0139, -0.3659, -1.3406, -1.4692,  1.1442,\n",
       "          -1.2650, -0.1862],\n",
       "         [-0.8419,  0.3537, -1.6760, -1.0152, -0.2306, -1.0599,  1.5273, -0.3614,\n",
       "           1.2470, -0.3127],\n",
       "         [-1.4074, -1.0965,  1.9976,  2.3740,  2.1991, -0.6624,  0.5846,  0.2733,\n",
       "          -0.5533,  0.9958],\n",
       "         [ 0.8398, -0.0386, -0.5947,  0.1982, -0.5249,  0.7767, -0.5157, -1.6524,\n",
       "           2.8597,  1.4638],\n",
       "         [ 0.9902, -1.3596,  0.9128, -0.1147,  1.5685, -0.0215, -1.0587, -0.7561,\n",
       "           1.3370,  2.2807]]),\n",
       " tensor([[ 0.2235, -0.3106,  0.3313, -0.6066],\n",
       "         [-0.3822, -1.4078,  0.4420,  0.1888],\n",
       "         [ 1.0787, -0.6329, -0.2615, -0.1426],\n",
       "         [-0.5385, -0.8825, -0.2440,  0.4959],\n",
       "         [ 2.4771, -0.2515, -1.0360, -0.1410]]))"
      ]
     },
     "execution_count": 50,
     "metadata": {},
     "output_type": "execute_result"
    }
   ],
   "source": [
    "# x = np.random.randint(10, size=(5, 10))\n",
    "# y = np.random.randint(2, size=(5, 4))\n",
    "x = torch.randn((5, 10))\n",
    "y = torch.randn((5, 4))\n",
    "x, y\n",
    "# torch.randn?"
   ]
  },
  {
   "cell_type": "code",
   "execution_count": 39,
   "id": "b886f618",
   "metadata": {},
   "outputs": [],
   "source": [
    "model = torch.nn.Sequential(\n",
    "    torch.nn.Linear(10, 150),\n",
    "    torch.nn.ReLU(),\n",
    "    torch.nn.Linear(150, 4),\n",
    "    torch.nn.ReLU()\n",
    ")\n",
    "\n",
    "loss_func = torch.nn.MSELoss()\n",
    "optimizer = torch.optim.Adam(model.parameters(), lr=0.01)"
   ]
  },
  {
   "cell_type": "code",
   "execution_count": 40,
   "id": "8e8b2393",
   "metadata": {},
   "outputs": [
    {
     "data": {
      "text/plain": [
       "Sequential(\n",
       "  (0): Linear(in_features=10, out_features=150, bias=True)\n",
       "  (1): ReLU()\n",
       "  (2): Linear(in_features=150, out_features=4, bias=True)\n",
       "  (3): ReLU()\n",
       ")"
      ]
     },
     "execution_count": 40,
     "metadata": {},
     "output_type": "execute_result"
    }
   ],
   "source": [
    "model"
   ]
  },
  {
   "cell_type": "code",
   "execution_count": 51,
   "id": "47508379",
   "metadata": {},
   "outputs": [],
   "source": [
    "for step in range(100):\n",
    "    y_pred = model(x)\n",
    "    loss = loss_func(y_pred, y)\n",
    "    optimizer.zero_grad()\n",
    "    loss.backward()\n",
    "    optimizer.step()"
   ]
  },
  {
   "cell_type": "markdown",
   "id": "384a3ad7",
   "metadata": {},
   "source": [
    "To build more comlex models we do."
   ]
  },
  {
   "cell_type": "code",
   "execution_count": 60,
   "id": "f9752163",
   "metadata": {},
   "outputs": [],
   "source": [
    "from torch.nn import Module, Linear"
   ]
  },
  {
   "cell_type": "code",
   "execution_count": 71,
   "id": "ab14aa8c",
   "metadata": {},
   "outputs": [],
   "source": [
    "class MyNet(Module):\n",
    "    \n",
    "    def __init__(self):\n",
    "        super(MyNet, self).__init__()\n",
    "        self.fc1 = Linear(10, 150)\n",
    "        self.fc2 = Linear(150, 4)\n",
    "        \n",
    "    def forward(self, x):\n",
    "        x = torch.nn.ReLU()(self.fc1(x))\n",
    "        x = torch.nn.ReLU()(self.fc2(x))\n",
    "        return x"
   ]
  },
  {
   "cell_type": "code",
   "execution_count": 72,
   "id": "86cb9d3c",
   "metadata": {},
   "outputs": [
    {
     "data": {
      "text/plain": [
       "tensor([[0.1260, 0.0000, 0.2643, 0.4676],\n",
       "        [0.4543, 0.0000, 0.4043, 0.3081],\n",
       "        [0.0000, 0.0000, 0.4794, 0.3867],\n",
       "        [0.0930, 0.0000, 0.0000, 0.4722],\n",
       "        [0.0000, 0.0000, 0.0000, 0.2921]], grad_fn=<ReluBackward0>)"
      ]
     },
     "execution_count": 72,
     "metadata": {},
     "output_type": "execute_result"
    }
   ],
   "source": [
    "my_net = MyNet()\n",
    "my_net.forward(x)"
   ]
  },
  {
   "cell_type": "code",
   "execution_count": null,
   "id": "f2bc1cb4",
   "metadata": {},
   "outputs": [],
   "source": []
  }
 ],
 "metadata": {
  "kernelspec": {
   "display_name": "Python 3 (ipykernel)",
   "language": "python",
   "name": "python3"
  },
  "language_info": {
   "codemirror_mode": {
    "name": "ipython",
    "version": 3
   },
   "file_extension": ".py",
   "mimetype": "text/x-python",
   "name": "python",
   "nbconvert_exporter": "python",
   "pygments_lexer": "ipython3",
   "version": "3.9.7"
  }
 },
 "nbformat": 4,
 "nbformat_minor": 5
}
