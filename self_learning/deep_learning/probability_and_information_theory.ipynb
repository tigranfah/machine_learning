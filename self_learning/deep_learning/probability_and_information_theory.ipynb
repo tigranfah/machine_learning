{
 "cells": [
  {
   "cell_type": "markdown",
   "id": "593937a6",
   "metadata": {},
   "source": [
    "## Probability theory"
   ]
  },
  {
   "cell_type": "markdown",
   "id": "106987da",
   "metadata": {},
   "source": [
    "*Discrete Variables and Probability Mass Functions.*\n",
    "\n",
    "Probaility mass functions with a capital **P**.\n",
    "The probability mass function maps from a state of a random variable to the probability of that random variable taking on that state.\n",
    "The probability of x being x_i.\n",
    "\n",
    "$$\n",
    "    P(x=x_{i})\n",
    "$$"
   ]
  },
  {
   "cell_type": "markdown",
   "id": "5aa054b1",
   "metadata": {},
   "source": [
    "------------------------------------------------------------------------------------------------------------------------"
   ]
  },
  {
   "cell_type": "markdown",
   "id": "2fb8f11d",
   "metadata": {},
   "source": [
    "In order to be a probaility mass function on a random variable x.\n",
    "\n",
    "• The domain of P must be the set of all possible states of x.\n",
    "\n",
    "• Max probability 1, min prob 0.\n",
    "$$\n",
    "    ∀x ∈ x,0 ≤ P(x) ≤ 1.\n",
    "$$\n",
    "\n",
    "• We refer to this property as being normalized\n",
    "\n",
    "$$\n",
    "    \\sum_{x∈X}P(x) = 1\n",
    "$$"
   ]
  },
  {
   "cell_type": "markdown",
   "id": "5f37235d",
   "metadata": {},
   "source": [
    "------------------------------------------------------------------------------------------------------------------------"
   ]
  },
  {
   "cell_type": "markdown",
   "id": "4f0b7ca2",
   "metadata": {},
   "source": [
    "For instance. Discrete random variable x with k different states.\n",
    "\n",
    "And set **uniform distribution** on x—that is, make each of its states equally likely.\n",
    "\n",
    "$$\n",
    "    P(x=x_{i}) = 1/k\n",
    "$$\n",
    "\n",
    "We can see that this fits the requirements for a probability mass function.\n",
    "\n",
    "\\*Note that we often denote that x follows the uniform distribution on [a, b] by writing x ∼ U(a,b).*"
   ]
  },
  {
   "cell_type": "markdown",
   "id": "34c59ef3",
   "metadata": {},
   "source": [
    "------------------------------------------------------------------------------------------------------------------------"
   ]
  },
  {
   "cell_type": "markdown",
   "id": "64e9bbd0",
   "metadata": {},
   "source": [
    "*Continuous Variables and Probability Density Functions*"
   ]
  },
  {
   "cell_type": "markdown",
   "id": "af491d12",
   "metadata": {},
   "source": [
    "**Probability density function** must satisfy.\n",
    "\n",
    "• The domain of p must be the set of all possible states of x.\n",
    "\n",
    "\n",
    "• Note that we do not require p(x) ≤ 1.\n",
    "\n",
    "$$\n",
    "    \\sum_{x ∈ X}p(x) ≥ 0.\n",
    "$$\n",
    "\n",
    "and\n",
    "\n",
    "•\n",
    "$$\n",
    "    \\int_{}p(x)dx = 1\n",
    "$$"
   ]
  },
  {
   "cell_type": "markdown",
   "id": "71ef461c",
   "metadata": {},
   "source": [
    "In a univariate(including countable variables) example, the probability that x lies in the interval [a, b] is given by.\n",
    "\n",
    "$$\n",
    "    \\int_{[a,b]} p(x)dx.\n",
    "$$"
   ]
  },
  {
   "cell_type": "markdown",
   "id": "abbbad22",
   "metadata": {},
   "source": [
    "------------------------------------------------------------------------------------------------------------------------"
   ]
  },
  {
   "cell_type": "markdown",
   "id": "aabe2ce4",
   "metadata": {},
   "source": [
    "*Conditional probaility.*"
   ]
  },
  {
   "cell_type": "markdown",
   "id": "792e6a54",
   "metadata": {},
   "source": [
    "$$\n",
    "    P(y=y_{i}|x=x_{i})=\\frac{P(y=y_{i},x=x_{i})}{P (x = x_{i})}\n",
    "$$"
   ]
  },
  {
   "cell_type": "markdown",
   "id": "61097811",
   "metadata": {},
   "source": [
    "*Independence and Conditional Independence*"
   ]
  },
  {
   "cell_type": "markdown",
   "id": "e48bccba",
   "metadata": {},
   "source": [
    "Two random variables x and y are independent if\n",
    "\n",
    "$$\n",
    "    ∀x∈x_{i},y∈y_{i}, p(x=x_{i},y=y_{i})=p(x=x_{i})*p(y=y_{i})\n",
    "$$\n",
    "\n",
    "x⊥y - x and y are independent.\n",
    "\n",
    "x⊥y | z means that x and y are conditionally independent given z."
   ]
  },
  {
   "cell_type": "markdown",
   "id": "02926f86",
   "metadata": {},
   "source": [
    "------------------------------------------------------------------------------------------------------------------------"
   ]
  },
  {
   "cell_type": "markdown",
   "id": "b853ae6a",
   "metadata": {},
   "source": [
    "*Expectation, Variance and Covariance*\n",
    "\n",
    "Def. The **expectation** or **expected value** of some function f(x) with respect to a probability distribution P (x) is the average or mean value that f takes on when x is drawn from P.\n",
    "\n",
    "$$\n",
    "    E_{x∼P} [f (x)] = \\sum_{x} P (x)f (x)\n",
    "$$\n",
    "\n",
    "while for continues vars it is.\n",
    "\n",
    "$$\n",
    "    E_{x∼P} [f (x)] = \\int p (x)f (x) dx\n",
    "$$"
   ]
  },
  {
   "cell_type": "markdown",
   "id": "8dc6b689",
   "metadata": {},
   "source": [
    "When the identity distribution is obviouse in context then, we use\n",
    "\n",
    "$$\n",
    "    E_{x}[f(x)]\n",
    "$$"
   ]
  },
  {
   "cell_type": "markdown",
   "id": "c73fe3b8",
   "metadata": {},
   "source": [
    "Expectations are linear.\n",
    "\n",
    "$$\n",
    "    E_{x}[αf(x) + βg(x)] = αE_{x}[f(x)] + βE_{x}[g(x)]\n",
    "$$\n",
    "\n",
    "when α and β are not dependent on x."
   ]
  },
  {
   "cell_type": "markdown",
   "id": "4651ba6b",
   "metadata": {},
   "source": [
    "The **variance** gives a measure of how much the values of a function of a random variable x vary as we sample different values of x from its probability distribution.\n",
    "\n",
    "$$\n",
    "    Var(f(x)) = E[(f(x) - E[f(x)])^2]\n",
    "$$"
   ]
  },
  {
   "cell_type": "markdown",
   "id": "dca61e49",
   "metadata": {},
   "source": [
    "The **covariance** gives some sense of how much two values are linearly related to each other, as well as the scale of these variables.\n",
    "\n",
    "$$\n",
    "    Cov(f(x), g(x)) = E[(f(x) - E[g(x)])(g(y) - E[g(y)])]\n",
    "$$\n",
    "\n",
    "If the sign of the covariance is positive, then both variables tend to take on relatively high values simultaneously. If the sign of the covariance is negative, then one variable tends to take on a relatively high value at the times that the other takes on a relatively low value and vice versa."
   ]
  },
  {
   "cell_type": "markdown",
   "id": "8fe45180",
   "metadata": {},
   "source": []
  },
  {
   "cell_type": "markdown",
   "id": "12997873",
   "metadata": {},
   "source": [
    "#### Common Probability Distributions"
   ]
  },
  {
   "cell_type": "markdown",
   "id": "2df41476",
   "metadata": {},
   "source": [
    "*Bernoulli Distribution*\n",
    "\n",
    "The Bernoulli distribution is a distribution over a single binary random variable.\n",
    "\n",
    "$$\n",
    "    φ ∈ [0,1]\n",
    "$$\n",
    "\n",
    "$$\n",
    "    P(x = 1) = φ\n",
    "$$\n",
    "\n",
    "$$\n",
    "    P (x = 0) = 1 − φ \n",
    "$$\n",
    "\n",
    "$$\n",
    "    P(x = x) = φ^x(1 − φ)^{1−x}\n",
    "$$\n",
    "\n",
    "$$\n",
    "    E_{x}[x] = φ\n",
    "$$\n",
    "\n",
    "$$\n",
    "    Var_{x}(x) = φ(1 − φ)\n",
    "$$"
   ]
  },
  {
   "cell_type": "code",
   "execution_count": 194,
   "id": "39f0c62e",
   "metadata": {},
   "outputs": [],
   "source": [
    "import numpy as np\n",
    "import matplotlib.pyplot as plt\n",
    "import random"
   ]
  },
  {
   "cell_type": "code",
   "execution_count": 39,
   "id": "b4c3e241",
   "metadata": {},
   "outputs": [],
   "source": [
    "def bernoulli(u):\n",
    "    if random.random() >= u:\n",
    "        return 1\n",
    "    return 0\n",
    "\n",
    "def bernoulli_prob(x, u):\n",
    "    return (u**x) * (1-u)**(1-x)\n",
    "\n",
    "def bernoulli_exp(u):\n",
    "    return u\n",
    "\n",
    "def bernoulli_var(u):\n",
    "    return u * (1 - u)"
   ]
  },
  {
   "cell_type": "code",
   "execution_count": 40,
   "id": "3b5e9d70",
   "metadata": {},
   "outputs": [
    {
     "data": {
      "image/png": "[encoded data removed]",
      "text/plain": [
       "<Figure size 432x288 with 1 Axes>"
      ]
     },
     "metadata": {
      "needs_background": "light"
     },
     "output_type": "display_data"
    }
   ],
   "source": [
    "x = [bernoulli(0.7) for i in range(100)]\n",
    "y = [bernoulli_prob(x_, 0.7) for x_ in x]\n",
    "\n",
    "plt.hist(x, bins=2)\n",
    "plt.show()"
   ]
  },
  {
   "cell_type": "code",
   "execution_count": 41,
   "id": "b6d7d0a7",
   "metadata": {},
   "outputs": [
    {
     "data": {
      "text/plain": [
       "(0.7, 0.21000000000000002)"
      ]
     },
     "execution_count": 41,
     "metadata": {},
     "output_type": "execute_result"
    }
   ],
   "source": [
    "bernoulli_exp(0.7), bernoulli_var(0.7)"
   ]
  },
  {
   "cell_type": "markdown",
   "id": "1bc2564d",
   "metadata": {},
   "source": [
    "*Gaussian Distribution*\n",
    "\n",
    "$$\n",
    "    N(x;μ,σ^2)= \\sqrt{\\frac{1}{2πσ^2}} * exp(-\\frac{1}{2σ^2}*(x-μ)^{2})\n",
    "$$\n",
    "\n",
    "$$\n",
    "    μ ∈ R \n",
    "$$\n",
    "\n",
    "$$\n",
    "    σ ∈ (0,∞) \n",
    "$$\n",
    "\n",
    "$$\n",
    "    E[x] = μ\n",
    "$$\n",
    "\n",
    "The standard deviation of the distribution is given by σ, and the variance by σ^2."
   ]
  },
  {
   "cell_type": "code",
   "execution_count": 185,
   "id": "94772cb7",
   "metadata": {},
   "outputs": [],
   "source": [
    "def normal_prob(x, u, v):\n",
    "    return (1 / (2*np.pi*v))**0.5 * np.exp(-1/(2*v) * (x-u)**2)"
   ]
  },
  {
   "cell_type": "code",
   "execution_count": 186,
   "id": "5a611226",
   "metadata": {},
   "outputs": [
    {
     "data": {
      "image/png": "[encoded data removed]",
      "text/plain": [
       "<Figure size 432x288 with 1 Axes>"
      ]
     },
     "metadata": {
      "needs_background": "light"
     },
     "output_type": "display_data"
    }
   ],
   "source": [
    "plt.hist(np.random.normal(0.5, 0.5, 1000))\n",
    "plt.show()"
   ]
  },
  {
   "cell_type": "markdown",
   "id": "09c4428b",
   "metadata": {},
   "source": []
  },
  {
   "cell_type": "markdown",
   "id": "35acbdfc",
   "metadata": {},
   "source": [
    "*Bayes’ Rule*\n",
    "\n",
    "If we want to find P(x|y) and we know P(y|x) and P(x).\n",
    "\n",
    "$$\n",
    "    P(x | y) = \\frac{P(x)P(y | x)}{P (y)}\n",
    "$$\n",
    "\n",
    "where P(y) is\n",
    "\n",
    "$$\n",
    "    P(y) = \\sum_{x} P(y | x)P(x)\n",
    "$$"
   ]
  },
  {
   "cell_type": "markdown",
   "id": "10bac521",
   "metadata": {},
   "source": []
  },
  {
   "cell_type": "markdown",
   "id": "9e7d7c5f",
   "metadata": {},
   "source": [
    "## Information theory"
   ]
  },
  {
   "cell_type": "markdown",
   "id": "ca750217",
   "metadata": {},
   "source": [
    "**Information theory** is a branch of applied mathematics that revolves around quantifying how much information is present in a signal.\n",
    "The basic intuition behind information theory is that learning that an unlikely event has occurred is more informative than learning that a likely event has occurred. A message saying “the sun rose this morning” is so uninformative as to be unnecessary to send, but a message saying “there was a solar eclipse this morning” is very informative."
   ]
  },
  {
   "cell_type": "markdown",
   "id": "bd01059d",
   "metadata": {},
   "source": [
    "• Likely events should have low information content, and in the extreme case, events that are guaranteed to happen should have no information content whatsoever.\n",
    "\n",
    "• Less likely events should have higher information content.\n",
    "\n",
    "• Independent events should have additive information. For example, finding out that a tossed coin has come up as heads twice should convey twice as much information as finding out that a tossed coin has come up as heads once."
   ]
  },
  {
   "cell_type": "markdown",
   "id": "0d0981fd",
   "metadata": {},
   "source": [
    "**self-information**\n",
    "\n",
    "$$\n",
    "    I(x) = −log(P(x))\n",
    "$$"
   ]
  },
  {
   "cell_type": "code",
   "execution_count": 195,
   "id": "9f0cd97f",
   "metadata": {},
   "outputs": [],
   "source": [
    "def self_information(p_x): # probability of something\n",
    "    return - np.log(p_x)"
   ]
  },
  {
   "cell_type": "code",
   "execution_count": 202,
   "id": "8d1bd784",
   "metadata": {},
   "outputs": [
    {
     "name": "stdout",
     "output_type": "stream",
     "text": [
      "2.3025850929940455 0.10536051565782628\n"
     ]
    }
   ],
   "source": [
    "# the less likely it is the more infomative it is.\n",
    "print(self_information(0.1), self_information(0.9))"
   ]
  },
  {
   "cell_type": "markdown",
   "id": "099c6aa0",
   "metadata": {},
   "source": [
    "We use log to mean the natural logarithm, with base e. Our\n",
    "definition of I(x) is therefore written in units of **nats**.\n",
    "One nat is the information gained by observing an event of probability 1/e."
   ]
  },
  {
   "cell_type": "code",
   "execution_count": 207,
   "id": "6f9e594f",
   "metadata": {},
   "outputs": [
    {
     "data": {
      "text/plain": [
       "1.0"
      ]
     },
     "execution_count": 207,
     "metadata": {},
     "output_type": "execute_result"
    }
   ],
   "source": [
    "self_information(1/np.e)"
   ]
  },
  {
   "cell_type": "markdown",
   "id": "8682e0fd",
   "metadata": {},
   "source": [
    "--- the of this chapter rest is not presented here."
   ]
  }
 ],
 "metadata": {
  "kernelspec": {
   "display_name": "Python 3 (ipykernel)",
   "language": "python",
   "name": "python3"
  },
  "language_info": {
   "codemirror_mode": {
    "name": "ipython",
    "version": 3
   },
   "file_extension": ".py",
   "mimetype": "text/x-python",
   "name": "python",
   "nbconvert_exporter": "python",
   "pygments_lexer": "ipython3",
   "version": "3.9.7"
  }
 },
 "nbformat": 4,
 "nbformat_minor": 5
}
