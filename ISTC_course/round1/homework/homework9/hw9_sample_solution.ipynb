{
 "cells": [
  {
   "cell_type": "code",
   "execution_count": 464,
   "metadata": {
    "collapsed": true
   },
   "outputs": [],
   "source": [
    "import numpy as np\n",
    "import matplotlib.pyplot as plt\n",
    "import pandas as pd\n",
    "from sklearn.model_selection import train_test_split\n",
    "from sklearn.metrics import accuracy_score"
   ]
  },
  {
   "cell_type": "markdown",
   "metadata": {},
   "source": [
    "## our model"
   ]
  },
  {
   "cell_type": "code",
   "execution_count": 465,
   "metadata": {
    "collapsed": true
   },
   "outputs": [],
   "source": [
    "class LogisticRegresion:\n",
    "    def __init__(self, alpha, lamda, epsilon, max_steps):\n",
    "        self.alpha=alpha\n",
    "        self.epsilon=epsilon\n",
    "        self.max_steps=max_steps\n",
    "        self.lamda=lamda\n",
    "        self.w = None\n",
    "        self.w0 = None\n",
    "        self.loss_history = []\n",
    "    \n",
    "    def train(self, data, T):\n",
    "        self.w=np.zeros(len(data[0]))\n",
    "        self.w0=0\n",
    "        \n",
    "        steps = 0\n",
    "        index = 0\n",
    "        while steps < self.max_steps:\n",
    "            grad_step = self.grad(self.predict_point(data[index], self.w, self.w0), T[index])\n",
    "\n",
    "            self.w=(1-self.lamda) * self.w - self.alpha * grad_step * (data[index])\n",
    "            self.w0=self.w0 - self.alpha*grad_step\n",
    "            \n",
    "            if steps%100 == 0:\n",
    "                l=np.mean([self.loss(self.predict_point(data[j], self.w, self.w0), T[j])\n",
    "                           for j in range(len(data))])\n",
    "                self.loss_history.append(l)\n",
    "            \n",
    "            index += 1\n",
    "            steps += 1\n",
    "            if index == len(data): index = 0\n",
    "            \n",
    "            # epsiloni havesy chunem\n",
    "            \n",
    "    def loss(self, predicted, real):\n",
    "        return -(real * np.log(predicted) + (1 - real) * np.log(1 - predicted))\n",
    "            \n",
    "    def grad(self, predicted, real):\n",
    "        return predicted - real\n",
    "    \n",
    "    def sigmoid(self, x):\n",
    "        return (1/(1 + np.exp(-x)))\n",
    "    \n",
    "    def predict_point(self, datum, w, w0):\n",
    "        return self.sigmoid(w.dot(datum) + w0)\n",
    "            \n",
    "    def predict(self,data, w, w0):\n",
    "        return [self.predict_point(datum, w, w0) for datum in data]"
   ]
  },
  {
   "cell_type": "markdown",
   "metadata": {},
   "source": [
    "## reading and parsing data"
   ]
  },
  {
   "cell_type": "code",
   "execution_count": 466,
   "metadata": {
    "collapsed": true
   },
   "outputs": [],
   "source": [
    "df_train = pd.read_csv('train.csv')\n",
    "df_features = df_train.iloc[:, 1:785]\n",
    "df_label = df_train.iloc[:, 0]"
   ]
  },
  {
   "cell_type": "code",
   "execution_count": 467,
   "metadata": {},
   "outputs": [
    {
     "data": {
      "text/plain": [
       "<matplotlib.image.AxesImage at 0x26a00b33e80>"
      ]
     },
     "execution_count": 467,
     "metadata": {},
     "output_type": "execute_result"
    },
    {
     "data": {
      "image/png": "[encoded data removed]",
      "text/plain": [
       "<Figure size 432x288 with 1 Axes>"
      ]
     },
     "metadata": {
      "needs_background": "light"
     },
     "output_type": "display_data"
    }
   ],
   "source": [
    "plt.imshow(np.array(df_features[56:57]).reshape(28,28),cmap=\"Greens\")"
   ]
  },
  {
   "cell_type": "code",
   "execution_count": 468,
   "metadata": {
    "collapsed": true
   },
   "outputs": [],
   "source": [
    "mask=[]\n",
    "for i in range(len(df_label)):\n",
    "    if (df_label[i]==9) or (df_label[i]==8):\n",
    "        mask.append(i)\n",
    "data_t_raw=df_label[mask]\n",
    "data_x_raw=df_features.iloc[mask]"
   ]
  },
  {
   "cell_type": "code",
   "execution_count": 469,
   "metadata": {
    "collapsed": true
   },
   "outputs": [],
   "source": [
    "data_x=[]\n",
    "for i in range(len(data_x_raw)):\n",
    "    data_x.append(np.array(data_x_raw.iloc[i]))"
   ]
  },
  {
   "cell_type": "code",
   "execution_count": 470,
   "metadata": {
    "collapsed": true
   },
   "outputs": [],
   "source": [
    "data_t=[]\n",
    "for datum in data_t_raw:\n",
    "    if datum==9:\n",
    "        data_t.append(1)\n",
    "    else:data_t.append(0)"
   ]
  },
  {
   "cell_type": "markdown",
   "metadata": {},
   "source": [
    "## train, validate, test split"
   ]
  },
  {
   "cell_type": "code",
   "execution_count": 471,
   "metadata": {
    "collapsed": true
   },
   "outputs": [],
   "source": [
    "traval_x,test_x,traval_t,test_t=train_test_split(data_x,data_t,\n",
    "                                train_size=0.75,\n",
    "                                test_size=0.25,\n",
    "                                random_state=34)\n",
    "train_x,valid_x,train_t,valid_t=train_test_split(traval_x,traval_t,\n",
    "                                                train_size=2/3,\n",
    "                                                test_size=1/3,\n",
    "                                                random_state=78)"
   ]
  },
  {
   "cell_type": "markdown",
   "metadata": {},
   "source": [
    "## model training"
   ]
  },
  {
   "cell_type": "code",
   "execution_count": 472,
   "metadata": {
    "collapsed": true
   },
   "outputs": [],
   "source": [
    "recognizer=LogisticRegresion(0.000001,0.01,1e-4,16000)"
   ]
  },
  {
   "cell_type": "code",
   "execution_count": 473,
   "metadata": {
    "collapsed": true,
    "scrolled": true
   },
   "outputs": [],
   "source": [
    "recognizer.train(train_x,train_t)\n"
   ]
  },
  {
   "cell_type": "code",
   "execution_count": 474,
   "metadata": {
    "collapsed": true
   },
   "outputs": [],
   "source": [
    "prediction = recognizer.predict(valid_x, recognizer.w, recognizer.w0)"
   ]
  },
  {
   "cell_type": "code",
   "execution_count": 475,
   "metadata": {
    "collapsed": true
   },
   "outputs": [],
   "source": [
    "predicted_c = []\n",
    "for p in prediction:\n",
    "    if p >=0.5:\n",
    "        predicted_c.append(1)\n",
    "    else:\n",
    "        predicted_c.append(0)"
   ]
  },
  {
   "cell_type": "code",
   "execution_count": 476,
   "metadata": {},
   "outputs": [
    {
     "data": {
      "text/plain": [
       "0.9428017450315075"
      ]
     },
     "execution_count": 476,
     "metadata": {},
     "output_type": "execute_result"
    }
   ],
   "source": [
    "accuracy_score(predicted_c,valid_t)"
   ]
  },
  {
   "cell_type": "code",
   "execution_count": 479,
   "metadata": {},
   "outputs": [
    {
     "data": {
      "text/plain": [
       "(0.00023085450307536574, 0.0009490466083733091)"
      ]
     },
     "execution_count": 479,
     "metadata": {},
     "output_type": "execute_result"
    }
   ],
   "source": [
    "recognizer.w0, max(np.abs(recognizer.w))"
   ]
  },
  {
   "cell_type": "code",
   "execution_count": 478,
   "metadata": {},
   "outputs": [
    {
     "data": {
      "text/plain": [
       "<matplotlib.legend.Legend at 0x26a00b7b550>"
      ]
     },
     "execution_count": 478,
     "metadata": {},
     "output_type": "execute_result"
    },
    {
     "data": {
      "image/png": "[encoded data removed]",
      "text/plain": [
       "<Figure size 432x288 with 1 Axes>"
      ]
     },
     "metadata": {
      "needs_background": "light"
     },
     "output_type": "display_data"
    }
   ],
   "source": [
    "plt.plot(recognizer.loss_history, label=\"loss each 100th step\")\n",
    "plt.legend()"
   ]
  }
 ],
 "metadata": {
  "anaconda-cloud": {},
  "kernelspec": {
   "display_name": "Python 3",
   "language": "python",
   "name": "python3"
  },
  "language_info": {
   "codemirror_mode": {
    "name": "ipython",
    "version": 3
   },
   "file_extension": ".py",
   "mimetype": "text/x-python",
   "name": "python",
   "nbconvert_exporter": "python",
   "pygments_lexer": "ipython3",
   "version": "3.7.3"
  }
 },
 "nbformat": 4,
 "nbformat_minor": 2
}
