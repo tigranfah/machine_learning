{
 "cells": [
  {
   "cell_type": "code",
   "execution_count": 2,
   "metadata": {},
   "outputs": [],
   "source": [
    "import numpy as np\n",
    "import pandas as pd\n",
    "import matplotlib.pyplot as plt\n",
    "\n",
    "from itertools import product\n",
    "from copy import deepcopy"
   ]
  },
  {
   "cell_type": "code",
   "execution_count": 3,
   "metadata": {},
   "outputs": [],
   "source": [
    "from sklearn.datasets import load_digits\n",
    "from sklearn.model_selection import train_test_split\n",
    "\n",
    "mnist = load_digits()\n",
    "X = mnist.data\n",
    "y = mnist.target"
   ]
  },
  {
   "cell_type": "code",
   "execution_count": 4,
   "metadata": {},
   "outputs": [
    {
     "data": {
      "text/plain": [
       "(array([ 0.,  0.,  5., 13.,  9.,  1.,  0.,  0.,  0.,  0., 13., 15., 10.,\n",
       "        15.,  5.,  0.,  0.,  3., 15.,  2.,  0., 11.,  8.,  0.,  0.,  4.,\n",
       "        12.,  0.,  0.,  8.,  8.,  0.,  0.,  5.,  8.,  0.,  0.,  9.,  8.,\n",
       "         0.,  0.,  4., 11.,  0.,  1., 12.,  7.,  0.,  0.,  2., 14.,  5.,\n",
       "        10., 12.,  0.,  0.,  0.,  0.,  6., 13., 10.,  0.,  0.,  0.]), (64,))"
      ]
     },
     "execution_count": 4,
     "metadata": {},
     "output_type": "execute_result"
    }
   ],
   "source": [
    "X[0], X[0].shape"
   ]
  },
  {
   "cell_type": "code",
   "execution_count": 5,
   "metadata": {
    "scrolled": true
   },
   "outputs": [
    {
     "data": {
      "image/png": "[encoded data removed]",
      "text/plain": [
       "<Figure size 432x288 with 1 Axes>"
      ]
     },
     "metadata": {
      "needs_background": "light"
     },
     "output_type": "display_data"
    }
   ],
   "source": [
    "plt.imshow(mnist.images[0], cmap='gray_r');"
   ]
  },
  {
   "cell_type": "code",
   "execution_count": 6,
   "metadata": {},
   "outputs": [],
   "source": [
    "class LogisticRegression:\n",
    "    \n",
    "    \"\"\"Logistic regression for classification.\"\"\"\n",
    "    \n",
    "    def __init__(self, l, w_shape=2):\n",
    "        rnd = np.random.RandomState(123)\n",
    "        self.l = l\n",
    "        \n",
    "        self.W = rnd.normal(0, 1, w_shape)\n",
    "        self.w0 = rnd.normal(0, 1, 1)\n",
    "        \n",
    "        # two lists for keeping track of \n",
    "        # all updated weights and biases\n",
    "        self.weights = []\n",
    "        self.biases = []\n",
    "        \n",
    "        self.errs = []\n",
    "        \n",
    "        self.steps_count = 0\n",
    "\n",
    "    def train(self, X, T, max_steps=3, n_similar_loss=20, similar_loss_value=0.2):\n",
    "        \n",
    "        self.max_steps = max_steps\n",
    "        self.n_similar_loss = n_similar_loss\n",
    "        self.similar_loss_value = similar_loss_value\n",
    "        \n",
    "        for step in range(max_steps):\n",
    "            self.steps_count += 1\n",
    "            if self.__iter_over_data(X, T, n_similar_loss, similar_loss_value): \n",
    "                break\n",
    "\n",
    "    def predict(self, x):\n",
    "        return self.__sigmoid(self.W.T.dot(x) + self.w0).round()[0]\n",
    "        \n",
    "    def predict_all(self, y_train):\n",
    "        return np.array([self.predict(y) for y in y_train])\n",
    "    \n",
    "    def score(self, y_train, y_test):\n",
    "        return np.sum((self.predict_all(y_train) == y_test)) / len(y_train)\n",
    "    \n",
    "    def __iter_over_data(self, X, T, n_similar_loss, similar_loss_value):\n",
    "        for x, t in zip(X, T):\n",
    "            pred = self.__sigmoid(self.W.T.dot(x) + self.w0)[0]\n",
    "            loss = self.__loss(pred, t)\n",
    "            \n",
    "            if len(self.errs) >= n_similar_loss:\n",
    "                past_loss_dif = np.array(self.errs[-n_similar_loss:]) - loss\n",
    "                if(np.all(past_loss_dif >= 0) \n",
    "                    and \n",
    "                   np.all(past_loss_dif < similar_loss_value)):\n",
    "                    return True\n",
    "            \n",
    "            self.errs.append(loss)\n",
    "            self.__grad(x, pred, t)\n",
    "    \n",
    "    def __loss(self, y, t):\n",
    "        return -(t * np.log(y) + (1 - t) * np.log(1 - y))\n",
    "    \n",
    "    def __sigmoid(self, x):\n",
    "        sigm_x = 1 / (1 + np.exp(-x))\n",
    "        rnd_num = np.random.uniform(000.1, 0.1)\n",
    "        if sigm_x == 1.0:\n",
    "            return sigm_x - rnd_num\n",
    "        elif sigm_x == 0.0:\n",
    "            return sigm_x + rnd_num\n",
    "        else:\n",
    "            return sigm_x\n",
    "    \n",
    "    def __grad(self, x, predict, target):\n",
    "        self.weights.append(self.W.copy())\n",
    "        self.biases.append(self.w0.copy())\n",
    "        self.w0 -= self.l * (predict - target)\n",
    "        self.W -= self.l * (predict - target) * x\n",
    "        \n",
    "    def hyperparams(self):\n",
    "        return dict(l=self.l,\n",
    "                max_steps=self.max_steps,\n",
    "                n_similar_loss=self.n_similar_loss,\n",
    "                similar_loss_value=self.similar_loss_value)"
   ]
  },
  {
   "cell_type": "code",
   "execution_count": 7,
   "metadata": {},
   "outputs": [],
   "source": [
    "def get_possible_combinations(param_grid):\n",
    "    \n",
    "    param_names = [key for params in param_grid for (key, _) in params.items()]\n",
    "    param_values = [value for params in param_grid for (_, value) in params.items()]\n",
    "\n",
    "    values = list(product(*param_values))\n",
    "    params = [param_names for _ in range(len(values))]\n",
    "\n",
    "    possible_params = []\n",
    "\n",
    "    for param in zip(params, values):\n",
    "        param_dict = {}\n",
    "        for name, value in zip(*param):\n",
    "            param_dict[name] = value\n",
    "        possible_params.append(param_dict)\n",
    "    return possible_params"
   ]
  },
  {
   "cell_type": "code",
   "execution_count": 8,
   "metadata": {},
   "outputs": [],
   "source": [
    "def find_best_model(model, X, y, hyper_param_list, folds=5):\n",
    "    models_and_scores = []\n",
    "    fold_size = len(X) // folds\n",
    "    \n",
    "    # cross validation\n",
    "    for fold in range(folds):\n",
    "        mask = np.ones(len(X), dtype=bool)\n",
    "        mask[fold_size * fold: fold_size * (fold + 1)] = False\n",
    "        \n",
    "        X_train_, y_train_, X_test_, y_test_ = X[mask], X[~mask], y[mask], y[~mask]\n",
    "        \n",
    "        models = []\n",
    "        for i in range(len(hyper_param_list)):\n",
    "            mode = deepcopy(model)\n",
    "            mode.train(X_train_, X_test_, **hyper_param_list[i])\n",
    "            models.append(mode)\n",
    "        \n",
    "        models_and_scores.extend([\n",
    "            (model, model.score(y_train_, y_test_))\n",
    "            for model in models\n",
    "        ])\n",
    "    best_model_index = np.argmax(np.array(models_and_scores)[:, 1])\n",
    "    return models_and_scores[best_model_index]"
   ]
  },
  {
   "cell_type": "code",
   "execution_count": 9,
   "metadata": {},
   "outputs": [],
   "source": [
    "def choose_numbers(dig1, dig2):\n",
    "    c0 = X[np.where(y == dig1)]\n",
    "    c1 = X[np.where(y == dig2)]\n",
    "\n",
    "    l0 = np.zeros(len(y[np.where(y == dig1)]))\n",
    "    l1 = np.ones(len(y[np.where(y == dig2)]))\n",
    "    \n",
    "    data = np.concatenate((c0, c1))\n",
    "    labels = np.concatenate((l0, l1))\n",
    "    \n",
    "    return data, labels\n",
    "\n",
    "data, labels = choose_numbers(0, 1)"
   ]
  },
  {
   "cell_type": "code",
   "execution_count": 10,
   "metadata": {},
   "outputs": [],
   "source": [
    "from sklearn.model_selection import train_test_split\n",
    "\n",
    "X_train, y_train, X_test, y_test = train_test_split(\n",
    "                                            data, \n",
    "                                            labels, \n",
    "                                            test_size=0.3, \n",
    "                                            random_state=12)"
   ]
  },
  {
   "cell_type": "code",
   "execution_count": 11,
   "metadata": {},
   "outputs": [
    {
     "data": {
      "text/plain": [
       "[{'n_similar_loss': 3, 'similar_loss_value': 0.2},\n",
       " {'n_similar_loss': 3, 'similar_loss_value': 0.4},\n",
       " {'n_similar_loss': 3, 'similar_loss_value': 0.6},\n",
       " {'n_similar_loss': 3, 'similar_loss_value': 0.9},\n",
       " {'n_similar_loss': 3, 'similar_loss_value': 1.3}]"
      ]
     },
     "execution_count": 11,
     "metadata": {},
     "output_type": "execute_result"
    }
   ],
   "source": [
    "param_grid = [{'n_similar_loss': [3, 5, 15, 20, 30], 'similar_loss_value': [0.2, 0.4, 0.6, 0.9, 1.3]}]\n",
    "\n",
    "hyper_params = get_possible_combinations(param_grid)\n",
    "hyper_params[:5]"
   ]
  },
  {
   "cell_type": "code",
   "execution_count": 12,
   "metadata": {},
   "outputs": [
    {
     "data": {
      "text/plain": [
       "(<__main__.LogisticRegression at 0x1a17c274a8>, 1.0)"
      ]
     },
     "execution_count": 12,
     "metadata": {},
     "output_type": "execute_result"
    }
   ],
   "source": [
    "best_model, best_score = find_best_model(\n",
    "                            LogisticRegression(l=0.2, w_shape=X_train.shape[1]), \n",
    "                            X_train, \n",
    "                            X_test, \n",
    "                            hyper_params)\n",
    "best_model, best_score"
   ]
  },
  {
   "cell_type": "code",
   "execution_count": 16,
   "metadata": {},
   "outputs": [
    {
     "data": {
      "text/plain": [
       "{'l': 0.2, 'max_steps': 3, 'n_similar_loss': 3, 'similar_loss_value': 0.2}"
      ]
     },
     "execution_count": 16,
     "metadata": {},
     "output_type": "execute_result"
    }
   ],
   "source": [
    "# best hyperparams\n",
    "best_model.hyperparams()"
   ]
  },
  {
   "cell_type": "code",
   "execution_count": 517,
   "metadata": {},
   "outputs": [
    {
     "name": "stdout",
     "output_type": "stream",
     "text": [
      "Best model accuracy score on test data: 1.0\n"
     ]
    }
   ],
   "source": [
    "print('Best model accuracy score on test data:', best_model.score(y_train, y_test))"
   ]
  },
  {
   "cell_type": "code",
   "execution_count": 518,
   "metadata": {},
   "outputs": [
    {
     "name": "stdout",
     "output_type": "stream",
     "text": [
      "Pred : 1.0, Target : 1.0\n",
      "Pred : 1.0, Target : 1.0\n",
      "Pred : 0.0, Target : 0.0\n",
      "Pred : 1.0, Target : 1.0\n",
      "Pred : 0.0, Target : 0.0\n",
      "Pred : 1.0, Target : 1.0\n",
      "Pred : 1.0, Target : 1.0\n",
      "Pred : 0.0, Target : 0.0\n",
      "Pred : 0.0, Target : 0.0\n",
      "Pred : 1.0, Target : 1.0\n"
     ]
    }
   ],
   "source": [
    "# quick test\n",
    "random_indexes = np.random.randint(len(y_train), size=10)\n",
    "for y, t in zip(np.array(y_train)[random_indexes], np.array(y_test)[random_indexes]):\n",
    "    pred = best_model.predict(y)\n",
    "    print(f'Pred : {pred}, Target : {t}')"
   ]
  },
  {
   "cell_type": "code",
   "execution_count": 519,
   "metadata": {},
   "outputs": [],
   "source": [
    "# for other numbers\n",
    "\n",
    "X = mnist.data\n",
    "y = mnist.target\n",
    "\n",
    "data, labels = choose_numbers(4, 9)\n",
    "\n",
    "X_train, y_train, X_test, y_test = train_test_split(\n",
    "                                            data, \n",
    "                                            labels, \n",
    "                                            test_size=0.3, \n",
    "                                            random_state=12)"
   ]
  },
  {
   "cell_type": "code",
   "execution_count": 520,
   "metadata": {},
   "outputs": [
    {
     "data": {
      "text/plain": [
       "(<__main__.LogisticRegression at 0x7f40acbf9da0>, 1.0)"
      ]
     },
     "execution_count": 520,
     "metadata": {},
     "output_type": "execute_result"
    }
   ],
   "source": [
    "param_grid = [{'n_similar_loss': [3, 5, 15, 20, 30], 'similar_loss_value': [0.2, 0.4, 0.6, 0.9, 1.3]}]\n",
    "\n",
    "hyper_params = get_possible_combinations(param_grid)\n",
    "\n",
    "best_model, best_score = find_best_model(\n",
    "                            LogisticRegression(l=0.2, w_shape=X_train.shape[1]), \n",
    "                            X_train, \n",
    "                            X_test, \n",
    "                            hyper_params)\n",
    "\n",
    "best_model, best_score"
   ]
  },
  {
   "cell_type": "code",
   "execution_count": 521,
   "metadata": {},
   "outputs": [
    {
     "data": {
      "text/plain": [
       "{'l': 0.2, 'max_steps': 3, 'n_similar_loss': 30, 'similar_loss_value': 0.2}"
      ]
     },
     "execution_count": 521,
     "metadata": {},
     "output_type": "execute_result"
    }
   ],
   "source": [
    "best_model.hyperparams()"
   ]
  },
  {
   "cell_type": "code",
   "execution_count": 522,
   "metadata": {},
   "outputs": [
    {
     "name": "stdout",
     "output_type": "stream",
     "text": [
      "Best model accuracy score on test data: 0.9908256880733946\n"
     ]
    }
   ],
   "source": [
    "print('Best model accuracy score on test data:', best_model.score(y_train, y_test))"
   ]
  },
  {
   "cell_type": "code",
   "execution_count": null,
   "metadata": {},
   "outputs": [],
   "source": []
  }
 ],
 "metadata": {
  "kernelspec": {
   "display_name": "Python 3",
   "language": "python",
   "name": "python3"
  },
  "language_info": {
   "codemirror_mode": {
    "name": "ipython",
    "version": 3
   },
   "file_extension": ".py",
   "mimetype": "text/x-python",
   "name": "python",
   "nbconvert_exporter": "python",
   "pygments_lexer": "ipython3",
   "version": "3.7.3"
  }
 },
 "nbformat": 4,
 "nbformat_minor": 2
}
