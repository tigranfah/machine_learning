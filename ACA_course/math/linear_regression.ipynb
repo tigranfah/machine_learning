{
 "cells": [
  {
   "cell_type": "code",
   "execution_count": 1,
   "id": "22563c14",
   "metadata": {},
   "outputs": [],
   "source": [
    "import matplotlib.pyplot as plt\n",
    "import numpy as np"
   ]
  },
  {
   "cell_type": "code",
   "execution_count": 38,
   "id": "cb030dfb",
   "metadata": {},
   "outputs": [],
   "source": [
    "X = np.array([2, 5, 10, 11, 15, 18])\n",
    "Y = np.array([13, 26, 55, 60, 74, 96])"
   ]
  },
  {
   "cell_type": "code",
   "execution_count": 39,
   "id": "e2f797ae",
   "metadata": {},
   "outputs": [
    {
     "name": "stdout",
     "output_type": "stream",
     "text": [
      "[13 26 55 60 74 96]\n",
      "[ 2  5 10 11 15 18]\n"
     ]
    }
   ],
   "source": [
    "print(Y)\n",
    "print(X)"
   ]
  },
  {
   "cell_type": "code",
   "execution_count": 40,
   "id": "56501e2c",
   "metadata": {},
   "outputs": [],
   "source": [
    "x_mean = X.mean()\n",
    "y_mean = Y.mean()\n",
    "N = len(X)"
   ]
  },
  {
   "cell_type": "code",
   "execution_count": 41,
   "id": "29f5e8db",
   "metadata": {},
   "outputs": [
    {
     "data": {
      "text/plain": [
       "61"
      ]
     },
     "execution_count": 41,
     "metadata": {},
     "output_type": "execute_result"
    }
   ],
   "source": [
    "np.sum(X)"
   ]
  },
  {
   "cell_type": "code",
   "execution_count": 42,
   "id": "2c087425",
   "metadata": {},
   "outputs": [
    {
     "data": {
      "text/plain": [
       "5.088536812674744"
      ]
     },
     "execution_count": 42,
     "metadata": {},
     "output_type": "execute_result"
    }
   ],
   "source": [
    "k = np.sum((X - x_mean)*(Y - y_mean)) / np.sum((X - x_mean)**2)\n",
    "k"
   ]
  },
  {
   "cell_type": "code",
   "execution_count": 43,
   "id": "4b9687f4",
   "metadata": {},
   "outputs": [
    {
     "data": {
      "text/plain": [
       "5.088536812674744"
      ]
     },
     "execution_count": 43,
     "metadata": {},
     "output_type": "execute_result"
    }
   ],
   "source": [
    "k = (N * np.sum(X*Y) - np.sum(X) * np.sum(Y)) / (N * np.sum(X**2) - np.sum(X)**2)\n",
    "k"
   ]
  },
  {
   "cell_type": "code",
   "execution_count": 44,
   "id": "a85352a0",
   "metadata": {},
   "outputs": [
    {
     "data": {
      "text/plain": [
       "2.266542404473436"
      ]
     },
     "execution_count": 44,
     "metadata": {},
     "output_type": "execute_result"
    }
   ],
   "source": [
    "b = (np.sum(Y) - k * np.sum(X)) / N\n",
    "b"
   ]
  },
  {
   "cell_type": "code",
   "execution_count": 48,
   "id": "193942fd",
   "metadata": {},
   "outputs": [
    {
     "data": {
      "text/plain": [
       "12.443616029822923"
      ]
     },
     "execution_count": 48,
     "metadata": {},
     "output_type": "execute_result"
    }
   ],
   "source": [
    "def predict(x):\n",
    "    return k * x + b\n",
    "\n",
    "predict(X[0])"
   ]
  },
  {
   "cell_type": "code",
   "execution_count": 50,
   "id": "8d31eeb8",
   "metadata": {},
   "outputs": [
    {
     "data": {
      "text/plain": [
       "[<matplotlib.lines.Line2D at 0x1384ea8e0>]"
      ]
     },
     "execution_count": 50,
     "metadata": {},
     "output_type": "execute_result"
    },
    {
     "data": {
      "image/png": "[encoded data removed]",
      "text/plain": [
       "<Figure size 432x288 with 1 Axes>"
      ]
     },
     "metadata": {
      "needs_background": "light"
     },
     "output_type": "display_data"
    }
   ],
   "source": [
    "plt.scatter(X, Y, color=\"orange\")\n",
    "plt.plot(X, [predict(x) for x in X])"
   ]
  },
  {
   "cell_type": "code",
   "execution_count": null,
   "id": "89a5aa3d",
   "metadata": {},
   "outputs": [],
   "source": []
  }
 ],
 "metadata": {
  "kernelspec": {
   "display_name": "Python 3 (ipykernel)",
   "language": "python",
   "name": "python3"
  },
  "language_info": {
   "codemirror_mode": {
    "name": "ipython",
    "version": 3
   },
   "file_extension": ".py",
   "mimetype": "text/x-python",
   "name": "python",
   "nbconvert_exporter": "python",
   "pygments_lexer": "ipython3",
   "version": "3.9.7"
  }
 },
 "nbformat": 4,
 "nbformat_minor": 5
}
