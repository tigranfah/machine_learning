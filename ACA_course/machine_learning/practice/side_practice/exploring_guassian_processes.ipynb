{
 "cells": [
  {
   "cell_type": "code",
   "execution_count": 1,
   "id": "3d29ac2d",
   "metadata": {},
   "outputs": [],
   "source": [
    "import numpy as np\n",
    "import scipy.stats as stats\n",
    "import matplotlib.pyplot as plt\n",
    "import pandas as pd\n",
    "\n",
    "from sklearn import datasets"
   ]
  },
  {
   "cell_type": "code",
   "execution_count": 2,
   "id": "af7a26d8",
   "metadata": {},
   "outputs": [],
   "source": [
    "def plot2d(cov):\n",
    "    x = np.random.multivariate_normal(mean, cov, 10000)\n",
    "    density = stats.multivariate_normal.pdf(x, mean=mean, cov=cov, allow_singular=True)\n",
    "    \n",
    "    color_count = 8\n",
    "    density_ranges = np.linspace(density.min(), density.max(), color_count+1)\n",
    "    \n",
    "    density_colors = np.array(list(map(lambda x : determine_color(x), density)))\n",
    "    \n",
    "    fig = plt.figure(figsize=(6, 6))\n",
    "    ax = fig.add_subplot()\n",
    "\n",
    "    ax.scatter(x[:, 0], x[:, 1], c=density_colors)\n",
    "\n",
    "    plt.show()\n",
    "    \n",
    "    \n",
    "def plot3d(cov):\n",
    "    x = np.random.multivariate_normal(mean, cov, 10000)\n",
    "    density = stats.multivariate_normal.pdf(x, mean=mean, cov=cov, allow_singular=True)\n",
    "    \n",
    "    color_count = 8\n",
    "    density_ranges = np.linspace(density.min(), density.max(), color_count+1)\n",
    "    \n",
    "    density_colors = np.array(list(map(lambda x : determine_color(x), density)))\n",
    "    \n",
    "    fig = plt.figure(figsize=(6, 6))\n",
    "    ax = fig.add_subplot(projection=\"3d\")\n",
    "\n",
    "    ax.scatter(x[:, 0], x[:, 1], density, c=density_colors)\n",
    "\n",
    "    plt.show()"
   ]
  },
  {
   "cell_type": "code",
   "execution_count": null,
   "id": "d97dbec6",
   "metadata": {},
   "outputs": [],
   "source": []
  }
 ],
 "metadata": {
  "kernelspec": {
   "display_name": "Python 3 (ipykernel)",
   "language": "python",
   "name": "python3"
  },
  "language_info": {
   "codemirror_mode": {
    "name": "ipython",
    "version": 3
   },
   "file_extension": ".py",
   "mimetype": "text/x-python",
   "name": "python",
   "nbconvert_exporter": "python",
   "pygments_lexer": "ipython3",
   "version": "3.9.9"
  }
 },
 "nbformat": 4,
 "nbformat_minor": 5
}
