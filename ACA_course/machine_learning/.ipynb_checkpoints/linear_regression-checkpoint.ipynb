{
 "cells": [
  {
   "cell_type": "code",
   "execution_count": 1,
   "id": "a6c045e5",
   "metadata": {},
   "outputs": [],
   "source": [
    "import numpy as np\n",
    "import pandas as pd\n",
    "import matplotlib.pyplot as plt"
   ]
  },
  {
   "cell_type": "code",
   "execution_count": null,
   "id": "4571372e",
   "metadata": {},
   "outputs": [],
   "source": [
    "b_1 = None\n",
    "b_0 = None\n",
    "\n",
    "def fit_univariate_regression(X, Y):\n",
    "    b_1 = np.sum((X - X.mean()) * (Y - Y.mean())) / np.sum((X - X.mean())**2)\n",
    "    b_0 = \n",
    "    \n",
    "    \n",
    "    \n",
    "def rss(y_pred, y):\n",
    "    return y_pred - y"
   ]
  }
 ],
 "metadata": {
  "kernelspec": {
   "display_name": "Python 3 (ipykernel)",
   "language": "python",
   "name": "python3"
  },
  "language_info": {
   "codemirror_mode": {
    "name": "ipython",
    "version": 3
   },
   "file_extension": ".py",
   "mimetype": "text/x-python",
   "name": "python",
   "nbconvert_exporter": "python",
   "pygments_lexer": "ipython3",
   "version": "3.9.7"
  }
 },
 "nbformat": 4,
 "nbformat_minor": 5
}
