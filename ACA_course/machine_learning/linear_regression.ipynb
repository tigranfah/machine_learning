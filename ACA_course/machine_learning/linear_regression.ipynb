{
 "cells": [
  {
   "cell_type": "code",
   "execution_count": 307,
   "id": "8544b3c9",
   "metadata": {},
   "outputs": [],
   "source": [
    "import numpy as np\n",
    "import pandas as pd\n",
    "import matplotlib.pyplot as plt\n",
    "\n",
    "from sklearn.model_selection import train_test_split\n",
    "\n",
    "import os\n",
    "import math"
   ]
  },
  {
   "cell_type": "markdown",
   "id": "01d23574",
   "metadata": {},
   "source": [
    "**Let's get ourseves a sample dataset.**"
   ]
  },
  {
   "cell_type": "code",
   "execution_count": 240,
   "id": "a872d2ce",
   "metadata": {},
   "outputs": [],
   "source": [
    "housing = pd.read_csv(os.path.join(\"datasets\", \"housing.csv\"))"
   ]
  },
  {
   "cell_type": "markdown",
   "id": "4f5e46a9",
   "metadata": {},
   "source": [
    "Let's take a few features."
   ]
  },
  {
   "cell_type": "code",
   "execution_count": 241,
   "id": "493a289b",
   "metadata": {},
   "outputs": [
    {
     "data": {
      "text/html": [
       "<div>\n",
       "<style scoped>\n",
       "    .dataframe tbody tr th:only-of-type {\n",
       "        vertical-align: middle;\n",
       "    }\n",
       "\n",
       "    .dataframe tbody tr th {\n",
       "        vertical-align: top;\n",
       "    }\n",
       "\n",
       "    .dataframe thead th {\n",
       "        text-align: right;\n",
       "    }\n",
       "</style>\n",
       "<table border=\"1\" class=\"dataframe\">\n",
       "  <thead>\n",
       "    <tr style=\"text-align: right;\">\n",
       "      <th></th>\n",
       "      <th>longitude</th>\n",
       "      <th>latitude</th>\n",
       "      <th>housing_median_age</th>\n",
       "      <th>total_rooms</th>\n",
       "      <th>total_bedrooms</th>\n",
       "      <th>population</th>\n",
       "      <th>households</th>\n",
       "      <th>median_income</th>\n",
       "      <th>median_house_value</th>\n",
       "      <th>ocean_proximity</th>\n",
       "    </tr>\n",
       "  </thead>\n",
       "  <tbody>\n",
       "    <tr>\n",
       "      <th>0</th>\n",
       "      <td>-122.23</td>\n",
       "      <td>37.88</td>\n",
       "      <td>41.0</td>\n",
       "      <td>880.0</td>\n",
       "      <td>129.0</td>\n",
       "      <td>322.0</td>\n",
       "      <td>126.0</td>\n",
       "      <td>8.3252</td>\n",
       "      <td>452600.0</td>\n",
       "      <td>NEAR BAY</td>\n",
       "    </tr>\n",
       "    <tr>\n",
       "      <th>1</th>\n",
       "      <td>-122.22</td>\n",
       "      <td>37.86</td>\n",
       "      <td>21.0</td>\n",
       "      <td>7099.0</td>\n",
       "      <td>1106.0</td>\n",
       "      <td>2401.0</td>\n",
       "      <td>1138.0</td>\n",
       "      <td>8.3014</td>\n",
       "      <td>358500.0</td>\n",
       "      <td>NEAR BAY</td>\n",
       "    </tr>\n",
       "    <tr>\n",
       "      <th>2</th>\n",
       "      <td>-122.24</td>\n",
       "      <td>37.85</td>\n",
       "      <td>52.0</td>\n",
       "      <td>1467.0</td>\n",
       "      <td>190.0</td>\n",
       "      <td>496.0</td>\n",
       "      <td>177.0</td>\n",
       "      <td>7.2574</td>\n",
       "      <td>352100.0</td>\n",
       "      <td>NEAR BAY</td>\n",
       "    </tr>\n",
       "    <tr>\n",
       "      <th>3</th>\n",
       "      <td>-122.25</td>\n",
       "      <td>37.85</td>\n",
       "      <td>52.0</td>\n",
       "      <td>1274.0</td>\n",
       "      <td>235.0</td>\n",
       "      <td>558.0</td>\n",
       "      <td>219.0</td>\n",
       "      <td>5.6431</td>\n",
       "      <td>341300.0</td>\n",
       "      <td>NEAR BAY</td>\n",
       "    </tr>\n",
       "    <tr>\n",
       "      <th>4</th>\n",
       "      <td>-122.25</td>\n",
       "      <td>37.85</td>\n",
       "      <td>52.0</td>\n",
       "      <td>1627.0</td>\n",
       "      <td>280.0</td>\n",
       "      <td>565.0</td>\n",
       "      <td>259.0</td>\n",
       "      <td>3.8462</td>\n",
       "      <td>342200.0</td>\n",
       "      <td>NEAR BAY</td>\n",
       "    </tr>\n",
       "  </tbody>\n",
       "</table>\n",
       "</div>"
      ],
      "text/plain": [
       "   longitude  latitude  housing_median_age  total_rooms  total_bedrooms  \\\n",
       "0    -122.23     37.88                41.0        880.0           129.0   \n",
       "1    -122.22     37.86                21.0       7099.0          1106.0   \n",
       "2    -122.24     37.85                52.0       1467.0           190.0   \n",
       "3    -122.25     37.85                52.0       1274.0           235.0   \n",
       "4    -122.25     37.85                52.0       1627.0           280.0   \n",
       "\n",
       "   population  households  median_income  median_house_value ocean_proximity  \n",
       "0       322.0       126.0         8.3252            452600.0        NEAR BAY  \n",
       "1      2401.0      1138.0         8.3014            358500.0        NEAR BAY  \n",
       "2       496.0       177.0         7.2574            352100.0        NEAR BAY  \n",
       "3       558.0       219.0         5.6431            341300.0        NEAR BAY  \n",
       "4       565.0       259.0         3.8462            342200.0        NEAR BAY  "
      ]
     },
     "execution_count": 241,
     "metadata": {},
     "output_type": "execute_result"
    }
   ],
   "source": [
    "housing.head()"
   ]
  },
  {
   "cell_type": "code",
   "execution_count": 869,
   "id": "f533de22",
   "metadata": {},
   "outputs": [],
   "source": [
    "dataset = housing.copy()\n",
    "dataset = dataset.iloc[np.random.permutation(len(dataset))[:300]]"
   ]
  },
  {
   "cell_type": "code",
   "execution_count": 870,
   "id": "984e2074",
   "metadata": {},
   "outputs": [
    {
     "data": {
      "text/html": [
       "<div>\n",
       "<style scoped>\n",
       "    .dataframe tbody tr th:only-of-type {\n",
       "        vertical-align: middle;\n",
       "    }\n",
       "\n",
       "    .dataframe tbody tr th {\n",
       "        vertical-align: top;\n",
       "    }\n",
       "\n",
       "    .dataframe thead th {\n",
       "        text-align: right;\n",
       "    }\n",
       "</style>\n",
       "<table border=\"1\" class=\"dataframe\">\n",
       "  <thead>\n",
       "    <tr style=\"text-align: right;\">\n",
       "      <th></th>\n",
       "      <th>longitude</th>\n",
       "      <th>latitude</th>\n",
       "      <th>housing_median_age</th>\n",
       "      <th>total_rooms</th>\n",
       "      <th>total_bedrooms</th>\n",
       "      <th>population</th>\n",
       "      <th>households</th>\n",
       "      <th>median_income</th>\n",
       "      <th>median_house_value</th>\n",
       "      <th>ocean_proximity</th>\n",
       "    </tr>\n",
       "  </thead>\n",
       "  <tbody>\n",
       "    <tr>\n",
       "      <th>4514</th>\n",
       "      <td>-118.20</td>\n",
       "      <td>34.04</td>\n",
       "      <td>52.0</td>\n",
       "      <td>1249.0</td>\n",
       "      <td>307.0</td>\n",
       "      <td>1223.0</td>\n",
       "      <td>297.0</td>\n",
       "      <td>2.0700</td>\n",
       "      <td>136300.0</td>\n",
       "      <td>&lt;1H OCEAN</td>\n",
       "    </tr>\n",
       "    <tr>\n",
       "      <th>9962</th>\n",
       "      <td>-122.23</td>\n",
       "      <td>38.33</td>\n",
       "      <td>31.0</td>\n",
       "      <td>3440.0</td>\n",
       "      <td>574.0</td>\n",
       "      <td>1538.0</td>\n",
       "      <td>537.0</td>\n",
       "      <td>5.5368</td>\n",
       "      <td>325900.0</td>\n",
       "      <td>NEAR BAY</td>\n",
       "    </tr>\n",
       "    <tr>\n",
       "      <th>13905</th>\n",
       "      <td>-116.44</td>\n",
       "      <td>34.12</td>\n",
       "      <td>18.0</td>\n",
       "      <td>5584.0</td>\n",
       "      <td>1303.0</td>\n",
       "      <td>2250.0</td>\n",
       "      <td>1158.0</td>\n",
       "      <td>1.5823</td>\n",
       "      <td>72400.0</td>\n",
       "      <td>INLAND</td>\n",
       "    </tr>\n",
       "    <tr>\n",
       "      <th>1721</th>\n",
       "      <td>-122.39</td>\n",
       "      <td>38.00</td>\n",
       "      <td>33.0</td>\n",
       "      <td>44.0</td>\n",
       "      <td>6.0</td>\n",
       "      <td>23.0</td>\n",
       "      <td>11.0</td>\n",
       "      <td>4.1250</td>\n",
       "      <td>212500.0</td>\n",
       "      <td>NEAR BAY</td>\n",
       "    </tr>\n",
       "    <tr>\n",
       "      <th>5958</th>\n",
       "      <td>-117.82</td>\n",
       "      <td>34.12</td>\n",
       "      <td>26.0</td>\n",
       "      <td>3118.0</td>\n",
       "      <td>528.0</td>\n",
       "      <td>1546.0</td>\n",
       "      <td>545.0</td>\n",
       "      <td>5.2700</td>\n",
       "      <td>209400.0</td>\n",
       "      <td>INLAND</td>\n",
       "    </tr>\n",
       "  </tbody>\n",
       "</table>\n",
       "</div>"
      ],
      "text/plain": [
       "       longitude  latitude  housing_median_age  total_rooms  total_bedrooms  \\\n",
       "4514     -118.20     34.04                52.0       1249.0           307.0   \n",
       "9962     -122.23     38.33                31.0       3440.0           574.0   \n",
       "13905    -116.44     34.12                18.0       5584.0          1303.0   \n",
       "1721     -122.39     38.00                33.0         44.0             6.0   \n",
       "5958     -117.82     34.12                26.0       3118.0           528.0   \n",
       "\n",
       "       population  households  median_income  median_house_value  \\\n",
       "4514       1223.0       297.0         2.0700            136300.0   \n",
       "9962       1538.0       537.0         5.5368            325900.0   \n",
       "13905      2250.0      1158.0         1.5823             72400.0   \n",
       "1721         23.0        11.0         4.1250            212500.0   \n",
       "5958       1546.0       545.0         5.2700            209400.0   \n",
       "\n",
       "      ocean_proximity  \n",
       "4514        <1H OCEAN  \n",
       "9962         NEAR BAY  \n",
       "13905          INLAND  \n",
       "1721         NEAR BAY  \n",
       "5958           INLAND  "
      ]
     },
     "execution_count": 870,
     "metadata": {},
     "output_type": "execute_result"
    }
   ],
   "source": [
    "dataset.head()"
   ]
  },
  {
   "cell_type": "code",
   "execution_count": 871,
   "id": "96d43b83",
   "metadata": {},
   "outputs": [],
   "source": [
    "y_target = dataset.pop(\"median_house_value\")"
   ]
  },
  {
   "cell_type": "code",
   "execution_count": 872,
   "id": "fd295b3b",
   "metadata": {},
   "outputs": [
    {
     "data": {
      "text/plain": [
       "<matplotlib.collections.PathCollection at 0x1423e3b50>"
      ]
     },
     "execution_count": 872,
     "metadata": {},
     "output_type": "execute_result"
    },
    {
     "data": {
      "image/png": "[encoded data removed]",
      "text/plain": [
       "<Figure size 432x288 with 1 Axes>"
      ]
     },
     "metadata": {
      "needs_background": "light"
     },
     "output_type": "display_data"
    }
   ],
   "source": [
    "plt.scatter(dataset[\"households\"], y_target)"
   ]
  },
  {
   "cell_type": "code",
   "execution_count": 873,
   "id": "c87f870b",
   "metadata": {},
   "outputs": [
    {
     "data": {
      "text/plain": [
       "Text(0, 0.5, 'median_house_value')"
      ]
     },
     "execution_count": 873,
     "metadata": {},
     "output_type": "execute_result"
    },
    {
     "data": {
      "image/png": "[encoded data removed]",
      "text/plain": [
       "<Figure size 432x288 with 1 Axes>"
      ]
     },
     "metadata": {
      "needs_background": "light"
     },
     "output_type": "display_data"
    }
   ],
   "source": [
    "plt.scatter(dataset[\"median_income\"], y_target)\n",
    "plt.xlabel(\"median_income\")\n",
    "plt.ylabel(\"median_house_value\")"
   ]
  },
  {
   "cell_type": "markdown",
   "id": "463c652c",
   "metadata": {},
   "source": [
    "We can see that does not hold the properties of independent and identically distributed (IID)."
   ]
  },
  {
   "cell_type": "code",
   "execution_count": 874,
   "id": "78c5bde8",
   "metadata": {},
   "outputs": [
    {
     "name": "stdout",
     "output_type": "stream",
     "text": [
      "<1H OCEAN has 136\n",
      "INLAND has 101\n",
      "NEAR BAY has 30\n",
      "NEAR OCEAN has 33\n"
     ]
    }
   ],
   "source": [
    "# we see that there are 5 categories of ocean_proximity with their counts respectively.\n",
    "\n",
    "unique_op, counts = np.unique(dataset[\"ocean_proximity\"], return_counts=True)\n",
    "for op, c in zip(unique_op, counts):\n",
    "    print(op, \"has\", c)"
   ]
  },
  {
   "cell_type": "code",
   "execution_count": 875,
   "id": "63649d49",
   "metadata": {},
   "outputs": [
    {
     "name": "stderr",
     "output_type": "stream",
     "text": [
      "/usr/local/lib/python3.9/site-packages/pandas/core/indexing.py:1732: SettingWithCopyWarning: \n",
      "A value is trying to be set on a copy of a slice from a DataFrame\n",
      "\n",
      "See the caveats in the documentation: https://pandas.pydata.org/pandas-docs/stable/user_guide/indexing.html#returning-a-view-versus-a-copy\n",
      "  self._setitem_single_block(indexer, value, name)\n"
     ]
    }
   ],
   "source": [
    "# one hot encoding\n",
    "\n",
    "for op in unique_op:\n",
    "    dataset[op] = np.zeros(len(dataset))\n",
    "    w_t = np.where(dataset[\"ocean_proximity\"] == op)[0]\n",
    "    dataset[op].iloc[w_t] = 1"
   ]
  },
  {
   "cell_type": "code",
   "execution_count": 876,
   "id": "dc2a9b54",
   "metadata": {},
   "outputs": [
    {
     "name": "stdout",
     "output_type": "stream",
     "text": [
      "<1H OCEAN has 136.0\n",
      "INLAND has 101.0\n",
      "NEAR BAY has 30.0\n",
      "NEAR OCEAN has 33.0\n"
     ]
    }
   ],
   "source": [
    "# check one hot encoding\n",
    "for op in unique_op:\n",
    "    print(op, \"has\", dataset[op].sum())"
   ]
  },
  {
   "cell_type": "code",
   "execution_count": 1421,
   "id": "308026f1",
   "metadata": {},
   "outputs": [
    {
     "data": {
      "text/html": [
       "<div>\n",
       "<style scoped>\n",
       "    .dataframe tbody tr th:only-of-type {\n",
       "        vertical-align: middle;\n",
       "    }\n",
       "\n",
       "    .dataframe tbody tr th {\n",
       "        vertical-align: top;\n",
       "    }\n",
       "\n",
       "    .dataframe thead th {\n",
       "        text-align: right;\n",
       "    }\n",
       "</style>\n",
       "<table border=\"1\" class=\"dataframe\">\n",
       "  <thead>\n",
       "    <tr style=\"text-align: right;\">\n",
       "      <th></th>\n",
       "      <th>longitude</th>\n",
       "      <th>latitude</th>\n",
       "      <th>housing_median_age</th>\n",
       "      <th>total_rooms</th>\n",
       "      <th>total_bedrooms</th>\n",
       "      <th>population</th>\n",
       "      <th>households</th>\n",
       "      <th>median_income</th>\n",
       "      <th>ocean_proximity</th>\n",
       "      <th>&lt;1H OCEAN</th>\n",
       "      <th>INLAND</th>\n",
       "      <th>NEAR BAY</th>\n",
       "      <th>NEAR OCEAN</th>\n",
       "    </tr>\n",
       "  </thead>\n",
       "  <tbody>\n",
       "    <tr>\n",
       "      <th>4514</th>\n",
       "      <td>-118.20</td>\n",
       "      <td>34.04</td>\n",
       "      <td>52.0</td>\n",
       "      <td>1249.0</td>\n",
       "      <td>307.0</td>\n",
       "      <td>1223.0</td>\n",
       "      <td>297.0</td>\n",
       "      <td>2.0700</td>\n",
       "      <td>&lt;1H OCEAN</td>\n",
       "      <td>1.0</td>\n",
       "      <td>0.0</td>\n",
       "      <td>0.0</td>\n",
       "      <td>0.0</td>\n",
       "    </tr>\n",
       "    <tr>\n",
       "      <th>9962</th>\n",
       "      <td>-122.23</td>\n",
       "      <td>38.33</td>\n",
       "      <td>31.0</td>\n",
       "      <td>3440.0</td>\n",
       "      <td>574.0</td>\n",
       "      <td>1538.0</td>\n",
       "      <td>537.0</td>\n",
       "      <td>5.5368</td>\n",
       "      <td>NEAR BAY</td>\n",
       "      <td>0.0</td>\n",
       "      <td>0.0</td>\n",
       "      <td>1.0</td>\n",
       "      <td>0.0</td>\n",
       "    </tr>\n",
       "    <tr>\n",
       "      <th>13905</th>\n",
       "      <td>-116.44</td>\n",
       "      <td>34.12</td>\n",
       "      <td>18.0</td>\n",
       "      <td>5584.0</td>\n",
       "      <td>1303.0</td>\n",
       "      <td>2250.0</td>\n",
       "      <td>1158.0</td>\n",
       "      <td>1.5823</td>\n",
       "      <td>INLAND</td>\n",
       "      <td>0.0</td>\n",
       "      <td>1.0</td>\n",
       "      <td>0.0</td>\n",
       "      <td>0.0</td>\n",
       "    </tr>\n",
       "    <tr>\n",
       "      <th>1721</th>\n",
       "      <td>-122.39</td>\n",
       "      <td>38.00</td>\n",
       "      <td>33.0</td>\n",
       "      <td>44.0</td>\n",
       "      <td>6.0</td>\n",
       "      <td>23.0</td>\n",
       "      <td>11.0</td>\n",
       "      <td>4.1250</td>\n",
       "      <td>NEAR BAY</td>\n",
       "      <td>0.0</td>\n",
       "      <td>0.0</td>\n",
       "      <td>1.0</td>\n",
       "      <td>0.0</td>\n",
       "    </tr>\n",
       "    <tr>\n",
       "      <th>5958</th>\n",
       "      <td>-117.82</td>\n",
       "      <td>34.12</td>\n",
       "      <td>26.0</td>\n",
       "      <td>3118.0</td>\n",
       "      <td>528.0</td>\n",
       "      <td>1546.0</td>\n",
       "      <td>545.0</td>\n",
       "      <td>5.2700</td>\n",
       "      <td>INLAND</td>\n",
       "      <td>0.0</td>\n",
       "      <td>1.0</td>\n",
       "      <td>0.0</td>\n",
       "      <td>0.0</td>\n",
       "    </tr>\n",
       "  </tbody>\n",
       "</table>\n",
       "</div>"
      ],
      "text/plain": [
       "       longitude  latitude  housing_median_age  total_rooms  total_bedrooms  \\\n",
       "4514     -118.20     34.04                52.0       1249.0           307.0   \n",
       "9962     -122.23     38.33                31.0       3440.0           574.0   \n",
       "13905    -116.44     34.12                18.0       5584.0          1303.0   \n",
       "1721     -122.39     38.00                33.0         44.0             6.0   \n",
       "5958     -117.82     34.12                26.0       3118.0           528.0   \n",
       "\n",
       "       population  households  median_income ocean_proximity  <1H OCEAN  \\\n",
       "4514       1223.0       297.0         2.0700       <1H OCEAN        1.0   \n",
       "9962       1538.0       537.0         5.5368        NEAR BAY        0.0   \n",
       "13905      2250.0      1158.0         1.5823          INLAND        0.0   \n",
       "1721         23.0        11.0         4.1250        NEAR BAY        0.0   \n",
       "5958       1546.0       545.0         5.2700          INLAND        0.0   \n",
       "\n",
       "       INLAND  NEAR BAY  NEAR OCEAN  \n",
       "4514      0.0       0.0         0.0  \n",
       "9962      0.0       1.0         0.0  \n",
       "13905     1.0       0.0         0.0  \n",
       "1721      0.0       1.0         0.0  \n",
       "5958      1.0       0.0         0.0  "
      ]
     },
     "execution_count": 1421,
     "metadata": {},
     "output_type": "execute_result"
    }
   ],
   "source": [
    "dataset.head()"
   ]
  },
  {
   "cell_type": "code",
   "execution_count": 877,
   "id": "38947769",
   "metadata": {
    "scrolled": true
   },
   "outputs": [
    {
     "data": {
      "text/plain": [
       "['longitude',\n",
       " 'latitude',\n",
       " 'housing_median_age',\n",
       " 'total_rooms',\n",
       " 'total_bedrooms',\n",
       " 'population',\n",
       " 'households',\n",
       " 'median_income',\n",
       " '<1H OCEAN',\n",
       " 'INLAND',\n",
       " 'NEAR BAY',\n",
       " 'NEAR OCEAN']"
      ]
     },
     "execution_count": 877,
     "metadata": {},
     "output_type": "execute_result"
    }
   ],
   "source": [
    "FEATURES = list(dataset.columns)\n",
    "FEATURES.remove(\"ocean_proximity\")\n",
    "FEATURES"
   ]
  },
  {
   "cell_type": "code",
   "execution_count": 878,
   "id": "e1f03a36",
   "metadata": {},
   "outputs": [],
   "source": [
    "X = dataset[\"median_income\"].values\n",
    "y = y_target.values"
   ]
  },
  {
   "cell_type": "markdown",
   "id": "58168543",
   "metadata": {},
   "source": [
    "Train test split."
   ]
  },
  {
   "cell_type": "code",
   "execution_count": 879,
   "id": "a04600f9",
   "metadata": {},
   "outputs": [],
   "source": [
    "X_train, X_test, y_train, y_test = train_test_split(X, y, shuffle=True)"
   ]
  },
  {
   "cell_type": "code",
   "execution_count": 880,
   "id": "470be2b9",
   "metadata": {},
   "outputs": [
    {
     "data": {
      "text/plain": [
       "((225,), (75,), (225,), (75,))"
      ]
     },
     "execution_count": 880,
     "metadata": {},
     "output_type": "execute_result"
    }
   ],
   "source": [
    "X_train.shape, X_test.shape, y_train.shape, y_test.shape"
   ]
  },
  {
   "cell_type": "markdown",
   "id": "1d960595",
   "metadata": {},
   "source": [
    "**Univariate linear regression.**"
   ]
  },
  {
   "cell_type": "code",
   "execution_count": 881,
   "id": "f559011d",
   "metadata": {},
   "outputs": [],
   "source": [
    "class UniLinearRegression:\n",
    "    \n",
    "    def __init__(self):\n",
    "        self.b_1 = None\n",
    "        self.b_0 = None\n",
    "        \n",
    "    def fit(self, X, Y):\n",
    "        self.b_1 = np.sum((X - X.mean()) * (Y - Y.mean())) / np.sum((X - X.mean())**2)\n",
    "        self.b_0 = Y.mean() - self.b_1 * X.mean()\n",
    "        \n",
    "    def predict(self, X):\n",
    "        return self.b_1 * X + self.b_0\n",
    "\n",
    "    \n",
    "def RSS(y_pred, y):\n",
    "    return np.sum((y_pred - y)**2)"
   ]
  },
  {
   "cell_type": "markdown",
   "id": "827c0ee5",
   "metadata": {},
   "source": [
    "Let's fit and predict our univariate regression with the data using the feature \"median_income\"."
   ]
  },
  {
   "cell_type": "code",
   "execution_count": 882,
   "id": "b6d68a74",
   "metadata": {},
   "outputs": [
    {
     "data": {
      "text/plain": [
       "array([2.4615, 3.7273, 3.4005, 2.6611, 2.2679, 6.1001, 5.5368, 4.9205,\n",
       "       4.2414, 3.025 ])"
      ]
     },
     "execution_count": 882,
     "metadata": {},
     "output_type": "execute_result"
    }
   ],
   "source": [
    "X_train[:10]"
   ]
  },
  {
   "cell_type": "code",
   "execution_count": 883,
   "id": "c2fe120a",
   "metadata": {},
   "outputs": [],
   "source": [
    "uni_linear_reg = UniLinearRegression()\n",
    "\n",
    "uni_linear_reg.fit(X_train, y_train)"
   ]
  },
  {
   "cell_type": "code",
   "execution_count": 884,
   "id": "ec37be89",
   "metadata": {},
   "outputs": [],
   "source": [
    "y_pred = uni_linear_reg.predict(X_test)"
   ]
  },
  {
   "cell_type": "code",
   "execution_count": 885,
   "id": "f1f47e9e",
   "metadata": {},
   "outputs": [
    {
     "data": {
      "image/png": "[encoded data removed]",
      "text/plain": [
       "<Figure size 432x288 with 1 Axes>"
      ]
     },
     "metadata": {
      "needs_background": "light"
     },
     "output_type": "display_data"
    }
   ],
   "source": [
    "plt.scatter(X_test, y_test)\n",
    "plt.scatter(X_test, y_pred)\n",
    "plt.xlabel(\"median_income\")\n",
    "plt.ylabel(\"median_house_value\")\n",
    "plt.show()"
   ]
  },
  {
   "cell_type": "code",
   "execution_count": 886,
   "id": "8c48e442",
   "metadata": {},
   "outputs": [
    {
     "name": "stdout",
     "output_type": "stream",
     "text": [
      "The equation of the line y = 47783.68267459836 * x + 23118.213813221868\n"
     ]
    }
   ],
   "source": [
    "print(f\"The equation of the line y = {uni_linear_reg.b_1} * x + {uni_linear_reg.b_0}\")"
   ]
  },
  {
   "cell_type": "code",
   "execution_count": 887,
   "id": "5ed2e4e7",
   "metadata": {
    "scrolled": false
   },
   "outputs": [
    {
     "data": {
      "image/png": "[encoded data removed]",
      "text/plain": [
       "<Figure size 432x288 with 1 Axes>"
      ]
     },
     "metadata": {
      "needs_background": "light"
     },
     "output_type": "display_data"
    }
   ],
   "source": [
    "minimum, maximum = X_test.min(), X_test.max()\n",
    "for x_p, y_p, y in zip(X_test, y_pred, y_test):\n",
    "    plt.plot([x_p, x_p], [y_p, y], color=\"red\")\n",
    "plt.scatter(X_test, y_test, color=\"blue\")\n",
    "plt.plot([minimum, maximum], [uni_linear_reg.predict(minimum), uni_linear_reg.predict(maximum)], color=\"green\")\n",
    "plt.xlabel(\"median_income\")\n",
    "plt.ylabel(\"median_house_value\")\n",
    "plt.show()"
   ]
  },
  {
   "cell_type": "code",
   "execution_count": 888,
   "id": "0588a59b",
   "metadata": {},
   "outputs": [
    {
     "name": "stdout",
     "output_type": "stream",
     "text": [
      "RSS loss is 509278841427.3958\n"
     ]
    }
   ],
   "source": [
    "print(\"RSS loss is\", RSS(y_pred, y_test))"
   ]
  },
  {
   "cell_type": "markdown",
   "id": "531bc77b",
   "metadata": {},
   "source": [
    "To compute the standart errors of the estomators we would need ε(epsilon, the measurmement of the standart error(randomness) of the dataset).\n",
    "\n",
    "$$\n",
    "    σ^2 = Var(ε)\n",
    "$$\n",
    "\n",
    "$$\n",
    "    SE(b_{1})^{2} = \\frac{σ^2}{\\sum_{i=1}{(x_{i}-x_{mean}})^{2}}\n",
    "$$\n",
    "\n",
    "$$\n",
    "    SE(b_{0})^{2} = σ^2[\\frac{1}{n} + \\frac{x_{mean}^{2}}{\\sum_{i=1}{(x_{i}-x_{mean}})^{2}}]\n",
    "$$\n",
    "\n",
    "where, n is the size of the samples.\n",
    "\n",
    "These standart errors can be used to compute the **confidence intervals**.\n",
    "\n",
    "For example 95% confidence interval is defined to be a range chick has the true value of the estimaor for 95% accuracy.\n",
    "\n",
    "In our case "
   ]
  },
  {
   "cell_type": "markdown",
   "id": "482f8dad",
   "metadata": {},
   "source": [
    "Stadart errors can also be used to do **Hypothesis testing**.\n",
    "\n",
    "\"null hypothesis\"\n",
    "H0 : There is no relationship between X and Y.\n",
    "\n",
    "\"alternative hypothesis\"\n",
    "HA : There is some relationship between X and Y.\n",
    "\n",
    "Mathematically\n",
    "\n",
    "$$\n",
    "    H_{0} : b_{i} = 0\n",
    "$$\n",
    "\n",
    "$$\n",
    "    H_{1} : b_{i} = R/\\{0\\}\n",
    "$$"
   ]
  },
  {
   "cell_type": "markdown",
   "id": "30e93613",
   "metadata": {},
   "source": [
    "Let's compute the value of SE."
   ]
  },
  {
   "cell_type": "markdown",
   "id": "f889c834",
   "metadata": {},
   "source": [
    "This formula is found here. (this is not a reliable source) https://www.calculatorsoup.com/calculators/statistics/variance-calculator.php\n",
    "$$\n",
    "    Variance = σ^2 = \\frac{\\sum{(x_{i} - 𝜇})^{2}}{n}\n",
    "$$"
   ]
  },
  {
   "cell_type": "code",
   "execution_count": 366,
   "id": "683474f5",
   "metadata": {},
   "outputs": [
    {
     "name": "stdout",
     "output_type": "stream",
     "text": [
      "standard deviation is 2.1970249277389238\n"
     ]
    }
   ],
   "source": [
    "variance = np.sum((X - X.mean())**2) / len(X)\n",
    "std_dev = variance**0.5\n",
    "print(\"standard deviation is\", std_dev)"
   ]
  },
  {
   "cell_type": "code",
   "execution_count": 367,
   "id": "32779492",
   "metadata": {},
   "outputs": [
    {
     "data": {
      "text/plain": [
       "(0.05773502691896258, 0.17065395004484846)"
      ]
     },
     "execution_count": 367,
     "metadata": {},
     "output_type": "execute_result"
    }
   ],
   "source": [
    "SE_b_1 = math.sqrt(std_dev**2 / np.sum((X - X.mean())**2))\n",
    "SE_b_0 = math.sqrt(std_dev**2 * ( (1 / len(X)) + X.mean() / np.sum((X - X.mean())**2) ))\n",
    "\n",
    "SE_b_1, SE_b_0"
   ]
  },
  {
   "cell_type": "markdown",
   "id": "1d1144f6",
   "metadata": {},
   "source": [
    "We can say that the true value of b_1 and b_2 in some probability in the range.\n",
    "\n",
    "$$\n",
    "    b_{1actual} = b_{1} + (-) 2*0.05773\n",
    "$$\n",
    "\n",
    "$$\n",
    "    b_{0actual} = b_{0} + (-) 2*0.17065\n",
    "$$\n"
   ]
  },
  {
   "cell_type": "markdown",
   "id": "fe8d6788",
   "metadata": {},
   "source": [
    "In our case the \"null hypothesis\" is wrong."
   ]
  },
  {
   "cell_type": "code",
   "execution_count": 368,
   "id": "b1ab6f53",
   "metadata": {},
   "outputs": [
    {
     "data": {
      "text/plain": [
       "False"
      ]
     },
     "execution_count": 368,
     "metadata": {},
     "output_type": "execute_result"
    }
   ],
   "source": [
    "uni_linear_reg.b_1 == 0"
   ]
  },
  {
   "cell_type": "markdown",
   "id": "2957cf31",
   "metadata": {},
   "source": [
    "To test the null hypothesis, let's compute a t-statistic.\n",
    "\n",
    "$$\n",
    "    t = \\frac{b_{i} - 0}{SE(b_{i})}\n",
    "$$"
   ]
  },
  {
   "cell_type": "code",
   "execution_count": 369,
   "id": "bf4d773b",
   "metadata": {},
   "outputs": [
    {
     "data": {
      "text/plain": [
       "590355.690120694"
      ]
     },
     "execution_count": 369,
     "metadata": {},
     "output_type": "execute_result"
    }
   ],
   "source": [
    "t_stat = uni_linear_reg.b_1 / SE_b_1\n",
    "t_stat"
   ]
  },
  {
   "cell_type": "markdown",
   "id": "1a67f08e",
   "metadata": {},
   "source": [
    "t_statistic is important because if b_1 is smaller than SE_b_1, then it is possible that the estimator has learned from some randomness of the data not an actual pattern."
   ]
  },
  {
   "cell_type": "markdown",
   "id": "845e3bb9",
   "metadata": {},
   "source": [
    "R_squared.\n",
    "\n",
    "$$\n",
    "    R^2 = \\frac{TSS - RSS}{TSS} = 1 - \\frac{RSS}{TSS}\n",
    "$$\n",
    "\n",
    "$$\n",
    "    TSS = \\sum{(y_{i} - y_{mean})^2}\n",
    "$$"
   ]
  },
  {
   "cell_type": "code",
   "execution_count": 370,
   "id": "55689f32",
   "metadata": {},
   "outputs": [
    {
     "data": {
      "text/plain": [
       "0.8674333773712838"
      ]
     },
     "execution_count": 370,
     "metadata": {},
     "output_type": "execute_result"
    }
   ],
   "source": [
    "def TSS(y_ac):\n",
    "    return np.sum((y_ac - y_ac.mean())**2)\n",
    "\n",
    "y_tss = TSS(y_target)\n",
    "R_squared = 1 - (RSS(y_pred, y_test) / y_tss)\n",
    "R_squared"
   ]
  },
  {
   "cell_type": "markdown",
   "id": "a31f457f",
   "metadata": {},
   "source": [
    "## Multiple Linear Regression"
   ]
  },
  {
   "cell_type": "code",
   "execution_count": 1396,
   "id": "99ec99f7",
   "metadata": {},
   "outputs": [],
   "source": [
    "class MultiLinearRegression:\n",
    "    \n",
    "    def __init__(self, n):\n",
    "        self.b = np.empty(n)\n",
    "        self.b_0 = 0\n",
    "        \n",
    "        self.SE_b = np.empty(n)\n",
    "        self.SE_b0 = 0\n",
    "        \n",
    "    def fit(self, X, Y):\n",
    "        for i, x in enumerate(self.b):\n",
    "            self.b[i] = np.sum((X[:, i] - X[:, i].mean()) * (Y - Y.mean())) / np.sum((X[:, i] - X[:, i].mean())**2)\n",
    "        self.b_0 = Y.mean() - self.b.mean() * X.mean()\n",
    "        \n",
    "    def predict(self, X):\n",
    "        return np.dot(X, self.b.T) + self.b_0"
   ]
  },
  {
   "cell_type": "code",
   "execution_count": 1422,
   "id": "e1a44731",
   "metadata": {},
   "outputs": [],
   "source": [
    "X = dataset[[\"population\", \"households\", \"median_income\", \"<1H OCEAN\", \"INLAND\", \"NEAR BAY\", \"NEAR OCEAN\"]].values\n",
    "y = y_target.values"
   ]
  },
  {
   "cell_type": "code",
   "execution_count": 1423,
   "id": "a07a54a6",
   "metadata": {},
   "outputs": [
    {
     "data": {
      "text/plain": [
       "((225, 7), (75, 7))"
      ]
     },
     "execution_count": 1423,
     "metadata": {},
     "output_type": "execute_result"
    }
   ],
   "source": [
    "X_train, X_test, y_train, y_test = train_test_split(X, y, shuffle=True)\n",
    "X_train.shape, X_test.shape"
   ]
  },
  {
   "cell_type": "code",
   "execution_count": 1424,
   "id": "9f26cb71",
   "metadata": {},
   "outputs": [
    {
     "name": "stdout",
     "output_type": "stream",
     "text": [
      "[ 4.16585249e+00  3.67779014e+01  4.09838694e+04  5.41259668e+04\n",
      " -1.20598566e+05  9.84584371e+04  4.54632832e+04] -4025739.9636478825\n"
     ]
    }
   ],
   "source": [
    "mul_linear_reg = MultiLinearRegression(7)\n",
    "\n",
    "mul_linear_reg.fit(X_train, y_train)"
   ]
  },
  {
   "cell_type": "code",
   "execution_count": 1436,
   "id": "fec64a61",
   "metadata": {},
   "outputs": [
    {
     "name": "stdout",
     "output_type": "stream",
     "text": [
      "The equation of the line.\n",
      "y = 4.165852494915432x + 36.77790138150601x + 40983.8693649897x + 54125.96681096681x + -120598.56587778166x + 98458.43708016121x + 45463.283176214645x + -4025739.9636478825\n"
     ]
    }
   ],
   "source": [
    "print(f\"The equation of the line.\")\n",
    "print(\"y =\", \" + \".join([f'{i}x' for i in mul_linear_reg.b]), f\"+ {mul_linear_reg.b_0}\")"
   ]
  },
  {
   "cell_type": "code",
   "execution_count": 1437,
   "id": "eee7a24f",
   "metadata": {},
   "outputs": [],
   "source": [
    "y_pred = mul_linear_reg.predict(X_test)"
   ]
  },
  {
   "cell_type": "code",
   "execution_count": 1438,
   "id": "e7be2b30",
   "metadata": {},
   "outputs": [
    {
     "data": {
      "text/plain": [
       "1221268474777967.8"
      ]
     },
     "execution_count": 1438,
     "metadata": {},
     "output_type": "execute_result"
    }
   ],
   "source": [
    "RSS(y_test, y_pred)"
   ]
  },
  {
   "cell_type": "markdown",
   "id": "61aaddd0",
   "metadata": {},
   "source": [
    "Let's compute the Standart errors of the estimators."
   ]
  },
  {
   "cell_type": "code",
   "execution_count": 1439,
   "id": "12fbe70b",
   "metadata": {},
   "outputs": [
    {
     "name": "stdout",
     "output_type": "stream",
     "text": [
      "standard deviation is 423.00819622010613\n",
      "standard deviation is 539.1625619709991\n",
      "standard deviation is 823.03818569681\n",
      "standard deviation is 8.011909184177652\n",
      "standard deviation is 542.323929057691\n",
      "standard deviation is 777.1734426087341\n",
      "standard deviation is 383.4449214421577\n"
     ]
    }
   ],
   "source": [
    "for i, se in enumerate(mul_linear_reg.SE_b):\n",
    "    variance = np.sum((X[i] - X[i].mean())**2) / len(X[i])\n",
    "    std_dev = variance**0.5\n",
    "    print(\"standard deviation is\", std_dev)\n",
    "\n",
    "    se = math.sqrt(std_dev**2 / np.sum((X[i] - X[i].mean())**2))\n",
    "    \n",
    "mul_linear_reg.SE_b0 = math.sqrt(std_dev**2 * ( (1 / len(X)) + X.mean() / np.sum((X - X.mean())**2) ))"
   ]
  },
  {
   "cell_type": "code",
   "execution_count": 1440,
   "id": "7dab5444",
   "metadata": {},
   "outputs": [
    {
     "name": "stdout",
     "output_type": "stream",
     "text": [
      "[2.5e-323 3.0e-323 3.5e-323 4.4e-323 4.9e-323 5.4e-323 5.9e-323] 22.139383104492605\n"
     ]
    }
   ],
   "source": [
    "print(mul_linear_reg.SE_b, mul_linear_reg.SE_b0)"
   ]
  },
  {
   "cell_type": "code",
   "execution_count": null,
   "id": "c68b5eb7",
   "metadata": {},
   "outputs": [],
   "source": []
  }
 ],
 "metadata": {
  "kernelspec": {
   "display_name": "Python 3 (ipykernel)",
   "language": "python",
   "name": "python3"
  },
  "language_info": {
   "codemirror_mode": {
    "name": "ipython",
    "version": 3
   },
   "file_extension": ".py",
   "mimetype": "text/x-python",
   "name": "python",
   "nbconvert_exporter": "python",
   "pygments_lexer": "ipython3",
   "version": "3.9.7"
  }
 },
 "nbformat": 4,
 "nbformat_minor": 5
}
