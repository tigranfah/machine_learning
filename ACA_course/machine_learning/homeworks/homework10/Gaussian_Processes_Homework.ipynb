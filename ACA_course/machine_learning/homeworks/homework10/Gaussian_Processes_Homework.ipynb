{
 "cells": [
  {
   "cell_type": "markdown",
   "id": "a8f5f70f",
   "metadata": {},
   "source": [
    "### Gaussian_Process: Regression"
   ]
  },
  {
   "cell_type": "code",
   "execution_count": 89,
   "id": "373b64da",
   "metadata": {},
   "outputs": [],
   "source": [
    "import numpy as np\n",
    "import pandas as pd\n",
    "import matplotlib.pyplot as plt\n",
    "import seaborn as sns\n",
    "\n",
    "from datetime import datetime"
   ]
  },
  {
   "cell_type": "markdown",
   "id": "4d2593a7",
   "metadata": {},
   "source": [
    "#### Download the SolarPrediction.csv dataset from https://www.kaggle.com/dronio/SolarEnergy\n",
    "#### Print its head()"
   ]
  },
  {
   "cell_type": "code",
   "execution_count": 347,
   "id": "7b635f06",
   "metadata": {},
   "outputs": [],
   "source": [
    "# TODO\n",
    "df_solar_energy = pd.read_csv(\"SolarPrediction.csv\")"
   ]
  },
  {
   "cell_type": "code",
   "execution_count": 348,
   "id": "24195d60",
   "metadata": {},
   "outputs": [
    {
     "data": {
      "text/html": [
       "<div>\n",
       "<style scoped>\n",
       "    .dataframe tbody tr th:only-of-type {\n",
       "        vertical-align: middle;\n",
       "    }\n",
       "\n",
       "    .dataframe tbody tr th {\n",
       "        vertical-align: top;\n",
       "    }\n",
       "\n",
       "    .dataframe thead th {\n",
       "        text-align: right;\n",
       "    }\n",
       "</style>\n",
       "<table border=\"1\" class=\"dataframe\">\n",
       "  <thead>\n",
       "    <tr style=\"text-align: right;\">\n",
       "      <th></th>\n",
       "      <th>UNIXTime</th>\n",
       "      <th>Data</th>\n",
       "      <th>Time</th>\n",
       "      <th>Radiation</th>\n",
       "      <th>Temperature</th>\n",
       "      <th>Pressure</th>\n",
       "      <th>Humidity</th>\n",
       "      <th>WindDirection(Degrees)</th>\n",
       "      <th>Speed</th>\n",
       "      <th>TimeSunRise</th>\n",
       "      <th>TimeSunSet</th>\n",
       "    </tr>\n",
       "  </thead>\n",
       "  <tbody>\n",
       "    <tr>\n",
       "      <th>0</th>\n",
       "      <td>1475229326</td>\n",
       "      <td>9/29/2016 12:00:00 AM</td>\n",
       "      <td>23:55:26</td>\n",
       "      <td>1.21</td>\n",
       "      <td>48</td>\n",
       "      <td>30.46</td>\n",
       "      <td>59</td>\n",
       "      <td>177.39</td>\n",
       "      <td>5.62</td>\n",
       "      <td>06:13:00</td>\n",
       "      <td>18:13:00</td>\n",
       "    </tr>\n",
       "    <tr>\n",
       "      <th>1</th>\n",
       "      <td>1475229023</td>\n",
       "      <td>9/29/2016 12:00:00 AM</td>\n",
       "      <td>23:50:23</td>\n",
       "      <td>1.21</td>\n",
       "      <td>48</td>\n",
       "      <td>30.46</td>\n",
       "      <td>58</td>\n",
       "      <td>176.78</td>\n",
       "      <td>3.37</td>\n",
       "      <td>06:13:00</td>\n",
       "      <td>18:13:00</td>\n",
       "    </tr>\n",
       "    <tr>\n",
       "      <th>2</th>\n",
       "      <td>1475228726</td>\n",
       "      <td>9/29/2016 12:00:00 AM</td>\n",
       "      <td>23:45:26</td>\n",
       "      <td>1.23</td>\n",
       "      <td>48</td>\n",
       "      <td>30.46</td>\n",
       "      <td>57</td>\n",
       "      <td>158.75</td>\n",
       "      <td>3.37</td>\n",
       "      <td>06:13:00</td>\n",
       "      <td>18:13:00</td>\n",
       "    </tr>\n",
       "    <tr>\n",
       "      <th>3</th>\n",
       "      <td>1475228421</td>\n",
       "      <td>9/29/2016 12:00:00 AM</td>\n",
       "      <td>23:40:21</td>\n",
       "      <td>1.21</td>\n",
       "      <td>48</td>\n",
       "      <td>30.46</td>\n",
       "      <td>60</td>\n",
       "      <td>137.71</td>\n",
       "      <td>3.37</td>\n",
       "      <td>06:13:00</td>\n",
       "      <td>18:13:00</td>\n",
       "    </tr>\n",
       "    <tr>\n",
       "      <th>4</th>\n",
       "      <td>1475228124</td>\n",
       "      <td>9/29/2016 12:00:00 AM</td>\n",
       "      <td>23:35:24</td>\n",
       "      <td>1.17</td>\n",
       "      <td>48</td>\n",
       "      <td>30.46</td>\n",
       "      <td>62</td>\n",
       "      <td>104.95</td>\n",
       "      <td>5.62</td>\n",
       "      <td>06:13:00</td>\n",
       "      <td>18:13:00</td>\n",
       "    </tr>\n",
       "  </tbody>\n",
       "</table>\n",
       "</div>"
      ],
      "text/plain": [
       "     UNIXTime                   Data      Time  Radiation  Temperature  \\\n",
       "0  1475229326  9/29/2016 12:00:00 AM  23:55:26       1.21           48   \n",
       "1  1475229023  9/29/2016 12:00:00 AM  23:50:23       1.21           48   \n",
       "2  1475228726  9/29/2016 12:00:00 AM  23:45:26       1.23           48   \n",
       "3  1475228421  9/29/2016 12:00:00 AM  23:40:21       1.21           48   \n",
       "4  1475228124  9/29/2016 12:00:00 AM  23:35:24       1.17           48   \n",
       "\n",
       "   Pressure  Humidity  WindDirection(Degrees)  Speed TimeSunRise TimeSunSet  \n",
       "0     30.46        59                  177.39   5.62    06:13:00   18:13:00  \n",
       "1     30.46        58                  176.78   3.37    06:13:00   18:13:00  \n",
       "2     30.46        57                  158.75   3.37    06:13:00   18:13:00  \n",
       "3     30.46        60                  137.71   3.37    06:13:00   18:13:00  \n",
       "4     30.46        62                  104.95   5.62    06:13:00   18:13:00  "
      ]
     },
     "execution_count": 348,
     "metadata": {},
     "output_type": "execute_result"
    }
   ],
   "source": [
    "df_solar_energy.head()"
   ]
  },
  {
   "cell_type": "markdown",
   "id": "b23c876b",
   "metadata": {},
   "source": [
    "#### Explore the dataset. \n",
    "#### Drop the unnecessary columns, if any."
   ]
  },
  {
   "cell_type": "code",
   "execution_count": 349,
   "id": "e103546d",
   "metadata": {},
   "outputs": [
    {
     "data": {
      "text/plain": [
       "32686"
      ]
     },
     "execution_count": 349,
     "metadata": {},
     "output_type": "execute_result"
    }
   ],
   "source": [
    "# TODO\n",
    "len(df_solar_energy)"
   ]
  },
  {
   "cell_type": "markdown",
   "id": "9a48401b",
   "metadata": {},
   "source": [
    "We can ommit 12:00:00 AM from Data columns as they are the same everywhere and simplify."
   ]
  },
  {
   "cell_type": "code",
   "execution_count": 350,
   "id": "b772a9a1",
   "metadata": {},
   "outputs": [],
   "source": [
    "for d in df_solar_energy[\"Data\"]:\n",
    "    if d[-11:] != \"12:00:00 AM\":\n",
    "        print(\"Does not have similar info.\", d)"
   ]
  },
  {
   "cell_type": "code",
   "execution_count": 351,
   "id": "81decd52",
   "metadata": {},
   "outputs": [],
   "source": [
    "new_date_values = []\n",
    "for i in range(len(df_solar_energy)):\n",
    "    new_date_values.append(df_solar_energy[\"Data\"].iloc[i][:-12])\n",
    "\n",
    "df_solar_energy[\"Data\"] = new_date_values"
   ]
  },
  {
   "cell_type": "code",
   "execution_count": 352,
   "id": "36864c33",
   "metadata": {},
   "outputs": [
    {
     "data": {
      "text/plain": [
       "0        9/29/2016\n",
       "1        9/29/2016\n",
       "2        9/29/2016\n",
       "3        9/29/2016\n",
       "4        9/29/2016\n",
       "           ...    \n",
       "32681    12/1/2016\n",
       "32682    12/1/2016\n",
       "32683    12/1/2016\n",
       "32684    12/1/2016\n",
       "32685    12/1/2016\n",
       "Name: Data, Length: 32686, dtype: object"
      ]
     },
     "execution_count": 352,
     "metadata": {},
     "output_type": "execute_result"
    }
   ],
   "source": [
    "df_solar_energy[\"Data\"]"
   ]
  },
  {
   "cell_type": "code",
   "execution_count": 353,
   "id": "c4176b71",
   "metadata": {},
   "outputs": [
    {
     "data": {
      "text/html": [
       "<div>\n",
       "<style scoped>\n",
       "    .dataframe tbody tr th:only-of-type {\n",
       "        vertical-align: middle;\n",
       "    }\n",
       "\n",
       "    .dataframe tbody tr th {\n",
       "        vertical-align: top;\n",
       "    }\n",
       "\n",
       "    .dataframe thead th {\n",
       "        text-align: right;\n",
       "    }\n",
       "</style>\n",
       "<table border=\"1\" class=\"dataframe\">\n",
       "  <thead>\n",
       "    <tr style=\"text-align: right;\">\n",
       "      <th></th>\n",
       "      <th>UNIXTime</th>\n",
       "      <th>Radiation</th>\n",
       "      <th>Temperature</th>\n",
       "      <th>Pressure</th>\n",
       "      <th>Humidity</th>\n",
       "      <th>WindDirection(Degrees)</th>\n",
       "      <th>Speed</th>\n",
       "    </tr>\n",
       "  </thead>\n",
       "  <tbody>\n",
       "    <tr>\n",
       "      <th>UNIXTime</th>\n",
       "      <td>9.030245e+12</td>\n",
       "      <td>-7.716789e+07</td>\n",
       "      <td>-6.879355e+06</td>\n",
       "      <td>-54548.472156</td>\n",
       "      <td>-4.929503e+06</td>\n",
       "      <td>3.814116e+07</td>\n",
       "      <td>1.823619e+06</td>\n",
       "    </tr>\n",
       "    <tr>\n",
       "      <th>Radiation</th>\n",
       "      <td>-7.716789e+07</td>\n",
       "      <td>9.980316e+04</td>\n",
       "      <td>1.439811e+03</td>\n",
       "      <td>2.055656</td>\n",
       "      <td>-1.857027e+03</td>\n",
       "      <td>-6.051515e+03</td>\n",
       "      <td>8.118818e+01</td>\n",
       "    </tr>\n",
       "    <tr>\n",
       "      <th>Temperature</th>\n",
       "      <td>-6.879355e+06</td>\n",
       "      <td>1.439811e+03</td>\n",
       "      <td>3.845435e+01</td>\n",
       "      <td>0.105499</td>\n",
       "      <td>-4.594215e+01</td>\n",
       "      <td>-1.337925e+02</td>\n",
       "      <td>-6.809108e-01</td>\n",
       "    </tr>\n",
       "    <tr>\n",
       "      <th>Pressure</th>\n",
       "      <td>-5.454847e+04</td>\n",
       "      <td>2.055656e+00</td>\n",
       "      <td>1.054993e-01</td>\n",
       "      <td>0.002989</td>\n",
       "      <td>-3.182587e-01</td>\n",
       "      <td>-1.041315e+00</td>\n",
       "      <td>-1.596132e-02</td>\n",
       "    </tr>\n",
       "    <tr>\n",
       "      <th>Humidity</th>\n",
       "      <td>-4.929503e+06</td>\n",
       "      <td>-1.857027e+03</td>\n",
       "      <td>-4.594215e+01</td>\n",
       "      <td>-0.318259</td>\n",
       "      <td>6.754915e+02</td>\n",
       "      <td>-3.962786e+00</td>\n",
       "      <td>-1.919811e+01</td>\n",
       "    </tr>\n",
       "    <tr>\n",
       "      <th>WindDirection(Degrees)</th>\n",
       "      <td>3.814116e+07</td>\n",
       "      <td>-6.051515e+03</td>\n",
       "      <td>-1.337925e+02</td>\n",
       "      <td>-1.041315</td>\n",
       "      <td>-3.962786e+00</td>\n",
       "      <td>6.916833e+03</td>\n",
       "      <td>2.121829e+01</td>\n",
       "    </tr>\n",
       "    <tr>\n",
       "      <th>Speed</th>\n",
       "      <td>1.823619e+06</td>\n",
       "      <td>8.118818e+01</td>\n",
       "      <td>-6.809108e-01</td>\n",
       "      <td>-0.015961</td>\n",
       "      <td>-1.919811e+01</td>\n",
       "      <td>2.121829e+01</td>\n",
       "      <td>1.218341e+01</td>\n",
       "    </tr>\n",
       "  </tbody>\n",
       "</table>\n",
       "</div>"
      ],
      "text/plain": [
       "                            UNIXTime     Radiation   Temperature  \\\n",
       "UNIXTime                9.030245e+12 -7.716789e+07 -6.879355e+06   \n",
       "Radiation              -7.716789e+07  9.980316e+04  1.439811e+03   \n",
       "Temperature            -6.879355e+06  1.439811e+03  3.845435e+01   \n",
       "Pressure               -5.454847e+04  2.055656e+00  1.054993e-01   \n",
       "Humidity               -4.929503e+06 -1.857027e+03 -4.594215e+01   \n",
       "WindDirection(Degrees)  3.814116e+07 -6.051515e+03 -1.337925e+02   \n",
       "Speed                   1.823619e+06  8.118818e+01 -6.809108e-01   \n",
       "\n",
       "                            Pressure      Humidity  WindDirection(Degrees)  \\\n",
       "UNIXTime               -54548.472156 -4.929503e+06            3.814116e+07   \n",
       "Radiation                   2.055656 -1.857027e+03           -6.051515e+03   \n",
       "Temperature                 0.105499 -4.594215e+01           -1.337925e+02   \n",
       "Pressure                    0.002989 -3.182587e-01           -1.041315e+00   \n",
       "Humidity                   -0.318259  6.754915e+02           -3.962786e+00   \n",
       "WindDirection(Degrees)     -1.041315 -3.962786e+00            6.916833e+03   \n",
       "Speed                      -0.015961 -1.919811e+01            2.121829e+01   \n",
       "\n",
       "                               Speed  \n",
       "UNIXTime                1.823619e+06  \n",
       "Radiation               8.118818e+01  \n",
       "Temperature            -6.809108e-01  \n",
       "Pressure               -1.596132e-02  \n",
       "Humidity               -1.919811e+01  \n",
       "WindDirection(Degrees)  2.121829e+01  \n",
       "Speed                   1.218341e+01  "
      ]
     },
     "execution_count": 353,
     "metadata": {},
     "output_type": "execute_result"
    }
   ],
   "source": [
    "df_solar_energy.cov()"
   ]
  },
  {
   "cell_type": "code",
   "execution_count": 354,
   "id": "6cb40da2",
   "metadata": {
    "scrolled": true
   },
   "outputs": [
    {
     "data": {
      "text/html": [
       "<div>\n",
       "<style scoped>\n",
       "    .dataframe tbody tr th:only-of-type {\n",
       "        vertical-align: middle;\n",
       "    }\n",
       "\n",
       "    .dataframe tbody tr th {\n",
       "        vertical-align: top;\n",
       "    }\n",
       "\n",
       "    .dataframe thead th {\n",
       "        text-align: right;\n",
       "    }\n",
       "</style>\n",
       "<table border=\"1\" class=\"dataframe\">\n",
       "  <thead>\n",
       "    <tr style=\"text-align: right;\">\n",
       "      <th></th>\n",
       "      <th>UNIXTime</th>\n",
       "      <th>Radiation</th>\n",
       "      <th>Temperature</th>\n",
       "      <th>Pressure</th>\n",
       "      <th>Humidity</th>\n",
       "      <th>WindDirection(Degrees)</th>\n",
       "      <th>Speed</th>\n",
       "    </tr>\n",
       "  </thead>\n",
       "  <tbody>\n",
       "    <tr>\n",
       "      <th>UNIXTime</th>\n",
       "      <td>1.000000</td>\n",
       "      <td>-0.081286</td>\n",
       "      <td>-0.369169</td>\n",
       "      <td>-0.332016</td>\n",
       "      <td>-0.063117</td>\n",
       "      <td>0.152613</td>\n",
       "      <td>0.173860</td>\n",
       "    </tr>\n",
       "    <tr>\n",
       "      <th>Radiation</th>\n",
       "      <td>-0.081286</td>\n",
       "      <td>1.000000</td>\n",
       "      <td>0.734955</td>\n",
       "      <td>0.119016</td>\n",
       "      <td>-0.226171</td>\n",
       "      <td>-0.230324</td>\n",
       "      <td>0.073627</td>\n",
       "    </tr>\n",
       "    <tr>\n",
       "      <th>Temperature</th>\n",
       "      <td>-0.369169</td>\n",
       "      <td>0.734955</td>\n",
       "      <td>1.000000</td>\n",
       "      <td>0.311173</td>\n",
       "      <td>-0.285055</td>\n",
       "      <td>-0.259421</td>\n",
       "      <td>-0.031458</td>\n",
       "    </tr>\n",
       "    <tr>\n",
       "      <th>Pressure</th>\n",
       "      <td>-0.332016</td>\n",
       "      <td>0.119016</td>\n",
       "      <td>0.311173</td>\n",
       "      <td>1.000000</td>\n",
       "      <td>-0.223973</td>\n",
       "      <td>-0.229010</td>\n",
       "      <td>-0.083639</td>\n",
       "    </tr>\n",
       "    <tr>\n",
       "      <th>Humidity</th>\n",
       "      <td>-0.063117</td>\n",
       "      <td>-0.226171</td>\n",
       "      <td>-0.285055</td>\n",
       "      <td>-0.223973</td>\n",
       "      <td>1.000000</td>\n",
       "      <td>-0.001833</td>\n",
       "      <td>-0.211624</td>\n",
       "    </tr>\n",
       "    <tr>\n",
       "      <th>WindDirection(Degrees)</th>\n",
       "      <td>0.152613</td>\n",
       "      <td>-0.230324</td>\n",
       "      <td>-0.259421</td>\n",
       "      <td>-0.229010</td>\n",
       "      <td>-0.001833</td>\n",
       "      <td>1.000000</td>\n",
       "      <td>0.073092</td>\n",
       "    </tr>\n",
       "    <tr>\n",
       "      <th>Speed</th>\n",
       "      <td>0.173860</td>\n",
       "      <td>0.073627</td>\n",
       "      <td>-0.031458</td>\n",
       "      <td>-0.083639</td>\n",
       "      <td>-0.211624</td>\n",
       "      <td>0.073092</td>\n",
       "      <td>1.000000</td>\n",
       "    </tr>\n",
       "  </tbody>\n",
       "</table>\n",
       "</div>"
      ],
      "text/plain": [
       "                        UNIXTime  Radiation  Temperature  Pressure  Humidity  \\\n",
       "UNIXTime                1.000000  -0.081286    -0.369169 -0.332016 -0.063117   \n",
       "Radiation              -0.081286   1.000000     0.734955  0.119016 -0.226171   \n",
       "Temperature            -0.369169   0.734955     1.000000  0.311173 -0.285055   \n",
       "Pressure               -0.332016   0.119016     0.311173  1.000000 -0.223973   \n",
       "Humidity               -0.063117  -0.226171    -0.285055 -0.223973  1.000000   \n",
       "WindDirection(Degrees)  0.152613  -0.230324    -0.259421 -0.229010 -0.001833   \n",
       "Speed                   0.173860   0.073627    -0.031458 -0.083639 -0.211624   \n",
       "\n",
       "                        WindDirection(Degrees)     Speed  \n",
       "UNIXTime                              0.152613  0.173860  \n",
       "Radiation                            -0.230324  0.073627  \n",
       "Temperature                          -0.259421 -0.031458  \n",
       "Pressure                             -0.229010 -0.083639  \n",
       "Humidity                             -0.001833 -0.211624  \n",
       "WindDirection(Degrees)                1.000000  0.073092  \n",
       "Speed                                 0.073092  1.000000  "
      ]
     },
     "execution_count": 354,
     "metadata": {},
     "output_type": "execute_result"
    }
   ],
   "source": [
    "df_solar_energy.corr()"
   ]
  },
  {
   "cell_type": "markdown",
   "id": "467acc99",
   "metadata": {},
   "source": [
    "from corrolation matrix we see that more or less the data features are dependent on each other, so I decide to not drop any columns."
   ]
  },
  {
   "cell_type": "markdown",
   "id": "d4939724",
   "metadata": {},
   "source": [
    "#### Convert the Data (If did not drop), Time, TimeSunRise, TimeSunSet columns to datetime"
   ]
  },
  {
   "cell_type": "code",
   "execution_count": 355,
   "id": "cc5d1634",
   "metadata": {},
   "outputs": [],
   "source": [
    "# TODO\n",
    "for date_col in [\"Data\", \"Time\", \"TimeSunRise\", \"TimeSunSet\"]:\n",
    "    df_solar_energy[date_col] = pd.to_datetime(df_solar_energy[date_col])"
   ]
  },
  {
   "cell_type": "code",
   "execution_count": 356,
   "id": "de3594aa",
   "metadata": {},
   "outputs": [
    {
     "data": {
      "text/html": [
       "<div>\n",
       "<style scoped>\n",
       "    .dataframe tbody tr th:only-of-type {\n",
       "        vertical-align: middle;\n",
       "    }\n",
       "\n",
       "    .dataframe tbody tr th {\n",
       "        vertical-align: top;\n",
       "    }\n",
       "\n",
       "    .dataframe thead th {\n",
       "        text-align: right;\n",
       "    }\n",
       "</style>\n",
       "<table border=\"1\" class=\"dataframe\">\n",
       "  <thead>\n",
       "    <tr style=\"text-align: right;\">\n",
       "      <th></th>\n",
       "      <th>UNIXTime</th>\n",
       "      <th>Data</th>\n",
       "      <th>Time</th>\n",
       "      <th>Radiation</th>\n",
       "      <th>Temperature</th>\n",
       "      <th>Pressure</th>\n",
       "      <th>Humidity</th>\n",
       "      <th>WindDirection(Degrees)</th>\n",
       "      <th>Speed</th>\n",
       "      <th>TimeSunRise</th>\n",
       "      <th>TimeSunSet</th>\n",
       "    </tr>\n",
       "  </thead>\n",
       "  <tbody>\n",
       "    <tr>\n",
       "      <th>0</th>\n",
       "      <td>1475229326</td>\n",
       "      <td>2016-09-29</td>\n",
       "      <td>2022-01-28 23:55:26</td>\n",
       "      <td>1.21</td>\n",
       "      <td>48</td>\n",
       "      <td>30.46</td>\n",
       "      <td>59</td>\n",
       "      <td>177.39</td>\n",
       "      <td>5.62</td>\n",
       "      <td>2022-01-28 06:13:00</td>\n",
       "      <td>2022-01-28 18:13:00</td>\n",
       "    </tr>\n",
       "    <tr>\n",
       "      <th>1</th>\n",
       "      <td>1475229023</td>\n",
       "      <td>2016-09-29</td>\n",
       "      <td>2022-01-28 23:50:23</td>\n",
       "      <td>1.21</td>\n",
       "      <td>48</td>\n",
       "      <td>30.46</td>\n",
       "      <td>58</td>\n",
       "      <td>176.78</td>\n",
       "      <td>3.37</td>\n",
       "      <td>2022-01-28 06:13:00</td>\n",
       "      <td>2022-01-28 18:13:00</td>\n",
       "    </tr>\n",
       "    <tr>\n",
       "      <th>2</th>\n",
       "      <td>1475228726</td>\n",
       "      <td>2016-09-29</td>\n",
       "      <td>2022-01-28 23:45:26</td>\n",
       "      <td>1.23</td>\n",
       "      <td>48</td>\n",
       "      <td>30.46</td>\n",
       "      <td>57</td>\n",
       "      <td>158.75</td>\n",
       "      <td>3.37</td>\n",
       "      <td>2022-01-28 06:13:00</td>\n",
       "      <td>2022-01-28 18:13:00</td>\n",
       "    </tr>\n",
       "    <tr>\n",
       "      <th>3</th>\n",
       "      <td>1475228421</td>\n",
       "      <td>2016-09-29</td>\n",
       "      <td>2022-01-28 23:40:21</td>\n",
       "      <td>1.21</td>\n",
       "      <td>48</td>\n",
       "      <td>30.46</td>\n",
       "      <td>60</td>\n",
       "      <td>137.71</td>\n",
       "      <td>3.37</td>\n",
       "      <td>2022-01-28 06:13:00</td>\n",
       "      <td>2022-01-28 18:13:00</td>\n",
       "    </tr>\n",
       "    <tr>\n",
       "      <th>4</th>\n",
       "      <td>1475228124</td>\n",
       "      <td>2016-09-29</td>\n",
       "      <td>2022-01-28 23:35:24</td>\n",
       "      <td>1.17</td>\n",
       "      <td>48</td>\n",
       "      <td>30.46</td>\n",
       "      <td>62</td>\n",
       "      <td>104.95</td>\n",
       "      <td>5.62</td>\n",
       "      <td>2022-01-28 06:13:00</td>\n",
       "      <td>2022-01-28 18:13:00</td>\n",
       "    </tr>\n",
       "  </tbody>\n",
       "</table>\n",
       "</div>"
      ],
      "text/plain": [
       "     UNIXTime       Data                Time  Radiation  Temperature  \\\n",
       "0  1475229326 2016-09-29 2022-01-28 23:55:26       1.21           48   \n",
       "1  1475229023 2016-09-29 2022-01-28 23:50:23       1.21           48   \n",
       "2  1475228726 2016-09-29 2022-01-28 23:45:26       1.23           48   \n",
       "3  1475228421 2016-09-29 2022-01-28 23:40:21       1.21           48   \n",
       "4  1475228124 2016-09-29 2022-01-28 23:35:24       1.17           48   \n",
       "\n",
       "   Pressure  Humidity  WindDirection(Degrees)  Speed         TimeSunRise  \\\n",
       "0     30.46        59                  177.39   5.62 2022-01-28 06:13:00   \n",
       "1     30.46        58                  176.78   3.37 2022-01-28 06:13:00   \n",
       "2     30.46        57                  158.75   3.37 2022-01-28 06:13:00   \n",
       "3     30.46        60                  137.71   3.37 2022-01-28 06:13:00   \n",
       "4     30.46        62                  104.95   5.62 2022-01-28 06:13:00   \n",
       "\n",
       "           TimeSunSet  \n",
       "0 2022-01-28 18:13:00  \n",
       "1 2022-01-28 18:13:00  \n",
       "2 2022-01-28 18:13:00  \n",
       "3 2022-01-28 18:13:00  \n",
       "4 2022-01-28 18:13:00  "
      ]
     },
     "execution_count": 356,
     "metadata": {},
     "output_type": "execute_result"
    }
   ],
   "source": [
    "df_solar_energy.head()"
   ]
  },
  {
   "cell_type": "markdown",
   "id": "8ad6a8a4",
   "metadata": {},
   "source": [
    "#### Generate Cyclical features from newly generated datetime objects\n",
    "#### link for help: https://www.kaggle.com/avanwyk/encoding-cyclical-features-for-deep-learning?scriptVersionId=3208521&cellId=21"
   ]
  },
  {
   "cell_type": "code",
   "execution_count": 357,
   "id": "20a22f98",
   "metadata": {},
   "outputs": [],
   "source": [
    "# TODO\n",
    "df_datetime = df_solar_energy[[\"Data\", \"Time\", \"TimeSunRise\", \"TimeSunSet\", \"UNIXTime\"]]"
   ]
  },
  {
   "cell_type": "code",
   "execution_count": 358,
   "id": "c842f754",
   "metadata": {},
   "outputs": [],
   "source": [
    "def plot_datetime_column_info(column):\n",
    "    # create 6 subplots\n",
    "    date_time_comps = [column.dt.year, column.dt.month, column.dt.day, \n",
    "                       column.dt.hour, column.dt.minute, column.dt.second]\n",
    "    labels = [\"year\", \"month\", \"day\", \"hour\", \"minute\", \"second\"]\n",
    "    fig = plt.figure(figsize=(25, 5))\n",
    "    ax = fig.subplots(1, 6)\n",
    "    for i, comp, l in zip(range(6), date_time_comps, labels):\n",
    "        ax[i].plot(comp)\n",
    "        ax[i].set_title(l)"
   ]
  },
  {
   "cell_type": "markdown",
   "id": "a20a8054",
   "metadata": {},
   "source": [
    "**In \"Data\" column**, only month and day vary."
   ]
  },
  {
   "cell_type": "code",
   "execution_count": 359,
   "id": "4ab06c9e",
   "metadata": {},
   "outputs": [
    {
     "data": {
      "image/png": "[encoded data removed]",
      "text/plain": [
       "<Figure size 1800x360 with 6 Axes>"
      ]
     },
     "metadata": {
      "needs_background": "light"
     },
     "output_type": "display_data"
    }
   ],
   "source": [
    "plot_datetime_column_info(df_datetime[\"Data\"])"
   ]
  },
  {
   "cell_type": "markdown",
   "id": "4fa840e9",
   "metadata": {},
   "source": [
    "**Column Time**"
   ]
  },
  {
   "cell_type": "code",
   "execution_count": 360,
   "id": "cf9d09cc",
   "metadata": {},
   "outputs": [
    {
     "data": {
      "image/png": "[encoded data removed]",
      "text/plain": [
       "<Figure size 1800x360 with 6 Axes>"
      ]
     },
     "metadata": {
      "needs_background": "light"
     },
     "output_type": "display_data"
    }
   ],
   "source": [
    "plot_datetime_column_info(df_datetime[\"Time\"])"
   ]
  },
  {
   "cell_type": "markdown",
   "id": "a8e63685",
   "metadata": {},
   "source": [
    "Hour and minute are cyclical."
   ]
  },
  {
   "cell_type": "code",
   "execution_count": 361,
   "id": "45b93593",
   "metadata": {},
   "outputs": [
    {
     "data": {
      "text/plain": [
       "[<matplotlib.lines.Line2D at 0x1438ff850>]"
      ]
     },
     "execution_count": 361,
     "metadata": {},
     "output_type": "execute_result"
    },
    {
     "data": {
      "image/png": "[encoded data removed]",
      "text/plain": [
       "<Figure size 432x288 with 1 Axes>"
      ]
     },
     "metadata": {
      "needs_background": "light"
     },
     "output_type": "display_data"
    }
   ],
   "source": [
    "time_hour_sample = df_datetime[\"Time\"].dt.hour[:1000]\n",
    "plt.plot(time_hour_sample)"
   ]
  },
  {
   "cell_type": "code",
   "execution_count": 362,
   "id": "11e332f4",
   "metadata": {},
   "outputs": [
    {
     "data": {
      "text/plain": [
       "[<matplotlib.lines.Line2D at 0x142392130>]"
      ]
     },
     "execution_count": 362,
     "metadata": {},
     "output_type": "execute_result"
    },
    {
     "data": {
      "image/png": "[encoded data removed]",
      "text/plain": [
       "<Figure size 432x288 with 1 Axes>"
      ]
     },
     "metadata": {
      "needs_background": "light"
     },
     "output_type": "display_data"
    }
   ],
   "source": [
    "time_hour_sample = df_datetime[\"Time\"].dt.minute[:100]\n",
    "plt.plot(time_hour_sample)"
   ]
  },
  {
   "cell_type": "markdown",
   "id": "87aac970",
   "metadata": {},
   "source": [
    "**Column TimeSunRise**"
   ]
  },
  {
   "cell_type": "code",
   "execution_count": 363,
   "id": "b4f36b25",
   "metadata": {},
   "outputs": [
    {
     "data": {
      "image/png": "[encoded data removed]",
      "text/plain": [
       "<Figure size 1800x360 with 6 Axes>"
      ]
     },
     "metadata": {
      "needs_background": "light"
     },
     "output_type": "display_data"
    }
   ],
   "source": [
    "plot_datetime_column_info(df_datetime[\"TimeSunRise\"])"
   ]
  },
  {
   "cell_type": "markdown",
   "id": "02fa6374",
   "metadata": {},
   "source": [
    "**Column TimeSunSet**"
   ]
  },
  {
   "cell_type": "code",
   "execution_count": 364,
   "id": "e0135fb7",
   "metadata": {},
   "outputs": [
    {
     "data": {
      "image/png": "[encoded data removed]",
      "text/plain": [
       "<Figure size 1800x360 with 6 Axes>"
      ]
     },
     "metadata": {
      "needs_background": "light"
     },
     "output_type": "display_data"
    }
   ],
   "source": [
    "plot_datetime_column_info(df_datetime[\"TimeSunSet\"])"
   ]
  },
  {
   "cell_type": "markdown",
   "id": "5b4600c6",
   "metadata": {},
   "source": [
    "We can generate cyclical features from meaningfull datetime data components."
   ]
  },
  {
   "cell_type": "code",
   "execution_count": 365,
   "id": "c33e7648",
   "metadata": {},
   "outputs": [],
   "source": [
    "df_new_datetime = pd.DataFrame()"
   ]
  },
  {
   "cell_type": "code",
   "execution_count": 366,
   "id": "905f2a5d",
   "metadata": {},
   "outputs": [
    {
     "data": {
      "text/plain": [
       "array([ 9, 10, 11, 12])"
      ]
     },
     "execution_count": 366,
     "metadata": {},
     "output_type": "execute_result"
    }
   ],
   "source": [
    "# data - month\n",
    "data_month = df_datetime[\"Data\"].dt.month\n",
    "data_month.unique()"
   ]
  },
  {
   "cell_type": "code",
   "execution_count": 367,
   "id": "6ffde7fa",
   "metadata": {},
   "outputs": [
    {
     "data": {
      "text/plain": [
       "array([18, 17])"
      ]
     },
     "execution_count": 367,
     "metadata": {},
     "output_type": "execute_result"
    }
   ],
   "source": [
    "# TimeSunSet - day\n",
    "timesunset_day = df_datetime[\"TimeSunSet\"].dt.hour\n",
    "timesunset_day.unique()"
   ]
  },
  {
   "cell_type": "code",
   "execution_count": 368,
   "id": "eb7b5def",
   "metadata": {},
   "outputs": [],
   "source": [
    "# one hot encoding since it had only four values\n",
    "for i, val in zip(data_month.unique(), pd.get_dummies(data_month).T.values):\n",
    "    df_new_datetime[f\"DataMonth{i}\"] = val"
   ]
  },
  {
   "cell_type": "code",
   "execution_count": 369,
   "id": "af628891",
   "metadata": {},
   "outputs": [],
   "source": [
    "# one hot encoding since it had only four values\n",
    "for i, val in zip(timesunset_day.unique(), pd.get_dummies(timesunset_day).T.values):\n",
    "    df_new_datetime[f\"TimeSunSetHour{i}\"] = val"
   ]
  },
  {
   "cell_type": "code",
   "execution_count": 370,
   "id": "76ecb3c3",
   "metadata": {},
   "outputs": [
    {
     "data": {
      "text/html": [
       "<div>\n",
       "<style scoped>\n",
       "    .dataframe tbody tr th:only-of-type {\n",
       "        vertical-align: middle;\n",
       "    }\n",
       "\n",
       "    .dataframe tbody tr th {\n",
       "        vertical-align: top;\n",
       "    }\n",
       "\n",
       "    .dataframe thead th {\n",
       "        text-align: right;\n",
       "    }\n",
       "</style>\n",
       "<table border=\"1\" class=\"dataframe\">\n",
       "  <thead>\n",
       "    <tr style=\"text-align: right;\">\n",
       "      <th></th>\n",
       "      <th>DataMonth9</th>\n",
       "      <th>DataMonth10</th>\n",
       "      <th>DataMonth11</th>\n",
       "      <th>DataMonth12</th>\n",
       "      <th>TimeSunSetHour18</th>\n",
       "      <th>TimeSunSetHour17</th>\n",
       "    </tr>\n",
       "  </thead>\n",
       "  <tbody>\n",
       "    <tr>\n",
       "      <th>0</th>\n",
       "      <td>1</td>\n",
       "      <td>0</td>\n",
       "      <td>0</td>\n",
       "      <td>0</td>\n",
       "      <td>0</td>\n",
       "      <td>1</td>\n",
       "    </tr>\n",
       "    <tr>\n",
       "      <th>1</th>\n",
       "      <td>1</td>\n",
       "      <td>0</td>\n",
       "      <td>0</td>\n",
       "      <td>0</td>\n",
       "      <td>0</td>\n",
       "      <td>1</td>\n",
       "    </tr>\n",
       "    <tr>\n",
       "      <th>2</th>\n",
       "      <td>1</td>\n",
       "      <td>0</td>\n",
       "      <td>0</td>\n",
       "      <td>0</td>\n",
       "      <td>0</td>\n",
       "      <td>1</td>\n",
       "    </tr>\n",
       "    <tr>\n",
       "      <th>3</th>\n",
       "      <td>1</td>\n",
       "      <td>0</td>\n",
       "      <td>0</td>\n",
       "      <td>0</td>\n",
       "      <td>0</td>\n",
       "      <td>1</td>\n",
       "    </tr>\n",
       "    <tr>\n",
       "      <th>4</th>\n",
       "      <td>1</td>\n",
       "      <td>0</td>\n",
       "      <td>0</td>\n",
       "      <td>0</td>\n",
       "      <td>0</td>\n",
       "      <td>1</td>\n",
       "    </tr>\n",
       "  </tbody>\n",
       "</table>\n",
       "</div>"
      ],
      "text/plain": [
       "   DataMonth9  DataMonth10  DataMonth11  DataMonth12  TimeSunSetHour18  \\\n",
       "0           1            0            0            0                 0   \n",
       "1           1            0            0            0                 0   \n",
       "2           1            0            0            0                 0   \n",
       "3           1            0            0            0                 0   \n",
       "4           1            0            0            0                 0   \n",
       "\n",
       "   TimeSunSetHour17  \n",
       "0                 1  \n",
       "1                 1  \n",
       "2                 1  \n",
       "3                 1  \n",
       "4                 1  "
      ]
     },
     "execution_count": 370,
     "metadata": {},
     "output_type": "execute_result"
    }
   ],
   "source": [
    "df_new_datetime.head()"
   ]
  },
  {
   "cell_type": "markdown",
   "id": "10f53a55",
   "metadata": {},
   "source": [
    "For other datetime components we will use these formulas.\n",
    "\n",
    "$$\n",
    "    x_{sin}=sin(\\frac{2πx}{max(x)})\n",
    "$$\n",
    "\n",
    "$$\n",
    "    x_{cos}=cos(\\frac{2πx}{max(x)})\n",
    "$$"
   ]
  },
  {
   "cell_type": "code",
   "execution_count": 371,
   "id": "0bf934f9",
   "metadata": {},
   "outputs": [],
   "source": [
    "def cyclical(series, func):\n",
    "    return func((2 * np.pi * series)/(series.max()))"
   ]
  },
  {
   "cell_type": "code",
   "execution_count": 372,
   "id": "bd45c359",
   "metadata": {},
   "outputs": [],
   "source": [
    "data_day = data_month = df_datetime[\"Data\"].dt.day"
   ]
  },
  {
   "cell_type": "code",
   "execution_count": 373,
   "id": "3e401329",
   "metadata": {},
   "outputs": [],
   "source": [
    "data_day_sin = cyclical(data_day, np.sin)\n",
    "data_day_cos = cyclical(data_day, np.cos)"
   ]
  },
  {
   "cell_type": "markdown",
   "id": "6982d5c6",
   "metadata": {},
   "source": [
    "Only sin taken alone has some problems. So we take both sin and cos."
   ]
  },
  {
   "cell_type": "code",
   "execution_count": 374,
   "id": "68147a4a",
   "metadata": {},
   "outputs": [
    {
     "data": {
      "text/plain": [
       "<AxesSubplot:>"
      ]
     },
     "execution_count": 374,
     "metadata": {},
     "output_type": "execute_result"
    },
    {
     "data": {
      "image/png": "[encoded data removed]",
      "text/plain": [
       "<Figure size 432x288 with 1 Axes>"
      ]
     },
     "metadata": {
      "needs_background": "light"
     },
     "output_type": "display_data"
    }
   ],
   "source": [
    "data_day_sin.plot()"
   ]
  },
  {
   "cell_type": "code",
   "execution_count": 375,
   "id": "650da768",
   "metadata": {},
   "outputs": [
    {
     "data": {
      "image/png": "[encoded data removed]",
      "text/plain": [
       "<Figure size 432x288 with 1 Axes>"
      ]
     },
     "metadata": {
      "needs_background": "light"
     },
     "output_type": "display_data"
    }
   ],
   "source": [
    "plt.scatter(data_day_sin, data_day_cos)\n",
    "plt.axis('equal')\n",
    "plt.show()"
   ]
  },
  {
   "cell_type": "code",
   "execution_count": 376,
   "id": "32dc99a1",
   "metadata": {},
   "outputs": [],
   "source": [
    "df_new_datetime[\"DataDaySin\"] = data_day_sin\n",
    "df_new_datetime[\"DataDayCos\"] = data_day_cos"
   ]
  },
  {
   "cell_type": "markdown",
   "id": "98edfba7",
   "metadata": {},
   "source": [
    "We do it for all other meaningfull datetime components in the data."
   ]
  },
  {
   "cell_type": "code",
   "execution_count": 377,
   "id": "587ec895",
   "metadata": {},
   "outputs": [],
   "source": [
    "df_new_datetime[\"TimeHourSin\"] = cyclical(df_datetime[\"Time\"].dt.hour, np.sin)\n",
    "df_new_datetime[\"TimeHourCos\"] = cyclical(df_datetime[\"Time\"].dt.hour, np.cos)"
   ]
  },
  {
   "cell_type": "code",
   "execution_count": 378,
   "id": "95f67223",
   "metadata": {},
   "outputs": [
    {
     "data": {
      "image/png": "[encoded data removed]",
      "text/plain": [
       "<Figure size 432x288 with 1 Axes>"
      ]
     },
     "metadata": {
      "needs_background": "light"
     },
     "output_type": "display_data"
    }
   ],
   "source": [
    "plt.scatter(cyclical(df_datetime[\"TimeSunRise\"].dt.minute, np.sin), \n",
    "           cyclical(df_datetime[\"TimeSunRise\"].dt.minute, np.cos))\n",
    "plt.axis(\"equal\")\n",
    "plt.show()"
   ]
  },
  {
   "cell_type": "code",
   "execution_count": 379,
   "id": "50a645a6",
   "metadata": {},
   "outputs": [],
   "source": [
    "df_new_datetime[\"TimeSunRiseHourSin\"] = cyclical(df_datetime[\"TimeSunRise\"].dt.minute, np.sin)\n",
    "df_new_datetime[\"TimeSunRiseHourCos\"] = cyclical(df_datetime[\"TimeSunRise\"].dt.minute, np.cos)"
   ]
  },
  {
   "cell_type": "code",
   "execution_count": 380,
   "id": "9acb4a0d",
   "metadata": {},
   "outputs": [],
   "source": [
    "df_new_datetime[\"UNIXTimeSin\"] = cyclical(df_datetime[\"UNIXTime\"], np.sin)\n",
    "df_new_datetime[\"UNIXTimeCos\"] = cyclical(df_datetime[\"UNIXTime\"], np.cos)"
   ]
  },
  {
   "cell_type": "code",
   "execution_count": 381,
   "id": "64296a4d",
   "metadata": {},
   "outputs": [
    {
     "data": {
      "text/html": [
       "<div>\n",
       "<style scoped>\n",
       "    .dataframe tbody tr th:only-of-type {\n",
       "        vertical-align: middle;\n",
       "    }\n",
       "\n",
       "    .dataframe tbody tr th {\n",
       "        vertical-align: top;\n",
       "    }\n",
       "\n",
       "    .dataframe thead th {\n",
       "        text-align: right;\n",
       "    }\n",
       "</style>\n",
       "<table border=\"1\" class=\"dataframe\">\n",
       "  <thead>\n",
       "    <tr style=\"text-align: right;\">\n",
       "      <th></th>\n",
       "      <th>DataMonth9</th>\n",
       "      <th>DataMonth10</th>\n",
       "      <th>DataMonth11</th>\n",
       "      <th>DataMonth12</th>\n",
       "      <th>TimeSunSetHour18</th>\n",
       "      <th>TimeSunSetHour17</th>\n",
       "      <th>DataDaySin</th>\n",
       "      <th>DataDayCos</th>\n",
       "      <th>TimeHourSin</th>\n",
       "      <th>TimeHourCos</th>\n",
       "      <th>TimeSunRiseHourSin</th>\n",
       "      <th>TimeSunRiseHourCos</th>\n",
       "      <th>UNIXTimeSin</th>\n",
       "      <th>UNIXTimeCos</th>\n",
       "    </tr>\n",
       "  </thead>\n",
       "  <tbody>\n",
       "    <tr>\n",
       "      <th>0</th>\n",
       "      <td>1</td>\n",
       "      <td>0</td>\n",
       "      <td>0</td>\n",
       "      <td>0</td>\n",
       "      <td>0</td>\n",
       "      <td>1</td>\n",
       "      <td>-0.394356</td>\n",
       "      <td>0.918958</td>\n",
       "      <td>-2.449294e-16</td>\n",
       "      <td>1.0</td>\n",
       "      <td>0.990522</td>\n",
       "      <td>0.137354</td>\n",
       "      <td>-0.034031</td>\n",
       "      <td>0.999421</td>\n",
       "    </tr>\n",
       "    <tr>\n",
       "      <th>1</th>\n",
       "      <td>1</td>\n",
       "      <td>0</td>\n",
       "      <td>0</td>\n",
       "      <td>0</td>\n",
       "      <td>0</td>\n",
       "      <td>1</td>\n",
       "      <td>-0.394356</td>\n",
       "      <td>0.918958</td>\n",
       "      <td>-2.449294e-16</td>\n",
       "      <td>1.0</td>\n",
       "      <td>0.990522</td>\n",
       "      <td>0.137354</td>\n",
       "      <td>-0.034032</td>\n",
       "      <td>0.999421</td>\n",
       "    </tr>\n",
       "    <tr>\n",
       "      <th>2</th>\n",
       "      <td>1</td>\n",
       "      <td>0</td>\n",
       "      <td>0</td>\n",
       "      <td>0</td>\n",
       "      <td>0</td>\n",
       "      <td>1</td>\n",
       "      <td>-0.394356</td>\n",
       "      <td>0.918958</td>\n",
       "      <td>-2.449294e-16</td>\n",
       "      <td>1.0</td>\n",
       "      <td>0.990522</td>\n",
       "      <td>0.137354</td>\n",
       "      <td>-0.034033</td>\n",
       "      <td>0.999421</td>\n",
       "    </tr>\n",
       "    <tr>\n",
       "      <th>3</th>\n",
       "      <td>1</td>\n",
       "      <td>0</td>\n",
       "      <td>0</td>\n",
       "      <td>0</td>\n",
       "      <td>0</td>\n",
       "      <td>1</td>\n",
       "      <td>-0.394356</td>\n",
       "      <td>0.918958</td>\n",
       "      <td>-2.449294e-16</td>\n",
       "      <td>1.0</td>\n",
       "      <td>0.990522</td>\n",
       "      <td>0.137354</td>\n",
       "      <td>-0.034035</td>\n",
       "      <td>0.999421</td>\n",
       "    </tr>\n",
       "    <tr>\n",
       "      <th>4</th>\n",
       "      <td>1</td>\n",
       "      <td>0</td>\n",
       "      <td>0</td>\n",
       "      <td>0</td>\n",
       "      <td>0</td>\n",
       "      <td>1</td>\n",
       "      <td>-0.394356</td>\n",
       "      <td>0.918958</td>\n",
       "      <td>-2.449294e-16</td>\n",
       "      <td>1.0</td>\n",
       "      <td>0.990522</td>\n",
       "      <td>0.137354</td>\n",
       "      <td>-0.034036</td>\n",
       "      <td>0.999421</td>\n",
       "    </tr>\n",
       "  </tbody>\n",
       "</table>\n",
       "</div>"
      ],
      "text/plain": [
       "   DataMonth9  DataMonth10  DataMonth11  DataMonth12  TimeSunSetHour18  \\\n",
       "0           1            0            0            0                 0   \n",
       "1           1            0            0            0                 0   \n",
       "2           1            0            0            0                 0   \n",
       "3           1            0            0            0                 0   \n",
       "4           1            0            0            0                 0   \n",
       "\n",
       "   TimeSunSetHour17  DataDaySin  DataDayCos   TimeHourSin  TimeHourCos  \\\n",
       "0                 1   -0.394356    0.918958 -2.449294e-16          1.0   \n",
       "1                 1   -0.394356    0.918958 -2.449294e-16          1.0   \n",
       "2                 1   -0.394356    0.918958 -2.449294e-16          1.0   \n",
       "3                 1   -0.394356    0.918958 -2.449294e-16          1.0   \n",
       "4                 1   -0.394356    0.918958 -2.449294e-16          1.0   \n",
       "\n",
       "   TimeSunRiseHourSin  TimeSunRiseHourCos  UNIXTimeSin  UNIXTimeCos  \n",
       "0            0.990522            0.137354    -0.034031     0.999421  \n",
       "1            0.990522            0.137354    -0.034032     0.999421  \n",
       "2            0.990522            0.137354    -0.034033     0.999421  \n",
       "3            0.990522            0.137354    -0.034035     0.999421  \n",
       "4            0.990522            0.137354    -0.034036     0.999421  "
      ]
     },
     "execution_count": 381,
     "metadata": {},
     "output_type": "execute_result"
    }
   ],
   "source": [
    "df_new_datetime.head()"
   ]
  },
  {
   "cell_type": "code",
   "execution_count": 382,
   "id": "72c8f8ff",
   "metadata": {},
   "outputs": [],
   "source": [
    "df_solar_energy = pd.concat([df_solar_energy, df_new_datetime], axis=1)"
   ]
  },
  {
   "cell_type": "markdown",
   "id": "02a0096a",
   "metadata": {},
   "source": [
    "#### Remove the redundunt features"
   ]
  },
  {
   "cell_type": "markdown",
   "id": "31de7e53",
   "metadata": {},
   "source": [
    "Now that we made datetime features cyclical we can remove the original features."
   ]
  },
  {
   "cell_type": "code",
   "execution_count": 383,
   "id": "646f1d8c",
   "metadata": {},
   "outputs": [],
   "source": [
    "# TODO\n",
    "df_solar_energy.pop(\"UNIXTime\")\n",
    "df_solar_energy.pop(\"Time\")\n",
    "df_solar_energy.pop(\"Data\")\n",
    "df_solar_energy.pop(\"TimeSunRise\")\n",
    "df_solar_energy.pop(\"TimeSunSet\");"
   ]
  },
  {
   "cell_type": "code",
   "execution_count": 384,
   "id": "e4237573",
   "metadata": {},
   "outputs": [
    {
     "data": {
      "text/html": [
       "<div>\n",
       "<style scoped>\n",
       "    .dataframe tbody tr th:only-of-type {\n",
       "        vertical-align: middle;\n",
       "    }\n",
       "\n",
       "    .dataframe tbody tr th {\n",
       "        vertical-align: top;\n",
       "    }\n",
       "\n",
       "    .dataframe thead th {\n",
       "        text-align: right;\n",
       "    }\n",
       "</style>\n",
       "<table border=\"1\" class=\"dataframe\">\n",
       "  <thead>\n",
       "    <tr style=\"text-align: right;\">\n",
       "      <th></th>\n",
       "      <th>Radiation</th>\n",
       "      <th>Temperature</th>\n",
       "      <th>Pressure</th>\n",
       "      <th>Humidity</th>\n",
       "      <th>WindDirection(Degrees)</th>\n",
       "      <th>Speed</th>\n",
       "      <th>DataMonth9</th>\n",
       "      <th>DataMonth10</th>\n",
       "      <th>DataMonth11</th>\n",
       "      <th>DataMonth12</th>\n",
       "      <th>TimeSunSetHour18</th>\n",
       "      <th>TimeSunSetHour17</th>\n",
       "      <th>DataDaySin</th>\n",
       "      <th>DataDayCos</th>\n",
       "      <th>TimeHourSin</th>\n",
       "      <th>TimeHourCos</th>\n",
       "      <th>TimeSunRiseHourSin</th>\n",
       "      <th>TimeSunRiseHourCos</th>\n",
       "      <th>UNIXTimeSin</th>\n",
       "      <th>UNIXTimeCos</th>\n",
       "    </tr>\n",
       "  </thead>\n",
       "  <tbody>\n",
       "    <tr>\n",
       "      <th>0</th>\n",
       "      <td>1.21</td>\n",
       "      <td>48</td>\n",
       "      <td>30.46</td>\n",
       "      <td>59</td>\n",
       "      <td>177.39</td>\n",
       "      <td>5.62</td>\n",
       "      <td>1</td>\n",
       "      <td>0</td>\n",
       "      <td>0</td>\n",
       "      <td>0</td>\n",
       "      <td>0</td>\n",
       "      <td>1</td>\n",
       "      <td>-0.394356</td>\n",
       "      <td>0.918958</td>\n",
       "      <td>-2.449294e-16</td>\n",
       "      <td>1.0</td>\n",
       "      <td>0.990522</td>\n",
       "      <td>0.137354</td>\n",
       "      <td>-0.034031</td>\n",
       "      <td>0.999421</td>\n",
       "    </tr>\n",
       "    <tr>\n",
       "      <th>1</th>\n",
       "      <td>1.21</td>\n",
       "      <td>48</td>\n",
       "      <td>30.46</td>\n",
       "      <td>58</td>\n",
       "      <td>176.78</td>\n",
       "      <td>3.37</td>\n",
       "      <td>1</td>\n",
       "      <td>0</td>\n",
       "      <td>0</td>\n",
       "      <td>0</td>\n",
       "      <td>0</td>\n",
       "      <td>1</td>\n",
       "      <td>-0.394356</td>\n",
       "      <td>0.918958</td>\n",
       "      <td>-2.449294e-16</td>\n",
       "      <td>1.0</td>\n",
       "      <td>0.990522</td>\n",
       "      <td>0.137354</td>\n",
       "      <td>-0.034032</td>\n",
       "      <td>0.999421</td>\n",
       "    </tr>\n",
       "    <tr>\n",
       "      <th>2</th>\n",
       "      <td>1.23</td>\n",
       "      <td>48</td>\n",
       "      <td>30.46</td>\n",
       "      <td>57</td>\n",
       "      <td>158.75</td>\n",
       "      <td>3.37</td>\n",
       "      <td>1</td>\n",
       "      <td>0</td>\n",
       "      <td>0</td>\n",
       "      <td>0</td>\n",
       "      <td>0</td>\n",
       "      <td>1</td>\n",
       "      <td>-0.394356</td>\n",
       "      <td>0.918958</td>\n",
       "      <td>-2.449294e-16</td>\n",
       "      <td>1.0</td>\n",
       "      <td>0.990522</td>\n",
       "      <td>0.137354</td>\n",
       "      <td>-0.034033</td>\n",
       "      <td>0.999421</td>\n",
       "    </tr>\n",
       "    <tr>\n",
       "      <th>3</th>\n",
       "      <td>1.21</td>\n",
       "      <td>48</td>\n",
       "      <td>30.46</td>\n",
       "      <td>60</td>\n",
       "      <td>137.71</td>\n",
       "      <td>3.37</td>\n",
       "      <td>1</td>\n",
       "      <td>0</td>\n",
       "      <td>0</td>\n",
       "      <td>0</td>\n",
       "      <td>0</td>\n",
       "      <td>1</td>\n",
       "      <td>-0.394356</td>\n",
       "      <td>0.918958</td>\n",
       "      <td>-2.449294e-16</td>\n",
       "      <td>1.0</td>\n",
       "      <td>0.990522</td>\n",
       "      <td>0.137354</td>\n",
       "      <td>-0.034035</td>\n",
       "      <td>0.999421</td>\n",
       "    </tr>\n",
       "    <tr>\n",
       "      <th>4</th>\n",
       "      <td>1.17</td>\n",
       "      <td>48</td>\n",
       "      <td>30.46</td>\n",
       "      <td>62</td>\n",
       "      <td>104.95</td>\n",
       "      <td>5.62</td>\n",
       "      <td>1</td>\n",
       "      <td>0</td>\n",
       "      <td>0</td>\n",
       "      <td>0</td>\n",
       "      <td>0</td>\n",
       "      <td>1</td>\n",
       "      <td>-0.394356</td>\n",
       "      <td>0.918958</td>\n",
       "      <td>-2.449294e-16</td>\n",
       "      <td>1.0</td>\n",
       "      <td>0.990522</td>\n",
       "      <td>0.137354</td>\n",
       "      <td>-0.034036</td>\n",
       "      <td>0.999421</td>\n",
       "    </tr>\n",
       "  </tbody>\n",
       "</table>\n",
       "</div>"
      ],
      "text/plain": [
       "   Radiation  Temperature  Pressure  Humidity  WindDirection(Degrees)  Speed  \\\n",
       "0       1.21           48     30.46        59                  177.39   5.62   \n",
       "1       1.21           48     30.46        58                  176.78   3.37   \n",
       "2       1.23           48     30.46        57                  158.75   3.37   \n",
       "3       1.21           48     30.46        60                  137.71   3.37   \n",
       "4       1.17           48     30.46        62                  104.95   5.62   \n",
       "\n",
       "   DataMonth9  DataMonth10  DataMonth11  DataMonth12  TimeSunSetHour18  \\\n",
       "0           1            0            0            0                 0   \n",
       "1           1            0            0            0                 0   \n",
       "2           1            0            0            0                 0   \n",
       "3           1            0            0            0                 0   \n",
       "4           1            0            0            0                 0   \n",
       "\n",
       "   TimeSunSetHour17  DataDaySin  DataDayCos   TimeHourSin  TimeHourCos  \\\n",
       "0                 1   -0.394356    0.918958 -2.449294e-16          1.0   \n",
       "1                 1   -0.394356    0.918958 -2.449294e-16          1.0   \n",
       "2                 1   -0.394356    0.918958 -2.449294e-16          1.0   \n",
       "3                 1   -0.394356    0.918958 -2.449294e-16          1.0   \n",
       "4                 1   -0.394356    0.918958 -2.449294e-16          1.0   \n",
       "\n",
       "   TimeSunRiseHourSin  TimeSunRiseHourCos  UNIXTimeSin  UNIXTimeCos  \n",
       "0            0.990522            0.137354    -0.034031     0.999421  \n",
       "1            0.990522            0.137354    -0.034032     0.999421  \n",
       "2            0.990522            0.137354    -0.034033     0.999421  \n",
       "3            0.990522            0.137354    -0.034035     0.999421  \n",
       "4            0.990522            0.137354    -0.034036     0.999421  "
      ]
     },
     "execution_count": 384,
     "metadata": {},
     "output_type": "execute_result"
    }
   ],
   "source": [
    "df_solar_energy.head()"
   ]
  },
  {
   "cell_type": "markdown",
   "id": "d501619a",
   "metadata": {},
   "source": [
    "#### Choose the Radiation column as target variable"
   ]
  },
  {
   "cell_type": "code",
   "execution_count": 385,
   "id": "66d174ed",
   "metadata": {},
   "outputs": [],
   "source": [
    "# TODO\n",
    "y = df_solar_energy.pop(\"Radiation\")"
   ]
  },
  {
   "cell_type": "markdown",
   "id": "b5e33724",
   "metadata": {},
   "source": [
    "#### Scale the dataframe with an appropriate scaler"
   ]
  },
  {
   "cell_type": "code",
   "execution_count": 386,
   "id": "90e3bf00",
   "metadata": {},
   "outputs": [],
   "source": [
    "from sklearn.preprocessing import MinMaxScaler, StandardScaler"
   ]
  },
  {
   "cell_type": "code",
   "execution_count": 387,
   "id": "84f76647",
   "metadata": {},
   "outputs": [
    {
     "data": {
      "text/plain": [
       "(array([], dtype=int64), array([], dtype=int64))"
      ]
     },
     "execution_count": 387,
     "metadata": {},
     "output_type": "execute_result"
    }
   ],
   "source": [
    "# TODO\n",
    "# no nan values\n",
    "np.where(df_solar_energy == np.nan)"
   ]
  },
  {
   "cell_type": "code",
   "execution_count": 397,
   "id": "6ecf7a29",
   "metadata": {},
   "outputs": [],
   "source": [
    "# the datetime objects have been preprocessed, so take the other columns\n",
    "\n",
    "features = [\"Temperature\", \"Pressure\", \n",
    "            \"Humidity\", \"WindDirection(Degrees)\", \"Speed\"]\n",
    "\n",
    "for feat in features:\n",
    "    if np.all(df_solar_energy[feat] >= 0):\n",
    "        scaler = MinMaxScaler()\n",
    "    else:\n",
    "        scaler = StandardScaler()\n",
    "        \n",
    "    df_solar_energy[feat] = scaler.fit_transform(df_solar_energy[feat].values.reshape(-1, 1))"
   ]
  },
  {
   "cell_type": "code",
   "execution_count": 398,
   "id": "d5c8eed0",
   "metadata": {},
   "outputs": [
    {
     "data": {
      "text/html": [
       "<div>\n",
       "<style scoped>\n",
       "    .dataframe tbody tr th:only-of-type {\n",
       "        vertical-align: middle;\n",
       "    }\n",
       "\n",
       "    .dataframe tbody tr th {\n",
       "        vertical-align: top;\n",
       "    }\n",
       "\n",
       "    .dataframe thead th {\n",
       "        text-align: right;\n",
       "    }\n",
       "</style>\n",
       "<table border=\"1\" class=\"dataframe\">\n",
       "  <thead>\n",
       "    <tr style=\"text-align: right;\">\n",
       "      <th></th>\n",
       "      <th>Temperature</th>\n",
       "      <th>Pressure</th>\n",
       "      <th>Humidity</th>\n",
       "      <th>WindDirection(Degrees)</th>\n",
       "      <th>Speed</th>\n",
       "      <th>DataMonth9</th>\n",
       "      <th>DataMonth10</th>\n",
       "      <th>DataMonth11</th>\n",
       "      <th>DataMonth12</th>\n",
       "      <th>TimeSunSetHour18</th>\n",
       "      <th>TimeSunSetHour17</th>\n",
       "      <th>DataDaySin</th>\n",
       "      <th>DataDayCos</th>\n",
       "      <th>TimeHourSin</th>\n",
       "      <th>TimeHourCos</th>\n",
       "      <th>TimeSunRiseHourSin</th>\n",
       "      <th>TimeSunRiseHourCos</th>\n",
       "      <th>UNIXTimeSin</th>\n",
       "      <th>UNIXTimeCos</th>\n",
       "    </tr>\n",
       "  </thead>\n",
       "  <tbody>\n",
       "    <tr>\n",
       "      <th>0</th>\n",
       "      <td>0.378378</td>\n",
       "      <td>0.72973</td>\n",
       "      <td>0.536842</td>\n",
       "      <td>0.492692</td>\n",
       "      <td>0.138765</td>\n",
       "      <td>1</td>\n",
       "      <td>0</td>\n",
       "      <td>0</td>\n",
       "      <td>0</td>\n",
       "      <td>0</td>\n",
       "      <td>1</td>\n",
       "      <td>-0.394356</td>\n",
       "      <td>0.918958</td>\n",
       "      <td>-2.449294e-16</td>\n",
       "      <td>1.0</td>\n",
       "      <td>0.990522</td>\n",
       "      <td>0.137354</td>\n",
       "      <td>-0.034031</td>\n",
       "      <td>0.999421</td>\n",
       "    </tr>\n",
       "    <tr>\n",
       "      <th>1</th>\n",
       "      <td>0.378378</td>\n",
       "      <td>0.72973</td>\n",
       "      <td>0.526316</td>\n",
       "      <td>0.490996</td>\n",
       "      <td>0.083210</td>\n",
       "      <td>1</td>\n",
       "      <td>0</td>\n",
       "      <td>0</td>\n",
       "      <td>0</td>\n",
       "      <td>0</td>\n",
       "      <td>1</td>\n",
       "      <td>-0.394356</td>\n",
       "      <td>0.918958</td>\n",
       "      <td>-2.449294e-16</td>\n",
       "      <td>1.0</td>\n",
       "      <td>0.990522</td>\n",
       "      <td>0.137354</td>\n",
       "      <td>-0.034032</td>\n",
       "      <td>0.999421</td>\n",
       "    </tr>\n",
       "    <tr>\n",
       "      <th>2</th>\n",
       "      <td>0.378378</td>\n",
       "      <td>0.72973</td>\n",
       "      <td>0.515789</td>\n",
       "      <td>0.440894</td>\n",
       "      <td>0.083210</td>\n",
       "      <td>1</td>\n",
       "      <td>0</td>\n",
       "      <td>0</td>\n",
       "      <td>0</td>\n",
       "      <td>0</td>\n",
       "      <td>1</td>\n",
       "      <td>-0.394356</td>\n",
       "      <td>0.918958</td>\n",
       "      <td>-2.449294e-16</td>\n",
       "      <td>1.0</td>\n",
       "      <td>0.990522</td>\n",
       "      <td>0.137354</td>\n",
       "      <td>-0.034033</td>\n",
       "      <td>0.999421</td>\n",
       "    </tr>\n",
       "    <tr>\n",
       "      <th>3</th>\n",
       "      <td>0.378378</td>\n",
       "      <td>0.72973</td>\n",
       "      <td>0.547368</td>\n",
       "      <td>0.382426</td>\n",
       "      <td>0.083210</td>\n",
       "      <td>1</td>\n",
       "      <td>0</td>\n",
       "      <td>0</td>\n",
       "      <td>0</td>\n",
       "      <td>0</td>\n",
       "      <td>1</td>\n",
       "      <td>-0.394356</td>\n",
       "      <td>0.918958</td>\n",
       "      <td>-2.449294e-16</td>\n",
       "      <td>1.0</td>\n",
       "      <td>0.990522</td>\n",
       "      <td>0.137354</td>\n",
       "      <td>-0.034035</td>\n",
       "      <td>0.999421</td>\n",
       "    </tr>\n",
       "    <tr>\n",
       "      <th>4</th>\n",
       "      <td>0.378378</td>\n",
       "      <td>0.72973</td>\n",
       "      <td>0.568421</td>\n",
       "      <td>0.291391</td>\n",
       "      <td>0.138765</td>\n",
       "      <td>1</td>\n",
       "      <td>0</td>\n",
       "      <td>0</td>\n",
       "      <td>0</td>\n",
       "      <td>0</td>\n",
       "      <td>1</td>\n",
       "      <td>-0.394356</td>\n",
       "      <td>0.918958</td>\n",
       "      <td>-2.449294e-16</td>\n",
       "      <td>1.0</td>\n",
       "      <td>0.990522</td>\n",
       "      <td>0.137354</td>\n",
       "      <td>-0.034036</td>\n",
       "      <td>0.999421</td>\n",
       "    </tr>\n",
       "  </tbody>\n",
       "</table>\n",
       "</div>"
      ],
      "text/plain": [
       "   Temperature  Pressure  Humidity  WindDirection(Degrees)     Speed  \\\n",
       "0     0.378378   0.72973  0.536842                0.492692  0.138765   \n",
       "1     0.378378   0.72973  0.526316                0.490996  0.083210   \n",
       "2     0.378378   0.72973  0.515789                0.440894  0.083210   \n",
       "3     0.378378   0.72973  0.547368                0.382426  0.083210   \n",
       "4     0.378378   0.72973  0.568421                0.291391  0.138765   \n",
       "\n",
       "   DataMonth9  DataMonth10  DataMonth11  DataMonth12  TimeSunSetHour18  \\\n",
       "0           1            0            0            0                 0   \n",
       "1           1            0            0            0                 0   \n",
       "2           1            0            0            0                 0   \n",
       "3           1            0            0            0                 0   \n",
       "4           1            0            0            0                 0   \n",
       "\n",
       "   TimeSunSetHour17  DataDaySin  DataDayCos   TimeHourSin  TimeHourCos  \\\n",
       "0                 1   -0.394356    0.918958 -2.449294e-16          1.0   \n",
       "1                 1   -0.394356    0.918958 -2.449294e-16          1.0   \n",
       "2                 1   -0.394356    0.918958 -2.449294e-16          1.0   \n",
       "3                 1   -0.394356    0.918958 -2.449294e-16          1.0   \n",
       "4                 1   -0.394356    0.918958 -2.449294e-16          1.0   \n",
       "\n",
       "   TimeSunRiseHourSin  TimeSunRiseHourCos  UNIXTimeSin  UNIXTimeCos  \n",
       "0            0.990522            0.137354    -0.034031     0.999421  \n",
       "1            0.990522            0.137354    -0.034032     0.999421  \n",
       "2            0.990522            0.137354    -0.034033     0.999421  \n",
       "3            0.990522            0.137354    -0.034035     0.999421  \n",
       "4            0.990522            0.137354    -0.034036     0.999421  "
      ]
     },
     "execution_count": 398,
     "metadata": {},
     "output_type": "execute_result"
    }
   ],
   "source": [
    "df_solar_energy.head()"
   ]
  },
  {
   "cell_type": "markdown",
   "id": "aacf7cd6",
   "metadata": {},
   "source": [
    "#### Divide the dataset into training and testing sets: 50/50\n",
    "#### Specify a random state"
   ]
  },
  {
   "cell_type": "code",
   "execution_count": 399,
   "id": "309fe625",
   "metadata": {},
   "outputs": [],
   "source": [
    "from sklearn.model_selection import train_test_split"
   ]
  },
  {
   "cell_type": "code",
   "execution_count": 558,
   "id": "fcdbf955",
   "metadata": {},
   "outputs": [
    {
     "data": {
      "text/plain": [
       "((4000, 19), (4000, 19), (4000,), (4000,))"
      ]
     },
     "execution_count": 558,
     "metadata": {},
     "output_type": "execute_result"
    }
   ],
   "source": [
    "# TODO\n",
    "# sice the GP is taking too long to train, let's take a sample from dataset.\n",
    "SAMPLE_SIZE = 8000\n",
    "RANDOM_STATE = 0\n",
    "\n",
    "X_train, X_test, y_train, y_test = train_test_split(df_solar_energy[:SAMPLE_SIZE], \n",
    "                                                    y[:SAMPLE_SIZE], \n",
    "                                                    random_state=RANDOM_STATE, test_size=0.5, shuffle=True)\n",
    "X_train.shape, X_test.shape, y_train.shape, y_test.shape"
   ]
  },
  {
   "cell_type": "markdown",
   "id": "55ce48cb",
   "metadata": {},
   "source": [
    "#### Fit a GaussianProcessRegression on Training set\n",
    "#### Specify a random state"
   ]
  },
  {
   "cell_type": "code",
   "execution_count": 509,
   "id": "e5b764d7",
   "metadata": {},
   "outputs": [],
   "source": [
    "from sklearn.gaussian_process import GaussianProcessRegressor\n",
    "from sklearn.gaussian_process.kernels import DotProduct, WhiteKernel\n",
    "from sklearn.metrics import mean_squared_error, r2_score"
   ]
  },
  {
   "cell_type": "code",
   "execution_count": 510,
   "id": "d2667433",
   "metadata": {},
   "outputs": [
    {
     "name": "stderr",
     "output_type": "stream",
     "text": [
      "/usr/local/lib/python3.9/site-packages/sklearn/gaussian_process/kernels.py:411: ConvergenceWarning: The optimal value found for dimension 0 of parameter k2__noise_level is close to the specified upper bound 100000.0. Increasing the bound and calling fit again may find a better value.\n",
      "  warnings.warn(\"The optimal value found for \"\n"
     ]
    },
    {
     "data": {
      "text/plain": [
       "GaussianProcessRegressor(kernel=DotProduct(sigma_0=1) + WhiteKernel(noise_level=1),\n",
       "                         random_state=0)"
      ]
     },
     "execution_count": 510,
     "metadata": {},
     "output_type": "execute_result"
    }
   ],
   "source": [
    "# TODO\n",
    "kernel = DotProduct() + WhiteKernel()\n",
    "\n",
    "gpr = GaussianProcessRegressor(kernel=kernel, random_state=RANDOM_STATE)\n",
    "gpr.fit(X_train, y_train)"
   ]
  },
  {
   "cell_type": "code",
   "execution_count": 511,
   "id": "6e678520",
   "metadata": {},
   "outputs": [
    {
     "data": {
      "text/plain": [
       "0.026550623901599124"
      ]
     },
     "execution_count": 511,
     "metadata": {},
     "output_type": "execute_result"
    }
   ],
   "source": [
    "gpr.score(X_train, y_train)"
   ]
  },
  {
   "cell_type": "markdown",
   "id": "d99d300d",
   "metadata": {},
   "source": [
    "#### Evaluate the model with mse and R_squared on Test set"
   ]
  },
  {
   "cell_type": "code",
   "execution_count": 512,
   "id": "93122428",
   "metadata": {},
   "outputs": [
    {
     "name": "stdout",
     "output_type": "stream",
     "text": [
      "Mean squared errer 114623.20323815712\n",
      "r squared error 0.026277817456076824\n"
     ]
    }
   ],
   "source": [
    "# TODO\n",
    "print(\"Mean squared errer\", mean_squared_error(y_test, gpr.predict(X_test)))\n",
    "print(\"r squared error\", r2_score(y_test, gpr.predict(X_test)))"
   ]
  },
  {
   "cell_type": "markdown",
   "id": "eb9aec31",
   "metadata": {},
   "source": [
    "#### Fit a LinearRegression on Training set\n",
    "#### Specify a random state"
   ]
  },
  {
   "cell_type": "code",
   "execution_count": 516,
   "id": "f5dcc132",
   "metadata": {},
   "outputs": [],
   "source": [
    "from sklearn.linear_model import Ridge, Lasso, LinearRegression\n",
    "from sklearn.model_selection import GridSearchCV"
   ]
  },
  {
   "cell_type": "code",
   "execution_count": 561,
   "id": "5e6d63a8",
   "metadata": {},
   "outputs": [
    {
     "data": {
      "text/plain": [
       "GridSearchCV(estimator=Ridge(random_state=0),\n",
       "             param_grid={'alpha': array([ 0.        ,  0.50505051,  1.01010101,  1.51515152,  2.02020202,\n",
       "        2.52525253,  3.03030303,  3.53535354,  4.04040404,  4.54545455,\n",
       "        5.05050505,  5.55555556,  6.06060606,  6.56565657,  7.07070707,\n",
       "        7.57575758,  8.08080808,  8.58585859,  9.09090909,  9.5959596 ,\n",
       "       10.1010101 , 10.60606061, 11.11111111, 11.61616162, 12.12121212,\n",
       "       12.62626...\n",
       "       35.35353535, 35.85858586, 36.36363636, 36.86868687, 37.37373737,\n",
       "       37.87878788, 38.38383838, 38.88888889, 39.39393939, 39.8989899 ,\n",
       "       40.4040404 , 40.90909091, 41.41414141, 41.91919192, 42.42424242,\n",
       "       42.92929293, 43.43434343, 43.93939394, 44.44444444, 44.94949495,\n",
       "       45.45454545, 45.95959596, 46.46464646, 46.96969697, 47.47474747,\n",
       "       47.97979798, 48.48484848, 48.98989899, 49.49494949, 50.        ])},\n",
       "             scoring='r2')"
      ]
     },
     "execution_count": 561,
     "metadata": {},
     "output_type": "execute_result"
    }
   ],
   "source": [
    "# TODO\n",
    "\n",
    "grid_params = {\"alpha\" : np.linspace(0.0, 50, 100)}\n",
    "\n",
    "lin_reg = Ridge(random_state=0)\n",
    "search = GridSearchCV(lin_reg, param_grid=grid_params, scoring=\"r2\")\n",
    "\n",
    "search.fit(X_train, y_train)"
   ]
  },
  {
   "cell_type": "code",
   "execution_count": 562,
   "id": "127e0315",
   "metadata": {},
   "outputs": [
    {
     "data": {
      "text/plain": [
       "(Ridge(alpha=0.0, random_state=0), 0.7424409372401933, {'alpha': 0.0})"
      ]
     },
     "execution_count": 562,
     "metadata": {},
     "output_type": "execute_result"
    }
   ],
   "source": [
    "search.best_estimator_, search.best_score_, search.best_params_"
   ]
  },
  {
   "cell_type": "code",
   "execution_count": 563,
   "id": "204ab83f",
   "metadata": {},
   "outputs": [
    {
     "data": {
      "text/plain": [
       "Ridge(alpha=50)"
      ]
     },
     "execution_count": 563,
     "metadata": {},
     "output_type": "execute_result"
    }
   ],
   "source": [
    "lin_reg = Ridge(50)\n",
    "lin_reg.fit(X_train, y_train)"
   ]
  },
  {
   "cell_type": "code",
   "execution_count": 564,
   "id": "babd22df",
   "metadata": {},
   "outputs": [
    {
     "name": "stdout",
     "output_type": "stream",
     "text": [
      "GP Mean squared errer 111703.94001492769\n",
      "GP r squared error 0.05107690940988563\n",
      "Ridge Mean squared errer 34061.43048540565\n",
      "Ridge squared error 0.7106487212374771\n"
     ]
    }
   ],
   "source": [
    "print(\"GP Mean squared errer\", mean_squared_error(y_test, gpr.predict(X_test)))\n",
    "print(\"GP r squared error\", r2_score(y_test, gpr.predict(X_test)))\n",
    "print(\"Ridge Mean squared errer\", mean_squared_error(y_test, lin_reg.predict(X_test)))\n",
    "print(\"Ridge squared error\", r2_score(y_test, lin_reg.predict(X_test)))"
   ]
  },
  {
   "cell_type": "markdown",
   "id": "2e43387c",
   "metadata": {},
   "source": [
    "#### Evaluate the model with mse and R_squared on Test set and compare the results with the results of GaussionProcessRegressor"
   ]
  },
  {
   "cell_type": "code",
   "execution_count": 540,
   "id": "98c93956",
   "metadata": {},
   "outputs": [],
   "source": [
    "# TODO"
   ]
  },
  {
   "cell_type": "markdown",
   "id": "ab6d257a",
   "metadata": {},
   "source": [
    "RidgeRegression is doing worse than GP. It is expected, because we use kernels with GP that can learn non linear data, but linear regression cannot."
   ]
  },
  {
   "cell_type": "markdown",
   "id": "1710d827",
   "metadata": {},
   "source": [
    "#### Divide the dataset into training and testing sets: 1/99\n",
    "#### Fit the above models with the same random state on training set, evaluate the models with same metrics and see the comparison."
   ]
  },
  {
   "cell_type": "code",
   "execution_count": 545,
   "id": "ea23997c",
   "metadata": {},
   "outputs": [
    {
     "data": {
      "text/plain": [
       "((7920, 19), (80, 19), (7920,), (80,))"
      ]
     },
     "execution_count": 545,
     "metadata": {},
     "output_type": "execute_result"
    }
   ],
   "source": [
    "X_train, X_test, y_train, y_test = train_test_split(df_solar_energy[:SAMPLE_SIZE], \n",
    "                                                    y[:SAMPLE_SIZE], \n",
    "                                                    random_state=RANDOM_STATE, test_size=0.01, shuffle=True)\n",
    "X_train.shape, X_test.shape, y_train.shape, y_test.shape"
   ]
  },
  {
   "cell_type": "code",
   "execution_count": 546,
   "id": "c5a9014d",
   "metadata": {},
   "outputs": [
    {
     "name": "stderr",
     "output_type": "stream",
     "text": [
      "/usr/local/lib/python3.9/site-packages/sklearn/gaussian_process/kernels.py:411: ConvergenceWarning: The optimal value found for dimension 0 of parameter k1__sigma_0 is close to the specified upper bound 100000.0. Increasing the bound and calling fit again may find a better value.\n",
      "  warnings.warn(\"The optimal value found for \"\n",
      "/usr/local/lib/python3.9/site-packages/sklearn/gaussian_process/kernels.py:411: ConvergenceWarning: The optimal value found for dimension 0 of parameter k2__noise_level is close to the specified upper bound 100000.0. Increasing the bound and calling fit again may find a better value.\n",
      "  warnings.warn(\"The optimal value found for \"\n"
     ]
    },
    {
     "data": {
      "text/plain": [
       "GaussianProcessRegressor(kernel=DotProduct(sigma_0=1) + WhiteKernel(noise_level=1),\n",
       "                         random_state=0)"
      ]
     },
     "execution_count": 546,
     "metadata": {},
     "output_type": "execute_result"
    }
   ],
   "source": [
    "kernel = DotProduct() + WhiteKernel()\n",
    "\n",
    "gpr = GaussianProcessRegressor(kernel=kernel, random_state=RANDOM_STATE)\n",
    "gpr.fit(X_train, y_train)"
   ]
  },
  {
   "cell_type": "code",
   "execution_count": 552,
   "id": "9ff44968",
   "metadata": {},
   "outputs": [
    {
     "data": {
      "text/plain": [
       "(Ridge(alpha=0.0, random_state=0), 0.740339280178399, {'alpha': 0.0})"
      ]
     },
     "execution_count": 552,
     "metadata": {},
     "output_type": "execute_result"
    }
   ],
   "source": [
    "grid_params = {\"alpha\" : np.linspace(0.0, 50, 100)}\n",
    "\n",
    "lin_reg = Ridge(random_state=0)\n",
    "search = GridSearchCV(lin_reg, param_grid=grid_params, scoring=\"r2\")\n",
    "\n",
    "search.fit(X_train, y_train)\n",
    "\n",
    "search.best_estimator_, search.best_score_, search.best_params_"
   ]
  },
  {
   "cell_type": "code",
   "execution_count": 556,
   "id": "df80e12d",
   "metadata": {},
   "outputs": [
    {
     "data": {
      "text/plain": [
       "Ridge(alpha=0.0)"
      ]
     },
     "execution_count": 556,
     "metadata": {},
     "output_type": "execute_result"
    }
   ],
   "source": [
    "lin_reg = Ridge(alpha=0.0)\n",
    "lin_reg.fit(X_train, y_train)"
   ]
  },
  {
   "cell_type": "code",
   "execution_count": 557,
   "id": "ee1b69ec",
   "metadata": {},
   "outputs": [
    {
     "name": "stdout",
     "output_type": "stream",
     "text": [
      "GP Mean squared errer 115015.70306289506\n",
      "GP r squared error 0.05198627783954013\n",
      "Ridge Mean squared errer 27647.3943325\n",
      "Ridge squared error 0.7721171239125616\n"
     ]
    }
   ],
   "source": [
    "print(\"GP Mean squared errer\", mean_squared_error(y_test, gpr.predict(X_test)))\n",
    "print(\"GP r squared error\", r2_score(y_test, gpr.predict(X_test)))\n",
    "print(\"Ridge Mean squared errer\", mean_squared_error(y_test, lin_reg.predict(X_test)))\n",
    "print(\"Ridge squared error\", r2_score(y_test, lin_reg.predict(X_test)))"
   ]
  },
  {
   "cell_type": "markdown",
   "id": "bd4bbebc",
   "metadata": {},
   "source": [
    "In conclusion, we can see that linear regression improved a lot given more data, but the metrics for GP have relatively the same results. This indicates that GP learns much better than linear regresssion."
   ]
  },
  {
   "cell_type": "code",
   "execution_count": null,
   "id": "9f1a7a81",
   "metadata": {},
   "outputs": [],
   "source": []
  }
 ],
 "metadata": {
  "kernelspec": {
   "display_name": "Python 3 (ipykernel)",
   "language": "python",
   "name": "python3"
  },
  "language_info": {
   "codemirror_mode": {
    "name": "ipython",
    "version": 3
   },
   "file_extension": ".py",
   "mimetype": "text/x-python",
   "name": "python",
   "nbconvert_exporter": "python",
   "pygments_lexer": "ipython3",
   "version": "3.9.9"
  }
 },
 "nbformat": 4,
 "nbformat_minor": 5
}
