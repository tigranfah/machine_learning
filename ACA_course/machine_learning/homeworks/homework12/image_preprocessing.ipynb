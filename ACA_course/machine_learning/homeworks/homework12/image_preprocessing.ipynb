{
 "cells": [
  {
   "cell_type": "code",
   "execution_count": 18,
   "id": "47a928b8",
   "metadata": {},
   "outputs": [],
   "source": [
    "import numpy as np\n",
    "import pandas as pd\n",
    "import matplotlib.pyplot as plt\n",
    "import cv2\n",
    "from PIL import Image\n",
    "\n",
    "import gc\n",
    "import os\n",
    "import time\n",
    "from pathlib import Path"
   ]
  },
  {
   "cell_type": "code",
   "execution_count": 19,
   "id": "91cd5850",
   "metadata": {},
   "outputs": [],
   "source": [
    "DATASET_DIR = \"../../../../datasets/people/\""
   ]
  },
  {
   "cell_type": "code",
   "execution_count": 20,
   "id": "79dafb17",
   "metadata": {},
   "outputs": [
    {
     "data": {
      "text/plain": [
       "['Boys', 'Women', 'Girls', 'Men']"
      ]
     },
     "execution_count": 20,
     "metadata": {},
     "output_type": "execute_result"
    }
   ],
   "source": [
    "SUBDIRS = os.listdir(DATASET_DIR)\n",
    "SUBDIRS"
   ]
  },
  {
   "cell_type": "code",
   "execution_count": 31,
   "id": "9dbd96bd",
   "metadata": {},
   "outputs": [],
   "source": [
    "!mkdir \"../../../../datasets/people/BoysResized\"\n",
    "!mkdir \"../../../../datasets/people/MenResized\"\n",
    "!mkdir \"../../../../datasets/people/WomenResized\"\n",
    "!mkdir \"../../../../datasets/people/GirlsResized\""
   ]
  },
  {
   "cell_type": "code",
   "execution_count": 32,
   "id": "033d326d",
   "metadata": {},
   "outputs": [],
   "source": [
    "img_iter = Path(DATASET_DIR + \"/\" + \"Men\").glob(\"*\")"
   ]
  },
  {
   "cell_type": "code",
   "execution_count": 33,
   "id": "83060d23",
   "metadata": {},
   "outputs": [
    {
     "data": {
      "text/plain": [
       "'1066.jpg'"
      ]
     },
     "execution_count": 33,
     "metadata": {},
     "output_type": "execute_result"
    }
   ],
   "source": [
    "next(img_iter).name"
   ]
  },
  {
   "cell_type": "code",
   "execution_count": 35,
   "id": "a28e0e6a",
   "metadata": {},
   "outputs": [
    {
     "name": "stdout",
     "output_type": "stream",
     "text": [
      "Boys : 0\n",
      "Women : 1\n",
      "Girls : 2\n",
      "Men : 3\n"
     ]
    }
   ],
   "source": [
    "# load the datset\n",
    "# (takes sometime to run)\n",
    "\n",
    "for i, name in enumerate(SUBDIRS):\n",
    "    print(name, \":\", i)\n",
    "    img_iter = Path(DATASET_DIR + \"/\" + name).glob(\"*\")\n",
    "    for img_path in img_iter:\n",
    "        img = cv2.imread(str(img_path))\n",
    "        img = cv2.resize(img, (250, 350))\n",
    "        cv2.imwrite(DATASET_DIR + name + \"Resized/\" + img_path.name, img)\n",
    "\n",
    "        del img\n",
    "\n",
    "    # clearning memory leaks\n",
    "    gc.collect()"
   ]
  },
  {
   "cell_type": "code",
   "execution_count": null,
   "id": "829d0871",
   "metadata": {},
   "outputs": [],
   "source": []
  }
 ],
 "metadata": {
  "kernelspec": {
   "display_name": "Python 3 (ipykernel)",
   "language": "python",
   "name": "python3"
  },
  "language_info": {
   "codemirror_mode": {
    "name": "ipython",
    "version": 3
   },
   "file_extension": ".py",
   "mimetype": "text/x-python",
   "name": "python",
   "nbconvert_exporter": "python",
   "pygments_lexer": "ipython3",
   "version": "3.9.10"
  }
 },
 "nbformat": 4,
 "nbformat_minor": 5
}
