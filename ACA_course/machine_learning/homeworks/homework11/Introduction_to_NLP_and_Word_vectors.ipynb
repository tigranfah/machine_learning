{
 "cells": [
  {
   "cell_type": "markdown",
   "metadata": {
    "id": "HcMhizZjX087"
   },
   "source": [
    "# Introduction to NLP and Word vectors"
   ]
  },
  {
   "cell_type": "code",
   "execution_count": 46,
   "metadata": {},
   "outputs": [],
   "source": [
    "import os"
   ]
  },
  {
   "cell_type": "markdown",
   "metadata": {
    "id": "wb9Oy8c8jLNk"
   },
   "source": [
    "## Old-school NLP\n",
    "[WordNet - A Lexical Database for English](https://wordnet.princeton.edu/)"
   ]
  },
  {
   "cell_type": "markdown",
   "metadata": {
    "id": "SmYa858Bj1BE"
   },
   "source": [
    "### WordNet Synonyms"
   ]
  },
  {
   "cell_type": "code",
   "execution_count": 2,
   "metadata": {
    "colab": {
     "base_uri": "https://localhost:8080/"
    },
    "id": "wbjvAz6FXtA6",
    "outputId": "bc18ddb5-86bb-4b6f-ad9b-5ff141a00539"
   },
   "outputs": [
    {
     "name": "stderr",
     "output_type": "stream",
     "text": [
      "[nltk_data] Downloading package omw-1.4 to /home/tigran/nltk_data...\n",
      "[nltk_data]   Unzipping corpora/omw-1.4.zip.\n",
      "[nltk_data] Downloading package wordnet to /home/tigran/nltk_data...\n",
      "[nltk_data]   Unzipping corpora/wordnet.zip.\n"
     ]
    }
   ],
   "source": [
    "import nltk\n",
    "nltk.download('omw-1.4')\n",
    "nltk.download('wordnet')\n",
    "\n",
    "from nltk.corpus import wordnet as wn"
   ]
  },
  {
   "cell_type": "markdown",
   "metadata": {},
   "source": [
    "[Parts of Speech](https://www.butte.edu/departments/cas/tipsheets/grammar/parts_of_speech.html#:~:text=There%20are%20eight%20parts%20of,as%20grammatically%20within%20the%20sentence.)"
   ]
  },
  {
   "cell_type": "code",
   "execution_count": 3,
   "metadata": {},
   "outputs": [
    {
     "data": {
      "text/plain": [
       "Lemma('bad.a.01.bad')"
      ]
     },
     "execution_count": 3,
     "metadata": {},
     "output_type": "execute_result"
    }
   ],
   "source": [
    "wn.synsets(\"bad\")[1].lemmas()[0]"
   ]
  },
  {
   "cell_type": "code",
   "execution_count": 4,
   "metadata": {
    "id": "bUktD8K_cVZj"
   },
   "outputs": [],
   "source": [
    "parts_of_speech = {\n",
    "    'n': 'noun', 'v': 'verb', 's': 'adj (s)', 'a': 'adj', 'r': 'adv'\n",
    "}\n",
    "\n",
    "def print_synonyms(w):\n",
    "    for synset in wn.synsets(w):\n",
    "        print(f'{parts_of_speech[synset.pos()]}:'\n",
    "              f' {\", \".join([l.name() for l in synset.lemmas()])}')"
   ]
  },
  {
   "cell_type": "code",
   "execution_count": 5,
   "metadata": {
    "colab": {
     "base_uri": "https://localhost:8080/"
    },
    "id": "NE7QnKzJc6Mf",
    "outputId": "fc39ed7a-af10-40fd-d47e-238232359504"
   },
   "outputs": [
    {
     "name": "stdout",
     "output_type": "stream",
     "text": [
      "noun: bad, badness\n",
      "adj: bad\n",
      "adj (s): bad, big\n",
      "adj (s): bad, tough\n",
      "adj (s): bad, spoiled, spoilt\n",
      "adj: regretful, sorry, bad\n",
      "adj (s): bad, uncollectible\n",
      "adj (s): bad\n",
      "adj (s): bad\n",
      "adj (s): bad, risky, high-risk, speculative\n",
      "adj (s): bad, unfit, unsound\n",
      "adj (s): bad\n",
      "adj (s): bad\n",
      "adj (s): bad, forged\n",
      "adj (s): bad, defective\n",
      "adv: badly, bad\n",
      "adv: badly, bad\n"
     ]
    }
   ],
   "source": [
    "print_synonyms('bad')"
   ]
  },
  {
   "cell_type": "code",
   "execution_count": 21,
   "metadata": {},
   "outputs": [
    {
     "name": "stdout",
     "output_type": "stream",
     "text": [
      "noun: good\n",
      "noun: good, goodness\n",
      "noun: good, goodness\n",
      "noun: commodity, trade_good, good\n",
      "adj: good\n",
      "adj (s): full, good\n",
      "adj: good\n",
      "adj (s): estimable, good, honorable, respectable\n",
      "adj (s): beneficial, good\n",
      "adj (s): good\n",
      "adj (s): good, just, upright\n",
      "adj (s): adept, expert, good, practiced, proficient, skillful, skilful\n",
      "adj (s): good\n",
      "adj (s): dear, good, near\n",
      "adj (s): dependable, good, safe, secure\n",
      "adj (s): good, right, ripe\n",
      "adj (s): good, well\n",
      "adj (s): effective, good, in_effect, in_force\n",
      "adj (s): good\n",
      "adj (s): good, serious\n",
      "adj (s): good, sound\n",
      "adj (s): good, salutary\n",
      "adj (s): good, honest\n",
      "adj (s): good, undecomposed, unspoiled, unspoilt\n",
      "adj (s): good\n",
      "adv: well, good\n",
      "adv: thoroughly, soundly, good\n"
     ]
    }
   ],
   "source": [
    "print_synonyms(\"good\")"
   ]
  },
  {
   "cell_type": "code",
   "execution_count": 24,
   "metadata": {
    "colab": {
     "base_uri": "https://localhost:8080/"
    },
    "id": "wm2_xwY7dV0K",
    "outputId": "0a7ebc7e-8d00-4618-91dd-6f47ef9201b4"
   },
   "outputs": [
    {
     "name": "stdout",
     "output_type": "stream",
     "text": [
      "noun: Armenia, Republic_of_Armenia, Hayastan\n"
     ]
    }
   ],
   "source": [
    "print_synonyms('armenia')"
   ]
  },
  {
   "cell_type": "markdown",
   "metadata": {
    "id": "vUcU7G4pj4tC"
   },
   "source": [
    "### WordNet Hypernyms\n",
    "**hypernym**: a word with a broad meaning that more specific words fall under. For example, *color* is a hypernym of *red*"
   ]
  },
  {
   "cell_type": "code",
   "execution_count": 25,
   "metadata": {
    "id": "6zTAzv_Zvszf"
   },
   "outputs": [],
   "source": [
    "def get_hypernyms(w):\n",
    "    word = wn.synset(f'{w}.n.01')\n",
    "    hyper = lambda s: s.hypernyms()\n",
    "    return list(word.closure(hyper))"
   ]
  },
  {
   "cell_type": "code",
   "execution_count": 26,
   "metadata": {
    "colab": {
     "base_uri": "https://localhost:8080/"
    },
    "id": "S1IyG4aOv41g",
    "outputId": "79997302-ea2e-4e80-f4e5-768cc188b4d4"
   },
   "outputs": [
    {
     "data": {
      "text/plain": [
       "[Synset('procyonid.n.01'),\n",
       " Synset('carnivore.n.01'),\n",
       " Synset('placental.n.01'),\n",
       " Synset('mammal.n.01'),\n",
       " Synset('vertebrate.n.01'),\n",
       " Synset('chordate.n.01'),\n",
       " Synset('animal.n.01'),\n",
       " Synset('organism.n.01'),\n",
       " Synset('living_thing.n.01'),\n",
       " Synset('whole.n.02'),\n",
       " Synset('object.n.01'),\n",
       " Synset('physical_entity.n.01'),\n",
       " Synset('entity.n.01')]"
      ]
     },
     "execution_count": 26,
     "metadata": {},
     "output_type": "execute_result"
    }
   ],
   "source": [
    "get_hypernyms('panda')"
   ]
  },
  {
   "cell_type": "code",
   "execution_count": 27,
   "metadata": {
    "colab": {
     "base_uri": "https://localhost:8080/"
    },
    "id": "jI1qjbmDwYnP",
    "outputId": "b231ea0d-e3d7-4d12-b6e0-0bfe97a0d8de"
   },
   "outputs": [
    {
     "data": {
      "text/plain": [
       "[Synset('chromatic_color.n.01'),\n",
       " Synset('color.n.01'),\n",
       " Synset('visual_property.n.01'),\n",
       " Synset('property.n.02'),\n",
       " Synset('attribute.n.02'),\n",
       " Synset('abstraction.n.06'),\n",
       " Synset('entity.n.01')]"
      ]
     },
     "execution_count": 27,
     "metadata": {},
     "output_type": "execute_result"
    }
   ],
   "source": [
    "get_hypernyms('red')"
   ]
  },
  {
   "cell_type": "code",
   "execution_count": 28,
   "metadata": {
    "colab": {
     "base_uri": "https://localhost:8080/"
    },
    "id": "3WnVVabtwaE8",
    "outputId": "c2372df8-ab77-4c39-c70d-3c8d7b19b2be"
   },
   "outputs": [
    {
     "data": {
      "text/plain": [
       "[Synset('device.n.01'),\n",
       " Synset('instrumentality.n.03'),\n",
       " Synset('artifact.n.01'),\n",
       " Synset('whole.n.02'),\n",
       " Synset('object.n.01'),\n",
       " Synset('physical_entity.n.01'),\n",
       " Synset('entity.n.01')]"
      ]
     },
     "execution_count": 28,
     "metadata": {},
     "output_type": "execute_result"
    }
   ],
   "source": [
    "get_hypernyms('keyboard')"
   ]
  },
  {
   "cell_type": "markdown",
   "metadata": {
    "id": "vL9bOCXm_kcS"
   },
   "source": [
    "## Word embeddings"
   ]
  },
  {
   "cell_type": "markdown",
   "metadata": {
    "id": "khd61BtQC-wo"
   },
   "source": [
    "Exploring pre-trained word embeddings"
   ]
  },
  {
   "cell_type": "code",
   "execution_count": 30,
   "metadata": {
    "id": "l-io8bTnwf9E"
   },
   "outputs": [],
   "source": [
    "import gensim\n",
    "import gensim.downloader"
   ]
  },
  {
   "cell_type": "code",
   "execution_count": 31,
   "metadata": {
    "colab": {
     "base_uri": "https://localhost:8080/"
    },
    "id": "cnFg-kQLAG1s",
    "outputId": "3011e3ef-36a1-4818-d18e-9594b47f806b"
   },
   "outputs": [
    {
     "name": "stdout",
     "output_type": "stream",
     "text": [
      "[================----------------------------------] 33.1% 42.4/128.1MB downloaded"
     ]
    },
    {
     "name": "stderr",
     "output_type": "stream",
     "text": [
      "IOPub message rate exceeded.\n",
      "The notebook server will temporarily stop sending output\n",
      "to the client in order to avoid crashing it.\n",
      "To change this limit, set the config variable\n",
      "`--NotebookApp.iopub_msg_rate_limit`.\n",
      "\n",
      "Current values:\n",
      "NotebookApp.iopub_msg_rate_limit=1000.0 (msgs/sec)\n",
      "NotebookApp.rate_limit_window=3.0 (secs)\n",
      "\n"
     ]
    },
    {
     "name": "stdout",
     "output_type": "stream",
     "text": [
      "[===========================================-------] 86.3% 110.5/128.1MB downloaded"
     ]
    },
    {
     "name": "stderr",
     "output_type": "stream",
     "text": [
      "IOPub message rate exceeded.\n",
      "The notebook server will temporarily stop sending output\n",
      "to the client in order to avoid crashing it.\n",
      "To change this limit, set the config variable\n",
      "`--NotebookApp.iopub_msg_rate_limit`.\n",
      "\n",
      "Current values:\n",
      "NotebookApp.iopub_msg_rate_limit=1000.0 (msgs/sec)\n",
      "NotebookApp.rate_limit_window=3.0 (secs)\n",
      "\n"
     ]
    },
    {
     "name": "stdout",
     "output_type": "stream",
     "text": [
      "[==================================================] 100.0% 128.1/128.1MB downloaded\n"
     ]
    }
   ],
   "source": [
    "model_glove_wiki = gensim.downloader.load(\"glove-wiki-gigaword-100\")"
   ]
  },
  {
   "cell_type": "code",
   "execution_count": 32,
   "metadata": {
    "colab": {
     "base_uri": "https://localhost:8080/"
    },
    "id": "KGo2LcEPAmLb",
    "outputId": "597b22a6-65a5-4bc1-bca1-3675c1944959"
   },
   "outputs": [
    {
     "name": "stdout",
     "output_type": "stream",
     "text": [
      "Number of vocabulary words: 400000\n"
     ]
    }
   ],
   "source": [
    "print(f'Number of vocabulary words: {len(model_glove_wiki.key_to_index)}')"
   ]
  },
  {
   "cell_type": "code",
   "execution_count": 33,
   "metadata": {},
   "outputs": [
    {
     "data": {
      "text/plain": [
       "<gensim.models.keyedvectors.KeyedVectors at 0x7f55d1a6fc70>"
      ]
     },
     "execution_count": 33,
     "metadata": {},
     "output_type": "execute_result"
    }
   ],
   "source": [
    "model_glove_wiki"
   ]
  },
  {
   "cell_type": "code",
   "execution_count": 34,
   "metadata": {
    "colab": {
     "base_uri": "https://localhost:8080/"
    },
    "id": "E6s9P_j_AuoY",
    "outputId": "4f13bea3-de13-4bc4-9a1d-44425c166bb6"
   },
   "outputs": [
    {
     "name": "stdout",
     "output_type": "stream",
     "text": [
      "Word vector for word chair:\n",
      " [ 0.0065461  0.37421    0.10797   -0.082747   0.64901    0.30169\n",
      " -0.073074   0.93806   -0.63044   -0.51392   -0.37892   -0.58334\n",
      "  0.35183    1.1785     0.030233  -0.10038   -0.26562    0.23061\n",
      " -0.39409   -1.2905    -0.48042    0.24882    0.32405   -0.60272\n",
      "  0.70835   -0.29148   -0.52192   -0.68477    0.32833    0.1365\n",
      " -0.1287     0.54085   -0.17068    0.20286   -0.78958    0.50968\n",
      " -0.64833    0.46491    0.50427   -0.15785   -0.54493   -0.35393\n",
      "  0.66042   -0.71844   -0.48376    0.49241   -0.60408    0.53023\n",
      " -0.89401   -0.39691   -0.61351   -0.46707   -0.018895   0.50907\n",
      " -0.10905   -2.0831     0.33063    0.3548     0.98301    0.080053\n",
      "  0.12678   -0.061691  -0.039855   0.33585    0.13318   -0.35239\n",
      "  0.43726    0.84516    0.21468    0.30733    0.76884    0.44288\n",
      "  0.74522   -0.26943   -0.6214    -0.13356   -0.53495    0.096564\n",
      "  0.26305   -0.49739   -0.45149   -0.1694     0.11016   -0.31119\n",
      " -0.32883   -0.39835    0.34864   -0.24336    0.33879   -0.91043\n",
      "  0.6816    -0.62344    0.90965    0.76285    0.75305    0.48748\n",
      "  0.0452     0.15256    1.1562    -0.19654  ]\n"
     ]
    }
   ],
   "source": [
    "w = 'chair'\n",
    "print(f'Word vector for word {w}:\\n {model_glove_wiki.get_vector(w)}')"
   ]
  },
  {
   "cell_type": "code",
   "execution_count": 37,
   "metadata": {
    "id": "clpkftZ1BAOE"
   },
   "outputs": [],
   "source": [
    "words_of_interest = [\n",
    "  'chair', 'table', 'desk', 'floor', 'window', 'seat', 'wall', \n",
    "  'peach', 'orange', 'banana', 'kiwi', 'grapes', 'lemon', 'pear',\n",
    "  'obama', 'bush', 'nixon', 'clinton', 'trump']"
   ]
  },
  {
   "cell_type": "code",
   "execution_count": 38,
   "metadata": {},
   "outputs": [
    {
     "data": {
      "text/plain": [
       "['the',\n",
       " ',',\n",
       " '.',\n",
       " 'of',\n",
       " 'to',\n",
       " 'and',\n",
       " 'in',\n",
       " 'a',\n",
       " '\"',\n",
       " \"'s\",\n",
       " 'for',\n",
       " '-',\n",
       " 'that',\n",
       " 'on',\n",
       " 'is',\n",
       " 'was',\n",
       " 'said',\n",
       " 'with',\n",
       " 'he',\n",
       " 'as',\n",
       " 'it',\n",
       " 'by',\n",
       " 'at',\n",
       " '(',\n",
       " ')',\n",
       " 'from',\n",
       " 'his',\n",
       " \"''\",\n",
       " '``',\n",
       " 'an',\n",
       " 'be',\n",
       " 'has',\n",
       " 'are',\n",
       " 'have',\n",
       " 'but',\n",
       " 'were',\n",
       " 'not',\n",
       " 'this',\n",
       " 'who',\n",
       " 'they',\n",
       " 'had',\n",
       " 'i',\n",
       " 'which',\n",
       " 'will',\n",
       " 'their',\n",
       " ':',\n",
       " 'or',\n",
       " 'its',\n",
       " 'one',\n",
       " 'after',\n",
       " 'new',\n",
       " 'been',\n",
       " 'also',\n",
       " 'we',\n",
       " 'would',\n",
       " 'two',\n",
       " 'more',\n",
       " \"'\",\n",
       " 'first',\n",
       " 'about',\n",
       " 'up',\n",
       " 'when',\n",
       " 'year',\n",
       " 'there',\n",
       " 'all',\n",
       " '--',\n",
       " 'out',\n",
       " 'she',\n",
       " 'other',\n",
       " 'people',\n",
       " \"n't\",\n",
       " 'her',\n",
       " 'percent',\n",
       " 'than',\n",
       " 'over',\n",
       " 'into',\n",
       " 'last',\n",
       " 'some',\n",
       " 'government',\n",
       " 'time',\n",
       " '$',\n",
       " 'you',\n",
       " 'years',\n",
       " 'if',\n",
       " 'no',\n",
       " 'world',\n",
       " 'can',\n",
       " 'three',\n",
       " 'do',\n",
       " ';',\n",
       " 'president',\n",
       " 'only',\n",
       " 'state',\n",
       " 'million',\n",
       " 'could',\n",
       " 'us',\n",
       " 'most',\n",
       " '_',\n",
       " 'against',\n",
       " 'u.s.',\n",
       " 'so',\n",
       " 'them',\n",
       " 'what',\n",
       " 'him',\n",
       " 'united',\n",
       " 'during',\n",
       " 'before',\n",
       " 'may',\n",
       " 'since',\n",
       " 'many',\n",
       " 'while',\n",
       " 'where',\n",
       " 'states',\n",
       " 'because',\n",
       " 'now',\n",
       " 'city',\n",
       " 'made',\n",
       " 'like',\n",
       " 'between',\n",
       " 'did',\n",
       " 'just',\n",
       " 'national',\n",
       " 'day',\n",
       " 'country',\n",
       " 'under',\n",
       " 'such',\n",
       " 'second',\n",
       " 'then',\n",
       " 'company',\n",
       " 'group',\n",
       " 'any',\n",
       " 'through',\n",
       " 'china',\n",
       " 'four',\n",
       " 'being',\n",
       " 'down',\n",
       " 'war',\n",
       " 'back',\n",
       " 'off',\n",
       " 'south',\n",
       " 'american',\n",
       " 'minister',\n",
       " 'police',\n",
       " 'well',\n",
       " 'including',\n",
       " 'team',\n",
       " 'international',\n",
       " 'week',\n",
       " 'officials',\n",
       " 'still',\n",
       " 'both',\n",
       " 'even',\n",
       " 'high',\n",
       " 'part',\n",
       " 'told',\n",
       " 'those',\n",
       " 'end',\n",
       " 'former',\n",
       " 'these',\n",
       " 'make',\n",
       " 'billion',\n",
       " 'work',\n",
       " 'our',\n",
       " 'home',\n",
       " 'school',\n",
       " 'party',\n",
       " 'house',\n",
       " 'old',\n",
       " 'later',\n",
       " 'get',\n",
       " 'another',\n",
       " 'tuesday',\n",
       " 'news',\n",
       " 'long',\n",
       " 'five',\n",
       " 'called',\n",
       " '1',\n",
       " 'wednesday',\n",
       " 'military',\n",
       " 'way',\n",
       " 'used',\n",
       " 'much',\n",
       " 'next',\n",
       " 'monday',\n",
       " 'thursday',\n",
       " 'friday',\n",
       " 'game',\n",
       " 'here',\n",
       " '?',\n",
       " 'should',\n",
       " 'take',\n",
       " 'very',\n",
       " 'my',\n",
       " 'north',\n",
       " 'security',\n",
       " 'season',\n",
       " 'york',\n",
       " 'how',\n",
       " 'public',\n",
       " 'early',\n",
       " 'according',\n",
       " 'several',\n",
       " 'court',\n",
       " 'say',\n",
       " 'around',\n",
       " 'foreign',\n",
       " '10',\n",
       " 'until',\n",
       " 'set',\n",
       " 'political',\n",
       " 'says',\n",
       " 'market',\n",
       " 'however',\n",
       " 'family',\n",
       " 'life',\n",
       " 'same',\n",
       " 'general',\n",
       " '–',\n",
       " 'left',\n",
       " 'good',\n",
       " 'top',\n",
       " 'university',\n",
       " 'going',\n",
       " 'number',\n",
       " 'major',\n",
       " 'known',\n",
       " 'points',\n",
       " 'won',\n",
       " 'six',\n",
       " 'month',\n",
       " 'dollars',\n",
       " 'bank',\n",
       " '2',\n",
       " 'iraq',\n",
       " 'use',\n",
       " 'members',\n",
       " 'each',\n",
       " 'area',\n",
       " 'found',\n",
       " 'official',\n",
       " 'sunday',\n",
       " 'place',\n",
       " 'go',\n",
       " 'based',\n",
       " 'among',\n",
       " 'third',\n",
       " 'times',\n",
       " 'took',\n",
       " 'right',\n",
       " 'days',\n",
       " 'local',\n",
       " 'economic',\n",
       " 'countries',\n",
       " 'see',\n",
       " 'best',\n",
       " 'report',\n",
       " 'killed',\n",
       " 'held',\n",
       " 'business',\n",
       " 'west',\n",
       " 'does',\n",
       " 'own',\n",
       " '%',\n",
       " 'came',\n",
       " 'law',\n",
       " 'months',\n",
       " 'women',\n",
       " \"'re\",\n",
       " 'power',\n",
       " 'think',\n",
       " 'service',\n",
       " 'children',\n",
       " 'bush',\n",
       " 'show',\n",
       " '/',\n",
       " 'help',\n",
       " 'chief',\n",
       " 'saturday',\n",
       " 'system',\n",
       " 'john',\n",
       " 'support',\n",
       " 'series',\n",
       " 'play',\n",
       " 'office',\n",
       " 'following',\n",
       " 'me',\n",
       " 'meeting',\n",
       " 'expected',\n",
       " 'late',\n",
       " 'washington',\n",
       " 'games',\n",
       " 'european',\n",
       " 'league',\n",
       " 'reported',\n",
       " 'final',\n",
       " 'added',\n",
       " 'without',\n",
       " 'british',\n",
       " 'white',\n",
       " 'history',\n",
       " 'man',\n",
       " 'men',\n",
       " 'became',\n",
       " 'want',\n",
       " 'march',\n",
       " 'case',\n",
       " 'few',\n",
       " 'run',\n",
       " 'money',\n",
       " 'began',\n",
       " 'open',\n",
       " 'name',\n",
       " 'trade',\n",
       " 'center',\n",
       " '3',\n",
       " 'israel',\n",
       " 'oil',\n",
       " 'too',\n",
       " 'al',\n",
       " 'film',\n",
       " 'win',\n",
       " 'led',\n",
       " 'east',\n",
       " 'central',\n",
       " '20',\n",
       " 'air',\n",
       " 'come',\n",
       " 'chinese',\n",
       " 'town',\n",
       " 'leader',\n",
       " 'army',\n",
       " 'line',\n",
       " 'never',\n",
       " 'little',\n",
       " 'played',\n",
       " 'prime',\n",
       " 'death',\n",
       " 'companies',\n",
       " 'least',\n",
       " 'put',\n",
       " 'forces',\n",
       " 'past',\n",
       " 'de',\n",
       " 'half',\n",
       " 'june',\n",
       " 'saying',\n",
       " 'know',\n",
       " 'federal',\n",
       " 'french',\n",
       " 'peace',\n",
       " 'earlier',\n",
       " 'capital',\n",
       " 'force',\n",
       " 'great',\n",
       " 'union',\n",
       " 'near',\n",
       " 'released',\n",
       " 'small',\n",
       " 'department',\n",
       " 'every',\n",
       " 'health',\n",
       " 'japan',\n",
       " 'head',\n",
       " 'ago',\n",
       " 'night',\n",
       " 'big',\n",
       " 'cup',\n",
       " 'election',\n",
       " 'region',\n",
       " 'director',\n",
       " 'talks',\n",
       " 'program',\n",
       " 'far',\n",
       " 'today',\n",
       " 'statement',\n",
       " 'july',\n",
       " 'although',\n",
       " 'district',\n",
       " 'again',\n",
       " 'born',\n",
       " 'development',\n",
       " 'leaders',\n",
       " 'council',\n",
       " 'close',\n",
       " 'record',\n",
       " 'along',\n",
       " 'county',\n",
       " 'france',\n",
       " 'went',\n",
       " 'point',\n",
       " 'must',\n",
       " 'spokesman',\n",
       " 'your',\n",
       " 'member',\n",
       " 'plan',\n",
       " 'financial',\n",
       " 'april',\n",
       " 'recent',\n",
       " 'campaign',\n",
       " 'become',\n",
       " 'troops',\n",
       " 'whether',\n",
       " 'lost',\n",
       " 'music',\n",
       " '15',\n",
       " 'got',\n",
       " 'israeli',\n",
       " '30',\n",
       " 'need',\n",
       " '4',\n",
       " 'lead',\n",
       " 'already',\n",
       " 'russia',\n",
       " 'though',\n",
       " 'might',\n",
       " 'free',\n",
       " 'hit',\n",
       " 'rights',\n",
       " '11',\n",
       " 'information',\n",
       " 'away',\n",
       " '12',\n",
       " '5',\n",
       " 'others',\n",
       " 'control',\n",
       " 'within',\n",
       " 'large',\n",
       " 'economy',\n",
       " 'press',\n",
       " 'agency',\n",
       " 'water',\n",
       " 'died',\n",
       " 'career',\n",
       " 'making',\n",
       " '...',\n",
       " 'deal',\n",
       " 'attack',\n",
       " 'side',\n",
       " 'seven',\n",
       " 'better',\n",
       " 'less',\n",
       " 'september',\n",
       " 'once',\n",
       " 'clinton',\n",
       " 'main',\n",
       " 'due',\n",
       " 'committee',\n",
       " 'building',\n",
       " 'conference',\n",
       " 'club',\n",
       " 'january',\n",
       " 'decision',\n",
       " 'stock',\n",
       " 'america',\n",
       " 'given',\n",
       " 'give',\n",
       " 'often',\n",
       " 'announced',\n",
       " 'television',\n",
       " 'industry',\n",
       " 'order',\n",
       " 'young',\n",
       " \"'ve\",\n",
       " 'palestinian',\n",
       " 'age',\n",
       " 'start',\n",
       " 'administration',\n",
       " 'russian',\n",
       " 'prices',\n",
       " 'round',\n",
       " 'december',\n",
       " 'nations',\n",
       " \"'m\",\n",
       " 'human',\n",
       " 'india',\n",
       " 'defense',\n",
       " 'asked',\n",
       " 'total',\n",
       " 'october',\n",
       " 'players',\n",
       " 'bill',\n",
       " 'important',\n",
       " 'southern',\n",
       " 'move',\n",
       " 'fire',\n",
       " 'population',\n",
       " 'rose',\n",
       " 'november',\n",
       " 'include',\n",
       " 'further',\n",
       " 'nuclear',\n",
       " 'street',\n",
       " 'taken',\n",
       " 'media',\n",
       " 'different',\n",
       " 'issue',\n",
       " 'received',\n",
       " 'secretary',\n",
       " 'return',\n",
       " 'college',\n",
       " 'working',\n",
       " 'community',\n",
       " 'eight',\n",
       " 'groups',\n",
       " 'despite',\n",
       " 'level',\n",
       " 'largest',\n",
       " 'whose',\n",
       " 'attacks',\n",
       " 'germany',\n",
       " 'august',\n",
       " 'change',\n",
       " 'church',\n",
       " 'nation',\n",
       " 'german',\n",
       " 'station',\n",
       " 'london',\n",
       " 'weeks',\n",
       " 'having',\n",
       " '18',\n",
       " 'research',\n",
       " 'black',\n",
       " 'services',\n",
       " 'story',\n",
       " '6',\n",
       " 'europe',\n",
       " 'sales',\n",
       " 'policy',\n",
       " 'visit',\n",
       " 'northern',\n",
       " 'lot',\n",
       " 'across',\n",
       " 'per',\n",
       " 'current',\n",
       " 'board',\n",
       " 'football',\n",
       " 'ministry',\n",
       " 'workers',\n",
       " 'vote',\n",
       " 'book',\n",
       " 'fell',\n",
       " 'seen',\n",
       " 'role',\n",
       " 'students',\n",
       " 'shares',\n",
       " 'iran',\n",
       " 'process',\n",
       " 'agreement',\n",
       " 'quarter',\n",
       " 'full',\n",
       " 'match',\n",
       " 'started',\n",
       " 'growth',\n",
       " 'yet',\n",
       " 'moved',\n",
       " 'possible',\n",
       " 'western',\n",
       " 'special',\n",
       " '100',\n",
       " 'plans',\n",
       " 'interest',\n",
       " 'behind',\n",
       " 'strong',\n",
       " 'england',\n",
       " 'named',\n",
       " 'food',\n",
       " 'period',\n",
       " 'real',\n",
       " 'authorities',\n",
       " 'car',\n",
       " 'term',\n",
       " 'rate',\n",
       " 'race',\n",
       " 'nearly',\n",
       " 'korea',\n",
       " 'enough',\n",
       " 'site',\n",
       " 'opposition',\n",
       " 'keep',\n",
       " '25',\n",
       " 'call',\n",
       " 'future',\n",
       " 'taking',\n",
       " 'island',\n",
       " '2008',\n",
       " '2006',\n",
       " 'road',\n",
       " 'outside',\n",
       " 'really',\n",
       " 'century',\n",
       " 'democratic',\n",
       " 'almost',\n",
       " 'single',\n",
       " 'share',\n",
       " 'leading',\n",
       " 'trying',\n",
       " 'find',\n",
       " 'album',\n",
       " 'senior',\n",
       " 'minutes',\n",
       " 'together',\n",
       " 'congress',\n",
       " 'index',\n",
       " 'australia',\n",
       " 'results',\n",
       " 'hard',\n",
       " 'hours',\n",
       " 'land',\n",
       " 'action',\n",
       " 'higher',\n",
       " 'field',\n",
       " 'cut',\n",
       " 'coach',\n",
       " 'elections',\n",
       " 'san',\n",
       " 'issues',\n",
       " 'executive',\n",
       " 'february',\n",
       " 'production',\n",
       " 'areas',\n",
       " 'river',\n",
       " 'face',\n",
       " 'using',\n",
       " 'japanese',\n",
       " 'province',\n",
       " 'park',\n",
       " 'price',\n",
       " 'commission',\n",
       " 'california',\n",
       " 'father',\n",
       " 'son',\n",
       " 'education',\n",
       " '7',\n",
       " 'village',\n",
       " 'energy',\n",
       " 'shot',\n",
       " 'short',\n",
       " 'africa',\n",
       " 'key',\n",
       " 'red',\n",
       " 'association',\n",
       " 'average',\n",
       " 'pay',\n",
       " 'exchange',\n",
       " 'eu',\n",
       " 'something',\n",
       " 'gave',\n",
       " 'likely',\n",
       " 'player',\n",
       " 'george',\n",
       " '2007',\n",
       " 'victory',\n",
       " '8',\n",
       " 'low',\n",
       " 'things',\n",
       " '2010',\n",
       " 'pakistan',\n",
       " '14',\n",
       " 'post',\n",
       " 'social',\n",
       " 'continue',\n",
       " 'ever',\n",
       " 'look',\n",
       " 'chairman',\n",
       " 'job',\n",
       " '2000',\n",
       " 'soldiers',\n",
       " 'able',\n",
       " 'parliament',\n",
       " 'front',\n",
       " 'himself',\n",
       " 'problems',\n",
       " 'private',\n",
       " 'lower',\n",
       " 'list',\n",
       " 'built',\n",
       " '13',\n",
       " 'efforts',\n",
       " 'dollar',\n",
       " 'miles',\n",
       " 'included',\n",
       " 'radio',\n",
       " 'live',\n",
       " 'form',\n",
       " 'david',\n",
       " 'african',\n",
       " 'increase',\n",
       " 'reports',\n",
       " 'sent',\n",
       " 'fourth',\n",
       " 'always',\n",
       " 'king',\n",
       " '50',\n",
       " 'tax',\n",
       " 'taiwan',\n",
       " 'britain',\n",
       " '16',\n",
       " 'playing',\n",
       " 'title',\n",
       " 'middle',\n",
       " 'meet',\n",
       " 'global',\n",
       " 'wife',\n",
       " '2009',\n",
       " 'position',\n",
       " 'located',\n",
       " 'clear',\n",
       " 'ahead',\n",
       " '2004',\n",
       " '2005',\n",
       " 'iraqi',\n",
       " 'english',\n",
       " 'result',\n",
       " 'release',\n",
       " 'violence',\n",
       " 'goal',\n",
       " 'project',\n",
       " 'closed',\n",
       " 'border',\n",
       " 'body',\n",
       " 'soon',\n",
       " 'crisis',\n",
       " 'division',\n",
       " '&amp;',\n",
       " 'served',\n",
       " 'tour',\n",
       " 'hospital',\n",
       " 'kong',\n",
       " 'test',\n",
       " 'hong',\n",
       " 'u.n.',\n",
       " 'inc.',\n",
       " 'technology',\n",
       " 'believe',\n",
       " 'organization',\n",
       " 'published',\n",
       " 'weapons',\n",
       " 'agreed',\n",
       " 'why',\n",
       " 'nine',\n",
       " 'summer',\n",
       " 'wanted',\n",
       " 'republican',\n",
       " 'act',\n",
       " 'recently',\n",
       " 'texas',\n",
       " 'course',\n",
       " 'problem',\n",
       " 'senate',\n",
       " 'medical',\n",
       " 'un',\n",
       " 'done',\n",
       " 'reached',\n",
       " 'star',\n",
       " 'continued',\n",
       " 'investors',\n",
       " 'living',\n",
       " 'care',\n",
       " 'signed',\n",
       " '17',\n",
       " 'art',\n",
       " 'provide',\n",
       " 'worked',\n",
       " 'presidential',\n",
       " 'gold',\n",
       " 'obama',\n",
       " 'morning',\n",
       " 'dead',\n",
       " 'opened',\n",
       " \"'ll\",\n",
       " 'event',\n",
       " 'previous',\n",
       " 'cost',\n",
       " 'instead',\n",
       " 'canada',\n",
       " 'band',\n",
       " 'teams',\n",
       " 'daily',\n",
       " '2001',\n",
       " 'available',\n",
       " 'drug',\n",
       " 'coming',\n",
       " '2003',\n",
       " 'investment',\n",
       " '’s',\n",
       " 'michael',\n",
       " 'civil',\n",
       " 'woman',\n",
       " 'training',\n",
       " 'appeared',\n",
       " '9',\n",
       " 'involved',\n",
       " 'indian',\n",
       " 'similar',\n",
       " 'situation',\n",
       " '24',\n",
       " 'los',\n",
       " 'running',\n",
       " 'fighting',\n",
       " 'mark',\n",
       " '40',\n",
       " 'trial',\n",
       " 'hold',\n",
       " 'australian',\n",
       " 'thought',\n",
       " '!',\n",
       " 'study',\n",
       " 'fall',\n",
       " 'mother',\n",
       " 'met',\n",
       " 'relations',\n",
       " 'anti',\n",
       " '2002',\n",
       " 'song',\n",
       " 'popular',\n",
       " 'base',\n",
       " 'tv',\n",
       " 'ground',\n",
       " 'markets',\n",
       " 'ii',\n",
       " 'newspaper',\n",
       " 'staff',\n",
       " 'saw',\n",
       " 'hand',\n",
       " 'hope',\n",
       " 'operations',\n",
       " 'pressure',\n",
       " 'americans',\n",
       " 'eastern',\n",
       " 'st.',\n",
       " 'legal',\n",
       " 'asia',\n",
       " 'budget',\n",
       " 'returned',\n",
       " 'considered',\n",
       " 'love',\n",
       " 'wrote',\n",
       " 'stop',\n",
       " 'fight',\n",
       " 'currently',\n",
       " 'charges',\n",
       " 'try',\n",
       " 'aid',\n",
       " 'ended',\n",
       " 'management',\n",
       " 'brought',\n",
       " 'cases',\n",
       " 'decided',\n",
       " 'failed',\n",
       " 'network',\n",
       " 'works',\n",
       " 'gas',\n",
       " 'turned',\n",
       " 'fact',\n",
       " 'vice',\n",
       " 'ca',\n",
       " 'mexico',\n",
       " 'trading',\n",
       " 'especially',\n",
       " 'reporters',\n",
       " 'afghanistan',\n",
       " 'common',\n",
       " 'looking',\n",
       " 'space',\n",
       " 'rates',\n",
       " 'manager',\n",
       " 'loss',\n",
       " '2011',\n",
       " 'justice',\n",
       " 'thousands',\n",
       " 'james',\n",
       " 'rather',\n",
       " 'fund',\n",
       " 'thing',\n",
       " 'republic',\n",
       " 'opening',\n",
       " 'accused',\n",
       " 'winning',\n",
       " 'scored',\n",
       " 'championship',\n",
       " 'example',\n",
       " 'getting',\n",
       " 'biggest',\n",
       " 'performance',\n",
       " 'sports',\n",
       " '1998',\n",
       " 'let',\n",
       " 'allowed',\n",
       " 'schools',\n",
       " 'means',\n",
       " 'turn',\n",
       " 'leave',\n",
       " 'no.',\n",
       " 'robert',\n",
       " 'personal',\n",
       " 'stocks',\n",
       " 'showed',\n",
       " 'light',\n",
       " 'arrested',\n",
       " 'person',\n",
       " 'either',\n",
       " 'offer',\n",
       " 'majority',\n",
       " 'battle',\n",
       " '19',\n",
       " 'class',\n",
       " 'evidence',\n",
       " 'makes',\n",
       " 'society',\n",
       " 'products',\n",
       " 'regional',\n",
       " 'needed',\n",
       " 'stage',\n",
       " 'am',\n",
       " 'doing',\n",
       " 'families',\n",
       " 'construction',\n",
       " 'various',\n",
       " '1996',\n",
       " 'sold',\n",
       " 'independent',\n",
       " 'kind',\n",
       " 'airport',\n",
       " 'paul',\n",
       " 'judge',\n",
       " 'internet',\n",
       " 'movement',\n",
       " 'room',\n",
       " 'followed',\n",
       " 'original',\n",
       " 'angeles',\n",
       " 'italy',\n",
       " '`',\n",
       " 'data',\n",
       " 'comes',\n",
       " 'parties',\n",
       " 'nothing',\n",
       " 'sea',\n",
       " 'bring',\n",
       " '2012',\n",
       " 'annual',\n",
       " 'officer',\n",
       " 'beijing',\n",
       " 'present',\n",
       " 'remain',\n",
       " 'nato',\n",
       " '1999',\n",
       " '22',\n",
       " 'remains',\n",
       " 'allow',\n",
       " 'florida',\n",
       " 'computer',\n",
       " '21',\n",
       " 'contract',\n",
       " 'coast',\n",
       " 'created',\n",
       " 'demand',\n",
       " 'operation',\n",
       " 'events',\n",
       " 'islamic',\n",
       " 'beat',\n",
       " 'analysts',\n",
       " 'interview',\n",
       " 'helped',\n",
       " 'child',\n",
       " 'probably',\n",
       " 'spent',\n",
       " 'asian',\n",
       " 'effort',\n",
       " 'cooperation',\n",
       " 'shows',\n",
       " 'calls',\n",
       " 'investigation',\n",
       " 'lives',\n",
       " 'video',\n",
       " 'yen',\n",
       " 'runs',\n",
       " 'tried',\n",
       " 'bad',\n",
       " 'described',\n",
       " '1994',\n",
       " 'toward',\n",
       " 'written',\n",
       " 'throughout',\n",
       " 'established',\n",
       " 'mission',\n",
       " 'associated',\n",
       " 'buy',\n",
       " 'growing',\n",
       " 'green',\n",
       " 'forward',\n",
       " 'competition',\n",
       " 'poor',\n",
       " 'latest',\n",
       " 'banks',\n",
       " 'question',\n",
       " '1997',\n",
       " 'prison',\n",
       " 'feel',\n",
       " 'attention']"
      ]
     },
     "execution_count": 38,
     "metadata": {},
     "output_type": "execute_result"
    }
   ],
   "source": [
    "top_1000_words = model_glove_wiki.index_to_key[:1000]\n",
    "top_1000_words"
   ]
  },
  {
   "cell_type": "markdown",
   "metadata": {
    "id": "8J_ISKNfC3tu"
   },
   "source": [
    "Similar words are closer in vector space"
   ]
  },
  {
   "cell_type": "code",
   "execution_count": 41,
   "metadata": {
    "id": "YXp4XG6LBXmA"
   },
   "outputs": [],
   "source": [
    "from sklearn.decomposition import PCA\n",
    "import matplotlib.pyplot as plt\n",
    "import numpy as np\n",
    "\n",
    "def plot_pca(word_list, x_lim=None, y_lim=None, axis='off', \n",
    "             model=model_glove_wiki):\n",
    "    word_vectors_of_interest = np.asarray(\n",
    "        [model.get_vector(w) for w in word_list])\n",
    "    word_vectors_in_2d = PCA().fit_transform(word_vectors_of_interest)[:,:2]\n",
    "\n",
    "    _, ax = plt.subplots(figsize=(8, 6))\n",
    "    ax.scatter(word_vectors_in_2d[:, 0], word_vectors_in_2d[:, 1])\n",
    "    for i, w in enumerate(word_list):\n",
    "        ax.annotate(w, (word_vectors_in_2d[i, 0], word_vectors_in_2d[i, 1]), \n",
    "                    clip_on=True)\n",
    "    if x_lim is not None:\n",
    "        ax.set_xlim(x_lim)\n",
    "    if y_lim is not None:\n",
    "        ax.set_ylim(y_lim)\n",
    "    plt.axis(axis)\n",
    "    plt.show()"
   ]
  },
  {
   "cell_type": "code",
   "execution_count": 42,
   "metadata": {
    "colab": {
     "base_uri": "https://localhost:8080/",
     "height": 410
    },
    "id": "F_DlRDC4EojL",
    "outputId": "8f434918-9880-4fb1-c8fc-23b8f11856dc"
   },
   "outputs": [
    {
     "data": {
      "image/png": "[encoded data removed]",
      "text/plain": [
       "<Figure size 576x432 with 1 Axes>"
      ]
     },
     "metadata": {
      "needs_background": "light"
     },
     "output_type": "display_data"
    }
   ],
   "source": [
    "plot_pca(words_of_interest)"
   ]
  },
  {
   "cell_type": "code",
   "execution_count": 62,
   "metadata": {
    "colab": {
     "base_uri": "https://localhost:8080/",
     "height": 410
    },
    "id": "Ll5SygcXE4Pz",
    "outputId": "867a3b98-86d4-4310-80cd-df6f96d0327f"
   },
   "outputs": [
    {
     "data": {
      "image/png": "[encoded data removed]",
      "text/plain": [
       "<Figure size 576x432 with 1 Axes>"
      ]
     },
     "metadata": {
      "needs_background": "light"
     },
     "output_type": "display_data"
    }
   ],
   "source": [
    "plot_pca(top_1000_words)"
   ]
  },
  {
   "cell_type": "code",
   "execution_count": 43,
   "metadata": {
    "colab": {
     "base_uri": "https://localhost:8080/"
    },
    "id": "1snQuaVnAIPr",
    "outputId": "792fa84b-fcee-4cb4-deae-0264154b5351"
   },
   "outputs": [
    {
     "name": "stdout",
     "output_type": "stream",
     "text": [
      "Most similar words to word good:\n"
     ]
    },
    {
     "data": {
      "text/plain": [
       "[('better', 0.893191397190094),\n",
       " ('sure', 0.8314563035964966),\n",
       " ('really', 0.8297762274742126),\n",
       " ('kind', 0.8288268446922302),\n",
       " ('very', 0.8260800242424011),\n",
       " ('we', 0.8234356045722961),\n",
       " ('way', 0.8215398192405701),\n",
       " ('think', 0.8205099105834961),\n",
       " ('thing', 0.8171301484107971),\n",
       " (\"'re\", 0.8141681551933289)]"
      ]
     },
     "execution_count": 43,
     "metadata": {},
     "output_type": "execute_result"
    }
   ],
   "source": [
    "w = 'good'\n",
    "print(f'Most similar words to word {w}:')\n",
    "model_glove_wiki.most_similar(w, topn=10)"
   ]
  },
  {
   "cell_type": "markdown",
   "metadata": {
    "id": "mW3RL7DpMQl9"
   },
   "source": [
    "### Armenian word embeddings"
   ]
  },
  {
   "cell_type": "code",
   "execution_count": 44,
   "metadata": {},
   "outputs": [],
   "source": [
    "def plot_pca(word_list, x_lim=None, y_lim=None, axis='off', \n",
    "             model=model_glove_wiki):\n",
    "    word_vectors_of_interest = np.asarray(\n",
    "        [model.wv.get_vector(w) for w in word_list])\n",
    "    word_vectors_in_2d = PCA().fit_transform(word_vectors_of_interest)[:,:2]\n",
    "\n",
    "    _, ax = plt.subplots(figsize=(8, 6))\n",
    "    ax.scatter(word_vectors_in_2d[:, 0], word_vectors_in_2d[:, 1])\n",
    "    for i, w in enumerate(word_list):\n",
    "        ax.annotate(w, (word_vectors_in_2d[i, 0], word_vectors_in_2d[i, 1]), \n",
    "                    clip_on=True)\n",
    "    if x_lim is not None:\n",
    "        ax.set_xlim(x_lim)\n",
    "    if y_lim is not None:\n",
    "        ax.set_ylim(y_lim)\n",
    "    plt.axis(axis)\n",
    "    plt.show()"
   ]
  },
  {
   "cell_type": "markdown",
   "metadata": {
    "id": "t8-JFWZsNYYV"
   },
   "source": [
    "You need to upload the model in order for this section to run. Some models can be found [here](https://drive.google.com/drive/folders/1S_bFgENkQu-sn_fJjGC8xaMehncxoqji?usp=sharing)."
   ]
  },
  {
   "cell_type": "code",
   "execution_count": 59,
   "metadata": {
    "colab": {
     "base_uri": "https://localhost:8080/",
     "height": 714
    },
    "id": "s4oux6IEAjXC",
    "outputId": "ed797f7a-5712-464e-82dc-21c84fac3275"
   },
   "outputs": [],
   "source": [
    "# this is specific to my machine\n",
    "EMBEDDINGS_DIR = \"/home/tigran/Desktop/python3/machine_learning/datasets/fastText_sg_50/\""
   ]
  },
  {
   "cell_type": "code",
   "execution_count": 60,
   "metadata": {},
   "outputs": [
    {
     "data": {
      "text/plain": [
       "['ft_50_1679k_and_wiki_lr0025_cn36_ss000001.model.wv.vectors_ngrams.npy',\n",
       " 'ft_50_1679k_and_wiki_lr0025_cn36_ss000001.model.trainables.vectors_ngrams_lockf.npy',\n",
       " 'ft_50_1679k_and_wiki_lr0025_cn36_ss000001.model.trainables.vectors_vocab_lockf.npy',\n",
       " 'ft_50_1679k_and_wiki_lr0025_cn36_ss000001.model',\n",
       " 'ft_50_1679k_and_wiki_lr0025_cn36_ss000001.model.wv.vectors_vocab.npy',\n",
       " 'ft_50_1679k_and_wiki_lr0025_cn36_ss000001.model.wv.vectors.npy',\n",
       " 'ft_50_1679k_and_wiki_lr0025_cn36_ss000001.model.trainables.syn1neg.npy']"
      ]
     },
     "execution_count": 60,
     "metadata": {},
     "output_type": "execute_result"
    }
   ],
   "source": [
    "os.listdir(EMBEDDINGS_DIR)"
   ]
  },
  {
   "cell_type": "code",
   "execution_count": 68,
   "metadata": {},
   "outputs": [],
   "source": [
    "armenian_wv_vectors = np.load(EMBEDDINGS_DIR + \"ft_50_1679k_and_wiki_lr0025_cn36_ss000001.model.wv.vectors.npy\")"
   ]
  },
  {
   "cell_type": "code",
   "execution_count": 69,
   "metadata": {},
   "outputs": [
    {
     "data": {
      "text/plain": [
       "(678783, 50)"
      ]
     },
     "execution_count": 69,
     "metadata": {},
     "output_type": "execute_result"
    }
   ],
   "source": [
    "armenian_wv_vectors.shape"
   ]
  },
  {
   "cell_type": "code",
   "execution_count": 48,
   "metadata": {},
   "outputs": [
    {
     "name": "stdout",
     "output_type": "stream",
     "text": [
      "Number of vocabulary words: 678783\n"
     ]
    },
    {
     "data": {
      "image/png": "[encoded data removed]",
      "text/plain": [
       "<Figure size 576x432 with 1 Axes>"
      ]
     },
     "metadata": {
      "needs_background": "light"
     },
     "output_type": "display_data"
    },
    {
     "data": {
      "image/png": "[encoded data removed]",
      "text/plain": [
       "<Figure size 576x432 with 1 Axes>"
      ]
     },
     "metadata": {
      "needs_background": "light"
     },
     "output_type": "display_data"
    }
   ],
   "source": [
    "model_name = os.path.join(EMBEDDINGS_DIR, 'ft_50_1679k_and_wiki_lr0025_cn36_ss000001.model')\n",
    "\n",
    "if os.path.exists(model_name):\n",
    "    armenian_embeddings = gensim.models.fasttext.FastText.load(model_name)\n",
    "    print(f'Number of vocabulary words: {len(armenian_embeddings.wv.key_to_index)}')\n",
    "    top_1000_words = armenian_embeddings.wv.index_to_key[:1000]\n",
    "    plot_pca(top_1000_words, model=armenian_embeddings)\n",
    "    plot_pca(top_1000_words, (-20, 20), (-20, -10), \n",
    "             model=armenian_embeddings)\n",
    "else:\n",
    "    armenian_embeddings = None\n",
    "    print('You need to upload the model file first.')"
   ]
  },
  {
   "cell_type": "code",
   "execution_count": 71,
   "metadata": {
    "colab": {
     "base_uri": "https://localhost:8080/"
    },
    "id": "B2ogviqyTYfC",
    "outputId": "2e0d9c03-a4c6-444a-ffe9-b2c6ecfa31cd"
   },
   "outputs": [
    {
     "data": {
      "text/plain": [
       "[('դպրոցր', 0.9347217082977295),\n",
       " ('դպրոցոմ', 0.9304841160774231),\n",
       " ('դպրոցս', 0.9274286031723022),\n",
       " ('Դպրոց', 0.9206417798995972),\n",
       " ('դպրոցը', 0.9072887301445007),\n",
       " ('գրադպրոց', 0.9066643118858337),\n",
       " ('դպրոցիս', 0.9043025970458984),\n",
       " ('դպրոցն', 0.9037589430809021),\n",
       " ('սպորտդպրոց', 0.8666009306907654),\n",
       " ('դպրոցիդ', 0.8576774597167969)]"
      ]
     },
     "execution_count": 71,
     "metadata": {},
     "output_type": "execute_result"
    }
   ],
   "source": [
    "armenian_embeddings.wv.most_similar(positive=['դպրոց'])"
   ]
  },
  {
   "cell_type": "code",
   "execution_count": 72,
   "metadata": {
    "colab": {
     "base_uri": "https://localhost:8080/"
    },
    "id": "jQ83s-78gUGW",
    "outputId": "2091ae8c-ad2a-4d83-d876-8dedf4b727d8"
   },
   "outputs": [
    {
     "data": {
      "text/plain": [
       "[('Սև-կարմիր', 0.8918076157569885),\n",
       " ('կապույտ', 0.8345008492469788),\n",
       " ('արնակարմիր', 0.8093111515045166),\n",
       " ('դեղին', 0.8082975745201111),\n",
       " ('կարմիրի', 0.8051130771636963),\n",
       " ('նարնջակարմիր', 0.8005646467208862),\n",
       " ('կապտակարմիր', 0.7926866412162781),\n",
       " ('շիկակարմիր', 0.7907490134239197),\n",
       " ('կարմրակապույտ', 0.7717243432998657),\n",
       " ('կարմիրն', 0.7715886831283569)]"
      ]
     },
     "execution_count": 72,
     "metadata": {},
     "output_type": "execute_result"
    }
   ],
   "source": [
    "armenian_embeddings.wv.most_similar(positive=['կարմիր'])"
   ]
  },
  {
   "cell_type": "code",
   "execution_count": 73,
   "metadata": {
    "colab": {
     "base_uri": "https://localhost:8080/"
    },
    "id": "vCz_-SYngipe",
    "outputId": "6c93ef3c-bbd3-43bf-83f5-79f0e6e3ff64"
   },
   "outputs": [
    {
     "data": {
      "text/plain": [
       "[('Mt', 0.5067792534828186),\n",
       " ('th', 0.4941091239452362),\n",
       " ('աշխատունակ', 0.4869404137134552),\n",
       " ('Յըլ', 0.4710981845855713),\n",
       " ('Ասատր', 0.45934998989105225),\n",
       " ('Շահսենեմ', 0.45517221093177795),\n",
       " ('104-ը', 0.4510743319988251),\n",
       " ('64', 0.44867804646492004),\n",
       " ('Էթեմ', 0.4444555640220642),\n",
       " ('onto', 0.4409806430339813)]"
      ]
     },
     "execution_count": 73,
     "metadata": {},
     "output_type": "execute_result"
    }
   ],
   "source": [
    "armenian_embeddings.wv.most_similar(negative=['կարմիր'])"
   ]
  },
  {
   "cell_type": "code",
   "execution_count": 74,
   "metadata": {
    "colab": {
     "base_uri": "https://localhost:8080/"
    },
    "id": "3PEmkn5witS2",
    "outputId": "0e8fe05a-55c5-4aa2-8b23-de8b79ed32c7"
   },
   "outputs": [
    {
     "data": {
      "text/plain": [
       "[('ահռելի', 0.8149975538253784),\n",
       " ('մեծամեծ', 0.7984603643417358),\n",
       " ('ամեամեծ', 0.7928067445755005),\n",
       " ('զգալի', 0.7857368588447571),\n",
       " ('մեծավ', 0.7764309644699097),\n",
       " ('մեծէ', 0.7753074169158936),\n",
       " ('փոքրումեծ', 0.7660236954689026),\n",
       " ('մեծաթիվ', 0.7634613513946533),\n",
       " ('ավելիմեծ', 0.7528669834136963),\n",
       " ('փոքր', 0.7351521253585815)]"
      ]
     },
     "execution_count": 74,
     "metadata": {},
     "output_type": "execute_result"
    }
   ],
   "source": [
    "armenian_embeddings.wv.most_similar(positive=['մեծ'])"
   ]
  },
  {
   "cell_type": "code",
   "execution_count": 75,
   "metadata": {
    "id": "9GSK41rkix_7"
   },
   "outputs": [],
   "source": [
    "def analogy(w1_is_to, w2, as_w3_is_to):\n",
    "    return armenian_embeddings.wv.most_similar(\n",
    "        positive=[as_w3_is_to, w2], negative=[w1_is_to])[0][0]"
   ]
  },
  {
   "cell_type": "code",
   "execution_count": 77,
   "metadata": {
    "colab": {
     "base_uri": "https://localhost:8080/",
     "height": 35
    },
    "id": "4SxV8_SRlcUt",
    "outputId": "9349a5b6-1fd0-4745-cfc9-d14ad251fc8e"
   },
   "outputs": [
    {
     "data": {
      "text/plain": [
       "'Ռուսաստան'"
      ]
     },
     "execution_count": 77,
     "metadata": {},
     "output_type": "execute_result"
    }
   ],
   "source": [
    "analogy('Երևան', 'Հայաստան', 'Մոսկվա')"
   ]
  },
  {
   "cell_type": "code",
   "execution_count": 78,
   "metadata": {
    "colab": {
     "base_uri": "https://localhost:8080/",
     "height": 35
    },
    "id": "Isgy-FTWmD7p",
    "outputId": "82d5b250-e35d-4549-c6c4-3aa447a30af8"
   },
   "outputs": [
    {
     "data": {
      "text/plain": [
       "'Հայաստան'"
      ]
     },
     "execution_count": 78,
     "metadata": {},
     "output_type": "execute_result"
    }
   ],
   "source": [
    "analogy('Պուտին', 'Ռուսաստան', 'Փաշինյան')"
   ]
  },
  {
   "cell_type": "code",
   "execution_count": 79,
   "metadata": {
    "colab": {
     "base_uri": "https://localhost:8080/",
     "height": 35
    },
    "id": "9YDAe7F4mZqa",
    "outputId": "2aff898e-f02d-4b5e-a60a-8525ea3cd3aa"
   },
   "outputs": [
    {
     "data": {
      "text/plain": [
       "'ամերիկացի'"
      ]
     },
     "execution_count": 79,
     "metadata": {},
     "output_type": "execute_result"
    }
   ],
   "source": [
    "analogy('Հայաստան', 'հայ', 'ԱՄՆ')"
   ]
  },
  {
   "cell_type": "code",
   "execution_count": 80,
   "metadata": {
    "colab": {
     "base_uri": "https://localhost:8080/",
     "height": 35
    },
    "id": "kQG-fPfBnFb5",
    "outputId": "71d2d48b-f0a3-46b7-8917-bd9046d755d6"
   },
   "outputs": [
    {
     "data": {
      "text/plain": [
       "'սպիտակ'"
      ]
     },
     "execution_count": 80,
     "metadata": {},
     "output_type": "execute_result"
    }
   ],
   "source": [
    "analogy('մեծ', 'փոքր', 'սև')"
   ]
  },
  {
   "cell_type": "code",
   "execution_count": 81,
   "metadata": {
    "colab": {
     "base_uri": "https://localhost:8080/",
     "height": 35
    },
    "id": "b4V43cxmw1sc",
    "outputId": "b97d7338-23b0-4206-b521-3e65e2c798c6"
   },
   "outputs": [
    {
     "data": {
      "text/plain": [
       "'պետհամալսարան'"
      ]
     },
     "execution_count": 81,
     "metadata": {},
     "output_type": "execute_result"
    }
   ],
   "source": [
    "analogy('ուսուցիչ', 'դպրոց', 'դասախոս')"
   ]
  },
  {
   "cell_type": "code",
   "execution_count": 82,
   "metadata": {
    "colab": {
     "base_uri": "https://localhost:8080/",
     "height": 35
    },
    "id": "b0VSLCjPo9Cq",
    "outputId": "36f7abae-0154-4402-d145-d4c58d3f974f"
   },
   "outputs": [
    {
     "data": {
      "text/plain": [
       "'շամպայն'"
      ]
     },
     "execution_count": 82,
     "metadata": {},
     "output_type": "execute_result"
    }
   ],
   "source": [
    "analogy('Գերմանիա', 'գարեջուր', 'Ֆրանսիա')"
   ]
  },
  {
   "cell_type": "code",
   "execution_count": 32,
   "metadata": {
    "colab": {
     "base_uri": "https://localhost:8080/"
    },
    "id": "rbS-HPUqwckD",
    "outputId": "b9c61e3e-b28a-40d7-ec04-d9c63ee671ad"
   },
   "outputs": [
    {
     "data": {
      "text/plain": [
       "[('եվրոպացիք', 0.6649691462516785),\n",
       " ('արտահ', 0.6454819440841675),\n",
       " ('հայաստանա', 0.6442304849624634),\n",
       " ('հայաստանն', 0.6366807222366333),\n",
       " ('հայաստանը', 0.6296848058700562),\n",
       " ('որՀայաստանը', 0.5973527431488037),\n",
       " ('եվրոպացի', 0.5940942168235779),\n",
       " ('Հայաստանն', 0.5940027236938477),\n",
       " ('հայաստանցիք', 0.5847570896148682),\n",
       " ('բանանն', 0.5826882123947144)]"
      ]
     },
     "execution_count": 32,
     "metadata": {},
     "output_type": "execute_result"
    }
   ],
   "source": [
    "armenian_embeddings.wv.most_similar(\n",
    "      positive=['Հայաստան'], negative=['Երևան'])"
   ]
  },
  {
   "cell_type": "code",
   "execution_count": 86,
   "metadata": {},
   "outputs": [
    {
     "data": {
      "text/plain": [
       "[('շախմատով', 0.6758357286453247),\n",
       " ('շախմատիստն', 0.6734527945518494),\n",
       " ('շախմատիստներ', 0.6704702973365784),\n",
       " ('շախմատիստով', 0.6634367108345032),\n",
       " ('շախմատիստ', 0.6551751494407654),\n",
       " ('բասկետբոլ', 0.654177188873291),\n",
       " ('աշակերտ', 0.6521168351173401),\n",
       " ('մեծահասակն', 0.6483213305473328),\n",
       " ('մարզաձևն', 0.6411386728286743),\n",
       " ('աշակերտով', 0.6397388577461243)]"
      ]
     },
     "execution_count": 86,
     "metadata": {},
     "output_type": "execute_result"
    }
   ],
   "source": [
    "armenian_embeddings.wv.most_similar(\n",
    "    positive=['շախմատ', 'մարդ']\n",
    ")"
   ]
  },
  {
   "cell_type": "code",
   "execution_count": null,
   "metadata": {},
   "outputs": [],
   "source": []
  }
 ],
 "metadata": {
  "colab": {
   "name": "ACA ML 8.1 - Introduction to NLP and Word vectors.ipynb",
   "provenance": [],
   "toc_visible": true
  },
  "kernelspec": {
   "display_name": "Python 3 (ipykernel)",
   "language": "python",
   "name": "python3"
  },
  "language_info": {
   "codemirror_mode": {
    "name": "ipython",
    "version": 3
   },
   "file_extension": ".py",
   "mimetype": "text/x-python",
   "name": "python",
   "nbconvert_exporter": "python",
   "pygments_lexer": "ipython3",
   "version": "3.9.10"
  }
 },
 "nbformat": 4,
 "nbformat_minor": 1
}
