{
 "cells": [
  {
   "cell_type": "markdown",
   "metadata": {
    "id": "P1C4rr8ynj7Y"
   },
   "source": [
    "# Logistic Regression"
   ]
  },
  {
   "cell_type": "code",
   "execution_count": 1,
   "metadata": {
    "executionInfo": {
     "elapsed": 407,
     "status": "ok",
     "timestamp": 1639651072577,
     "user": {
      "displayName": "Tigran Fahradyan",
      "photoUrl": "https://lh3.googleusercontent.com/a-/AOh14Gh-nKGiDYIRqDVzJLIaEs_8pnw_vMBjy8DEj-Wc1g=s64",
      "userId": "09993311274482746194"
     },
     "user_tz": -240
    },
    "id": "tH1AnbQ0nj7d"
   },
   "outputs": [],
   "source": [
    "# import libs\n",
    "import numpy as np\n",
    "import matplotlib.pyplot as plt\n",
    "import pandas as pd\n",
    "\n",
    "from sklearn.datasets import load_iris\n",
    "from sklearn.linear_model import LogisticRegression\n",
    "from sklearn.model_selection import train_test_split\n",
    "from sklearn.preprocessing import StandardScaler, MinMaxScaler\n",
    "\n",
    "# import sklearn models\n",
    "from sklearn.linear_model import LogisticRegression"
   ]
  },
  {
   "cell_type": "code",
   "execution_count": 2,
   "metadata": {
    "colab": {
     "base_uri": "https://localhost:8080/"
    },
    "executionInfo": {
     "elapsed": 301,
     "status": "ok",
     "timestamp": 1639647757133,
     "user": {
      "displayName": "Tigran Fahradyan",
      "photoUrl": "https://lh3.googleusercontent.com/a-/AOh14Gh-nKGiDYIRqDVzJLIaEs_8pnw_vMBjy8DEj-Wc1g=s64",
      "userId": "09993311274482746194"
     },
     "user_tz": -240
    },
    "id": "LDbfWnrhnj7f",
    "outputId": "c0d5deb4-1989-4f2a-d946-b9d0086d27a6"
   },
   "outputs": [
    {
     "data": {
      "text/plain": [
       "(array([[5.1, 3.5, 1.4, 0.2],\n",
       "        [4.9, 3. , 1.4, 0.2],\n",
       "        [4.7, 3.2, 1.3, 0.2],\n",
       "        [4.6, 3.1, 1.5, 0.2],\n",
       "        [5. , 3.6, 1.4, 0.2],\n",
       "        [5.4, 3.9, 1.7, 0.4],\n",
       "        [4.6, 3.4, 1.4, 0.3],\n",
       "        [5. , 3.4, 1.5, 0.2],\n",
       "        [4.4, 2.9, 1.4, 0.2],\n",
       "        [4.9, 3.1, 1.5, 0.1]]),\n",
       " array([0, 0, 0, 0, 0, 0, 0, 0, 0, 0, 0, 0, 0, 0, 0, 0, 0, 0, 0, 0, 0, 0,\n",
       "        0, 0, 0, 0, 0, 0, 0, 0, 0, 0, 0, 0, 0, 0, 0, 0, 0, 0, 0, 0, 0, 0,\n",
       "        0, 0, 0, 0, 0, 0, 1, 1, 1, 1, 1, 1, 1, 1, 1, 1, 1, 1, 1, 1, 1, 1,\n",
       "        1, 1, 1, 1, 1, 1, 1, 1, 1, 1, 1, 1, 1, 1, 1, 1, 1, 1, 1, 1, 1, 1,\n",
       "        1, 1, 1, 1, 1, 1, 1, 1, 1, 1, 1, 1, 2, 2, 2, 2, 2, 2, 2, 2, 2, 2,\n",
       "        2, 2, 2, 2, 2, 2, 2, 2, 2, 2, 2, 2, 2, 2, 2, 2, 2, 2, 2, 2, 2, 2,\n",
       "        2, 2, 2, 2, 2, 2, 2, 2, 2, 2, 2, 2, 2, 2, 2, 2, 2, 2]))"
      ]
     },
     "execution_count": 2,
     "metadata": {},
     "output_type": "execute_result"
    }
   ],
   "source": [
    "X, y = load_iris(return_X_y=True)\n",
    "X[:10], y"
   ]
  },
  {
   "cell_type": "code",
   "execution_count": 3,
   "metadata": {
    "colab": {
     "base_uri": "https://localhost:8080/",
     "height": 300
    },
    "executionInfo": {
     "elapsed": 263,
     "status": "ok",
     "timestamp": 1639647772791,
     "user": {
      "displayName": "Tigran Fahradyan",
      "photoUrl": "https://lh3.googleusercontent.com/a-/AOh14Gh-nKGiDYIRqDVzJLIaEs_8pnw_vMBjy8DEj-Wc1g=s64",
      "userId": "09993311274482746194"
     },
     "user_tz": -240
    },
    "id": "Xlbql6qknj7g",
    "outputId": "d3083fda-2d65-4814-b36c-21d76ad27280"
   },
   "outputs": [
    {
     "data": {
      "text/html": [
       "<div>\n",
       "<style scoped>\n",
       "    .dataframe tbody tr th:only-of-type {\n",
       "        vertical-align: middle;\n",
       "    }\n",
       "\n",
       "    .dataframe tbody tr th {\n",
       "        vertical-align: top;\n",
       "    }\n",
       "\n",
       "    .dataframe thead th {\n",
       "        text-align: right;\n",
       "    }\n",
       "</style>\n",
       "<table border=\"1\" class=\"dataframe\">\n",
       "  <thead>\n",
       "    <tr style=\"text-align: right;\">\n",
       "      <th></th>\n",
       "      <th>0</th>\n",
       "      <th>1</th>\n",
       "      <th>2</th>\n",
       "      <th>3</th>\n",
       "    </tr>\n",
       "  </thead>\n",
       "  <tbody>\n",
       "    <tr>\n",
       "      <th>count</th>\n",
       "      <td>150.000000</td>\n",
       "      <td>150.000000</td>\n",
       "      <td>150.000000</td>\n",
       "      <td>150.000000</td>\n",
       "    </tr>\n",
       "    <tr>\n",
       "      <th>mean</th>\n",
       "      <td>5.843333</td>\n",
       "      <td>3.057333</td>\n",
       "      <td>3.758000</td>\n",
       "      <td>1.199333</td>\n",
       "    </tr>\n",
       "    <tr>\n",
       "      <th>std</th>\n",
       "      <td>0.828066</td>\n",
       "      <td>0.435866</td>\n",
       "      <td>1.765298</td>\n",
       "      <td>0.762238</td>\n",
       "    </tr>\n",
       "    <tr>\n",
       "      <th>min</th>\n",
       "      <td>4.300000</td>\n",
       "      <td>2.000000</td>\n",
       "      <td>1.000000</td>\n",
       "      <td>0.100000</td>\n",
       "    </tr>\n",
       "    <tr>\n",
       "      <th>25%</th>\n",
       "      <td>5.100000</td>\n",
       "      <td>2.800000</td>\n",
       "      <td>1.600000</td>\n",
       "      <td>0.300000</td>\n",
       "    </tr>\n",
       "    <tr>\n",
       "      <th>50%</th>\n",
       "      <td>5.800000</td>\n",
       "      <td>3.000000</td>\n",
       "      <td>4.350000</td>\n",
       "      <td>1.300000</td>\n",
       "    </tr>\n",
       "    <tr>\n",
       "      <th>75%</th>\n",
       "      <td>6.400000</td>\n",
       "      <td>3.300000</td>\n",
       "      <td>5.100000</td>\n",
       "      <td>1.800000</td>\n",
       "    </tr>\n",
       "    <tr>\n",
       "      <th>max</th>\n",
       "      <td>7.900000</td>\n",
       "      <td>4.400000</td>\n",
       "      <td>6.900000</td>\n",
       "      <td>2.500000</td>\n",
       "    </tr>\n",
       "  </tbody>\n",
       "</table>\n",
       "</div>"
      ],
      "text/plain": [
       "                0           1           2           3\n",
       "count  150.000000  150.000000  150.000000  150.000000\n",
       "mean     5.843333    3.057333    3.758000    1.199333\n",
       "std      0.828066    0.435866    1.765298    0.762238\n",
       "min      4.300000    2.000000    1.000000    0.100000\n",
       "25%      5.100000    2.800000    1.600000    0.300000\n",
       "50%      5.800000    3.000000    4.350000    1.300000\n",
       "75%      6.400000    3.300000    5.100000    1.800000\n",
       "max      7.900000    4.400000    6.900000    2.500000"
      ]
     },
     "execution_count": 3,
     "metadata": {},
     "output_type": "execute_result"
    }
   ],
   "source": [
    "pd.DataFrame(X).describe()"
   ]
  },
  {
   "cell_type": "code",
   "execution_count": 4,
   "metadata": {
    "executionInfo": {
     "elapsed": 2,
     "status": "ok",
     "timestamp": 1639647783984,
     "user": {
      "displayName": "Tigran Fahradyan",
      "photoUrl": "https://lh3.googleusercontent.com/a-/AOh14Gh-nKGiDYIRqDVzJLIaEs_8pnw_vMBjy8DEj-Wc1g=s64",
      "userId": "09993311274482746194"
     },
     "user_tz": -240
    },
    "id": "ZdQ0PwPXnj7g"
   },
   "outputs": [],
   "source": [
    "X_train, X_test, y_train, y_test = train_test_split(X, y, test_size=0.25, random_state=0, stratify=y)"
   ]
  },
  {
   "cell_type": "code",
   "execution_count": 5,
   "metadata": {
    "colab": {
     "base_uri": "https://localhost:8080/"
    },
    "executionInfo": {
     "elapsed": 2,
     "status": "ok",
     "timestamp": 1639647784756,
     "user": {
      "displayName": "Tigran Fahradyan",
      "photoUrl": "https://lh3.googleusercontent.com/a-/AOh14Gh-nKGiDYIRqDVzJLIaEs_8pnw_vMBjy8DEj-Wc1g=s64",
      "userId": "09993311274482746194"
     },
     "user_tz": -240
    },
    "id": "NNXos3OXnj7h",
    "outputId": "e243b8ae-72d8-480f-842e-79ed67c2fb82"
   },
   "outputs": [
    {
     "data": {
      "text/plain": [
       "((112, 4), (38, 4))"
      ]
     },
     "execution_count": 5,
     "metadata": {},
     "output_type": "execute_result"
    }
   ],
   "source": [
    "X_train.shape, X_test.shape"
   ]
  },
  {
   "cell_type": "code",
   "execution_count": 6,
   "metadata": {
    "executionInfo": {
     "elapsed": 256,
     "status": "ok",
     "timestamp": 1639647822855,
     "user": {
      "displayName": "Tigran Fahradyan",
      "photoUrl": "https://lh3.googleusercontent.com/a-/AOh14Gh-nKGiDYIRqDVzJLIaEs_8pnw_vMBjy8DEj-Wc1g=s64",
      "userId": "09993311274482746194"
     },
     "user_tz": -240
    },
    "id": "ITPx9YLbnj7h"
   },
   "outputs": [],
   "source": [
    "sc = StandardScaler()\n",
    "X_train = sc.fit_transform(X_train)\n",
    "X_test = sc.transform(X_test)"
   ]
  },
  {
   "cell_type": "code",
   "execution_count": 7,
   "metadata": {
    "colab": {
     "base_uri": "https://localhost:8080/"
    },
    "executionInfo": {
     "elapsed": 292,
     "status": "ok",
     "timestamp": 1639647839939,
     "user": {
      "displayName": "Tigran Fahradyan",
      "photoUrl": "https://lh3.googleusercontent.com/a-/AOh14Gh-nKGiDYIRqDVzJLIaEs_8pnw_vMBjy8DEj-Wc1g=s64",
      "userId": "09993311274482746194"
     },
     "user_tz": -240
    },
    "id": "VT7fvz32nj7i",
    "outputId": "301f000e-e473-48b0-d22d-dc85c9bfc09a"
   },
   "outputs": [
    {
     "data": {
      "text/plain": [
       "LogisticRegression(random_state=0)"
      ]
     },
     "execution_count": 7,
     "metadata": {},
     "output_type": "execute_result"
    }
   ],
   "source": [
    "classifier = LogisticRegression(random_state=0, solver='lbfgs', multi_class='auto')\n",
    "classifier.fit(X_train, y_train)"
   ]
  },
  {
   "cell_type": "code",
   "execution_count": 8,
   "metadata": {
    "executionInfo": {
     "elapsed": 260,
     "status": "ok",
     "timestamp": 1639647841913,
     "user": {
      "displayName": "Tigran Fahradyan",
      "photoUrl": "https://lh3.googleusercontent.com/a-/AOh14Gh-nKGiDYIRqDVzJLIaEs_8pnw_vMBjy8DEj-Wc1g=s64",
      "userId": "09993311274482746194"
     },
     "user_tz": -240
    },
    "id": "9uXAkQh5nj7j"
   },
   "outputs": [],
   "source": [
    "y_pred = classifier.predict(X_test)"
   ]
  },
  {
   "cell_type": "code",
   "execution_count": 9,
   "metadata": {
    "colab": {
     "base_uri": "https://localhost:8080/"
    },
    "executionInfo": {
     "elapsed": 2,
     "status": "ok",
     "timestamp": 1639647843124,
     "user": {
      "displayName": "Tigran Fahradyan",
      "photoUrl": "https://lh3.googleusercontent.com/a-/AOh14Gh-nKGiDYIRqDVzJLIaEs_8pnw_vMBjy8DEj-Wc1g=s64",
      "userId": "09993311274482746194"
     },
     "user_tz": -240
    },
    "id": "nG4L3UPHnj7k",
    "outputId": "d1e1b548-3c04-458d-add8-66b011084ac2"
   },
   "outputs": [
    {
     "data": {
      "text/plain": [
       "array([0, 0, 0, 0, 1, 1, 1, 0, 1, 2, 2, 2, 1, 2, 1, 0, 0, 2, 0, 1, 2, 1,\n",
       "       1, 0, 1, 0, 0, 1, 2, 1, 0, 1, 2, 2, 0, 1, 2, 2])"
      ]
     },
     "execution_count": 9,
     "metadata": {},
     "output_type": "execute_result"
    }
   ],
   "source": [
    "y_pred"
   ]
  },
  {
   "cell_type": "code",
   "execution_count": 10,
   "metadata": {
    "colab": {
     "base_uri": "https://localhost:8080/"
    },
    "executionInfo": {
     "elapsed": 259,
     "status": "ok",
     "timestamp": 1639647849863,
     "user": {
      "displayName": "Tigran Fahradyan",
      "photoUrl": "https://lh3.googleusercontent.com/a-/AOh14Gh-nKGiDYIRqDVzJLIaEs_8pnw_vMBjy8DEj-Wc1g=s64",
      "userId": "09993311274482746194"
     },
     "user_tz": -240
    },
    "id": "MTHvjNL8nj7k",
    "outputId": "dee73d74-392e-461d-ba51-3c33f3bf4a62"
   },
   "outputs": [
    {
     "data": {
      "text/plain": [
       "array([[9.71472766e-01, 2.85261694e-02, 1.06473553e-06],\n",
       "       [9.49578215e-01, 5.04204736e-02, 1.31096721e-06],\n",
       "       [9.84774178e-01, 1.52253217e-02, 5.00155629e-07],\n",
       "       [9.35378247e-01, 6.46106331e-02, 1.11201281e-05],\n",
       "       [3.45774407e-02, 9.46817825e-01, 1.86047347e-02],\n",
       "       [2.74323800e-02, 8.57652353e-01, 1.14915267e-01],\n",
       "       [4.09656508e-02, 8.81209276e-01, 7.78250731e-02],\n",
       "       [9.52677030e-01, 4.73216540e-02, 1.31557581e-06],\n",
       "       [6.56612595e-02, 6.85693663e-01, 2.48645077e-01],\n",
       "       [3.66989088e-04, 3.22080468e-01, 6.77552543e-01]])"
      ]
     },
     "execution_count": 10,
     "metadata": {},
     "output_type": "execute_result"
    }
   ],
   "source": [
    "probs_y=classifier.predict_proba(X_test)\n",
    "probs_y[:10]"
   ]
  },
  {
   "cell_type": "code",
   "execution_count": 11,
   "metadata": {
    "colab": {
     "base_uri": "https://localhost:8080/"
    },
    "executionInfo": {
     "elapsed": 263,
     "status": "ok",
     "timestamp": 1639647854062,
     "user": {
      "displayName": "Tigran Fahradyan",
      "photoUrl": "https://lh3.googleusercontent.com/a-/AOh14Gh-nKGiDYIRqDVzJLIaEs_8pnw_vMBjy8DEj-Wc1g=s64",
      "userId": "09993311274482746194"
     },
     "user_tz": -240
    },
    "id": "__SkQPU6nj7k",
    "outputId": "ebeebd42-4785-4e09-cdb5-939cdfe09d2d"
   },
   "outputs": [
    {
     "data": {
      "text/plain": [
       "array([[0.97, 0.03, 0.  ],\n",
       "       [0.95, 0.05, 0.  ],\n",
       "       [0.98, 0.02, 0.  ],\n",
       "       [0.94, 0.06, 0.  ],\n",
       "       [0.03, 0.95, 0.02],\n",
       "       [0.03, 0.86, 0.11],\n",
       "       [0.04, 0.88, 0.08],\n",
       "       [0.95, 0.05, 0.  ],\n",
       "       [0.07, 0.69, 0.25],\n",
       "       [0.  , 0.32, 0.68]])"
      ]
     },
     "execution_count": 11,
     "metadata": {},
     "output_type": "execute_result"
    }
   ],
   "source": [
    "probs_y = np.round(probs_y, 2)\n",
    "probs_y[:10]"
   ]
  },
  {
   "cell_type": "code",
   "execution_count": 12,
   "metadata": {
    "colab": {
     "base_uri": "https://localhost:8080/"
    },
    "executionInfo": {
     "elapsed": 379,
     "status": "ok",
     "timestamp": 1639647880711,
     "user": {
      "displayName": "Tigran Fahradyan",
      "photoUrl": "https://lh3.googleusercontent.com/a-/AOh14Gh-nKGiDYIRqDVzJLIaEs_8pnw_vMBjy8DEj-Wc1g=s64",
      "userId": "09993311274482746194"
     },
     "user_tz": -240
    },
    "id": "rEXxoC1Anj7l",
    "outputId": "09ce9abc-cfed-4e54-f7ec-56ee106863ff"
   },
   "outputs": [
    {
     "name": "stdout",
     "output_type": "stream",
     "text": [
      "y_test     | y_pred     | Setosa(%)  | versicolor(%) | virginica(%)\n",
      "-----------------------------------------------------------------\n",
      "0          | 0          | 0.97       | 0.03          | 0.0       \n",
      "0          | 0          | 0.95       | 0.05          | 0.0       \n",
      "0          | 0          | 0.98       | 0.02          | 0.0       \n",
      "0          | 0          | 0.94       | 0.06          | 0.0       \n",
      "1          | 1          | 0.03       | 0.95          | 0.02      \n",
      "1          | 1          | 0.03       | 0.86          | 0.11      \n",
      "1          | 1          | 0.04       | 0.88          | 0.08      \n",
      "0          | 0          | 0.95       | 0.05          | 0.0       \n",
      "1          | 1          | 0.07       | 0.69          | 0.25      \n",
      "2          | 2          | 0.0        | 0.32          | 0.68      \n",
      "2          | 2          | 0.0        | 0.01          | 0.99      \n",
      "2          | 2          | 0.0        | 0.21          | 0.79      \n",
      "1          | 1          | 0.04       | 0.94          | 0.02      \n",
      "2          | 2          | 0.0        | 0.22          | 0.78      \n",
      "1          | 1          | 0.02       | 0.9           | 0.08      \n",
      "0          | 0          | 0.99       | 0.01          | 0.0       \n",
      "0          | 0          | 0.97       | 0.03          | 0.0       \n",
      "2          | 2          | 0.0        | 0.15          | 0.84      \n",
      "0          | 0          | 0.99       | 0.01          | 0.0       \n",
      "1          | 1          | 0.02       | 0.76          | 0.21      \n",
      "2          | 2          | 0.0        | 0.34          | 0.65      \n",
      "1          | 1          | 0.09       | 0.85          | 0.07      \n",
      "1          | 1          | 0.01       | 0.72          | 0.28      \n",
      "0          | 0          | 0.98       | 0.02          | 0.0       \n",
      "2          | 1          | 0.0        | 0.57          | 0.43      \n",
      "0          | 0          | 0.97       | 0.03          | 0.0       \n",
      "0          | 0          | 0.97       | 0.03          | 0.0       \n",
      "1          | 1          | 0.03       | 0.9           | 0.08      \n",
      "2          | 2          | 0.0        | 0.23          | 0.77      \n",
      "1          | 1          | 0.01       | 0.83          | 0.15      \n",
      "0          | 0          | 0.99       | 0.01          | 0.0       \n",
      "1          | 1          | 0.0        | 0.71          | 0.28      \n",
      "2          | 2          | 0.0        | 0.09          | 0.91      \n",
      "2          | 2          | 0.0        | 0.16          | 0.84      \n",
      "0          | 0          | 0.99       | 0.01          | 0.0       \n",
      "1          | 1          | 0.01       | 0.79          | 0.2       \n",
      "2          | 2          | 0.0        | 0.03          | 0.97      \n",
      "2          | 2          | 0.0        | 0.01          | 0.99      \n",
      "-----------------------------------------------------------------\n",
      "\n"
     ]
    }
   ],
   "source": [
    "probs_y = np.round(probs_y, 2)\n",
    "res = \"{:<10} | {:<10} | {:<10} | {:<13} | {:<5}\".format(\"y_test\",\n",
    "                                                         \"y_pred\", \n",
    "                                                         \"Setosa(%)\",\n",
    "                                                         \"versicolor(%)\",\n",
    "                                                         \"virginica(%)\\n\")\n",
    "res += \"-\"*65+\"\\n\"\n",
    "res += \"\\n\".join(\"{:<10} | {:<10} | {:<10} | {:<13} | {:<10}\".format(x, y, a, b, c) \n",
    "                 for x, y, a, b, c in zip(y_test, y_pred, probs_y[:,0], probs_y[:,1], probs_y[:,2]))\n",
    "res += \"\\n\"+\"-\"*65+\"\\n\"\n",
    "print(res)"
   ]
  },
  {
   "cell_type": "code",
   "execution_count": 13,
   "metadata": {
    "colab": {
     "base_uri": "https://localhost:8080/"
    },
    "executionInfo": {
     "elapsed": 2,
     "status": "ok",
     "timestamp": 1639647880977,
     "user": {
      "displayName": "Tigran Fahradyan",
      "photoUrl": "https://lh3.googleusercontent.com/a-/AOh14Gh-nKGiDYIRqDVzJLIaEs_8pnw_vMBjy8DEj-Wc1g=s64",
      "userId": "09993311274482746194"
     },
     "user_tz": -240
    },
    "id": "pd4zXRKPnj7l",
    "outputId": "92941f9a-9c6d-46ab-ac14-7f4420ae4bcc"
   },
   "outputs": [
    {
     "data": {
      "text/plain": [
       "0.9736842105263158"
      ]
     },
     "execution_count": 13,
     "metadata": {},
     "output_type": "execute_result"
    }
   ],
   "source": [
    "classifier.score(X_test, y_test)"
   ]
  },
  {
   "cell_type": "markdown",
   "metadata": {
    "id": "fpICHqXgnj7m"
   },
   "source": [
    "# Confusion Matrix"
   ]
  },
  {
   "cell_type": "code",
   "execution_count": 14,
   "metadata": {
    "executionInfo": {
     "elapsed": 1,
     "status": "ok",
     "timestamp": 1639647882251,
     "user": {
      "displayName": "Tigran Fahradyan",
      "photoUrl": "https://lh3.googleusercontent.com/a-/AOh14Gh-nKGiDYIRqDVzJLIaEs_8pnw_vMBjy8DEj-Wc1g=s64",
      "userId": "09993311274482746194"
     },
     "user_tz": -240
    },
    "id": "7kvaqHntnj7m"
   },
   "outputs": [],
   "source": [
    "from sklearn.metrics import confusion_matrix"
   ]
  },
  {
   "cell_type": "code",
   "execution_count": 15,
   "metadata": {
    "colab": {
     "base_uri": "https://localhost:8080/"
    },
    "executionInfo": {
     "elapsed": 3,
     "status": "ok",
     "timestamp": 1639647883433,
     "user": {
      "displayName": "Tigran Fahradyan",
      "photoUrl": "https://lh3.googleusercontent.com/a-/AOh14Gh-nKGiDYIRqDVzJLIaEs_8pnw_vMBjy8DEj-Wc1g=s64",
      "userId": "09993311274482746194"
     },
     "user_tz": -240
    },
    "id": "SPF25HuQnj7m",
    "outputId": "c3aab144-1708-449a-bf80-b0471b5f08ae"
   },
   "outputs": [
    {
     "name": "stdout",
     "output_type": "stream",
     "text": [
      "[[13  0  0]\n",
      " [ 0 13  0]\n",
      " [ 0  1 11]]\n"
     ]
    }
   ],
   "source": [
    "from sklearn.metrics import confusion_matrix\n",
    "cm = confusion_matrix(y_test, y_pred)\n",
    "print(cm)"
   ]
  },
  {
   "cell_type": "code",
   "execution_count": 16,
   "metadata": {
    "colab": {
     "base_uri": "https://localhost:8080/"
    },
    "executionInfo": {
     "elapsed": 2,
     "status": "ok",
     "timestamp": 1639647884414,
     "user": {
      "displayName": "Tigran Fahradyan",
      "photoUrl": "https://lh3.googleusercontent.com/a-/AOh14Gh-nKGiDYIRqDVzJLIaEs_8pnw_vMBjy8DEj-Wc1g=s64",
      "userId": "09993311274482746194"
     },
     "user_tz": -240
    },
    "id": "LQC7uo9unj7n",
    "outputId": "874d3392-0afc-4f7e-aeef-5ba11281e4c8"
   },
   "outputs": [
    {
     "data": {
      "text/plain": [
       "array([[1.        , 0.        , 0.        ],\n",
       "       [0.        , 1.        , 0.        ],\n",
       "       [0.        , 0.08333333, 0.91666667]])"
      ]
     },
     "execution_count": 16,
     "metadata": {},
     "output_type": "execute_result"
    }
   ],
   "source": [
    "df_cm = confusion_matrix(y_test, y_pred, normalize=\"true\")\n",
    "df_cm"
   ]
  },
  {
   "cell_type": "code",
   "execution_count": 17,
   "metadata": {
    "colab": {
     "base_uri": "https://localhost:8080/",
     "height": 281
    },
    "executionInfo": {
     "elapsed": 572,
     "status": "ok",
     "timestamp": 1639647885852,
     "user": {
      "displayName": "Tigran Fahradyan",
      "photoUrl": "https://lh3.googleusercontent.com/a-/AOh14Gh-nKGiDYIRqDVzJLIaEs_8pnw_vMBjy8DEj-Wc1g=s64",
      "userId": "09993311274482746194"
     },
     "user_tz": -240
    },
    "id": "b665iLUznj7n",
    "outputId": "62930cf0-6f12-42df-ec00-a484ce648e44"
   },
   "outputs": [
    {
     "data": {
      "image/png": "[encoded data removed]",
      "text/plain": [
       "<Figure size 432x288 with 2 Axes>"
      ]
     },
     "metadata": {
      "needs_background": "light"
     },
     "output_type": "display_data"
    }
   ],
   "source": [
    "# Plot confusion matrix\n",
    "import seaborn as sns\n",
    "import pandas as pd\n",
    "import matplotlib.pyplot as plt\n",
    "# confusion matrix sns heatmap \n",
    "ax = plt.axes()\n",
    "df_cm = (confusion_matrix(y_test, y_pred, normalize=\"true\")*100).astype(int)\n",
    "\n",
    "sns.heatmap(df_cm, annot=True, annot_kws={\"size\": 30}, fmt='d',cmap=\"Blues\", ax = ax )\n",
    "ax.set_title('Confusion Matrix')\n",
    "plt.show()"
   ]
  },
  {
   "cell_type": "markdown",
   "metadata": {
    "id": "Pzd_6CLYnj7o"
   },
   "source": [
    "## Implement logistic regression using gradient descent.\n"
   ]
  },
  {
   "cell_type": "markdown",
   "metadata": {
    "id": "P7xi4fbBnj7o"
   },
   "source": [
    "**Maximum likelihood estimation.**\n",
    "\n",
    "Loss function.\n",
    "\n",
    "$$\n",
    "    L = -[(\\sum_{i=1}{y^{(i)} log(h(x^{(i)})) + (1 - y^{(i)}) log(1 - h(x^{(i)}))}) + l * (W)^2]\n",
    "$$\n",
    "where \n",
    "$$\n",
    "    h(X, W) = \\frac{1}{1 + exp(-X'W)}\n",
    "$$\n",
    "\n",
    "recall, derivative of sigmoid\n",
    "$$\n",
    "    \\frac{dS(x)}{dx} = S(x)(1 - S(x))\n",
    "$$\n",
    "\n",
    "If we take the partial derivative of the loss function w.r.t weight j we get.\n",
    "\n",
    "$$\n",
    "    -( \\frac{y}{h(y_{p})} * S(y_{p})(1-S(y_{p})) * x_{j} + \n",
    "$$\n",
    "$$\n",
    "    +\\frac{1 - y}{1 - h(y_{p})} * -S(1 - y_{p})(1-S(1-y_{p})) * x_{j} + lam * 2sign(w_{j}))\n",
    "$$\n",
    "\n",
    "**now we can simplify it.**\n",
    "\n",
    "$$\n",
    "    -( y * (1-S(y_{p})) * x_{j} + (1 - y) * -S(1 - y_{p}) * x_{j} + lam * 2sign(w_{j}))\n",
    "$$"
   ]
  },
  {
   "cell_type": "markdown",
   "metadata": {
    "id": "52VCtLUsnj7p"
   },
   "source": [
    "<img src=\"grad.png\" width=700 />"
   ]
  },
  {
   "cell_type": "code",
   "execution_count": 18,
   "metadata": {
    "executionInfo": {
     "elapsed": 383,
     "status": "ok",
     "timestamp": 1639648241942,
     "user": {
      "displayName": "Tigran Fahradyan",
      "photoUrl": "https://lh3.googleusercontent.com/a-/AOh14Gh-nKGiDYIRqDVzJLIaEs_8pnw_vMBjy8DEj-Wc1g=s64",
      "userId": "09993311274482746194"
     },
     "user_tz": -240
    },
    "id": "zTJGzi68nj7p"
   },
   "outputs": [],
   "source": [
    "from sklearn.datasets import make_classification\n",
    "from sklearn.metrics import accuracy_score"
   ]
  },
  {
   "cell_type": "code",
   "execution_count": 19,
   "metadata": {
    "executionInfo": {
     "elapsed": 1,
     "status": "ok",
     "timestamp": 1639648242203,
     "user": {
      "displayName": "Tigran Fahradyan",
      "photoUrl": "https://lh3.googleusercontent.com/a-/AOh14Gh-nKGiDYIRqDVzJLIaEs_8pnw_vMBjy8DEj-Wc1g=s64",
      "userId": "09993311274482746194"
     },
     "user_tz": -240
    },
    "id": "wILvQMOYnj7p"
   },
   "outputs": [],
   "source": [
    "class ImpBinarLR:\n",
    "    \n",
    "    def __init__(self):\n",
    "        self.coef_ = np.empty(0)\n",
    "        self.loss_scores = []\n",
    "    \n",
    "    def __init_coef(self, l):\n",
    "        #                       weights + bias\n",
    "        self.coef_ = np.random.normal(0, 1, l)\n",
    "        self.loss_scores = []\n",
    "    \n",
    "    def fit(self, X, y, n_iters=100, lr=0.01, lmb=0.1):\n",
    "        # TODO\n",
    "        X = np.c_[np.ones(len(X)), X]\n",
    "        self.__init_coef(X.shape[1])\n",
    "        \n",
    "        for i in range(n_iters):\n",
    "            \n",
    "            for y_t, x in zip(y, X):\n",
    "                y_p = self._pred(x, add_newaxis=False)\n",
    "                \n",
    "                gradient_w = (y_t - y_p)*x + lmb * np.sign(self.coef_)\n",
    "\n",
    "                self.coef_ += lr * -(-gradient_w)\n",
    "    \n",
    "            self.loss_scores.append(ImpBinarLR.log_loss(y, self._pred(X, add_newaxis=False)))\n",
    "\n",
    "    def _pred(self, X, add_newaxis=True):\n",
    "        # prepare data for bias + weights dot\n",
    "        if add_newaxis:\n",
    "            X = np.c_[np.ones(len(X)), X]\n",
    "        \n",
    "        if self.coef_.size == 0:\n",
    "            self.__init_coef(X.shape[1])\n",
    "        \n",
    "        a = np.dot(X, self.coef_)\n",
    "        return ImpBinarLR.sigmoid(a)\n",
    "        \n",
    "    def predict(self, X):\n",
    "        # TODO\n",
    "        return np.round(self._pred(X)).astype(np.int8)\n",
    "    \n",
    "    @property\n",
    "    def coef(self):\n",
    "        return self.coef_[1:]\n",
    "    \n",
    "    @property\n",
    "    def intercept(self):\n",
    "        return self.coef_[0]\n",
    "    \n",
    "    @staticmethod\n",
    "    def log_loss(y_target, y_pred):\n",
    "        # TODO\n",
    "        pred = y_pred.copy()\n",
    "        pred[pred == 0] = 1e-6\n",
    "        pred[pred == 1] = 1 - 1e-6\n",
    "        return - np.sum(y_target * np.log(pred) + (1 - y_target) * np.log(1 - pred))\n",
    "    \n",
    "    @staticmethod\n",
    "    def sigmoid(x):\n",
    "        # TODO\n",
    "        return 1 / (1 + np.exp(-x))\n",
    "    \n",
    "    @staticmethod\n",
    "    def sig_der(x):\n",
    "        return ImpBinarLR.sigmoid(x) * (1 - ImpBinarLR.sigmoid(x))"
   ]
  },
  {
   "cell_type": "code",
   "execution_count": 20,
   "metadata": {
    "executionInfo": {
     "elapsed": 1,
     "status": "ok",
     "timestamp": 1639648243110,
     "user": {
      "displayName": "Tigran Fahradyan",
      "photoUrl": "https://lh3.googleusercontent.com/a-/AOh14Gh-nKGiDYIRqDVzJLIaEs_8pnw_vMBjy8DEj-Wc1g=s64",
      "userId": "09993311274482746194"
     },
     "user_tz": -240
    },
    "id": "YTFPn6tanj7q"
   },
   "outputs": [],
   "source": [
    "X, y = make_classification(200, 5, n_classes=2)"
   ]
  },
  {
   "cell_type": "code",
   "execution_count": 21,
   "metadata": {
    "colab": {
     "base_uri": "https://localhost:8080/"
    },
    "executionInfo": {
     "elapsed": 2,
     "status": "ok",
     "timestamp": 1639648243500,
     "user": {
      "displayName": "Tigran Fahradyan",
      "photoUrl": "https://lh3.googleusercontent.com/a-/AOh14Gh-nKGiDYIRqDVzJLIaEs_8pnw_vMBjy8DEj-Wc1g=s64",
      "userId": "09993311274482746194"
     },
     "user_tz": -240
    },
    "id": "XQFBFfuonj7q",
    "outputId": "a3d9f39f-f2c6-4612-850f-0d3571401179"
   },
   "outputs": [
    {
     "data": {
      "text/plain": [
       "(-3.3992574629593757, 3.2138844096366537)"
      ]
     },
     "execution_count": 21,
     "metadata": {},
     "output_type": "execute_result"
    }
   ],
   "source": [
    "X.min(), X.max()"
   ]
  },
  {
   "cell_type": "code",
   "execution_count": 22,
   "metadata": {
    "executionInfo": {
     "elapsed": 2,
     "status": "ok",
     "timestamp": 1639648246363,
     "user": {
      "displayName": "Tigran Fahradyan",
      "photoUrl": "https://lh3.googleusercontent.com/a-/AOh14Gh-nKGiDYIRqDVzJLIaEs_8pnw_vMBjy8DEj-Wc1g=s64",
      "userId": "09993311274482746194"
     },
     "user_tz": -240
    },
    "id": "jK2_oHR2nj7q"
   },
   "outputs": [],
   "source": [
    "bin_log_reg = ImpBinarLR()"
   ]
  },
  {
   "cell_type": "code",
   "execution_count": 23,
   "metadata": {
    "id": "RYhIeLnOnj7r"
   },
   "outputs": [],
   "source": [
    "bin_log_reg.fit(X, y, n_iters=1500, lr=0.005, lmb=0.001)"
   ]
  },
  {
   "cell_type": "code",
   "execution_count": 24,
   "metadata": {
    "id": "en0XcnYfnj7r",
    "outputId": "74902899-5d59-4f91-838e-4a93f6b2ad66"
   },
   "outputs": [
    {
     "data": {
      "text/plain": [
       "([<matplotlib.lines.Line2D at 0x13e2c3160>], 57.66053803930551)"
      ]
     },
     "execution_count": 24,
     "metadata": {},
     "output_type": "execute_result"
    },
    {
     "data": {
      "image/png": "[encoded data removed]",
      "text/plain": [
       "<Figure size 432x288 with 1 Axes>"
      ]
     },
     "metadata": {
      "needs_background": "light"
     },
     "output_type": "display_data"
    }
   ],
   "source": [
    "plt.plot(bin_log_reg.loss_scores), min(bin_log_reg.loss_scores)"
   ]
  },
  {
   "cell_type": "code",
   "execution_count": 25,
   "metadata": {
    "id": "BbH2wqN_nj7r",
    "outputId": "550d6c51-fdf5-4db9-a6e5-dbf1d3da9078",
    "scrolled": true
   },
   "outputs": [
    {
     "data": {
      "text/plain": [
       "0.915"
      ]
     },
     "execution_count": 25,
     "metadata": {},
     "output_type": "execute_result"
    }
   ],
   "source": [
    "accuracy_score(y, bin_log_reg.predict(X))"
   ]
  },
  {
   "cell_type": "markdown",
   "metadata": {
    "id": "NmAM6uSfnj7r"
   },
   "source": [
    "**Now let's create multiclass logistic regression.**"
   ]
  },
  {
   "cell_type": "code",
   "execution_count": 26,
   "metadata": {
    "colab": {
     "base_uri": "https://localhost:8080/"
    },
    "executionInfo": {
     "elapsed": 262,
     "status": "ok",
     "timestamp": 1639648487007,
     "user": {
      "displayName": "Tigran Fahradyan",
      "photoUrl": "https://lh3.googleusercontent.com/a-/AOh14Gh-nKGiDYIRqDVzJLIaEs_8pnw_vMBjy8DEj-Wc1g=s64",
      "userId": "09993311274482746194"
     },
     "user_tz": -240
    },
    "id": "94OPHipipcp7",
    "outputId": "60d20a45-e666-4c75-8986-6c64be30bc87"
   },
   "outputs": [
    {
     "data": {
      "text/plain": [
       "array([0.32204346, 0.35591307, 0.32204346])"
      ]
     },
     "execution_count": 26,
     "metadata": {},
     "output_type": "execute_result"
    }
   ],
   "source": [
    "def softmax(X):\n",
    "    return np.exp(X) / np.sum(np.exp(X))\n",
    "\n",
    "softmax([0.1, 0.2, 0.1])"
   ]
  },
  {
   "cell_type": "code",
   "execution_count": 27,
   "metadata": {
    "executionInfo": {
     "elapsed": 259,
     "status": "ok",
     "timestamp": 1639648610263,
     "user": {
      "displayName": "Tigran Fahradyan",
      "photoUrl": "https://lh3.googleusercontent.com/a-/AOh14Gh-nKGiDYIRqDVzJLIaEs_8pnw_vMBjy8DEj-Wc1g=s64",
      "userId": "09993311274482746194"
     },
     "user_tz": -240
    },
    "id": "1cUpSTqWnj7r"
   },
   "outputs": [],
   "source": [
    "# one-vs-rest \n",
    "class ImpLogisticRegression:\n",
    "    \n",
    "    def __init__(self):\n",
    "        self.__init_reg()\n",
    "        \n",
    "    def __init_reg(self):\n",
    "        self.binar_log_regs = []\n",
    "        \n",
    "    def fit(self, X, y, **kwargs):\n",
    "        self.__init_reg()\n",
    "        \n",
    "        unique_y, count = np.unique(y, return_counts=True)\n",
    "        \n",
    "        for y_u in unique_y:\n",
    "            mask = (y == y_u)\n",
    "            y_target = y.copy()\n",
    "            y_target[mask] = 1\n",
    "            y_target[~mask] = 0\n",
    "            log_reg = ImpBinarLR()\n",
    "            \n",
    "            log_reg.fit(X, y_target, **kwargs)\n",
    "            self.binar_log_regs.append(log_reg)\n",
    "\n",
    "    def predict_prob(self, X):\n",
    "        return np.array([softmax(i) for i in np.array([reg._pred(X_test) for reg in log_reg.binar_log_regs]).T])\n",
    "            \n",
    "    def predict(self, X):\n",
    "        return np.argmax([reg._pred(X) for reg in self.binar_log_regs], axis=0)"
   ]
  },
  {
   "cell_type": "code",
   "execution_count": 28,
   "metadata": {
    "executionInfo": {
     "elapsed": 1,
     "status": "ok",
     "timestamp": 1639648308964,
     "user": {
      "displayName": "Tigran Fahradyan",
      "photoUrl": "https://lh3.googleusercontent.com/a-/AOh14Gh-nKGiDYIRqDVzJLIaEs_8pnw_vMBjy8DEj-Wc1g=s64",
      "userId": "09993311274482746194"
     },
     "user_tz": -240
    },
    "id": "3YVO9uOOnj7s"
   },
   "outputs": [],
   "source": [
    "X_iris, y_iris = load_iris(return_X_y=True)\n",
    "\n",
    "X_train, X_test, y_train, y_test = train_test_split(X_iris, y_iris, shuffle=True, stratify=y_iris, random_state=2021) "
   ]
  },
  {
   "cell_type": "code",
   "execution_count": 29,
   "metadata": {
    "executionInfo": {
     "elapsed": 2,
     "status": "ok",
     "timestamp": 1639648612187,
     "user": {
      "displayName": "Tigran Fahradyan",
      "photoUrl": "https://lh3.googleusercontent.com/a-/AOh14Gh-nKGiDYIRqDVzJLIaEs_8pnw_vMBjy8DEj-Wc1g=s64",
      "userId": "09993311274482746194"
     },
     "user_tz": -240
    },
    "id": "rsL_oICnnj7s"
   },
   "outputs": [],
   "source": [
    "log_reg = ImpLogisticRegression()"
   ]
  },
  {
   "cell_type": "code",
   "execution_count": 30,
   "metadata": {
    "executionInfo": {
     "elapsed": 7053,
     "status": "ok",
     "timestamp": 1639648715407,
     "user": {
      "displayName": "Tigran Fahradyan",
      "photoUrl": "https://lh3.googleusercontent.com/a-/AOh14Gh-nKGiDYIRqDVzJLIaEs_8pnw_vMBjy8DEj-Wc1g=s64",
      "userId": "09993311274482746194"
     },
     "user_tz": -240
    },
    "id": "HUKehiy1nj7s"
   },
   "outputs": [],
   "source": [
    "log_reg.fit(X_train, y_train, n_iters=1000, lr=0.01)"
   ]
  },
  {
   "cell_type": "code",
   "execution_count": 31,
   "metadata": {
    "colab": {
     "base_uri": "https://localhost:8080/"
    },
    "executionInfo": {
     "elapsed": 21,
     "status": "ok",
     "timestamp": 1639648715409,
     "user": {
      "displayName": "Tigran Fahradyan",
      "photoUrl": "https://lh3.googleusercontent.com/a-/AOh14Gh-nKGiDYIRqDVzJLIaEs_8pnw_vMBjy8DEj-Wc1g=s64",
      "userId": "09993311274482746194"
     },
     "user_tz": -240
    },
    "id": "t7phZUqFnj7s",
    "outputId": "459287a1-25a2-4b9c-f6ee-ac77a48d87ad"
   },
   "outputs": [
    {
     "data": {
      "text/plain": [
       "0.7631578947368421"
      ]
     },
     "execution_count": 31,
     "metadata": {},
     "output_type": "execute_result"
    }
   ],
   "source": [
    "accuracy_score(y_test, log_reg.predict(X_test))"
   ]
  },
  {
   "cell_type": "code",
   "execution_count": 32,
   "metadata": {
    "colab": {
     "base_uri": "https://localhost:8080/"
    },
    "executionInfo": {
     "elapsed": 275,
     "status": "ok",
     "timestamp": 1639648718724,
     "user": {
      "displayName": "Tigran Fahradyan",
      "photoUrl": "https://lh3.googleusercontent.com/a-/AOh14Gh-nKGiDYIRqDVzJLIaEs_8pnw_vMBjy8DEj-Wc1g=s64",
      "userId": "09993311274482746194"
     },
     "user_tz": -240
    },
    "id": "mNfufvVppxAr",
    "outputId": "ef5109ad-ef92-4601-cc5a-bed56432f3d5"
   },
   "outputs": [
    {
     "data": {
      "text/plain": [
       "array([[0.57611687, 0.21194157, 0.21194155],\n",
       "       [0.42714819, 0.41571278, 0.15713904],\n",
       "       [0.57611687, 0.21194157, 0.21194157],\n",
       "       [0.49360284, 0.32481082, 0.18158634],\n",
       "       [0.21194209, 0.57611583, 0.21194209],\n",
       "       [0.21195412, 0.57609176, 0.21195412],\n",
       "       [0.32865413, 0.34269174, 0.32865413],\n",
       "       [0.21115917, 0.21485068, 0.57399015],\n",
       "       [0.21193729, 0.57610504, 0.21195767],\n",
       "       [0.21193345, 0.21197486, 0.57609169]])"
      ]
     },
     "execution_count": 32,
     "metadata": {},
     "output_type": "execute_result"
    }
   ],
   "source": [
    "log_reg.predict_prob(X_test)[:10]"
   ]
  },
  {
   "cell_type": "markdown",
   "metadata": {
    "id": "Q1V6XpOSv5nI"
   },
   "source": [
    "# 1. Solve classification problem using 'classification.csv' dataset"
   ]
  },
  {
   "cell_type": "markdown",
   "metadata": {
    "id": "4j9iiPBHnj7t"
   },
   "source": [
    "#### visualise the date, do some EDA, find feature importance"
   ]
  },
  {
   "cell_type": "code",
   "execution_count": 33,
   "metadata": {
    "colab": {
     "base_uri": "https://localhost:8080/",
     "height": 206
    },
    "executionInfo": {
     "elapsed": 284,
     "status": "ok",
     "timestamp": 1639651012490,
     "user": {
      "displayName": "Tigran Fahradyan",
      "photoUrl": "https://lh3.googleusercontent.com/a-/AOh14Gh-nKGiDYIRqDVzJLIaEs_8pnw_vMBjy8DEj-Wc1g=s64",
      "userId": "09993311274482746194"
     },
     "user_tz": -240
    },
    "id": "-HjJVLA6v1y6",
    "outputId": "35fd1163-891d-40e3-946a-48a8187d4b86"
   },
   "outputs": [
    {
     "data": {
      "text/html": [
       "<div>\n",
       "<style scoped>\n",
       "    .dataframe tbody tr th:only-of-type {\n",
       "        vertical-align: middle;\n",
       "    }\n",
       "\n",
       "    .dataframe tbody tr th {\n",
       "        vertical-align: top;\n",
       "    }\n",
       "\n",
       "    .dataframe thead th {\n",
       "        text-align: right;\n",
       "    }\n",
       "</style>\n",
       "<table border=\"1\" class=\"dataframe\">\n",
       "  <thead>\n",
       "    <tr style=\"text-align: right;\">\n",
       "      <th></th>\n",
       "      <th>age</th>\n",
       "      <th>ed</th>\n",
       "      <th>employ</th>\n",
       "      <th>address</th>\n",
       "      <th>income</th>\n",
       "      <th>debtinc</th>\n",
       "      <th>creddebt</th>\n",
       "      <th>othdebt</th>\n",
       "      <th>default</th>\n",
       "    </tr>\n",
       "  </thead>\n",
       "  <tbody>\n",
       "    <tr>\n",
       "      <th>0</th>\n",
       "      <td>41</td>\n",
       "      <td>college degree</td>\n",
       "      <td>17</td>\n",
       "      <td>12</td>\n",
       "      <td>176</td>\n",
       "      <td>9.3</td>\n",
       "      <td>11.359392</td>\n",
       "      <td>5.008608</td>\n",
       "      <td>1</td>\n",
       "    </tr>\n",
       "    <tr>\n",
       "      <th>1</th>\n",
       "      <td>27</td>\n",
       "      <td>no high school</td>\n",
       "      <td>10</td>\n",
       "      <td>6</td>\n",
       "      <td>31</td>\n",
       "      <td>17.3</td>\n",
       "      <td>1.362202</td>\n",
       "      <td>4.000798</td>\n",
       "      <td>0</td>\n",
       "    </tr>\n",
       "    <tr>\n",
       "      <th>2</th>\n",
       "      <td>40</td>\n",
       "      <td>no high school</td>\n",
       "      <td>15</td>\n",
       "      <td>14</td>\n",
       "      <td>55</td>\n",
       "      <td>5.5</td>\n",
       "      <td>0.856075</td>\n",
       "      <td>2.168925</td>\n",
       "      <td>0</td>\n",
       "    </tr>\n",
       "    <tr>\n",
       "      <th>3</th>\n",
       "      <td>41</td>\n",
       "      <td>no high school</td>\n",
       "      <td>15</td>\n",
       "      <td>14</td>\n",
       "      <td>120</td>\n",
       "      <td>2.9</td>\n",
       "      <td>2.658720</td>\n",
       "      <td>0.821280</td>\n",
       "      <td>0</td>\n",
       "    </tr>\n",
       "    <tr>\n",
       "      <th>4</th>\n",
       "      <td>24</td>\n",
       "      <td>high school</td>\n",
       "      <td>2</td>\n",
       "      <td>0</td>\n",
       "      <td>28</td>\n",
       "      <td>17.3</td>\n",
       "      <td>1.787436</td>\n",
       "      <td>3.056564</td>\n",
       "      <td>1</td>\n",
       "    </tr>\n",
       "  </tbody>\n",
       "</table>\n",
       "</div>"
      ],
      "text/plain": [
       "   age              ed  employ  address  income  debtinc   creddebt   othdebt  \\\n",
       "0   41  college degree      17       12     176      9.3  11.359392  5.008608   \n",
       "1   27  no high school      10        6      31     17.3   1.362202  4.000798   \n",
       "2   40  no high school      15       14      55      5.5   0.856075  2.168925   \n",
       "3   41  no high school      15       14     120      2.9   2.658720  0.821280   \n",
       "4   24     high school       2        0      28     17.3   1.787436  3.056564   \n",
       "\n",
       "   default  \n",
       "0        1  \n",
       "1        0  \n",
       "2        0  \n",
       "3        0  \n",
       "4        1  "
      ]
     },
     "execution_count": 33,
     "metadata": {},
     "output_type": "execute_result"
    }
   ],
   "source": [
    "default = pd.read_csv('classification.csv')\n",
    "default.head()"
   ]
  },
  {
   "cell_type": "code",
   "execution_count": 34,
   "metadata": {
    "colab": {
     "base_uri": "https://localhost:8080/",
     "height": 1000
    },
    "executionInfo": {
     "elapsed": 1180,
     "status": "ok",
     "timestamp": 1639651013665,
     "user": {
      "displayName": "Tigran Fahradyan",
      "photoUrl": "https://lh3.googleusercontent.com/a-/AOh14Gh-nKGiDYIRqDVzJLIaEs_8pnw_vMBjy8DEj-Wc1g=s64",
      "userId": "09993311274482746194"
     },
     "user_tz": -240
    },
    "id": "_32bV7qFnj7t",
    "outputId": "d1e2d89b-6c01-4216-93d5-e3c87efc3df7"
   },
   "outputs": [
    {
     "data": {
      "image/png": "[encoded data removed]",
      "text/plain": [
       "<Figure size 432x288 with 1 Axes>"
      ]
     },
     "metadata": {
      "needs_background": "light"
     },
     "output_type": "display_data"
    },
    {
     "data": {
      "image/png": "[encoded data removed]",
      "text/plain": [
       "<Figure size 432x288 with 1 Axes>"
      ]
     },
     "metadata": {
      "needs_background": "light"
     },
     "output_type": "display_data"
    },
    {
     "data": {
      "image/png": "[encoded data removed]",
      "text/plain": [
       "<Figure size 432x288 with 1 Axes>"
      ]
     },
     "metadata": {
      "needs_background": "light"
     },
     "output_type": "display_data"
    },
    {
     "data": {
      "image/png": "[encoded data removed]",
      "text/plain": [
       "<Figure size 432x288 with 1 Axes>"
      ]
     },
     "metadata": {
      "needs_background": "light"
     },
     "output_type": "display_data"
    },
    {
     "data": {
      "image/png": "[encoded data removed]",
      "text/plain": [
       "<Figure size 432x288 with 1 Axes>"
      ]
     },
     "metadata": {
      "needs_background": "light"
     },
     "output_type": "display_data"
    },
    {
     "data": {
      "image/png": "[encoded data removed]",
      "text/plain": [
       "<Figure size 432x288 with 1 Axes>"
      ]
     },
     "metadata": {
      "needs_background": "light"
     },
     "output_type": "display_data"
    },
    {
     "data": {
      "image/png": "[encoded data removed]",
      "text/plain": [
       "<Figure size 432x288 with 1 Axes>"
      ]
     },
     "metadata": {
      "needs_background": "light"
     },
     "output_type": "display_data"
    }
   ],
   "source": [
    "for feature in default.columns.difference(['default', 'ed']):\n",
    "    plt.xlabel(feature)\n",
    "    plt.ylabel('default')\n",
    "    plt.scatter(default[feature], default.default)\n",
    "    plt.show()"
   ]
  },
  {
   "cell_type": "code",
   "execution_count": 35,
   "metadata": {
    "colab": {
     "base_uri": "https://localhost:8080/",
     "height": 300
    },
    "executionInfo": {
     "elapsed": 5,
     "status": "ok",
     "timestamp": 1639650986612,
     "user": {
      "displayName": "Tigran Fahradyan",
      "photoUrl": "https://lh3.googleusercontent.com/a-/AOh14Gh-nKGiDYIRqDVzJLIaEs_8pnw_vMBjy8DEj-Wc1g=s64",
      "userId": "09993311274482746194"
     },
     "user_tz": -240
    },
    "id": "zKHzS2SInj7t",
    "outputId": "570c9922-821b-4ac7-c515-ae029c5a1fb6"
   },
   "outputs": [
    {
     "data": {
      "text/html": [
       "<div>\n",
       "<style scoped>\n",
       "    .dataframe tbody tr th:only-of-type {\n",
       "        vertical-align: middle;\n",
       "    }\n",
       "\n",
       "    .dataframe tbody tr th {\n",
       "        vertical-align: top;\n",
       "    }\n",
       "\n",
       "    .dataframe thead th {\n",
       "        text-align: right;\n",
       "    }\n",
       "</style>\n",
       "<table border=\"1\" class=\"dataframe\">\n",
       "  <thead>\n",
       "    <tr style=\"text-align: right;\">\n",
       "      <th></th>\n",
       "      <th>age</th>\n",
       "      <th>employ</th>\n",
       "      <th>address</th>\n",
       "      <th>income</th>\n",
       "      <th>debtinc</th>\n",
       "      <th>creddebt</th>\n",
       "      <th>othdebt</th>\n",
       "      <th>default</th>\n",
       "    </tr>\n",
       "  </thead>\n",
       "  <tbody>\n",
       "    <tr>\n",
       "      <th>age</th>\n",
       "      <td>1.000000</td>\n",
       "      <td>0.536497</td>\n",
       "      <td>0.597591</td>\n",
       "      <td>0.478710</td>\n",
       "      <td>0.016398</td>\n",
       "      <td>0.295207</td>\n",
       "      <td>0.340217</td>\n",
       "      <td>-0.137657</td>\n",
       "    </tr>\n",
       "    <tr>\n",
       "      <th>employ</th>\n",
       "      <td>0.536497</td>\n",
       "      <td>1.000000</td>\n",
       "      <td>0.322334</td>\n",
       "      <td>0.619681</td>\n",
       "      <td>-0.031182</td>\n",
       "      <td>0.403694</td>\n",
       "      <td>0.406091</td>\n",
       "      <td>-0.282978</td>\n",
       "    </tr>\n",
       "    <tr>\n",
       "      <th>address</th>\n",
       "      <td>0.597591</td>\n",
       "      <td>0.322334</td>\n",
       "      <td>1.000000</td>\n",
       "      <td>0.316245</td>\n",
       "      <td>0.011323</td>\n",
       "      <td>0.208435</td>\n",
       "      <td>0.226514</td>\n",
       "      <td>-0.164451</td>\n",
       "    </tr>\n",
       "    <tr>\n",
       "      <th>income</th>\n",
       "      <td>0.478710</td>\n",
       "      <td>0.619681</td>\n",
       "      <td>0.316245</td>\n",
       "      <td>1.000000</td>\n",
       "      <td>-0.026777</td>\n",
       "      <td>0.570199</td>\n",
       "      <td>0.610659</td>\n",
       "      <td>-0.070970</td>\n",
       "    </tr>\n",
       "    <tr>\n",
       "      <th>debtinc</th>\n",
       "      <td>0.016398</td>\n",
       "      <td>-0.031182</td>\n",
       "      <td>0.011323</td>\n",
       "      <td>-0.026777</td>\n",
       "      <td>1.000000</td>\n",
       "      <td>0.501767</td>\n",
       "      <td>0.584870</td>\n",
       "      <td>0.389575</td>\n",
       "    </tr>\n",
       "    <tr>\n",
       "      <th>creddebt</th>\n",
       "      <td>0.295207</td>\n",
       "      <td>0.403694</td>\n",
       "      <td>0.208435</td>\n",
       "      <td>0.570199</td>\n",
       "      <td>0.501767</td>\n",
       "      <td>1.000000</td>\n",
       "      <td>0.633104</td>\n",
       "      <td>0.244740</td>\n",
       "    </tr>\n",
       "    <tr>\n",
       "      <th>othdebt</th>\n",
       "      <td>0.340217</td>\n",
       "      <td>0.406091</td>\n",
       "      <td>0.226514</td>\n",
       "      <td>0.610659</td>\n",
       "      <td>0.584870</td>\n",
       "      <td>0.633104</td>\n",
       "      <td>1.000000</td>\n",
       "      <td>0.145713</td>\n",
       "    </tr>\n",
       "    <tr>\n",
       "      <th>default</th>\n",
       "      <td>-0.137657</td>\n",
       "      <td>-0.282978</td>\n",
       "      <td>-0.164451</td>\n",
       "      <td>-0.070970</td>\n",
       "      <td>0.389575</td>\n",
       "      <td>0.244740</td>\n",
       "      <td>0.145713</td>\n",
       "      <td>1.000000</td>\n",
       "    </tr>\n",
       "  </tbody>\n",
       "</table>\n",
       "</div>"
      ],
      "text/plain": [
       "               age    employ   address    income   debtinc  creddebt  \\\n",
       "age       1.000000  0.536497  0.597591  0.478710  0.016398  0.295207   \n",
       "employ    0.536497  1.000000  0.322334  0.619681 -0.031182  0.403694   \n",
       "address   0.597591  0.322334  1.000000  0.316245  0.011323  0.208435   \n",
       "income    0.478710  0.619681  0.316245  1.000000 -0.026777  0.570199   \n",
       "debtinc   0.016398 -0.031182  0.011323 -0.026777  1.000000  0.501767   \n",
       "creddebt  0.295207  0.403694  0.208435  0.570199  0.501767  1.000000   \n",
       "othdebt   0.340217  0.406091  0.226514  0.610659  0.584870  0.633104   \n",
       "default  -0.137657 -0.282978 -0.164451 -0.070970  0.389575  0.244740   \n",
       "\n",
       "           othdebt   default  \n",
       "age       0.340217 -0.137657  \n",
       "employ    0.406091 -0.282978  \n",
       "address   0.226514 -0.164451  \n",
       "income    0.610659 -0.070970  \n",
       "debtinc   0.584870  0.389575  \n",
       "creddebt  0.633104  0.244740  \n",
       "othdebt   1.000000  0.145713  \n",
       "default   0.145713  1.000000  "
      ]
     },
     "execution_count": 35,
     "metadata": {},
     "output_type": "execute_result"
    }
   ],
   "source": [
    "default.corr()"
   ]
  },
  {
   "cell_type": "markdown",
   "metadata": {
    "id": "a6mi-hNHnj7t"
   },
   "source": [
    "##### target variable is 'default'. Apply feature selection, feature scaling, cross validation etc. (anything you think is needed)"
   ]
  },
  {
   "cell_type": "code",
   "execution_count": 36,
   "metadata": {
    "executionInfo": {
     "elapsed": 267,
     "status": "ok",
     "timestamp": 1639651016203,
     "user": {
      "displayName": "Tigran Fahradyan",
      "photoUrl": "https://lh3.googleusercontent.com/a-/AOh14Gh-nKGiDYIRqDVzJLIaEs_8pnw_vMBjy8DEj-Wc1g=s64",
      "userId": "09993311274482746194"
     },
     "user_tz": -240
    },
    "id": "GbzUhjIvz6p6"
   },
   "outputs": [],
   "source": [
    "df_train, df_test = default[default.columns.difference(['default'])].copy(), default.default.copy()"
   ]
  },
  {
   "cell_type": "code",
   "execution_count": 37,
   "metadata": {
    "colab": {
     "base_uri": "https://localhost:8080/"
    },
    "executionInfo": {
     "elapsed": 2,
     "status": "ok",
     "timestamp": 1639651017633,
     "user": {
      "displayName": "Tigran Fahradyan",
      "photoUrl": "https://lh3.googleusercontent.com/a-/AOh14Gh-nKGiDYIRqDVzJLIaEs_8pnw_vMBjy8DEj-Wc1g=s64",
      "userId": "09993311274482746194"
     },
     "user_tz": -240
    },
    "id": "JLvWRRFQy2EF",
    "outputId": "ad58ec8e-6ad4-473d-b534-e140cb2c6010"
   },
   "outputs": [
    {
     "data": {
      "text/plain": [
       "no high school    372\n",
       "high school       198\n",
       "college degree     87\n",
       "undergraduate      38\n",
       "postgraduate        5\n",
       "Name: ed, dtype: int64"
      ]
     },
     "execution_count": 37,
     "metadata": {},
     "output_type": "execute_result"
    }
   ],
   "source": [
    "# we can see that \"ed\" column has inbalanced amount of categories.\n",
    "df_train[\"ed\"].value_counts()"
   ]
  },
  {
   "cell_type": "code",
   "execution_count": 38,
   "metadata": {
    "executionInfo": {
     "elapsed": 1,
     "status": "ok",
     "timestamp": 1639651028122,
     "user": {
      "displayName": "Tigran Fahradyan",
      "photoUrl": "https://lh3.googleusercontent.com/a-/AOh14Gh-nKGiDYIRqDVzJLIaEs_8pnw_vMBjy8DEj-Wc1g=s64",
      "userId": "09993311274482746194"
     },
     "user_tz": -240
    },
    "id": "aNE5c41IwHzR"
   },
   "outputs": [],
   "source": [
    "for feature, col in zip(df_train[\"ed\"].unique(), pd.get_dummies(df_train[\"ed\"]).values.T):\n",
    "    df_train[feature] = col"
   ]
  },
  {
   "cell_type": "code",
   "execution_count": 39,
   "metadata": {
    "colab": {
     "base_uri": "https://localhost:8080/"
    },
    "executionInfo": {
     "elapsed": 273,
     "status": "ok",
     "timestamp": 1639650805472,
     "user": {
      "displayName": "Tigran Fahradyan",
      "photoUrl": "https://lh3.googleusercontent.com/a-/AOh14Gh-nKGiDYIRqDVzJLIaEs_8pnw_vMBjy8DEj-Wc1g=s64",
      "userId": "09993311274482746194"
     },
     "user_tz": -240
    },
    "id": "EfbQ56vizKvZ",
    "outputId": "5bba6815-1522-4833-8172-f4a8837bd7cb"
   },
   "outputs": [
    {
     "ename": "KeyError",
     "evalue": "\"None of [Index(['college degree', 'no high school', 'high school', 'undergraduate',\\n       'postgraduate'],\\n      dtype='object')] are in the [columns]\"",
     "output_type": "error",
     "traceback": [
      "\u001b[0;31m---------------------------------------------------------------------------\u001b[0m",
      "\u001b[0;31mKeyError\u001b[0m                                  Traceback (most recent call last)",
      "\u001b[0;32m/var/folders/2v/0tr3wk2s1tn4fntw0fbqt3fh0000gn/T/ipykernel_47274/789977575.py\u001b[0m in \u001b[0;36m<module>\u001b[0;34m\u001b[0m\n\u001b[1;32m      1\u001b[0m \u001b[0;31m# check if one-hot-enciding has been done correctly\u001b[0m\u001b[0;34m\u001b[0m\u001b[0;34m\u001b[0m\u001b[0m\n\u001b[0;32m----> 2\u001b[0;31m \u001b[0mnp\u001b[0m\u001b[0;34m.\u001b[0m\u001b[0mall\u001b[0m\u001b[0;34m(\u001b[0m\u001b[0mdefault\u001b[0m\u001b[0;34m[\u001b[0m\u001b[0mdefault\u001b[0m\u001b[0;34m.\u001b[0m\u001b[0med\u001b[0m\u001b[0;34m.\u001b[0m\u001b[0munique\u001b[0m\u001b[0;34m(\u001b[0m\u001b[0;34m)\u001b[0m\u001b[0;34m]\u001b[0m\u001b[0;34m.\u001b[0m\u001b[0msum\u001b[0m\u001b[0;34m(\u001b[0m\u001b[0maxis\u001b[0m\u001b[0;34m=\u001b[0m\u001b[0;36m1\u001b[0m\u001b[0;34m)\u001b[0m \u001b[0;34m==\u001b[0m \u001b[0;36m1\u001b[0m\u001b[0;34m)\u001b[0m\u001b[0;34m\u001b[0m\u001b[0;34m\u001b[0m\u001b[0m\n\u001b[0m",
      "\u001b[0;32m/usr/local/lib/python3.9/site-packages/pandas/core/frame.py\u001b[0m in \u001b[0;36m__getitem__\u001b[0;34m(self, key)\u001b[0m\n\u001b[1;32m   3459\u001b[0m             \u001b[0;32mif\u001b[0m \u001b[0mis_iterator\u001b[0m\u001b[0;34m(\u001b[0m\u001b[0mkey\u001b[0m\u001b[0;34m)\u001b[0m\u001b[0;34m:\u001b[0m\u001b[0;34m\u001b[0m\u001b[0;34m\u001b[0m\u001b[0m\n\u001b[1;32m   3460\u001b[0m                 \u001b[0mkey\u001b[0m \u001b[0;34m=\u001b[0m \u001b[0mlist\u001b[0m\u001b[0;34m(\u001b[0m\u001b[0mkey\u001b[0m\u001b[0;34m)\u001b[0m\u001b[0;34m\u001b[0m\u001b[0;34m\u001b[0m\u001b[0m\n\u001b[0;32m-> 3461\u001b[0;31m             \u001b[0mindexer\u001b[0m \u001b[0;34m=\u001b[0m \u001b[0mself\u001b[0m\u001b[0;34m.\u001b[0m\u001b[0mloc\u001b[0m\u001b[0;34m.\u001b[0m\u001b[0m_get_listlike_indexer\u001b[0m\u001b[0;34m(\u001b[0m\u001b[0mkey\u001b[0m\u001b[0;34m,\u001b[0m \u001b[0maxis\u001b[0m\u001b[0;34m=\u001b[0m\u001b[0;36m1\u001b[0m\u001b[0;34m)\u001b[0m\u001b[0;34m[\u001b[0m\u001b[0;36m1\u001b[0m\u001b[0;34m]\u001b[0m\u001b[0;34m\u001b[0m\u001b[0;34m\u001b[0m\u001b[0m\n\u001b[0m\u001b[1;32m   3462\u001b[0m \u001b[0;34m\u001b[0m\u001b[0m\n\u001b[1;32m   3463\u001b[0m         \u001b[0;31m# take() does not accept boolean indexers\u001b[0m\u001b[0;34m\u001b[0m\u001b[0;34m\u001b[0m\u001b[0m\n",
      "\u001b[0;32m/usr/local/lib/python3.9/site-packages/pandas/core/indexing.py\u001b[0m in \u001b[0;36m_get_listlike_indexer\u001b[0;34m(self, key, axis)\u001b[0m\n\u001b[1;32m   1312\u001b[0m             \u001b[0mkeyarr\u001b[0m\u001b[0;34m,\u001b[0m \u001b[0mindexer\u001b[0m\u001b[0;34m,\u001b[0m \u001b[0mnew_indexer\u001b[0m \u001b[0;34m=\u001b[0m \u001b[0max\u001b[0m\u001b[0;34m.\u001b[0m\u001b[0m_reindex_non_unique\u001b[0m\u001b[0;34m(\u001b[0m\u001b[0mkeyarr\u001b[0m\u001b[0;34m)\u001b[0m\u001b[0;34m\u001b[0m\u001b[0;34m\u001b[0m\u001b[0m\n\u001b[1;32m   1313\u001b[0m \u001b[0;34m\u001b[0m\u001b[0m\n\u001b[0;32m-> 1314\u001b[0;31m         \u001b[0mself\u001b[0m\u001b[0;34m.\u001b[0m\u001b[0m_validate_read_indexer\u001b[0m\u001b[0;34m(\u001b[0m\u001b[0mkeyarr\u001b[0m\u001b[0;34m,\u001b[0m \u001b[0mindexer\u001b[0m\u001b[0;34m,\u001b[0m \u001b[0maxis\u001b[0m\u001b[0;34m)\u001b[0m\u001b[0;34m\u001b[0m\u001b[0;34m\u001b[0m\u001b[0m\n\u001b[0m\u001b[1;32m   1315\u001b[0m \u001b[0;34m\u001b[0m\u001b[0m\n\u001b[1;32m   1316\u001b[0m         if needs_i8_conversion(ax.dtype) or isinstance(\n",
      "\u001b[0;32m/usr/local/lib/python3.9/site-packages/pandas/core/indexing.py\u001b[0m in \u001b[0;36m_validate_read_indexer\u001b[0;34m(self, key, indexer, axis)\u001b[0m\n\u001b[1;32m   1372\u001b[0m                 \u001b[0;32mif\u001b[0m \u001b[0muse_interval_msg\u001b[0m\u001b[0;34m:\u001b[0m\u001b[0;34m\u001b[0m\u001b[0;34m\u001b[0m\u001b[0m\n\u001b[1;32m   1373\u001b[0m                     \u001b[0mkey\u001b[0m \u001b[0;34m=\u001b[0m \u001b[0mlist\u001b[0m\u001b[0;34m(\u001b[0m\u001b[0mkey\u001b[0m\u001b[0;34m)\u001b[0m\u001b[0;34m\u001b[0m\u001b[0;34m\u001b[0m\u001b[0m\n\u001b[0;32m-> 1374\u001b[0;31m                 \u001b[0;32mraise\u001b[0m \u001b[0mKeyError\u001b[0m\u001b[0;34m(\u001b[0m\u001b[0;34mf\"None of [{key}] are in the [{axis_name}]\"\u001b[0m\u001b[0;34m)\u001b[0m\u001b[0;34m\u001b[0m\u001b[0;34m\u001b[0m\u001b[0m\n\u001b[0m\u001b[1;32m   1375\u001b[0m \u001b[0;34m\u001b[0m\u001b[0m\n\u001b[1;32m   1376\u001b[0m             \u001b[0mnot_found\u001b[0m \u001b[0;34m=\u001b[0m \u001b[0mlist\u001b[0m\u001b[0;34m(\u001b[0m\u001b[0mensure_index\u001b[0m\u001b[0;34m(\u001b[0m\u001b[0mkey\u001b[0m\u001b[0;34m)\u001b[0m\u001b[0;34m[\u001b[0m\u001b[0mmissing_mask\u001b[0m\u001b[0;34m.\u001b[0m\u001b[0mnonzero\u001b[0m\u001b[0;34m(\u001b[0m\u001b[0;34m)\u001b[0m\u001b[0;34m[\u001b[0m\u001b[0;36m0\u001b[0m\u001b[0;34m]\u001b[0m\u001b[0;34m]\u001b[0m\u001b[0;34m.\u001b[0m\u001b[0munique\u001b[0m\u001b[0;34m(\u001b[0m\u001b[0;34m)\u001b[0m\u001b[0;34m)\u001b[0m\u001b[0;34m\u001b[0m\u001b[0;34m\u001b[0m\u001b[0m\n",
      "\u001b[0;31mKeyError\u001b[0m: \"None of [Index(['college degree', 'no high school', 'high school', 'undergraduate',\\n       'postgraduate'],\\n      dtype='object')] are in the [columns]\""
     ]
    }
   ],
   "source": [
    "# check if one-hot-enciding has been done correctly\n",
    "np.all(default[default.ed.unique()].sum(axis=1) == 1)"
   ]
  },
  {
   "cell_type": "code",
   "execution_count": 40,
   "metadata": {
    "executionInfo": {
     "elapsed": 269,
     "status": "ok",
     "timestamp": 1639651050449,
     "user": {
      "displayName": "Tigran Fahradyan",
      "photoUrl": "https://lh3.googleusercontent.com/a-/AOh14Gh-nKGiDYIRqDVzJLIaEs_8pnw_vMBjy8DEj-Wc1g=s64",
      "userId": "09993311274482746194"
     },
     "user_tz": -240
    },
    "id": "kvd4HiITzdih"
   },
   "outputs": [],
   "source": [
    "df_train.pop(\"ed\");"
   ]
  },
  {
   "cell_type": "code",
   "execution_count": 41,
   "metadata": {
    "colab": {
     "base_uri": "https://localhost:8080/",
     "height": 206
    },
    "executionInfo": {
     "elapsed": 271,
     "status": "ok",
     "timestamp": 1639651087722,
     "user": {
      "displayName": "Tigran Fahradyan",
      "photoUrl": "https://lh3.googleusercontent.com/a-/AOh14Gh-nKGiDYIRqDVzJLIaEs_8pnw_vMBjy8DEj-Wc1g=s64",
      "userId": "09993311274482746194"
     },
     "user_tz": -240
    },
    "id": "hpANSpEY0f7n",
    "outputId": "064dc509-f652-4423-8594-784c28433d44"
   },
   "outputs": [
    {
     "data": {
      "text/html": [
       "<div>\n",
       "<style scoped>\n",
       "    .dataframe tbody tr th:only-of-type {\n",
       "        vertical-align: middle;\n",
       "    }\n",
       "\n",
       "    .dataframe tbody tr th {\n",
       "        vertical-align: top;\n",
       "    }\n",
       "\n",
       "    .dataframe thead th {\n",
       "        text-align: right;\n",
       "    }\n",
       "</style>\n",
       "<table border=\"1\" class=\"dataframe\">\n",
       "  <thead>\n",
       "    <tr style=\"text-align: right;\">\n",
       "      <th></th>\n",
       "      <th>address</th>\n",
       "      <th>age</th>\n",
       "      <th>creddebt</th>\n",
       "      <th>debtinc</th>\n",
       "      <th>employ</th>\n",
       "      <th>income</th>\n",
       "      <th>othdebt</th>\n",
       "      <th>college degree</th>\n",
       "      <th>no high school</th>\n",
       "      <th>high school</th>\n",
       "      <th>undergraduate</th>\n",
       "      <th>postgraduate</th>\n",
       "    </tr>\n",
       "  </thead>\n",
       "  <tbody>\n",
       "    <tr>\n",
       "      <th>0</th>\n",
       "      <td>12</td>\n",
       "      <td>41</td>\n",
       "      <td>11.359392</td>\n",
       "      <td>9.3</td>\n",
       "      <td>17</td>\n",
       "      <td>176</td>\n",
       "      <td>5.008608</td>\n",
       "      <td>1</td>\n",
       "      <td>0</td>\n",
       "      <td>0</td>\n",
       "      <td>0</td>\n",
       "      <td>0</td>\n",
       "    </tr>\n",
       "    <tr>\n",
       "      <th>1</th>\n",
       "      <td>6</td>\n",
       "      <td>27</td>\n",
       "      <td>1.362202</td>\n",
       "      <td>17.3</td>\n",
       "      <td>10</td>\n",
       "      <td>31</td>\n",
       "      <td>4.000798</td>\n",
       "      <td>0</td>\n",
       "      <td>0</td>\n",
       "      <td>1</td>\n",
       "      <td>0</td>\n",
       "      <td>0</td>\n",
       "    </tr>\n",
       "    <tr>\n",
       "      <th>2</th>\n",
       "      <td>14</td>\n",
       "      <td>40</td>\n",
       "      <td>0.856075</td>\n",
       "      <td>5.5</td>\n",
       "      <td>15</td>\n",
       "      <td>55</td>\n",
       "      <td>2.168925</td>\n",
       "      <td>0</td>\n",
       "      <td>0</td>\n",
       "      <td>1</td>\n",
       "      <td>0</td>\n",
       "      <td>0</td>\n",
       "    </tr>\n",
       "    <tr>\n",
       "      <th>3</th>\n",
       "      <td>14</td>\n",
       "      <td>41</td>\n",
       "      <td>2.658720</td>\n",
       "      <td>2.9</td>\n",
       "      <td>15</td>\n",
       "      <td>120</td>\n",
       "      <td>0.821280</td>\n",
       "      <td>0</td>\n",
       "      <td>0</td>\n",
       "      <td>1</td>\n",
       "      <td>0</td>\n",
       "      <td>0</td>\n",
       "    </tr>\n",
       "    <tr>\n",
       "      <th>4</th>\n",
       "      <td>0</td>\n",
       "      <td>24</td>\n",
       "      <td>1.787436</td>\n",
       "      <td>17.3</td>\n",
       "      <td>2</td>\n",
       "      <td>28</td>\n",
       "      <td>3.056564</td>\n",
       "      <td>0</td>\n",
       "      <td>1</td>\n",
       "      <td>0</td>\n",
       "      <td>0</td>\n",
       "      <td>0</td>\n",
       "    </tr>\n",
       "  </tbody>\n",
       "</table>\n",
       "</div>"
      ],
      "text/plain": [
       "   address  age   creddebt  debtinc  employ  income   othdebt  college degree  \\\n",
       "0       12   41  11.359392      9.3      17     176  5.008608               1   \n",
       "1        6   27   1.362202     17.3      10      31  4.000798               0   \n",
       "2       14   40   0.856075      5.5      15      55  2.168925               0   \n",
       "3       14   41   2.658720      2.9      15     120  0.821280               0   \n",
       "4        0   24   1.787436     17.3       2      28  3.056564               0   \n",
       "\n",
       "   no high school  high school  undergraduate  postgraduate  \n",
       "0               0            0              0             0  \n",
       "1               0            1              0             0  \n",
       "2               0            1              0             0  \n",
       "3               0            1              0             0  \n",
       "4               1            0              0             0  "
      ]
     },
     "execution_count": 41,
     "metadata": {},
     "output_type": "execute_result"
    }
   ],
   "source": [
    "df_train.head()"
   ]
  },
  {
   "cell_type": "code",
   "execution_count": 42,
   "metadata": {
    "colab": {
     "base_uri": "https://localhost:8080/"
    },
    "executionInfo": {
     "elapsed": 2,
     "status": "ok",
     "timestamp": 1639651156499,
     "user": {
      "displayName": "Tigran Fahradyan",
      "photoUrl": "https://lh3.googleusercontent.com/a-/AOh14Gh-nKGiDYIRqDVzJLIaEs_8pnw_vMBjy8DEj-Wc1g=s64",
      "userId": "09993311274482746194"
     },
     "user_tz": -240
    },
    "id": "lHo8aeJv0vcu",
    "outputId": "823a8bfd-4f3d-44d0-ee17-28b16f4162f6"
   },
   "outputs": [
    {
     "data": {
      "text/plain": [
       "Index(['address', 'age', 'creddebt', 'debtinc', 'employ', 'income', 'othdebt'], dtype='object')"
      ]
     },
     "execution_count": 42,
     "metadata": {},
     "output_type": "execute_result"
    }
   ],
   "source": [
    "# numerical cols\n",
    "df_train.columns[:7]"
   ]
  },
  {
   "cell_type": "code",
   "execution_count": 43,
   "metadata": {
    "colab": {
     "base_uri": "https://localhost:8080/"
    },
    "executionInfo": {
     "elapsed": 272,
     "status": "ok",
     "timestamp": 1639651295463,
     "user": {
      "displayName": "Tigran Fahradyan",
      "photoUrl": "https://lh3.googleusercontent.com/a-/AOh14Gh-nKGiDYIRqDVzJLIaEs_8pnw_vMBjy8DEj-Wc1g=s64",
      "userId": "09993311274482746194"
     },
     "user_tz": -240
    },
    "id": "AAv-D4L_031G",
    "outputId": "1fb544d4-f7fb-4947-c50e-674334d898e6"
   },
   "outputs": [
    {
     "data": {
      "text/plain": [
       "(array([], dtype=int64), array([], dtype=int64))"
      ]
     },
     "execution_count": 43,
     "metadata": {},
     "output_type": "execute_result"
    }
   ],
   "source": [
    "# we don't have negative values in dataset, so we can use MinMaxScaling\n",
    "np.where(df_train.values < 0)"
   ]
  },
  {
   "cell_type": "code",
   "execution_count": 44,
   "metadata": {
    "executionInfo": {
     "elapsed": 2,
     "status": "ok",
     "timestamp": 1639651424630,
     "user": {
      "displayName": "Tigran Fahradyan",
      "photoUrl": "https://lh3.googleusercontent.com/a-/AOh14Gh-nKGiDYIRqDVzJLIaEs_8pnw_vMBjy8DEj-Wc1g=s64",
      "userId": "09993311274482746194"
     },
     "user_tz": -240
    },
    "id": "6H4aoOGf0nBQ"
   },
   "outputs": [],
   "source": [
    "for col in df_train.columns[:7]:\n",
    "    scaler = MinMaxScaler()\n",
    "    df_train[col] = scaler.fit_transform(df_train[col].values.reshape(-1, 1))"
   ]
  },
  {
   "cell_type": "code",
   "execution_count": 45,
   "metadata": {
    "colab": {
     "base_uri": "https://localhost:8080/",
     "height": 206
    },
    "executionInfo": {
     "elapsed": 3,
     "status": "ok",
     "timestamp": 1639651441391,
     "user": {
      "displayName": "Tigran Fahradyan",
      "photoUrl": "https://lh3.googleusercontent.com/a-/AOh14Gh-nKGiDYIRqDVzJLIaEs_8pnw_vMBjy8DEj-Wc1g=s64",
      "userId": "09993311274482746194"
     },
     "user_tz": -240
    },
    "id": "dHJL7N1610Uc",
    "outputId": "f5bf3717-e0a1-465b-9518-d46a3c6ea181"
   },
   "outputs": [
    {
     "data": {
      "text/html": [
       "<div>\n",
       "<style scoped>\n",
       "    .dataframe tbody tr th:only-of-type {\n",
       "        vertical-align: middle;\n",
       "    }\n",
       "\n",
       "    .dataframe tbody tr th {\n",
       "        vertical-align: top;\n",
       "    }\n",
       "\n",
       "    .dataframe thead th {\n",
       "        text-align: right;\n",
       "    }\n",
       "</style>\n",
       "<table border=\"1\" class=\"dataframe\">\n",
       "  <thead>\n",
       "    <tr style=\"text-align: right;\">\n",
       "      <th></th>\n",
       "      <th>address</th>\n",
       "      <th>age</th>\n",
       "      <th>creddebt</th>\n",
       "      <th>debtinc</th>\n",
       "      <th>employ</th>\n",
       "      <th>income</th>\n",
       "      <th>othdebt</th>\n",
       "      <th>college degree</th>\n",
       "      <th>no high school</th>\n",
       "      <th>high school</th>\n",
       "      <th>undergraduate</th>\n",
       "      <th>postgraduate</th>\n",
       "    </tr>\n",
       "  </thead>\n",
       "  <tbody>\n",
       "    <tr>\n",
       "      <th>0</th>\n",
       "      <td>0.352941</td>\n",
       "      <td>0.583333</td>\n",
       "      <td>0.552210</td>\n",
       "      <td>0.217604</td>\n",
       "      <td>0.548387</td>\n",
       "      <td>0.375000</td>\n",
       "      <td>0.183897</td>\n",
       "      <td>1</td>\n",
       "      <td>0</td>\n",
       "      <td>0</td>\n",
       "      <td>0</td>\n",
       "      <td>0</td>\n",
       "    </tr>\n",
       "    <tr>\n",
       "      <th>1</th>\n",
       "      <td>0.176471</td>\n",
       "      <td>0.194444</td>\n",
       "      <td>0.065719</td>\n",
       "      <td>0.413203</td>\n",
       "      <td>0.322581</td>\n",
       "      <td>0.039352</td>\n",
       "      <td>0.146554</td>\n",
       "      <td>0</td>\n",
       "      <td>0</td>\n",
       "      <td>1</td>\n",
       "      <td>0</td>\n",
       "      <td>0</td>\n",
       "    </tr>\n",
       "    <tr>\n",
       "      <th>2</th>\n",
       "      <td>0.411765</td>\n",
       "      <td>0.555556</td>\n",
       "      <td>0.041090</td>\n",
       "      <td>0.124694</td>\n",
       "      <td>0.483871</td>\n",
       "      <td>0.094907</td>\n",
       "      <td>0.078677</td>\n",
       "      <td>0</td>\n",
       "      <td>0</td>\n",
       "      <td>1</td>\n",
       "      <td>0</td>\n",
       "      <td>0</td>\n",
       "    </tr>\n",
       "    <tr>\n",
       "      <th>3</th>\n",
       "      <td>0.411765</td>\n",
       "      <td>0.583333</td>\n",
       "      <td>0.128811</td>\n",
       "      <td>0.061125</td>\n",
       "      <td>0.483871</td>\n",
       "      <td>0.245370</td>\n",
       "      <td>0.028742</td>\n",
       "      <td>0</td>\n",
       "      <td>0</td>\n",
       "      <td>1</td>\n",
       "      <td>0</td>\n",
       "      <td>0</td>\n",
       "    </tr>\n",
       "    <tr>\n",
       "      <th>4</th>\n",
       "      <td>0.000000</td>\n",
       "      <td>0.111111</td>\n",
       "      <td>0.086412</td>\n",
       "      <td>0.413203</td>\n",
       "      <td>0.064516</td>\n",
       "      <td>0.032407</td>\n",
       "      <td>0.111567</td>\n",
       "      <td>0</td>\n",
       "      <td>1</td>\n",
       "      <td>0</td>\n",
       "      <td>0</td>\n",
       "      <td>0</td>\n",
       "    </tr>\n",
       "  </tbody>\n",
       "</table>\n",
       "</div>"
      ],
      "text/plain": [
       "    address       age  creddebt   debtinc    employ    income   othdebt  \\\n",
       "0  0.352941  0.583333  0.552210  0.217604  0.548387  0.375000  0.183897   \n",
       "1  0.176471  0.194444  0.065719  0.413203  0.322581  0.039352  0.146554   \n",
       "2  0.411765  0.555556  0.041090  0.124694  0.483871  0.094907  0.078677   \n",
       "3  0.411765  0.583333  0.128811  0.061125  0.483871  0.245370  0.028742   \n",
       "4  0.000000  0.111111  0.086412  0.413203  0.064516  0.032407  0.111567   \n",
       "\n",
       "   college degree  no high school  high school  undergraduate  postgraduate  \n",
       "0               1               0            0              0             0  \n",
       "1               0               0            1              0             0  \n",
       "2               0               0            1              0             0  \n",
       "3               0               0            1              0             0  \n",
       "4               0               1            0              0             0  "
      ]
     },
     "execution_count": 45,
     "metadata": {},
     "output_type": "execute_result"
    }
   ],
   "source": [
    "df_train.head()"
   ]
  },
  {
   "cell_type": "code",
   "execution_count": 46,
   "metadata": {
    "executionInfo": {
     "elapsed": 270,
     "status": "ok",
     "timestamp": 1639651458570,
     "user": {
      "displayName": "Tigran Fahradyan",
      "photoUrl": "https://lh3.googleusercontent.com/a-/AOh14Gh-nKGiDYIRqDVzJLIaEs_8pnw_vMBjy8DEj-Wc1g=s64",
      "userId": "09993311274482746194"
     },
     "user_tz": -240
    },
    "id": "26NSp83fnj7t"
   },
   "outputs": [],
   "source": [
    "X_train, X_test, y_train, y_test = train_test_split(X, y, test_size=0.2, random_state=2021, stratify=y)"
   ]
  },
  {
   "cell_type": "code",
   "execution_count": 47,
   "metadata": {
    "executionInfo": {
     "elapsed": 7728,
     "status": "ok",
     "timestamp": 1639651655188,
     "user": {
      "displayName": "Tigran Fahradyan",
      "photoUrl": "https://lh3.googleusercontent.com/a-/AOh14Gh-nKGiDYIRqDVzJLIaEs_8pnw_vMBjy8DEj-Wc1g=s64",
      "userId": "09993311274482746194"
     },
     "user_tz": -240
    },
    "id": "dmYChBz918d1"
   },
   "outputs": [],
   "source": [
    "log_reg = ImpLogisticRegression()\n",
    "log_reg.fit(X_train, y_train, n_iters=1000, lr=0.01, lmb=0.1)"
   ]
  },
  {
   "cell_type": "code",
   "execution_count": 48,
   "metadata": {
    "colab": {
     "base_uri": "https://localhost:8080/"
    },
    "executionInfo": {
     "elapsed": 2,
     "status": "ok",
     "timestamp": 1639652658895,
     "user": {
      "displayName": "Tigran Fahradyan",
      "photoUrl": "https://lh3.googleusercontent.com/a-/AOh14Gh-nKGiDYIRqDVzJLIaEs_8pnw_vMBjy8DEj-Wc1g=s64",
      "userId": "09993311274482746194"
     },
     "user_tz": -240
    },
    "id": "cdYPRLru2MyD",
    "outputId": "551d93b5-cde1-49e9-d444-ffca12baec70"
   },
   "outputs": [
    {
     "data": {
      "text/plain": [
       "0.825"
      ]
     },
     "execution_count": 48,
     "metadata": {},
     "output_type": "execute_result"
    }
   ],
   "source": [
    "y_pred = log_reg.predict(X_test)\n",
    "accuracy_score(y_test, y_pred)"
   ]
  },
  {
   "cell_type": "markdown",
   "metadata": {
    "id": "rOTHzrPQnj7u"
   },
   "source": [
    "#### Implement \"confusion_matrix\" and \"f1_score\" functions"
   ]
  },
  {
   "cell_type": "markdown",
   "metadata": {
    "id": "76n5ZH9s3bEI"
   },
   "source": [
    "Let's define confution matrix.\n",
    "\n",
    "Some terminology.\n",
    "\n",
    "* true positives (TP): These are cases in which we predicted yes (they have the disease), and they do have the disease.\n",
    "* true negatives (TN): We predicted no, and they don't have the disease.\n",
    "* false positives (FP): We predicted yes, but they don't actually have the disease. (Also known as a \"Type I error.\")\n",
    "* false negatives (FN): We predicted no, but they actually do have the disease. (Also known as a \"Type II error.\")\n",
    "\n",
    "More in detail about it [here](https://www.dataschool.io/simple-guide-to-confusion-matrix-terminology/)."
   ]
  },
  {
   "cell_type": "code",
   "execution_count": 49,
   "metadata": {
    "executionInfo": {
     "elapsed": 1,
     "status": "ok",
     "timestamp": 1639654541170,
     "user": {
      "displayName": "Tigran Fahradyan",
      "photoUrl": "https://lh3.googleusercontent.com/a-/AOh14Gh-nKGiDYIRqDVzJLIaEs_8pnw_vMBjy8DEj-Wc1g=s64",
      "userId": "09993311274482746194"
     },
     "user_tz": -240
    },
    "id": "Qyzr7RuYnj7u"
   },
   "outputs": [],
   "source": [
    "class ConfutionMatrix:\n",
    "\n",
    "    def __init__(self, y_target, y_pred):\n",
    "        assert(len(y_target) == len(y_pred)), \"label and pred should have the same length\"\n",
    "        mask = y_target == 1\n",
    "        self.PC = sum(y_pred == 1)\n",
    "        self.PI = sum(y_pred == 0)\n",
    "        self.AC = sum(y_target == 1)\n",
    "        self.AI = sum(y_target == 0)\n",
    "        self.TP = sum((y_target == y_pred)[mask])\n",
    "        self.TN = sum((y_target == y_pred)[~mask])\n",
    "        self.FP = sum((y_target != y_pred)[mask])\n",
    "        self.FN = sum((y_target != y_pred)[~mask])\n",
    "\n",
    "        self.matrix = np.array([[self.TP, self.TN], [self.FP, self.FN]])\n",
    "\n",
    "    def accuracy(self):\n",
    "        return (self.TP + self.TN) / (self.AC + self.AI)\n",
    "\n",
    "    def rates(self):\n",
    "        return self.matrix / np.array([[self.AC, self.AI], [self.AC, self.AI]])\n",
    "\n",
    "    def mat(self):\n",
    "        return self.matrix\n",
    "\n",
    "    @property\n",
    "    def recall(self):\n",
    "        return self.TP / self.AC\n",
    "\n",
    "    @property\n",
    "    def precision(self):\n",
    "        return self.TN / self.PC\n",
    "\n",
    "    @property\n",
    "    def prevalence(self):\n",
    "        return self.AC / (self.AC + self.AI)\n",
    "\n",
    "    @property\n",
    "    def sensitivity(self):\n",
    "        return self.recall\n",
    "\n",
    "    @property\n",
    "    def specificity(self):\n",
    "        return self.TN / self.AI"
   ]
  },
  {
   "cell_type": "code",
   "execution_count": 50,
   "metadata": {
    "executionInfo": {
     "elapsed": 257,
     "status": "ok",
     "timestamp": 1639654719527,
     "user": {
      "displayName": "Tigran Fahradyan",
      "photoUrl": "https://lh3.googleusercontent.com/a-/AOh14Gh-nKGiDYIRqDVzJLIaEs_8pnw_vMBjy8DEj-Wc1g=s64",
      "userId": "09993311274482746194"
     },
     "user_tz": -240
    },
    "id": "HofEIDJh6ZBh"
   },
   "outputs": [],
   "source": [
    "conf_mat = ConfutionMatrix(y_test, y_pred)"
   ]
  },
  {
   "cell_type": "code",
   "execution_count": 51,
   "metadata": {
    "colab": {
     "base_uri": "https://localhost:8080/",
     "height": 281
    },
    "executionInfo": {
     "elapsed": 4,
     "status": "ok",
     "timestamp": 1639654543569,
     "user": {
      "displayName": "Tigran Fahradyan",
      "photoUrl": "https://lh3.googleusercontent.com/a-/AOh14Gh-nKGiDYIRqDVzJLIaEs_8pnw_vMBjy8DEj-Wc1g=s64",
      "userId": "09993311274482746194"
     },
     "user_tz": -240
    },
    "id": "AFUeCBUF-3NC",
    "outputId": "473a4eb7-a765-4e15-fadd-11b5392a6f92"
   },
   "outputs": [
    {
     "data": {
      "image/png": "[encoded data removed]",
      "text/plain": [
       "<Figure size 432x288 with 2 Axes>"
      ]
     },
     "metadata": {
      "needs_background": "light"
     },
     "output_type": "display_data"
    }
   ],
   "source": [
    "# Plot confusion matrix\n",
    "import seaborn as sns\n",
    "import pandas as pd\n",
    "import matplotlib.pyplot as plt\n",
    "# confusion matrix sns heatmap \n",
    "ax = plt.axes()\n",
    "df_cm = (conf_mat.rates()*100).astype(int)\n",
    "\n",
    "sns.heatmap(df_cm, annot=True, annot_kws={\"size\": 30}, fmt='d',cmap=\"Blues\", ax = ax )\n",
    "ax.set_title('Confusion Matrix')\n",
    "plt.show()"
   ]
  },
  {
   "cell_type": "markdown",
   "metadata": {},
   "source": [
    "<img src=\"F1-Score.png\" width=400 />"
   ]
  },
  {
   "cell_type": "code",
   "execution_count": 52,
   "metadata": {
    "executionInfo": {
     "elapsed": 278,
     "status": "ok",
     "timestamp": 1639654546138,
     "user": {
      "displayName": "Tigran Fahradyan",
      "photoUrl": "https://lh3.googleusercontent.com/a-/AOh14Gh-nKGiDYIRqDVzJLIaEs_8pnw_vMBjy8DEj-Wc1g=s64",
      "userId": "09993311274482746194"
     },
     "user_tz": -240
    },
    "id": "x0HfnMaHnj7u"
   },
   "outputs": [],
   "source": [
    "def f1_score(conf_matrix) -> float:\n",
    "    assert(conf_matrix.mat().shape == (2, 2)), 'conf_matrix shape should be (2, 2)'\n",
    "    # TODO\n",
    "    return 2 * (conf_matrix.recall * conf_matrix.precision) / (conf_matrix.recall + conf_matrix.precision)"
   ]
  },
  {
   "cell_type": "markdown",
   "metadata": {
    "id": "mgSvxXYrnj7u"
   },
   "source": [
    "## Print accuracy, confusion matrix, precision, recall, sensitivity and specifity on train and test (and maybe validation) datasets."
   ]
  },
  {
   "cell_type": "markdown",
   "metadata": {
    "id": "mLQKes03nj7u"
   },
   "source": [
    "#### Do not use any libraries for metrics, implement yourself"
   ]
  },
  {
   "cell_type": "code",
   "execution_count": 53,
   "metadata": {
    "executionInfo": {
     "elapsed": 1,
     "status": "ok",
     "timestamp": 1639654550301,
     "user": {
      "displayName": "Tigran Fahradyan",
      "photoUrl": "https://lh3.googleusercontent.com/a-/AOh14Gh-nKGiDYIRqDVzJLIaEs_8pnw_vMBjy8DEj-Wc1g=s64",
      "userId": "09993311274482746194"
     },
     "user_tz": -240
    },
    "id": "tAzs076Cnj7u"
   },
   "outputs": [],
   "source": [
    "# def accuracy_score(conf_matrix: np.array) -> float:\n",
    "#     assert(conf_matrix.shape == (2, 2)), 'conf_matrix shape should be (2, 2)'\n",
    "#     if sum(sum(conf_matrix)) == 0:\n",
    "#         return 'NA'\n",
    "#     return sum(np.diag(conf_matrix)) / sum(sum(conf_matrix))\n",
    "\n",
    "# def precision_score(conf_matrix: np.array) -> float:\n",
    "#     assert(conf_matrix.shape == (2, 2)), 'conf_matrix shape should be (2, 2)'\n",
    "#     if sum(conf_matrix[:,1]) == 0:\n",
    "#         return 'NA'\n",
    "#     return conf_matrix[1, 1] / sum(conf_matrix[:,1])\n",
    "\n",
    "# def recall_score(conf_matrix: np.array) -> float:\n",
    "#     assert(conf_matrix.shape == (2, 2)), 'conf_matrix shape should be (2, 2)'\n",
    "#     if sum(conf_matrix[1,:]) == 0:\n",
    "#         return 'NA'\n",
    "#     return conf_matrix[1, 1] / sum(conf_matrix[1,:])\n",
    "\n",
    "# sensitivity_score = recall_score\n",
    "\n",
    "# def specificity_score(conf_matrix: np.array) -> float:\n",
    "#     assert(conf_matrix.shape == (2, 2)), 'conf_matrix shape should be (2, 2)'\n",
    "#     if sum(conf_matrix[0,:]) == 0:\n",
    "#         return 'NA'\n",
    "#     return conf_matrix[0, 0] / sum(conf_matrix[0,:])"
   ]
  },
  {
   "cell_type": "code",
   "execution_count": 54,
   "metadata": {
    "colab": {
     "base_uri": "https://localhost:8080/"
    },
    "executionInfo": {
     "elapsed": 2,
     "status": "ok",
     "timestamp": 1639654677874,
     "user": {
      "displayName": "Tigran Fahradyan",
      "photoUrl": "https://lh3.googleusercontent.com/a-/AOh14Gh-nKGiDYIRqDVzJLIaEs_8pnw_vMBjy8DEj-Wc1g=s64",
      "userId": "09993311274482746194"
     },
     "user_tz": -240
    },
    "id": "71Nm2Oz5nj7v",
    "outputId": "9c78f535-c8a7-426a-999e-3bd4863aa2f7"
   },
   "outputs": [
    {
     "name": "stdout",
     "output_type": "stream",
     "text": [
      "Train Accuracy: 0.86875\n",
      "Train Precision: 1.0724637681159421\n",
      "Train Recall: 0.7926829268292683\n",
      "Train Sensitivity: 0.7926829268292683\n",
      "Train Specificity: 0.9487179487179487\n",
      "Train F1 Score: 0.9115891215768029\n",
      "\n",
      "Train Accuracy: 0.825\n",
      "Train Precision: 1.125\n",
      "Train Recall: 0.7142857142857143\n",
      "Train Sensitivity: 0.7142857142857143\n",
      "Train Specificity: 0.9473684210526315\n",
      "Train F1 Score: 0.8737864077669902\n",
      "\n"
     ]
    }
   ],
   "source": [
    "conf_mat = ConfutionMatrix(y_train, log_reg.predict(X_train))\n",
    "\n",
    "print(\"Train Accuracy:\", conf_mat.accuracy())\n",
    "print(\"Train Precision:\", conf_mat.precision)\n",
    "print(\"Train Recall:\", conf_mat.recall)\n",
    "print(\"Train Sensitivity:\", conf_mat.sensitivity)\n",
    "print(\"Train Specificity:\", conf_mat.specificity)\n",
    "print(\"Train F1 Score:\", f1_score(conf_mat), end='\\n\\n')\n",
    "\n",
    "conf_mat = ConfutionMatrix(y_test, log_reg.predict(X_test))\n",
    "\n",
    "print(\"Train Accuracy:\", conf_mat.accuracy())\n",
    "print(\"Train Precision:\", conf_mat.precision)\n",
    "print(\"Train Recall:\", conf_mat.recall)\n",
    "print(\"Train Sensitivity:\", conf_mat.sensitivity)\n",
    "print(\"Train Specificity:\", conf_mat.specificity)\n",
    "print(\"Train F1 Score:\", f1_score(conf_mat), end='\\n\\n')"
   ]
  },
  {
   "cell_type": "code",
   "execution_count": null,
   "metadata": {
    "id": "D4JYjFw4ADqh"
   },
   "outputs": [],
   "source": []
  }
 ],
 "metadata": {
  "colab": {
   "collapsed_sections": [],
   "name": "Logistic_Regression.ipynb",
   "provenance": []
  },
  "kernelspec": {
   "display_name": "Python 3 (ipykernel)",
   "language": "python",
   "name": "python3"
  },
  "language_info": {
   "codemirror_mode": {
    "name": "ipython",
    "version": 3
   },
   "file_extension": ".py",
   "mimetype": "text/x-python",
   "name": "python",
   "nbconvert_exporter": "python",
   "pygments_lexer": "ipython3",
   "version": "3.9.7"
  }
 },
 "nbformat": 4,
 "nbformat_minor": 1
}
