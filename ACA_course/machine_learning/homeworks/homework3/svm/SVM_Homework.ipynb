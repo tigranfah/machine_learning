{
 "cells": [
  {
   "cell_type": "code",
   "execution_count": 1,
   "metadata": {
    "executionInfo": {
     "elapsed": 294,
     "status": "ok",
     "timestamp": 1639594433047,
     "user": {
      "displayName": "Tigran Fahradyan",
      "photoUrl": "https://lh3.googleusercontent.com/a-/AOh14Gh-nKGiDYIRqDVzJLIaEs_8pnw_vMBjy8DEj-Wc1g=s64",
      "userId": "09993311274482746194"
     },
     "user_tz": -240
    },
    "id": "o8G1Jr77Sxe0"
   },
   "outputs": [],
   "source": [
    "import numpy as np\n",
    "import pandas as pd\n",
    "import matplotlib.pyplot as plt\n",
    "%matplotlib inline\n",
    "\n",
    "from sklearn import datasets\n",
    "from sklearn.metrics import accuracy_score\n",
    "from sklearn.model_selection import train_test_split"
   ]
  },
  {
   "cell_type": "markdown",
   "metadata": {
    "id": "bMU8kbiLXb6E"
   },
   "source": [
    "**Before we implement SVM, let's see the math behind it.**"
   ]
  },
  {
   "cell_type": "markdown",
   "metadata": {
    "id": "cr0wwpiuXk3E"
   },
   "source": [
    "We have our equation of the line in 2D, plane in 3D and hypterplane in ND.\n",
    "\n",
    "$$\n",
    "    y(X) = \\sum_{x_{i}fromX}{x_{i}w_{i}} + b\n",
    "$$\n",
    "    or\n",
    "$$\n",
    "    y(X) = w^{T}x\n",
    "$$\n",
    "\n",
    "Consider the case of binar classification. t's are target values, -1 or 1.\n",
    "We want the predicted value to be of the same sign as the target.\n",
    "\n",
    "$$\n",
    "    t_{n}y(x_{n}) > 0\n",
    "$$\n",
    "\n",
    "distance from the line to the point.\n",
    "\n",
    "$$\n",
    "    \\frac{t_{n}y(x_{n})}{||w||} = \\frac{t_{n}(w^{T}x_{n} + b)}{||w||}\n",
    "$$\n",
    "\n",
    "and we want that the minimum distance from the closest point x_n be maxmimum.\n",
    "\n",
    "$$\n",
    "    argmin_{w, b}[ \\frac{1}{||w||} min_{n} [t_{n}y(x_{n})] ]\n",
    "$$\n",
    "\n",
    "this problem has a very complex solution. Note that if we set w -> kw and b -> kb we are able to find w and b such that the distance from the closest point x_n from the surface is 1.\n",
    "\n",
    "$$\n",
    "    t_{n}(w^{T}x_{n}) + b = 1\n",
    "$$\n",
    "\n",
    "moreover\n",
    "\n",
    "$$\n",
    "    \\frac{1}{||w||} = ||w||^{-1} = \\frac{1}{2}||w||^{2}\n",
    "$$\n",
    "\n",
    "we are left with.\n",
    "\n",
    "$$\n",
    "    argmin_{w, b} [\\frac{1}{2}||w||^{2}]\n",
    "$$\n",
    "\n",
    "and we solve it using Lagrange multipliers.\n",
    "\n",
    "*Referance: Bishop - Pattern Recognition and Machine Learning p. 328*"
   ]
  },
  {
   "cell_type": "markdown",
   "metadata": {
    "id": "IUS-BQxWndwi"
   },
   "source": [
    "**The implementation using the above principles can be found here.** https://xavierbourretsicotte.github.io/SVM_implementation.html"
   ]
  },
  {
   "cell_type": "markdown",
   "metadata": {
    "id": "tgppykdnKa6x"
   },
   "source": [
    "I am going to use gradient decent to train SVM."
   ]
  },
  {
   "cell_type": "markdown",
   "metadata": {
    "id": "nXdI3z_2Kizd"
   },
   "source": [
    "The hinge loss.\n",
    "\n",
    "$$\n",
    "    L(w)=max[0, 1 - t_{n}y(x_{n})]\n",
    "$$\n",
    "\n",
    "<img src=\"hinge_der.png\" width=400 />"
   ]
  },
  {
   "cell_type": "code",
   "execution_count": 2,
   "metadata": {
    "executionInfo": {
     "elapsed": 456,
     "status": "ok",
     "timestamp": 1639598098723,
     "user": {
      "displayName": "Tigran Fahradyan",
      "photoUrl": "https://lh3.googleusercontent.com/a-/AOh14Gh-nKGiDYIRqDVzJLIaEs_8pnw_vMBjy8DEj-Wc1g=s64",
      "userId": "09993311274482746194"
     },
     "user_tz": -240
    },
    "id": "9LLmTDgSSqf5"
   },
   "outputs": [],
   "source": [
    "class ImpBinarSVC:\n",
    "\n",
    "    def __init__(self, C=0.1):\n",
    "        self.coef_ = np.empty(0)\n",
    "        self.C = C\n",
    "        self.lr = 0.01\n",
    "        self.lmb = 0\n",
    "        self.n_iters = 10\n",
    "\n",
    "    def __init_svm(self, feature_size, C=None, learning_rate=None, n_iters=None, lmb=None):\n",
    "                                      # weights + bias\n",
    "        self.coef_ = np.random.normal(0, 1, feature_size+1)\n",
    "        if C: self.C = C\n",
    "        if learning_rate: self.lr = learning_rate\n",
    "        if n_iters: self.n_iters = n_iters\n",
    "        if lmb: self.lmb = lmb\n",
    "    \n",
    "    def hinge_loss(self, y_target, y_pred):\n",
    "        # TODO\n",
    "        return np.array([np.max(0, 1 - t * p) for t, p in zip(y_target, y_pred)])\n",
    "    \n",
    "    def fit(self, X, y, C=None, learning_rate=0.001, n_iters=1000, lmb=0.01):\n",
    "        # TODO\n",
    "        y[np.where(y == 0)[0]] = -1\n",
    "        # y[np.where(y == 1)[0]] = 1\n",
    "        \n",
    "        self.__init_svm(X.shape[1], C, learning_rate, n_iters, lmb)\n",
    "\n",
    "        for i in range(n_iters):\n",
    "            y_pred = self.predict(X)\n",
    "            y_pred[y_pred == 0] = -1\n",
    "\n",
    "            for x, y_t, y_p in zip(X, y, y_pred):\n",
    "                if y_t * y_p >= (1 - self.C):\n",
    "                    self.coef_[1:] -= 2 * self.lmb * np.sign(self.coef_[1:])\n",
    "                else:\n",
    "                    self.coef_[1:] -= self.lr * - y_t * x + 2 * self.lmb * np.sign(self.coef_[1:])\n",
    "                    self.coef_[0] -= self.lr * y_t\n",
    "\n",
    "    def _pred(self, X):\n",
    "        X = np.c_[np.ones(len(X)), X]\n",
    "        return np.dot(X, self.coef_)\n",
    "\n",
    "    def predict(self, X):\n",
    "        # TODO\n",
    "        pred = np.sign(self._pred(X))\n",
    "        pred[pred == -1] = 0\n",
    "        return pred\n",
    "\n",
    "    @property\n",
    "    def coef(self):\n",
    "        return self.coef_[1:]\n",
    "\n",
    "    @property\n",
    "    def intercept(self):\n",
    "        return self.coef_[0]"
   ]
  },
  {
   "cell_type": "code",
   "execution_count": 3,
   "metadata": {
    "executionInfo": {
     "elapsed": 3,
     "status": "ok",
     "timestamp": 1639598098724,
     "user": {
      "displayName": "Tigran Fahradyan",
      "photoUrl": "https://lh3.googleusercontent.com/a-/AOh14Gh-nKGiDYIRqDVzJLIaEs_8pnw_vMBjy8DEj-Wc1g=s64",
      "userId": "09993311274482746194"
     },
     "user_tz": -240
    },
    "id": "phqiAMZ4Sqf9"
   },
   "outputs": [],
   "source": [
    "X, y =  datasets.make_blobs(n_samples=150, n_features=2, centers=2, cluster_std=1.05, random_state=40)"
   ]
  },
  {
   "cell_type": "code",
   "execution_count": 4,
   "metadata": {
    "colab": {
     "base_uri": "https://localhost:8080/",
     "height": 265
    },
    "executionInfo": {
     "elapsed": 641,
     "status": "ok",
     "timestamp": 1639598099812,
     "user": {
      "displayName": "Tigran Fahradyan",
      "photoUrl": "https://lh3.googleusercontent.com/a-/AOh14Gh-nKGiDYIRqDVzJLIaEs_8pnw_vMBjy8DEj-Wc1g=s64",
      "userId": "09993311274482746194"
     },
     "user_tz": -240
    },
    "id": "jzNNqJo4pwId",
    "outputId": "8ab7e2b4-3d27-4f68-b056-c6a75319b801"
   },
   "outputs": [
    {
     "data": {
      "image/png": "[encoded data removed]",
      "text/plain": [
       "<Figure size 432x288 with 1 Axes>"
      ]
     },
     "metadata": {
      "needs_background": "light"
     },
     "output_type": "display_data"
    }
   ],
   "source": [
    "plt.scatter(X[:, 0], X[:, 1], c=y)\n",
    "plt.show()"
   ]
  },
  {
   "cell_type": "code",
   "execution_count": 17,
   "metadata": {
    "executionInfo": {
     "elapsed": 5,
     "status": "ok",
     "timestamp": 1639598099812,
     "user": {
      "displayName": "Tigran Fahradyan",
      "photoUrl": "https://lh3.googleusercontent.com/a-/AOh14Gh-nKGiDYIRqDVzJLIaEs_8pnw_vMBjy8DEj-Wc1g=s64",
      "userId": "09993311274482746194"
     },
     "user_tz": -240
    },
    "id": "ZEbyIc0TSqf-"
   },
   "outputs": [],
   "source": [
    "X_train, X_test, y_train, y_test = train_test_split(X, y, random_state=2021)"
   ]
  },
  {
   "cell_type": "code",
   "execution_count": 50,
   "metadata": {
    "executionInfo": {
     "elapsed": 1222,
     "status": "ok",
     "timestamp": 1639598101353,
     "user": {
      "displayName": "Tigran Fahradyan",
      "photoUrl": "https://lh3.googleusercontent.com/a-/AOh14Gh-nKGiDYIRqDVzJLIaEs_8pnw_vMBjy8DEj-Wc1g=s64",
      "userId": "09993311274482746194"
     },
     "user_tz": -240
    },
    "id": "ezOKtvi6Sqf-"
   },
   "outputs": [],
   "source": [
    "svm = ImpBinarSVC()\n",
    "svm.fit(X_train, y_train, n_iters=2000, learning_rate=1, lmb=0.001)"
   ]
  },
  {
   "cell_type": "code",
   "execution_count": 51,
   "metadata": {
    "colab": {
     "base_uri": "https://localhost:8080/"
    },
    "executionInfo": {
     "elapsed": 4,
     "status": "ok",
     "timestamp": 1639598102275,
     "user": {
      "displayName": "Tigran Fahradyan",
      "photoUrl": "https://lh3.googleusercontent.com/a-/AOh14Gh-nKGiDYIRqDVzJLIaEs_8pnw_vMBjy8DEj-Wc1g=s64",
      "userId": "09993311274482746194"
     },
     "user_tz": -240
    },
    "id": "N7a2AHuYSqf_",
    "outputId": "c29a95ff-11b2-493c-a936-953d4932f7c9"
   },
   "outputs": [
    {
     "data": {
      "text/plain": [
       "1.0"
      ]
     },
     "execution_count": 51,
     "metadata": {},
     "output_type": "execute_result"
    }
   ],
   "source": [
    "accuracy_score(y_test, svm.predict(X_test))"
   ]
  },
  {
   "cell_type": "code",
   "execution_count": 52,
   "metadata": {},
   "outputs": [
    {
     "data": {
      "text/plain": [
       "(array([350.94801592, 185.57488107]), 15.260411256086684)"
      ]
     },
     "execution_count": 52,
     "metadata": {},
     "output_type": "execute_result"
    }
   ],
   "source": [
    "svm.coef, svm.intercept"
   ]
  },
  {
   "cell_type": "code",
   "execution_count": 40,
   "metadata": {
    "executionInfo": {
     "elapsed": 325,
     "status": "ok",
     "timestamp": 1639598974521,
     "user": {
      "displayName": "Tigran Fahradyan",
      "photoUrl": "https://lh3.googleusercontent.com/a-/AOh14Gh-nKGiDYIRqDVzJLIaEs_8pnw_vMBjy8DEj-Wc1g=s64",
      "userId": "09993311274482746194"
     },
     "user_tz": -240
    },
    "id": "bz-MsIZsYiQJ"
   },
   "outputs": [],
   "source": [
    "# one-vs-rest \n",
    "class ImpSVC:\n",
    "    \n",
    "    def __init__(self):\n",
    "        self.__init_clf()\n",
    "        \n",
    "    def __init_clf(self):\n",
    "        self.binar_clfs = []\n",
    "        \n",
    "    def fit(self, X, y, **kwargs):\n",
    "        self.__init_clf()\n",
    "        \n",
    "        unique_y, count = np.unique(y, return_counts=True)\n",
    "        \n",
    "        for y_u in unique_y:\n",
    "            mask = (y == y_u)\n",
    "            y_target = y.copy()\n",
    "            y_target[mask] = 1\n",
    "            y_target[~mask] = 0\n",
    "            clf = ImpBinarSVC()\n",
    "            \n",
    "            clf.fit(X, y_target, **kwargs)\n",
    "            self.binar_clfs.append(clf)\n",
    "            \n",
    "    def predict(self, X):\n",
    "        return np.argmax([np.abs(clf._pred(X)) for clf in self.binar_clfs], axis=0)"
   ]
  },
  {
   "cell_type": "code",
   "execution_count": 94,
   "metadata": {
    "colab": {
     "base_uri": "https://localhost:8080/",
     "height": 287
    },
    "executionInfo": {
     "elapsed": 2320,
     "status": "ok",
     "timestamp": 1639598897678,
     "user": {
      "displayName": "Tigran Fahradyan",
      "photoUrl": "https://lh3.googleusercontent.com/a-/AOh14Gh-nKGiDYIRqDVzJLIaEs_8pnw_vMBjy8DEj-Wc1g=s64",
      "userId": "09993311274482746194"
     },
     "user_tz": -240
    },
    "id": "CfDvFleqSqgA",
    "outputId": "a20ede29-d7fc-4007-a796-7065ca84e0b2",
    "scrolled": true
   },
   "outputs": [
    {
     "name": "stdout",
     "output_type": "stream",
     "text": [
      "[280.19836036 109.58983932] 25.498683414525196\n"
     ]
    },
    {
     "data": {
      "image/png": "[encoded data removed]",
      "text/plain": [
       "<Figure size 432x288 with 1 Axes>"
      ]
     },
     "metadata": {
      "needs_background": "light"
     },
     "output_type": "display_data"
    }
   ],
   "source": [
    "clf = ImpBinarSVC()\n",
    "clf.fit(X_train, y_train, n_iters=4000, learning_rate=0.7, lmb=0.001)\n",
    "#predictions = clf.predict(X)\n",
    " \n",
    "print(clf.coef, clf.intercept)\n",
    "\n",
    "def visualize_svm():\n",
    "    def get_hyperplane_value(x, w, b, offset):\n",
    "        return (-w[0] * x + b * 15 * offset) / w[1]\n",
    "    \n",
    "    def eq_line(w, b):\n",
    "        return -b / w\n",
    "\n",
    "    fig = plt.figure()\n",
    "    ax = fig.add_subplot(1,1,1)\n",
    "    ax.scatter(X[:,0], X[:,1], marker='o',c=y)\n",
    "\n",
    "    x0_1 = np.amin(X[:,0])\n",
    "    x0_2 = np.amax(X[:,0])\n",
    "\n",
    "    x1_1 = get_hyperplane_value(x0_1, clf.coef, clf.intercept, 0)\n",
    "    x1_2 = get_hyperplane_value(x0_2, clf.coef, clf.intercept, 0)\n",
    "#     x1_1 = eq_line(clf.coef, clf.intercept)\n",
    "#     x1_2 = eq_line(clf.coef, clf.intercept)\n",
    "\n",
    "    x1_1_m = get_hyperplane_value(x0_1, clf.coef, clf.intercept, -1)\n",
    "    x1_2_m = get_hyperplane_value(x0_2, clf.coef, clf.intercept, -1)\n",
    "\n",
    "    x1_1_p = get_hyperplane_value(x0_1, clf.coef, clf.intercept, 1)\n",
    "    x1_2_p = get_hyperplane_value(x0_2, clf.coef, clf.intercept, 1)\n",
    "    \n",
    "    ax.plot([x0_1, x0_2], [x1_1, x1_2], 'y--')\n",
    "    ax.plot([x0_1, x0_2],[x1_1_m, x1_2_m], 'k')\n",
    "    ax.plot([x0_1, x0_2],[x1_1_p, x1_2_p], 'k')\n",
    "\n",
    "    x1_min = np.amin(X[:,1])\n",
    "    x1_max = np.amax(X[:,1])\n",
    "    ax.set_ylim([x1_min-3,x1_max+3])\n",
    "\n",
    "visualize_svm()"
   ]
  },
  {
   "cell_type": "code",
   "execution_count": 22,
   "metadata": {
    "colab": {
     "base_uri": "https://localhost:8080/",
     "height": 283
    },
    "executionInfo": {
     "elapsed": 16,
     "status": "ok",
     "timestamp": 1639598897679,
     "user": {
      "displayName": "Tigran Fahradyan",
      "photoUrl": "https://lh3.googleusercontent.com/a-/AOh14Gh-nKGiDYIRqDVzJLIaEs_8pnw_vMBjy8DEj-Wc1g=s64",
      "userId": "09993311274482746194"
     },
     "user_tz": -240
    },
    "id": "I6U-MF6yWp3X",
    "outputId": "0bd6e835-5477-46f5-8aa6-588669c50950"
   },
   "outputs": [
    {
     "data": {
      "text/plain": [
       "<matplotlib.collections.PathCollection at 0x13d0b1430>"
      ]
     },
     "execution_count": 22,
     "metadata": {},
     "output_type": "execute_result"
    },
    {
     "data": {
      "image/png": "[encoded data removed]",
      "text/plain": [
       "<Figure size 432x288 with 1 Axes>"
      ]
     },
     "metadata": {
      "needs_background": "light"
     },
     "output_type": "display_data"
    }
   ],
   "source": [
    "X1 = np.vstack((np.random.normal(10, 1, (100)), np.random.normal(7, 1, (100)))).T\n",
    "X2 = np.vstack((np.random.normal(0, 1, (100)), np.random.normal(0, 1, (100)))).T\n",
    "X3 = np.vstack((np.random.normal(0, 1, (100)), np.random.normal(15, 1, (100)))).T\n",
    "\n",
    "X = np.vstack((X1, X2, X3))\n",
    "y = np.vstack((np.zeros(100), np.ones(100), 2*np.ones(100))).flatten()\n",
    "\n",
    "plt.scatter(X[:, 0], X[:, 1], c=y)"
   ]
  },
  {
   "cell_type": "code",
   "execution_count": 12,
   "metadata": {
    "executionInfo": {
     "elapsed": 11,
     "status": "ok",
     "timestamp": 1639598897679,
     "user": {
      "displayName": "Tigran Fahradyan",
      "photoUrl": "https://lh3.googleusercontent.com/a-/AOh14Gh-nKGiDYIRqDVzJLIaEs_8pnw_vMBjy8DEj-Wc1g=s64",
      "userId": "09993311274482746194"
     },
     "user_tz": -240
    },
    "id": "bJNk0FY9km5s"
   },
   "outputs": [],
   "source": [
    "X_train, X_test, y_train, y_test = train_test_split(X, y, shuffle=True, random_state=2021)"
   ]
  },
  {
   "cell_type": "code",
   "execution_count": 13,
   "metadata": {
    "executionInfo": {
     "elapsed": 8694,
     "status": "ok",
     "timestamp": 1639598995770,
     "user": {
      "displayName": "Tigran Fahradyan",
      "photoUrl": "https://lh3.googleusercontent.com/a-/AOh14Gh-nKGiDYIRqDVzJLIaEs_8pnw_vMBjy8DEj-Wc1g=s64",
      "userId": "09993311274482746194"
     },
     "user_tz": -240
    },
    "id": "QlyIRUM0X1ne"
   },
   "outputs": [],
   "source": [
    "svm = ImpSVC()\n",
    "svm.fit(X_train, y_train, C=0.0, n_iters=2000, learning_rate=0.5, lmb=0.1)"
   ]
  },
  {
   "cell_type": "code",
   "execution_count": 14,
   "metadata": {
    "colab": {
     "base_uri": "https://localhost:8080/"
    },
    "executionInfo": {
     "elapsed": 17,
     "status": "ok",
     "timestamp": 1639598995772,
     "user": {
      "displayName": "Tigran Fahradyan",
      "photoUrl": "https://lh3.googleusercontent.com/a-/AOh14Gh-nKGiDYIRqDVzJLIaEs_8pnw_vMBjy8DEj-Wc1g=s64",
      "userId": "09993311274482746194"
     },
     "user_tz": -240
    },
    "id": "djOX3Gizcg8U",
    "outputId": "8c38d257-3411-42a9-a01d-b1a24ff2fe44"
   },
   "outputs": [
    {
     "data": {
      "text/plain": [
       "0.13333333333333333"
      ]
     },
     "execution_count": 14,
     "metadata": {},
     "output_type": "execute_result"
    }
   ],
   "source": [
    "accuracy_score(y_test, svm.predict(X_test))"
   ]
  },
  {
   "cell_type": "markdown",
   "metadata": {
    "id": "yFjveIdycoyS"
   },
   "source": [
    "As we can see multiclass SVM does not work well. I tried to visualize the problem."
   ]
  },
  {
   "cell_type": "markdown",
   "metadata": {},
   "source": [
    "First SVM.\n",
    "<img src=\"multi_prob/c3.png\" width=300/>\n",
    "\n",
    "Second SVM.\n",
    "<img src=\"multi_prob/c2.png\" width=300/>\n",
    "\n",
    "Third SVM.\n",
    "<img src=\"multi_prob/c1.png\" width=300/>"
   ]
  },
  {
   "cell_type": "code",
   "execution_count": null,
   "metadata": {},
   "outputs": [],
   "source": []
  }
 ],
 "metadata": {
  "colab": {
   "collapsed_sections": [],
   "name": "SVM_Homework.ipynb",
   "provenance": []
  },
  "kernelspec": {
   "display_name": "Python 3 (ipykernel)",
   "language": "python",
   "name": "python3"
  },
  "language_info": {
   "codemirror_mode": {
    "name": "ipython",
    "version": 3
   },
   "file_extension": ".py",
   "mimetype": "text/x-python",
   "name": "python",
   "nbconvert_exporter": "python",
   "pygments_lexer": "ipython3",
   "version": "3.9.9"
  }
 },
 "nbformat": 4,
 "nbformat_minor": 1
}
