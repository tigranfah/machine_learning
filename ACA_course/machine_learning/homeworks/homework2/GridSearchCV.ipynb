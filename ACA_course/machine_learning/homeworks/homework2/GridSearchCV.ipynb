{
 "cells": [
  {
   "cell_type": "markdown",
   "id": "b5ed73c1",
   "metadata": {},
   "source": [
    "### tunning ridge hyperparametr"
   ]
  },
  {
   "cell_type": "code",
   "execution_count": 154,
   "id": "736faac9",
   "metadata": {},
   "outputs": [
    {
     "name": "stdout",
     "output_type": "stream",
     "text": [
      "MAE: -3.379\n",
      "Config: {'alpha': 0.51}\n"
     ]
    }
   ],
   "source": [
    "from sklearn.model_selection import GridSearchCV, cross_val_predict, RepeatedKFold\n",
    "from sklearn.linear_model import Ridge\n",
    "from sklearn.svm import SVR\n",
    "from pandas import read_csv\n",
    "import numpy as np\n",
    "\n",
    "# load the dataset\n",
    "url = 'https://raw.githubusercontent.com/jbrownlee/Datasets/master/housing.csv'\n",
    "dataframe = read_csv(url, header=None)\n",
    "data = dataframe.values\n",
    "X, y = data[:, :-1], data[:, -1]\n",
    "# define model\n",
    "model = Ridge()\n",
    "# define model evaluation method\n",
    "cv = RepeatedKFold(n_splits=10, n_repeats=3, random_state=1)\n",
    "# define grid\n",
    "grid = dict()\n",
    "grid['alpha'] = np.arange(0, 1, 0.01)\n",
    "# define search\n",
    "search = GridSearchCV(model, grid, scoring='neg_mean_absolute_error', cv=cv, n_jobs=-1)\n",
    "# perform the search\n",
    "results = search.fit(X, y)\n",
    "# summarize\n",
    "print('MAE: %.3f' % results.best_score_)\n",
    "print('Config: %s' % results.best_params_)"
   ]
  },
  {
   "cell_type": "markdown",
   "id": "c69e7ad0",
   "metadata": {},
   "source": [
    "From data we can see that this is a regression problem."
   ]
  },
  {
   "cell_type": "code",
   "execution_count": 96,
   "id": "cd099339",
   "metadata": {},
   "outputs": [
    {
     "data": {
      "text/plain": [
       "((506, 13), (506,))"
      ]
     },
     "execution_count": 96,
     "metadata": {},
     "output_type": "execute_result"
    }
   ],
   "source": [
    "X.shape, y.shape"
   ]
  },
  {
   "cell_type": "markdown",
   "id": "0686cb52",
   "metadata": {},
   "source": [
    "### implemented GridSearchCV"
   ]
  },
  {
   "cell_type": "code",
   "execution_count": 147,
   "id": "492022ad",
   "metadata": {},
   "outputs": [],
   "source": [
    "# ___Import Everything you need.\n",
    "# ___For Example:\n",
    "\n",
    "from sklearn import metrics\n",
    "import copy\n",
    "import itertools as it\n",
    "from sklearn.model_selection import KFold, RepeatedKFold\n",
    "from sklearn.model_selection import train_test_split\n",
    "\n",
    "class MyGridSearchCV:\n",
    "    \n",
    "    def __init__(self, estimator, param_grid: dict, scoring=None, refit=True, cv=None):\n",
    "        \"\"\"\n",
    "            estimator : model\n",
    "            param_grid : list of parameters to search in the form of dict\n",
    "            scoring : loss function\n",
    "            cv : cross validation type\n",
    "        \"\"\"\n",
    "        \n",
    "        self.estimator = estimator\n",
    "        self.estimator_type = type(estimator)\n",
    "        self.param_grid = param_grid\n",
    "        self.scoring = scoring\n",
    "        self.refit = refit\n",
    "        if cv is None:\n",
    "            self.cv = KFold()\n",
    "        else:\n",
    "            self.cv = cv\n",
    "            \n",
    "            # TODO\n",
    "            \n",
    "        self.best_estimator_ = None\n",
    "        self.best_score_ = None\n",
    "        self.best_params_ = None\n",
    "\n",
    "    def fit(self, X, y):\n",
    "        \n",
    "        X, y = np.array(X), np.array(y)\n",
    "        \n",
    "        # TODO\n",
    "#         print(self.param_grid)\n",
    "        \n",
    "        for args in it.product(*self.param_grid.values()):\n",
    "            params = { k : v for k, v in zip(self.param_grid.keys(), args)}\n",
    "            self.estimator = self.estimator_type(**params)\n",
    "            \n",
    "            for train_ind, test_ind in self.cv.split(X):\n",
    "                X_train, X_test = X[train_ind], X[test_ind]\n",
    "                y_train, y_test = y[train_ind], y[test_ind]\n",
    "                \n",
    "                self.estimator.fit(X_train, y_train)\n",
    "                \n",
    "                y_pred = self.estimator.predict(X_test)\n",
    "                score = self.scoring(y_test, y_pred)\n",
    "                \n",
    "                if self.best_score_ == None or self.best_score_ > score:\n",
    "                    self.best_score_ = score\n",
    "                    self.best_estimator_ = copy.deepcopy(self.estimator)\n",
    "                    self.best_params_ = params\n",
    "        \n",
    "        return self"
   ]
  },
  {
   "cell_type": "markdown",
   "id": "0700ff3b",
   "metadata": {},
   "source": [
    "### testing implemented GridSearch"
   ]
  },
  {
   "cell_type": "code",
   "execution_count": 158,
   "id": "14351fb4",
   "metadata": {},
   "outputs": [
    {
     "name": "stdout",
     "output_type": "stream",
     "text": [
      "MAE: 2.274\n",
      "Config: {'alpha': 0.99}\n"
     ]
    }
   ],
   "source": [
    "model = Ridge()\n",
    "\n",
    "cv = KFold(n_splits=10, random_state=1, shuffle=True)\n",
    "\n",
    "# define grid\n",
    "param_grid = dict()\n",
    "param_grid['alpha'] = np.arange(0.01, 1, 0.01)\n",
    "# param_grid['max_iter'] = np.arange(100, 1000, 100)\n",
    "# define search\n",
    "search = MyGridSearchCV(model, param_grid, scoring=metrics.mean_absolute_error, cv=cv)\n",
    "# perform the search\n",
    "results = search.fit(X, y)\n",
    "# summarize\n",
    "print('MAE: %.3f' % results.best_score_)\n",
    "print('Config: %s' % results.best_params_)"
   ]
  },
  {
   "cell_type": "code",
   "execution_count": 162,
   "id": "62bcc300",
   "metadata": {},
   "outputs": [
    {
     "name": "stdout",
     "output_type": "stream",
     "text": [
      "MAE: 4.306\n",
      "Config: {'C': 1.9100000000000001}\n"
     ]
    }
   ],
   "source": [
    "model = SVR()\n",
    "\n",
    "cv = KFold(n_splits=10, random_state=1, shuffle=True)\n",
    "\n",
    "# define grid\n",
    "param_grid = dict()\n",
    "param_grid['C'] = np.arange(0.01, 2, 0.1)\n",
    "# param_grid['max_iter'] = np.arange(100, 1000, 100)\n",
    "# define search\n",
    "search = MyGridSearchCV(model, param_grid, scoring=metrics.mean_absolute_error, cv=cv)\n",
    "# perform the search\n",
    "results = search.fit(X, y)\n",
    "# summarize\n",
    "print('MAE: %.3f' % results.best_score_)\n",
    "print('Config: %s' % results.best_params_)"
   ]
  },
  {
   "cell_type": "code",
   "execution_count": null,
   "id": "34352681",
   "metadata": {},
   "outputs": [],
   "source": []
  }
 ],
 "metadata": {
  "kernelspec": {
   "display_name": "Python 3 (ipykernel)",
   "language": "python",
   "name": "python3"
  },
  "language_info": {
   "codemirror_mode": {
    "name": "ipython",
    "version": 3
   },
   "file_extension": ".py",
   "mimetype": "text/x-python",
   "name": "python",
   "nbconvert_exporter": "python",
   "pygments_lexer": "ipython3",
   "version": "3.9.7"
  }
 },
 "nbformat": 4,
 "nbformat_minor": 5
}
