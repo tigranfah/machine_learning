{
 "cells": [
  {
   "cell_type": "code",
   "execution_count": 1,
   "id": "7e8b841a",
   "metadata": {},
   "outputs": [
    {
     "data": {
      "image/png": "[encoded data removed]",
      "text/plain": [
       "<Figure size 432x288 with 1 Axes>"
      ]
     },
     "metadata": {
      "needs_background": "light"
     },
     "output_type": "display_data"
    }
   ],
   "source": [
    "import numpy as np\n",
    "import matplotlib.pyplot as plt\n",
    "import random\n",
    "\n",
    "x = [1,2,3,5,6,7,8,9,10,12,13,14,15,16,18,19,21,22]\n",
    "y = [100,90,80,60,60,55,60,65,70,70,75,76,78,79,90,99,99,100]\n",
    "\n",
    "mymodel = np.poly1d(np.polyfit(x, y, 3))\n",
    "\n",
    "myline = np.linspace(1, 22, 100)\n",
    "\n",
    "plt.scatter(x, y)\n",
    "plt.plot(myline, mymodel(myline))\n",
    "plt.show()"
   ]
  },
  {
   "cell_type": "code",
   "execution_count": 2,
   "id": "9ae31104",
   "metadata": {},
   "outputs": [],
   "source": [
    "from sklearn.datasets import make_regression\n",
    "from sklearn.linear_model import Ridge\n",
    "from matplotlib import pyplot as plt\n",
    "import numpy as np"
   ]
  },
  {
   "cell_type": "code",
   "execution_count": 3,
   "id": "b757e118",
   "metadata": {},
   "outputs": [],
   "source": [
    "X, y, coefficients = make_regression(\n",
    "    n_samples=50,\n",
    "    n_features=1,\n",
    "    n_informative=1,\n",
    "    n_targets=1,\n",
    "    noise=25,\n",
    "    coef=True,\n",
    "    random_state=1\n",
    ")"
   ]
  },
  {
   "cell_type": "code",
   "execution_count": 4,
   "id": "5f6dd5e8",
   "metadata": {},
   "outputs": [
    {
     "data": {
      "text/plain": [
       "<matplotlib.collections.PathCollection at 0x143601460>"
      ]
     },
     "execution_count": 4,
     "metadata": {},
     "output_type": "execute_result"
    },
    {
     "data": {
      "image/png": "[encoded data removed]",
      "text/plain": [
       "<Figure size 432x288 with 1 Axes>"
      ]
     },
     "metadata": {
      "needs_background": "light"
     },
     "output_type": "display_data"
    }
   ],
   "source": [
    "plt.scatter(X, y)"
   ]
  },
  {
   "cell_type": "code",
   "execution_count": 7,
   "id": "68fc92e8",
   "metadata": {},
   "outputs": [
    {
     "data": {
      "text/plain": [
       "[<matplotlib.lines.Line2D at 0x145694070>]"
      ]
     },
     "execution_count": 7,
     "metadata": {},
     "output_type": "execute_result"
    },
    {
     "data": {
      "image/png": "[encoded data removed]",
      "text/plain": [
       "<Figure size 432x288 with 1 Axes>"
      ]
     },
     "metadata": {
      "needs_background": "light"
     },
     "output_type": "display_data"
    }
   ],
   "source": [
    "rr = Ridge(alpha=10)\n",
    "rr.fit(X, y)\n",
    "w = rr.coef_[0]\n",
    "plt.scatter(X, y)\n",
    "plt.plot(X, w*X, c='red')"
   ]
  },
  {
   "cell_type": "markdown",
   "id": "b0f4f957",
   "metadata": {},
   "source": [
    "### Implementaion of Ridge regression"
   ]
  },
  {
   "cell_type": "markdown",
   "id": "52731af8",
   "metadata": {},
   "source": [
    "## Implement function\n",
    "`fit_1d_ridge_regression` that takes two vectors $x$ and $y$ and int lmb, and returns a numpy array ($\\beta_0, \\beta_1)$, where $\\beta_0$ is the intercept of the line, and $\\beta_1$ is the slope using ridge regression matrix form."
   ]
  },
  {
   "cell_type": "markdown",
   "id": "271bb327",
   "metadata": {},
   "source": [
    "$$\n",
    "    b_{rigde} = (X'X + nI)^{-1}@X'Y\n",
    "$$\n",
    "\n",
    "where\n",
    "\n",
    "$$\n",
    "    X'X = X^{T} @ X\n",
    "$$"
   ]
  },
  {
   "cell_type": "code",
   "execution_count": 10,
   "id": "3f861f2b",
   "metadata": {},
   "outputs": [],
   "source": [
    "def fit_1d_ridge_regression(X_t, y_t, lmb=0.01):\n",
    "    \"\"\"\n",
    "    :param data_vector: A pandas series object (i.e. a column of a dataframe),\n",
    "                        where each element is a data point (x)\n",
    "    :param response_vector: A pandas series object (i.e. a column of a dataframe),\n",
    "                        where each element is label (y)\n",
    "    :return: numpy array beta of coefficients of the regression\n",
    "    Note: You can avoid the intercept for simplicity\n",
    "    \"\"\"\n",
    "    #TODO\n",
    "    X_t = np.c_[np.ones(len(X_t)), X_t]\n",
    "#     print(np.linalg.inv(np.dot(X.T, X) + lmb*np.eye(X.shape[1])))\n",
    "#     print(np.dot(X.T, y))\n",
    "    inverse_mat = np.linalg.inv(np.dot(X_t.T, X_t) + lmb * np.eye(X_t.shape[1]))\n",
    "    beta = np.dot(inverse_mat, np.dot(X_t.T, y_t))\n",
    "#     print()\n",
    "#                          )\n",
    "#     beta = np.c_[, beta]\n",
    "    return beta\n",
    "\n",
    "\n",
    "def predict(X_t, beta):\n",
    "    return np.dot(beta[1:], X_t.T) + beta[0]"
   ]
  },
  {
   "cell_type": "code",
   "execution_count": 11,
   "id": "2bdb3a64",
   "metadata": {},
   "outputs": [
    {
     "data": {
      "text/plain": [
       "((50, 1), (50,))"
      ]
     },
     "execution_count": 11,
     "metadata": {},
     "output_type": "execute_result"
    }
   ],
   "source": [
    "X.shape, y.shape"
   ]
  },
  {
   "cell_type": "code",
   "execution_count": 12,
   "id": "3ac70bc4",
   "metadata": {},
   "outputs": [],
   "source": [
    "w = fit_1d_ridge_regression(X, y, 0.01)"
   ]
  },
  {
   "cell_type": "code",
   "execution_count": 13,
   "id": "02cb09e6",
   "metadata": {},
   "outputs": [
    {
     "data": {
      "text/plain": [
       "array([ 5.45955254, 84.91432112])"
      ]
     },
     "execution_count": 13,
     "metadata": {},
     "output_type": "execute_result"
    }
   ],
   "source": [
    "w"
   ]
  },
  {
   "cell_type": "code",
   "execution_count": 14,
   "id": "43eeb01d",
   "metadata": {},
   "outputs": [
    {
     "data": {
      "image/png": "[encoded data removed]",
      "text/plain": [
       "<Figure size 432x288 with 1 Axes>"
      ]
     },
     "metadata": {
      "needs_background": "light"
     },
     "output_type": "display_data"
    }
   ],
   "source": [
    "plt.scatter(X, y)\n",
    "plt.plot(X, w[0]+w[1]*X, c='red')\n",
    "plt.show()"
   ]
  },
  {
   "cell_type": "markdown",
   "id": "91b0d95c",
   "metadata": {},
   "source": [
    "### apply model to some data"
   ]
  },
  {
   "cell_type": "code",
   "execution_count": 15,
   "id": "1db23ef0",
   "metadata": {},
   "outputs": [
    {
     "data": {
      "text/html": [
       "<div>\n",
       "<style scoped>\n",
       "    .dataframe tbody tr th:only-of-type {\n",
       "        vertical-align: middle;\n",
       "    }\n",
       "\n",
       "    .dataframe tbody tr th {\n",
       "        vertical-align: top;\n",
       "    }\n",
       "\n",
       "    .dataframe thead th {\n",
       "        text-align: right;\n",
       "    }\n",
       "</style>\n",
       "<table border=\"1\" class=\"dataframe\">\n",
       "  <thead>\n",
       "    <tr style=\"text-align: right;\">\n",
       "      <th></th>\n",
       "      <th>0</th>\n",
       "      <th>1</th>\n",
       "      <th>2</th>\n",
       "      <th>3</th>\n",
       "      <th>4</th>\n",
       "      <th>5</th>\n",
       "      <th>6</th>\n",
       "      <th>7</th>\n",
       "      <th>8</th>\n",
       "      <th>9</th>\n",
       "      <th>10</th>\n",
       "      <th>11</th>\n",
       "      <th>12</th>\n",
       "      <th>13</th>\n",
       "    </tr>\n",
       "  </thead>\n",
       "  <tbody>\n",
       "    <tr>\n",
       "      <th>0</th>\n",
       "      <td>0.00632</td>\n",
       "      <td>18.0</td>\n",
       "      <td>2.31</td>\n",
       "      <td>0</td>\n",
       "      <td>0.538</td>\n",
       "      <td>6.575</td>\n",
       "      <td>65.2</td>\n",
       "      <td>4.0900</td>\n",
       "      <td>1</td>\n",
       "      <td>296.0</td>\n",
       "      <td>15.3</td>\n",
       "      <td>396.90</td>\n",
       "      <td>4.98</td>\n",
       "      <td>24.0</td>\n",
       "    </tr>\n",
       "    <tr>\n",
       "      <th>1</th>\n",
       "      <td>0.02731</td>\n",
       "      <td>0.0</td>\n",
       "      <td>7.07</td>\n",
       "      <td>0</td>\n",
       "      <td>0.469</td>\n",
       "      <td>6.421</td>\n",
       "      <td>78.9</td>\n",
       "      <td>4.9671</td>\n",
       "      <td>2</td>\n",
       "      <td>242.0</td>\n",
       "      <td>17.8</td>\n",
       "      <td>396.90</td>\n",
       "      <td>9.14</td>\n",
       "      <td>21.6</td>\n",
       "    </tr>\n",
       "    <tr>\n",
       "      <th>2</th>\n",
       "      <td>0.02729</td>\n",
       "      <td>0.0</td>\n",
       "      <td>7.07</td>\n",
       "      <td>0</td>\n",
       "      <td>0.469</td>\n",
       "      <td>7.185</td>\n",
       "      <td>61.1</td>\n",
       "      <td>4.9671</td>\n",
       "      <td>2</td>\n",
       "      <td>242.0</td>\n",
       "      <td>17.8</td>\n",
       "      <td>392.83</td>\n",
       "      <td>4.03</td>\n",
       "      <td>34.7</td>\n",
       "    </tr>\n",
       "    <tr>\n",
       "      <th>3</th>\n",
       "      <td>0.03237</td>\n",
       "      <td>0.0</td>\n",
       "      <td>2.18</td>\n",
       "      <td>0</td>\n",
       "      <td>0.458</td>\n",
       "      <td>6.998</td>\n",
       "      <td>45.8</td>\n",
       "      <td>6.0622</td>\n",
       "      <td>3</td>\n",
       "      <td>222.0</td>\n",
       "      <td>18.7</td>\n",
       "      <td>394.63</td>\n",
       "      <td>2.94</td>\n",
       "      <td>33.4</td>\n",
       "    </tr>\n",
       "    <tr>\n",
       "      <th>4</th>\n",
       "      <td>0.06905</td>\n",
       "      <td>0.0</td>\n",
       "      <td>2.18</td>\n",
       "      <td>0</td>\n",
       "      <td>0.458</td>\n",
       "      <td>7.147</td>\n",
       "      <td>54.2</td>\n",
       "      <td>6.0622</td>\n",
       "      <td>3</td>\n",
       "      <td>222.0</td>\n",
       "      <td>18.7</td>\n",
       "      <td>396.90</td>\n",
       "      <td>5.33</td>\n",
       "      <td>36.2</td>\n",
       "    </tr>\n",
       "  </tbody>\n",
       "</table>\n",
       "</div>"
      ],
      "text/plain": [
       "        0     1     2   3      4      5     6       7   8      9     10  \\\n",
       "0  0.00632  18.0  2.31   0  0.538  6.575  65.2  4.0900   1  296.0  15.3   \n",
       "1  0.02731   0.0  7.07   0  0.469  6.421  78.9  4.9671   2  242.0  17.8   \n",
       "2  0.02729   0.0  7.07   0  0.469  7.185  61.1  4.9671   2  242.0  17.8   \n",
       "3  0.03237   0.0  2.18   0  0.458  6.998  45.8  6.0622   3  222.0  18.7   \n",
       "4  0.06905   0.0  2.18   0  0.458  7.147  54.2  6.0622   3  222.0  18.7   \n",
       "\n",
       "       11    12    13  \n",
       "0  396.90  4.98  24.0  \n",
       "1  396.90  9.14  21.6  \n",
       "2  392.83  4.03  34.7  \n",
       "3  394.63  2.94  33.4  \n",
       "4  396.90  5.33  36.2  "
      ]
     },
     "execution_count": 15,
     "metadata": {},
     "output_type": "execute_result"
    }
   ],
   "source": [
    "# load and summarize the housing dataset\n",
    "from pandas import read_csv\n",
    "from matplotlib import pyplot\n",
    "from sklearn.metrics import mean_squared_error\n",
    "# load dataset\n",
    "url = 'https://raw.githubusercontent.com/jbrownlee/Datasets/master/housing.csv'\n",
    "dataframe = read_csv(url, header=None)\n",
    "# summarize shape\n",
    "# print(dataframe.shape)\n",
    "# summarize first few lines\n",
    "dataframe.head()"
   ]
  },
  {
   "cell_type": "code",
   "execution_count": 16,
   "id": "ae678032",
   "metadata": {},
   "outputs": [],
   "source": [
    "X = dataframe[dataframe.columns.difference([13])]\n",
    "y = dataframe[13]"
   ]
  },
  {
   "cell_type": "code",
   "execution_count": 17,
   "id": "2ca5489b",
   "metadata": {},
   "outputs": [],
   "source": [
    "from sklearn.model_selection import train_test_split\n",
    "\n",
    "X_train, X_test, y_train, y_test = train_test_split(X, y, test_size=0.2, random_state=42)"
   ]
  },
  {
   "cell_type": "code",
   "execution_count": 18,
   "id": "11e956e9",
   "metadata": {},
   "outputs": [
    {
     "data": {
      "text/plain": [
       "array([ 2.97258401e+01, -1.12808363e-01,  3.02048204e-02,  3.97025380e-02,\n",
       "        2.78024025e+00, -1.68968278e+01,  4.46441788e+00, -6.47115959e-03,\n",
       "       -1.43988389e+00,  2.60429095e-01, -1.06206395e-02, -9.07378582e-01,\n",
       "        1.24200142e-02, -5.07648850e-01])"
      ]
     },
     "execution_count": 18,
     "metadata": {},
     "output_type": "execute_result"
    }
   ],
   "source": [
    "beta = fit_1d_ridge_regression(X_train, y_train)\n",
    "beta"
   ]
  },
  {
   "cell_type": "code",
   "execution_count": 19,
   "id": "6eba9128",
   "metadata": {},
   "outputs": [
    {
     "data": {
      "text/plain": [
       "24.337193373946228"
      ]
     },
     "execution_count": 19,
     "metadata": {},
     "output_type": "execute_result"
    }
   ],
   "source": [
    "mean_squared_error(y_test, predict(X_test, beta))"
   ]
  },
  {
   "cell_type": "code",
   "execution_count": null,
   "id": "13cf817b",
   "metadata": {},
   "outputs": [],
   "source": []
  }
 ],
 "metadata": {
  "kernelspec": {
   "display_name": "Python 3 (ipykernel)",
   "language": "python",
   "name": "python3"
  },
  "language_info": {
   "codemirror_mode": {
    "name": "ipython",
    "version": 3
   },
   "file_extension": ".py",
   "mimetype": "text/x-python",
   "name": "python",
   "nbconvert_exporter": "python",
   "pygments_lexer": "ipython3",
   "version": "3.9.7"
  }
 },
 "nbformat": 4,
 "nbformat_minor": 5
}
